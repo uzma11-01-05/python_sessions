{
 "cells": [
  {
   "cell_type": "markdown",
   "id": "14aeea50",
   "metadata": {},
   "source": [
    "### Type Casting:"
   ]
  },
  {
   "cell_type": "code",
   "execution_count": null,
   "id": "b47a3073",
   "metadata": {},
   "outputs": [],
   "source": [
    "- Change one data type to another data type\n",
    "\n",
    "- Int ----> float\n",
    "  int ----> string\n",
    "  int ---- > boolean\n",
    "  int ---- > complex\n",
    "    \n",
    " -float ----> int\n",
    "  float ----> string\n",
    "  float ---- > boolean\n",
    "  float ---- > complex   "
   ]
  },
  {
   "cell_type": "markdown",
   "id": "ccf0e9c0",
   "metadata": {},
   "source": [
    "**integer to other data types**"
   ]
  },
  {
   "cell_type": "code",
   "execution_count": 1,
   "id": "aef9f114",
   "metadata": {},
   "outputs": [
    {
     "data": {
      "text/plain": [
       "100"
      ]
     },
     "execution_count": 1,
     "metadata": {},
     "output_type": "execute_result"
    }
   ],
   "source": [
    "number1=100\n",
    "number1"
   ]
  },
  {
   "cell_type": "code",
   "execution_count": 2,
   "id": "9105206c",
   "metadata": {},
   "outputs": [
    {
     "data": {
      "text/plain": [
       "int"
      ]
     },
     "execution_count": 2,
     "metadata": {},
     "output_type": "execute_result"
    }
   ],
   "source": [
    "type(number1)"
   ]
  },
  {
   "cell_type": "code",
   "execution_count": 4,
   "id": "bbdb9e4d",
   "metadata": {},
   "outputs": [],
   "source": [
    "# case-1:  int ======= > float\n",
    "float_number=float(number1)  # number1 to float type  100 ----> 100.0"
   ]
  },
  {
   "cell_type": "code",
   "execution_count": 5,
   "id": "69adaedd",
   "metadata": {},
   "outputs": [
    {
     "data": {
      "text/plain": [
       "100.0"
      ]
     },
     "execution_count": 5,
     "metadata": {},
     "output_type": "execute_result"
    }
   ],
   "source": [
    "float_number"
   ]
  },
  {
   "cell_type": "code",
   "execution_count": 6,
   "id": "4ac57e82",
   "metadata": {},
   "outputs": [
    {
     "data": {
      "text/plain": [
       "float"
      ]
     },
     "execution_count": 6,
     "metadata": {},
     "output_type": "execute_result"
    }
   ],
   "source": [
    "type(float_number)"
   ]
  },
  {
   "cell_type": "code",
   "execution_count": 7,
   "id": "0099b7eb",
   "metadata": {},
   "outputs": [
    {
     "data": {
      "text/plain": [
       "'100'"
      ]
     },
     "execution_count": 7,
     "metadata": {},
     "output_type": "execute_result"
    }
   ],
   "source": [
    "# 100 =====string===== '100' \n",
    "string_number=str(number1)\n",
    "string_number"
   ]
  },
  {
   "cell_type": "code",
   "execution_count": 8,
   "id": "8b4ca49c",
   "metadata": {},
   "outputs": [
    {
     "data": {
      "text/plain": [
       "str"
      ]
     },
     "execution_count": 8,
     "metadata": {},
     "output_type": "execute_result"
    }
   ],
   "source": [
    "type(string_number)"
   ]
  },
  {
   "cell_type": "code",
   "execution_count": 9,
   "id": "c1d41526",
   "metadata": {},
   "outputs": [
    {
     "data": {
      "text/plain": [
       "True"
      ]
     },
     "execution_count": 9,
     "metadata": {},
     "output_type": "execute_result"
    }
   ],
   "source": [
    "# Case-3 : integer to boolean\n",
    "boolean_number=bool(number1)  # bool(100)\n",
    "boolean_number"
   ]
  },
  {
   "cell_type": "code",
   "execution_count": 10,
   "id": "ce25d600",
   "metadata": {},
   "outputs": [
    {
     "data": {
      "text/plain": [
       "bool"
      ]
     },
     "execution_count": 10,
     "metadata": {},
     "output_type": "execute_result"
    }
   ],
   "source": [
    "type(boolean_number)"
   ]
  },
  {
   "cell_type": "code",
   "execution_count": 13,
   "id": "375662d7",
   "metadata": {},
   "outputs": [
    {
     "data": {
      "text/plain": [
       "False"
      ]
     },
     "execution_count": 13,
     "metadata": {},
     "output_type": "execute_result"
    }
   ],
   "source": [
    "bool(0)   # When it will provide False"
   ]
  },
  {
   "cell_type": "markdown",
   "id": "6ed82a9f",
   "metadata": {},
   "source": [
    "**Note**\n",
    "\n",
    "Other than zero , everything is True \n",
    "\n",
    "bool(0)  only False"
   ]
  },
  {
   "cell_type": "code",
   "execution_count": 15,
   "id": "f65daedc",
   "metadata": {},
   "outputs": [
    {
     "data": {
      "text/plain": [
       "(100+0j)"
      ]
     },
     "execution_count": 15,
     "metadata": {},
     "output_type": "execute_result"
    }
   ],
   "source": [
    "# 100 ======= ?  complex(100)\n",
    "complex_number= complex(number1)\n",
    "complex_number"
   ]
  },
  {
   "cell_type": "code",
   "execution_count": null,
   "id": "4c367dc3",
   "metadata": {},
   "outputs": [],
   "source": [
    "number1=100\n",
    "float_number=float(number1) # float(100)= 100.0\n",
    "string_number=str(number1)  # str(100)='100'\n",
    "boolean_number=bool(number1) # bool(100)=True\n",
    "complex_number=complex(number1) # complex(100)=100+0j"
   ]
  },
  {
   "cell_type": "code",
   "execution_count": null,
   "id": "423d37c0",
   "metadata": {},
   "outputs": [],
   "source": [
    "200 ==== > int ======== float ======= 200.0\n",
    "200 =====> int ======== str ========='200'\n",
    "200 =====> int ======== bool ======== True\n",
    "200 ===== > int ====== complex ===== 200+0j"
   ]
  },
  {
   "cell_type": "markdown",
   "id": "ae456211",
   "metadata": {},
   "source": [
    "**Convert float to all other types**"
   ]
  },
  {
   "cell_type": "code",
   "execution_count": null,
   "id": "de300eb5",
   "metadata": {},
   "outputs": [],
   "source": [
    "number2=100.5\n",
    "int_number=int(number2) #     100\n",
    "string_number=str(number2)  # '100.5'\n",
    "boolean_number=bool(number2) # True\n",
    "complex_number=complex(number2) # 100.5+0j"
   ]
  },
  {
   "cell_type": "code",
   "execution_count": 16,
   "id": "be06c03b",
   "metadata": {},
   "outputs": [
    {
     "data": {
      "text/plain": [
       "100"
      ]
     },
     "execution_count": 16,
     "metadata": {},
     "output_type": "execute_result"
    }
   ],
   "source": [
    "number2=100.5\n",
    "int_number=int(number2) \n",
    "int_number"
   ]
  },
  {
   "cell_type": "code",
   "execution_count": 17,
   "id": "9c6292f0",
   "metadata": {},
   "outputs": [
    {
     "data": {
      "text/plain": [
       "'100.5'"
      ]
     },
     "execution_count": 17,
     "metadata": {},
     "output_type": "execute_result"
    }
   ],
   "source": [
    "number2=100.5\n",
    "string_number=str(number2) \n",
    "string_number"
   ]
  },
  {
   "cell_type": "code",
   "execution_count": 18,
   "id": "a07c8324",
   "metadata": {},
   "outputs": [
    {
     "data": {
      "text/plain": [
       "True"
      ]
     },
     "execution_count": 18,
     "metadata": {},
     "output_type": "execute_result"
    }
   ],
   "source": [
    "number2=100.5\n",
    "bool_number=bool(number2) \n",
    "bool_number"
   ]
  },
  {
   "cell_type": "code",
   "execution_count": 19,
   "id": "a2cde17c",
   "metadata": {},
   "outputs": [
    {
     "data": {
      "text/plain": [
       "(100.5+0j)"
      ]
     },
     "execution_count": 19,
     "metadata": {},
     "output_type": "execute_result"
    }
   ],
   "source": [
    "number2=100.5\n",
    "complex_number=complex(number2) \n",
    "complex_number"
   ]
  },
  {
   "cell_type": "code",
   "execution_count": null,
   "id": "8768e6e0",
   "metadata": {},
   "outputs": [],
   "source": [
    "I have a doubt , why 100.5 is not 101\n",
    "\n",
    "# we are not rounding off\n",
    "# why not 100?\n"
   ]
  },
  {
   "cell_type": "code",
   "execution_count": 21,
   "id": "b4483152",
   "metadata": {},
   "outputs": [
    {
     "data": {
      "text/plain": [
       "101"
      ]
     },
     "execution_count": 21,
     "metadata": {},
     "output_type": "execute_result"
    }
   ],
   "source": [
    "round(100.6)"
   ]
  },
  {
   "cell_type": "code",
   "execution_count": null,
   "id": "716b54e0",
   "metadata": {},
   "outputs": [],
   "source": [
    "100\n",
    "100.5\n",
    "'100'\n",
    "True\n",
    "100+5j"
   ]
  },
  {
   "cell_type": "markdown",
   "id": "e0edbce1",
   "metadata": {},
   "source": [
    "**string to other data types**"
   ]
  },
  {
   "cell_type": "code",
   "execution_count": null,
   "id": "cdcc835e",
   "metadata": {},
   "outputs": [],
   "source": [
    "# case-1\n",
    "string_value1='apple'\n",
    "int(string_value1)    # \n",
    "float(string_value1)\n",
    "bool(string_value1)\n",
    "complex(string_value1)"
   ]
  },
  {
   "cell_type": "code",
   "execution_count": 22,
   "id": "7ce4ee0a",
   "metadata": {},
   "outputs": [
    {
     "ename": "ValueError",
     "evalue": "invalid literal for int() with base 10: 'apple'",
     "output_type": "error",
     "traceback": [
      "\u001b[1;31m---------------------------------------------------------------------------\u001b[0m",
      "\u001b[1;31mValueError\u001b[0m                                Traceback (most recent call last)",
      "Cell \u001b[1;32mIn[22], line 2\u001b[0m\n\u001b[0;32m      1\u001b[0m string_value1\u001b[38;5;241m=\u001b[39m\u001b[38;5;124m'\u001b[39m\u001b[38;5;124mapple\u001b[39m\u001b[38;5;124m'\u001b[39m\n\u001b[1;32m----> 2\u001b[0m \u001b[38;5;28mint\u001b[39m(string_value1)\n",
      "\u001b[1;31mValueError\u001b[0m: invalid literal for int() with base 10: 'apple'"
     ]
    }
   ],
   "source": [
    "string_value1='apple'  # English \n",
    "int(string_value1)     # int maths\n",
    "\n",
    "# you cant convert english to maths"
   ]
  },
  {
   "cell_type": "code",
   "execution_count": 23,
   "id": "16071a8b",
   "metadata": {},
   "outputs": [
    {
     "ename": "ValueError",
     "evalue": "could not convert string to float: 'apple'",
     "output_type": "error",
     "traceback": [
      "\u001b[1;31m---------------------------------------------------------------------------\u001b[0m",
      "\u001b[1;31mValueError\u001b[0m                                Traceback (most recent call last)",
      "Cell \u001b[1;32mIn[23], line 2\u001b[0m\n\u001b[0;32m      1\u001b[0m string_value1\u001b[38;5;241m=\u001b[39m\u001b[38;5;124m'\u001b[39m\u001b[38;5;124mapple\u001b[39m\u001b[38;5;124m'\u001b[39m  \n\u001b[1;32m----> 2\u001b[0m \u001b[38;5;28mfloat\u001b[39m(string_value1)\n",
      "\u001b[1;31mValueError\u001b[0m: could not convert string to float: 'apple'"
     ]
    }
   ],
   "source": [
    "string_value1='apple'  \n",
    "float(string_value1) "
   ]
  },
  {
   "cell_type": "code",
   "execution_count": 24,
   "id": "89e3e42e",
   "metadata": {},
   "outputs": [
    {
     "data": {
      "text/plain": [
       "True"
      ]
     },
     "execution_count": 24,
     "metadata": {},
     "output_type": "execute_result"
    }
   ],
   "source": [
    "string_value1='apple'\n",
    "bool(string_value1)"
   ]
  },
  {
   "cell_type": "code",
   "execution_count": 25,
   "id": "9113b3ba",
   "metadata": {},
   "outputs": [
    {
     "data": {
      "text/plain": [
       "False"
      ]
     },
     "execution_count": 25,
     "metadata": {},
     "output_type": "execute_result"
    }
   ],
   "source": [
    "string_value1=''  # empty string\n",
    "bool(string_value1)"
   ]
  },
  {
   "cell_type": "markdown",
   "id": "9ff548a1",
   "metadata": {},
   "source": [
    "**Note**:\n",
    "    \n",
    "    Empty string boolean conversion given as False"
   ]
  },
  {
   "cell_type": "code",
   "execution_count": 26,
   "id": "8fdd0221",
   "metadata": {},
   "outputs": [
    {
     "ename": "ValueError",
     "evalue": "complex() arg is a malformed string",
     "output_type": "error",
     "traceback": [
      "\u001b[1;31m---------------------------------------------------------------------------\u001b[0m",
      "\u001b[1;31mValueError\u001b[0m                                Traceback (most recent call last)",
      "Cell \u001b[1;32mIn[26], line 2\u001b[0m\n\u001b[0;32m      1\u001b[0m string_value1\u001b[38;5;241m=\u001b[39m\u001b[38;5;124m'\u001b[39m\u001b[38;5;124mapple\u001b[39m\u001b[38;5;124m'\u001b[39m\n\u001b[1;32m----> 2\u001b[0m \u001b[38;5;28mcomplex\u001b[39m(string_value1)\n",
      "\u001b[1;31mValueError\u001b[0m: complex() arg is a malformed string"
     ]
    }
   ],
   "source": [
    "string_value1='apple'\n",
    "complex(string_value1)"
   ]
  },
  {
   "cell_type": "code",
   "execution_count": null,
   "id": "4912e9a2",
   "metadata": {},
   "outputs": [],
   "source": [
    "string_value1='apple'\n",
    "int(string_value1)    #  error\n",
    "float(string_value1)  # error\n",
    "bool(string_value1)   # True \n",
    "complex(string_value1) # Error"
   ]
  },
  {
   "cell_type": "code",
   "execution_count": null,
   "id": "31eb82ea",
   "metadata": {},
   "outputs": [],
   "source": [
    "string_value2='10.5' # base type float === represents in quotes === finally it is string type\n",
    "int(string_value2)   # error    \n",
    "float(string_value2) #  10.5\n",
    "bool(string_value2)  # True  \n",
    "complex(string_value2)  # "
   ]
  },
  {
   "cell_type": "code",
   "execution_count": 27,
   "id": "1e6c7099",
   "metadata": {},
   "outputs": [
    {
     "ename": "ValueError",
     "evalue": "invalid literal for int() with base 10: '10.5'",
     "output_type": "error",
     "traceback": [
      "\u001b[1;31m---------------------------------------------------------------------------\u001b[0m",
      "\u001b[1;31mValueError\u001b[0m                                Traceback (most recent call last)",
      "Cell \u001b[1;32mIn[27], line 2\u001b[0m\n\u001b[0;32m      1\u001b[0m string_value2\u001b[38;5;241m=\u001b[39m\u001b[38;5;124m'\u001b[39m\u001b[38;5;124m10.5\u001b[39m\u001b[38;5;124m'\u001b[39m \u001b[38;5;66;03m# base type float === represents in quotes\u001b[39;00m\n\u001b[1;32m----> 2\u001b[0m \u001b[38;5;28mint\u001b[39m(string_value2)\n",
      "\u001b[1;31mValueError\u001b[0m: invalid literal for int() with base 10: '10.5'"
     ]
    }
   ],
   "source": [
    "string_value2='10.5' # base type float === represents in quotes\n",
    "int(string_value2)"
   ]
  },
  {
   "cell_type": "code",
   "execution_count": 28,
   "id": "896b54b8",
   "metadata": {},
   "outputs": [
    {
     "data": {
      "text/plain": [
       "10.5"
      ]
     },
     "execution_count": 28,
     "metadata": {},
     "output_type": "execute_result"
    }
   ],
   "source": [
    "string_value2='10.5' # base type float === represents in quotes\n",
    "float(string_value2)"
   ]
  },
  {
   "cell_type": "code",
   "execution_count": 30,
   "id": "f0961097",
   "metadata": {},
   "outputs": [
    {
     "ename": "ValueError",
     "evalue": "invalid literal for int() with base 10: '10.5'",
     "output_type": "error",
     "traceback": [
      "\u001b[1;31m---------------------------------------------------------------------------\u001b[0m",
      "\u001b[1;31mValueError\u001b[0m                                Traceback (most recent call last)",
      "Cell \u001b[1;32mIn[30], line 1\u001b[0m\n\u001b[1;32m----> 1\u001b[0m \u001b[38;5;28mint\u001b[39m(\u001b[38;5;124m'\u001b[39m\u001b[38;5;124m10.5\u001b[39m\u001b[38;5;124m'\u001b[39m)\n",
      "\u001b[1;31mValueError\u001b[0m: invalid literal for int() with base 10: '10.5'"
     ]
    }
   ],
   "source": [
    "int('10.5')"
   ]
  },
  {
   "cell_type": "code",
   "execution_count": 31,
   "id": "c39aea86",
   "metadata": {},
   "outputs": [
    {
     "data": {
      "text/plain": [
       "(10.5+0j)"
      ]
     },
     "execution_count": 31,
     "metadata": {},
     "output_type": "execute_result"
    }
   ],
   "source": [
    "string_value2='10.5' # base type float === represents in quotes === finally it is string type \n",
    "complex(string_value2) \n"
   ]
  },
  {
   "cell_type": "code",
   "execution_count": 33,
   "id": "0542bfa0",
   "metadata": {},
   "outputs": [
    {
     "data": {
      "text/plain": [
       "(10.5+0j)"
      ]
     },
     "execution_count": 33,
     "metadata": {},
     "output_type": "execute_result"
    }
   ],
   "source": [
    "complex(10.5)\n",
    "complex('10.5')"
   ]
  },
  {
   "cell_type": "code",
   "execution_count": 34,
   "id": "f24125ec",
   "metadata": {},
   "outputs": [
    {
     "data": {
      "text/plain": [
       "10.5"
      ]
     },
     "execution_count": 34,
     "metadata": {},
     "output_type": "execute_result"
    }
   ],
   "source": [
    "float(10.5)"
   ]
  },
  {
   "cell_type": "code",
   "execution_count": 35,
   "id": "a83e82be",
   "metadata": {},
   "outputs": [
    {
     "data": {
      "text/plain": [
       "10.5"
      ]
     },
     "execution_count": 35,
     "metadata": {},
     "output_type": "execute_result"
    }
   ],
   "source": [
    "float('10.5')"
   ]
  },
  {
   "cell_type": "code",
   "execution_count": 36,
   "id": "c35176fe",
   "metadata": {},
   "outputs": [
    {
     "data": {
      "text/plain": [
       "10"
      ]
     },
     "execution_count": 36,
     "metadata": {},
     "output_type": "execute_result"
    }
   ],
   "source": [
    "int(10.5)"
   ]
  },
  {
   "cell_type": "code",
   "execution_count": 37,
   "id": "00c2ff7e",
   "metadata": {},
   "outputs": [
    {
     "ename": "ValueError",
     "evalue": "invalid literal for int() with base 10: '10.5'",
     "output_type": "error",
     "traceback": [
      "\u001b[1;31m---------------------------------------------------------------------------\u001b[0m",
      "\u001b[1;31mValueError\u001b[0m                                Traceback (most recent call last)",
      "Cell \u001b[1;32mIn[37], line 1\u001b[0m\n\u001b[1;32m----> 1\u001b[0m \u001b[38;5;28mint\u001b[39m(\u001b[38;5;124m'\u001b[39m\u001b[38;5;124m10.5\u001b[39m\u001b[38;5;124m'\u001b[39m)\n",
      "\u001b[1;31mValueError\u001b[0m: invalid literal for int() with base 10: '10.5'"
     ]
    }
   ],
   "source": [
    "int('10.5')"
   ]
  },
  {
   "cell_type": "code",
   "execution_count": null,
   "id": "3844634e",
   "metadata": {},
   "outputs": [],
   "source": [
    "string_value2='10' # \n",
    "int(string_value2)   # 10   \n",
    "float(string_value2) #  10.0\n",
    "bool(string_value2)  #   True\n",
    "complex(string_value2) # 10+0j"
   ]
  },
  {
   "cell_type": "code",
   "execution_count": 38,
   "id": "248b3909",
   "metadata": {},
   "outputs": [
    {
     "data": {
      "text/plain": [
       "10.0"
      ]
     },
     "execution_count": 38,
     "metadata": {},
     "output_type": "execute_result"
    }
   ],
   "source": [
    "float('10')# works   \n",
    "int('10.5')  # fail"
   ]
  },
  {
   "cell_type": "code",
   "execution_count": null,
   "id": "8502c398",
   "metadata": {},
   "outputs": [],
   "source": [
    "sir how to convert string to integer without error"
   ]
  },
  {
   "cell_type": "code",
   "execution_count": 39,
   "id": "b6cd08fc",
   "metadata": {},
   "outputs": [
    {
     "data": {
      "text/plain": [
       "10"
      ]
     },
     "execution_count": 39,
     "metadata": {},
     "output_type": "execute_result"
    }
   ],
   "source": [
    "string1='10.5'   # 10\n",
    "n1=float(string1) # '10.5' ==== 10.5\n",
    "n2=int(n1)        # 10.5  ===== 10\n",
    "n2"
   ]
  },
  {
   "cell_type": "code",
   "execution_count": null,
   "id": "77b746bf",
   "metadata": {},
   "outputs": [],
   "source": [
    "# Boolean conversion\n",
    "val1=True\n",
    "int(val1)\n",
    "float(val1)\n",
    "str(val1)\n",
    "complex(val1)"
   ]
  },
  {
   "cell_type": "code",
   "execution_count": 47,
   "id": "5b0aadc6",
   "metadata": {},
   "outputs": [
    {
     "data": {
      "text/plain": [
       "0"
      ]
     },
     "execution_count": 47,
     "metadata": {},
     "output_type": "execute_result"
    }
   ],
   "source": [
    "int(False)"
   ]
  },
  {
   "cell_type": "code",
   "execution_count": null,
   "id": "11ca2eb4",
   "metadata": {},
   "outputs": [],
   "source": [
    "only string conversion  not working in Boolean. and complex. why?\n",
    "bool('apple')"
   ]
  },
  {
   "cell_type": "code",
   "execution_count": null,
   "id": "4a1162c3",
   "metadata": {},
   "outputs": [],
   "source": [
    "# Complex to other\n",
    "val2=100+200j\n",
    "int(val2)  # error  complex(100) = 100+0j\n",
    "float(val2) # error\n",
    "str(val2)  # '100+200j'\n",
    "bool(val2) #  True"
   ]
  },
  {
   "cell_type": "code",
   "execution_count": null,
   "id": "85362027",
   "metadata": {},
   "outputs": [],
   "source": [
    "val2=100+0j\n",
    "int(val2)  # error  complex(100) = 100+0j\n",
    "float(val2) # error\n",
    "str(val2)  # '100+200j'\n",
    "bool(val2) #  True"
   ]
  },
  {
   "cell_type": "code",
   "execution_count": 48,
   "id": "ae93b996",
   "metadata": {},
   "outputs": [
    {
     "ename": "TypeError",
     "evalue": "int() argument must be a string, a bytes-like object or a real number, not 'complex'",
     "output_type": "error",
     "traceback": [
      "\u001b[1;31m---------------------------------------------------------------------------\u001b[0m",
      "\u001b[1;31mTypeError\u001b[0m                                 Traceback (most recent call last)",
      "Cell \u001b[1;32mIn[48], line 1\u001b[0m\n\u001b[1;32m----> 1\u001b[0m \u001b[38;5;28mint\u001b[39m(\u001b[38;5;241m100\u001b[39m\u001b[38;5;241m+\u001b[39m\u001b[38;5;241m200\u001b[39mj)\n",
      "\u001b[1;31mTypeError\u001b[0m: int() argument must be a string, a bytes-like object or a real number, not 'complex'"
     ]
    }
   ],
   "source": [
    "int(100+200j)"
   ]
  },
  {
   "cell_type": "code",
   "execution_count": 49,
   "id": "d67ac736",
   "metadata": {},
   "outputs": [
    {
     "ename": "TypeError",
     "evalue": "int() argument must be a string, a bytes-like object or a real number, not 'complex'",
     "output_type": "error",
     "traceback": [
      "\u001b[1;31m---------------------------------------------------------------------------\u001b[0m",
      "\u001b[1;31mTypeError\u001b[0m                                 Traceback (most recent call last)",
      "Cell \u001b[1;32mIn[49], line 1\u001b[0m\n\u001b[1;32m----> 1\u001b[0m \u001b[38;5;28mint\u001b[39m(\u001b[38;5;241m100\u001b[39m\u001b[38;5;241m+\u001b[39m\u001b[38;5;241m0\u001b[39mj)\n",
      "\u001b[1;31mTypeError\u001b[0m: int() argument must be a string, a bytes-like object or a real number, not 'complex'"
     ]
    }
   ],
   "source": [
    "int(100+0j)"
   ]
  },
  {
   "cell_type": "code",
   "execution_count": 50,
   "id": "b7ffc0b4",
   "metadata": {},
   "outputs": [
    {
     "data": {
      "text/plain": [
       "False"
      ]
     },
     "execution_count": 50,
     "metadata": {},
     "output_type": "execute_result"
    }
   ],
   "source": [
    "bool(0j)"
   ]
  },
  {
   "cell_type": "code",
   "execution_count": null,
   "id": "25c6c0d5",
   "metadata": {},
   "outputs": [],
   "source": [
    "can u plz run the boolean to string conversion again?"
   ]
  },
  {
   "cell_type": "code",
   "execution_count": null,
   "id": "7d7df4fb",
   "metadata": {},
   "outputs": [],
   "source": [
    "bool('apple')"
   ]
  },
  {
   "cell_type": "code",
   "execution_count": 51,
   "id": "987e6903",
   "metadata": {},
   "outputs": [
    {
     "data": {
      "text/plain": [
       "'True'"
      ]
     },
     "execution_count": 51,
     "metadata": {},
     "output_type": "execute_result"
    }
   ],
   "source": [
    "str(True)"
   ]
  },
  {
   "cell_type": "code",
   "execution_count": null,
   "id": "15ab138f",
   "metadata": {},
   "outputs": [],
   "source": []
  },
  {
   "cell_type": "code",
   "execution_count": null,
   "id": "2e10ad47",
   "metadata": {},
   "outputs": [],
   "source": []
  },
  {
   "cell_type": "code",
   "execution_count": null,
   "id": "2fc8c174",
   "metadata": {},
   "outputs": [],
   "source": []
  }
 ],
 "metadata": {
  "kernelspec": {
   "display_name": "Python 3 (ipykernel)",
   "language": "python",
   "name": "python3"
  },
  "language_info": {
   "codemirror_mode": {
    "name": "ipython",
    "version": 3
   },
   "file_extension": ".py",
   "mimetype": "text/x-python",
   "name": "python",
   "nbconvert_exporter": "python",
   "pygments_lexer": "ipython3",
   "version": "3.11.5"
  }
 },
 "nbformat": 4,
 "nbformat_minor": 5
}
