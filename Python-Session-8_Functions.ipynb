{
 "cells": [
  {
   "cell_type": "code",
   "execution_count": 1,
   "id": "7b52844c",
   "metadata": {},
   "outputs": [
    {
     "name": "stdout",
     "output_type": "stream",
     "text": [
      "python\n"
     ]
    },
    {
     "ename": "NameError",
     "evalue": "name 'python' is not defined",
     "output_type": "error",
     "traceback": [
      "\u001b[1;31m---------------------------------------------------------------------------\u001b[0m",
      "\u001b[1;31mNameError\u001b[0m                                 Traceback (most recent call last)",
      "Cell \u001b[1;32mIn[1], line 1\u001b[0m\n\u001b[1;32m----> 1\u001b[0m n\u001b[38;5;241m=\u001b[39m\u001b[38;5;28meval\u001b[39m(\u001b[38;5;28minput\u001b[39m())\n",
      "File \u001b[1;32m<string>:1\u001b[0m\n",
      "\u001b[1;31mNameError\u001b[0m: name 'python' is not defined"
     ]
    }
   ],
   "source": [
    "n=eval(input())"
   ]
  },
  {
   "cell_type": "code",
   "execution_count": null,
   "id": "1299c171",
   "metadata": {},
   "outputs": [],
   "source": [
    "if <condition>\n",
    "elif <condtion>\n",
    "else # No condition"
   ]
  },
  {
   "cell_type": "code",
   "execution_count": 2,
   "id": "3470ac92",
   "metadata": {},
   "outputs": [
    {
     "ename": "IndentationError",
     "evalue": "expected an indented block after 'if' statement on line 1 (3446039839.py, line 2)",
     "output_type": "error",
     "traceback": [
      "\u001b[1;36m  Cell \u001b[1;32mIn[2], line 2\u001b[1;36m\u001b[0m\n\u001b[1;33m    print('hello')\u001b[0m\n\u001b[1;37m    ^\u001b[0m\n\u001b[1;31mIndentationError\u001b[0m\u001b[1;31m:\u001b[0m expected an indented block after 'if' statement on line 1\n"
     ]
    }
   ],
   "source": [
    "if a==10\n",
    "print('hello')\n"
   ]
  },
  {
   "cell_type": "code",
   "execution_count": 4,
   "id": "96884749",
   "metadata": {},
   "outputs": [
    {
     "ename": "NameError",
     "evalue": "name 'a' is not defined",
     "output_type": "error",
     "traceback": [
      "\u001b[1;31m---------------------------------------------------------------------------\u001b[0m",
      "\u001b[1;31mNameError\u001b[0m                                 Traceback (most recent call last)",
      "Cell \u001b[1;32mIn[4], line 1\u001b[0m\n\u001b[1;32m----> 1\u001b[0m \u001b[38;5;28;01mif\u001b[39;00m a\u001b[38;5;241m==\u001b[39m\u001b[38;5;241m10\u001b[39m:\n\u001b[0;32m      2\u001b[0m     \u001b[38;5;28mprint\u001b[39m(\u001b[38;5;124m'\u001b[39m\u001b[38;5;124mhello\u001b[39m\u001b[38;5;124m'\u001b[39m)\n",
      "\u001b[1;31mNameError\u001b[0m: name 'a' is not defined"
     ]
    }
   ],
   "source": [
    "if a==10:\n",
    "    print('hello')"
   ]
  },
  {
   "cell_type": "code",
   "execution_count": null,
   "id": "c4a3398c",
   "metadata": {},
   "outputs": [],
   "source": [
    "summ=10\n",
    "max=25"
   ]
  },
  {
   "cell_type": "markdown",
   "id": "01facf9a",
   "metadata": {},
   "source": [
    "**Functions**"
   ]
  },
  {
   "cell_type": "markdown",
   "id": "ff8a18d3",
   "metadata": {},
   "source": [
    "- Reuse any part of code"
   ]
  },
  {
   "cell_type": "markdown",
   "id": "1bef978e",
   "metadata": {},
   "source": [
    "**With out arguments**"
   ]
  },
  {
   "cell_type": "code",
   "execution_count": 6,
   "id": "58993c37",
   "metadata": {},
   "outputs": [
    {
     "name": "stdout",
     "output_type": "stream",
     "text": [
      "the addition of 10 and 20 is 30\n"
     ]
    }
   ],
   "source": [
    "n1=10\n",
    "n2=20\n",
    "add=n1+n2\n",
    "print(\"the addition of {} and {} is {}\".format(n1,n2,add))"
   ]
  },
  {
   "cell_type": "code",
   "execution_count": null,
   "id": "72130d23",
   "metadata": {},
   "outputs": [],
   "source": [
    "def <function_name>():\n",
    "    # write your code here"
   ]
  },
  {
   "cell_type": "code",
   "execution_count": 20,
   "id": "f20cd2b6",
   "metadata": {},
   "outputs": [],
   "source": [
    "def addition():\n",
    "    n1=10\n",
    "    n2=20\n",
    "    add=n1+n2\n",
    "    print(\"the addition of {} and {} is {}\".format(n1,n2,add))\n"
   ]
  },
  {
   "cell_type": "code",
   "execution_count": 21,
   "id": "f0ace352",
   "metadata": {},
   "outputs": [],
   "source": [
    "# The output will not display untill unless you call the function"
   ]
  },
  {
   "cell_type": "code",
   "execution_count": 22,
   "id": "3fd64b98",
   "metadata": {},
   "outputs": [
    {
     "name": "stdout",
     "output_type": "stream",
     "text": [
      "the addition of 10 and 20 is 30\n"
     ]
    }
   ],
   "source": [
    "addition()"
   ]
  },
  {
   "cell_type": "code",
   "execution_count": 23,
   "id": "b30b2f64",
   "metadata": {},
   "outputs": [],
   "source": [
    "def hello():\n",
    "    n1=eval(input('enter number'))\n",
    "    print('hello')\n",
    "    print('im writing function')"
   ]
  },
  {
   "cell_type": "code",
   "execution_count": 24,
   "id": "e360ebf9",
   "metadata": {},
   "outputs": [
    {
     "name": "stdout",
     "output_type": "stream",
     "text": [
      "enter number50\n",
      "hello\n",
      "im writing function\n"
     ]
    }
   ],
   "source": [
    "hello()"
   ]
  },
  {
   "cell_type": "code",
   "execution_count": null,
   "id": "9ae531a2",
   "metadata": {},
   "outputs": [],
   "source": []
  },
  {
   "cell_type": "code",
   "execution_count": null,
   "id": "2c794a66",
   "metadata": {},
   "outputs": [],
   "source": [
    "but how did python execute 2nd and not 1st function."
   ]
  },
  {
   "cell_type": "code",
   "execution_count": 17,
   "id": "14bd0255",
   "metadata": {},
   "outputs": [],
   "source": [
    "a=100\n",
    "a=200\n",
    "\n",
    "# why a is not equal to 100"
   ]
  },
  {
   "cell_type": "code",
   "execution_count": 18,
   "id": "3bf29a48",
   "metadata": {},
   "outputs": [
    {
     "name": "stdout",
     "output_type": "stream",
     "text": [
      "200\n"
     ]
    }
   ],
   "source": [
    "print(a)"
   ]
  },
  {
   "cell_type": "code",
   "execution_count": 19,
   "id": "ab9c632d",
   "metadata": {},
   "outputs": [],
   "source": [
    "a=1000"
   ]
  },
  {
   "cell_type": "code",
   "execution_count": null,
   "id": "f66b07ab",
   "metadata": {},
   "outputs": [],
   "source": [
    "# python will latest value one"
   ]
  },
  {
   "cell_type": "code",
   "execution_count": null,
   "id": "ee0ae00d",
   "metadata": {},
   "outputs": [],
   "source": [
    "# In this particular cell : 500lines "
   ]
  },
  {
   "cell_type": "code",
   "execution_count": null,
   "id": "9e7150e6",
   "metadata": {},
   "outputs": [],
   "source": [
    "# lin1"
   ]
  },
  {
   "cell_type": "code",
   "execution_count": null,
   "id": "10b1d599",
   "metadata": {},
   "outputs": [],
   "source": [
    "# lin2"
   ]
  },
  {
   "cell_type": "code",
   "execution_count": null,
   "id": "974a816c",
   "metadata": {},
   "outputs": [],
   "source": [
    "# lin3"
   ]
  },
  {
   "cell_type": "code",
   "execution_count": 25,
   "id": "b7456217",
   "metadata": {},
   "outputs": [],
   "source": [
    "n1=100"
   ]
  },
  {
   "cell_type": "code",
   "execution_count": 26,
   "id": "2491d358",
   "metadata": {},
   "outputs": [],
   "source": [
    "n2=200"
   ]
  },
  {
   "cell_type": "code",
   "execution_count": 27,
   "id": "18d79d4c",
   "metadata": {},
   "outputs": [
    {
     "name": "stdout",
     "output_type": "stream",
     "text": [
      "300\n"
     ]
    }
   ],
   "source": [
    "print(n1+n2)"
   ]
  },
  {
   "cell_type": "code",
   "execution_count": 29,
   "id": "1fb80951",
   "metadata": {},
   "outputs": [
    {
     "name": "stdout",
     "output_type": "stream",
     "text": [
      "hello good morning\n"
     ]
    }
   ],
   "source": [
    "def hello_world():\n",
    "    print('hello good morning')\n",
    "    \n",
    "hello_world()"
   ]
  },
  {
   "cell_type": "code",
   "execution_count": null,
   "id": "67f8d603",
   "metadata": {},
   "outputs": [],
   "source": [
    "# Take three numbers find the average\n",
    "# WAP ask the user enter 3 numbers\n",
    "# n1=eval(input())\n",
    "# n2=eval(input())\n",
    "# n3=eval(input())\n",
    "# avg=(n1+n2+n3)/3\n",
    "# First write normal code\n",
    "# Then implemnt the function"
   ]
  },
  {
   "cell_type": "code",
   "execution_count": 30,
   "id": "adeb0996",
   "metadata": {},
   "outputs": [
    {
     "name": "stdout",
     "output_type": "stream",
     "text": [
      "enter number1:20\n",
      "enter number2:30\n",
      "enter number3:40\n",
      "the average of 20,30 and 40 is 30.0\n"
     ]
    }
   ],
   "source": [
    "num1=eval(input(\"enter number1:\"))\n",
    "num2=eval(input(\"enter number2:\"))\n",
    "num3=eval(input(\"enter number3:\"))\n",
    "avg=(num1+num2+num3)/3\n",
    "print(\"the average of {},{} and {} is {}\".format(num1,num2,num3,avg))"
   ]
  },
  {
   "cell_type": "code",
   "execution_count": 37,
   "id": "f220a5aa",
   "metadata": {},
   "outputs": [],
   "source": [
    "def avg():\n",
    "    num1=eval(input(\"enter number1:\"))\n",
    "    num2=eval(input(\"enter number2:\"))\n",
    "    num3=eval(input(\"enter number3:\"))\n",
    "    avg=(num1+num2+num33333)/3\n",
    "    print(\"the average of {},{} and {} is {}\".format(num1,num2,num3,avg))"
   ]
  },
  {
   "cell_type": "code",
   "execution_count": 38,
   "id": "fd1afccd",
   "metadata": {},
   "outputs": [
    {
     "name": "stdout",
     "output_type": "stream",
     "text": [
      "enter number1:100\n",
      "enter number2:100\n",
      "enter number3:100\n"
     ]
    },
    {
     "ename": "NameError",
     "evalue": "name 'num33333' is not defined",
     "output_type": "error",
     "traceback": [
      "\u001b[1;31m---------------------------------------------------------------------------\u001b[0m",
      "\u001b[1;31mNameError\u001b[0m                                 Traceback (most recent call last)",
      "Cell \u001b[1;32mIn[38], line 1\u001b[0m\n\u001b[1;32m----> 1\u001b[0m avg()\n",
      "Cell \u001b[1;32mIn[37], line 5\u001b[0m, in \u001b[0;36mavg\u001b[1;34m()\u001b[0m\n\u001b[0;32m      3\u001b[0m num2\u001b[38;5;241m=\u001b[39m\u001b[38;5;28meval\u001b[39m(\u001b[38;5;28minput\u001b[39m(\u001b[38;5;124m\"\u001b[39m\u001b[38;5;124menter number2:\u001b[39m\u001b[38;5;124m\"\u001b[39m))\n\u001b[0;32m      4\u001b[0m num3\u001b[38;5;241m=\u001b[39m\u001b[38;5;28meval\u001b[39m(\u001b[38;5;28minput\u001b[39m(\u001b[38;5;124m\"\u001b[39m\u001b[38;5;124menter number3:\u001b[39m\u001b[38;5;124m\"\u001b[39m))\n\u001b[1;32m----> 5\u001b[0m avg\u001b[38;5;241m=\u001b[39m(num1\u001b[38;5;241m+\u001b[39mnum2\u001b[38;5;241m+\u001b[39mnum33333)\u001b[38;5;241m/\u001b[39m\u001b[38;5;241m3\u001b[39m\n\u001b[0;32m      6\u001b[0m \u001b[38;5;28mprint\u001b[39m(\u001b[38;5;124m\"\u001b[39m\u001b[38;5;124mthe average of \u001b[39m\u001b[38;5;132;01m{}\u001b[39;00m\u001b[38;5;124m,\u001b[39m\u001b[38;5;132;01m{}\u001b[39;00m\u001b[38;5;124m and \u001b[39m\u001b[38;5;132;01m{}\u001b[39;00m\u001b[38;5;124m is \u001b[39m\u001b[38;5;132;01m{}\u001b[39;00m\u001b[38;5;124m\"\u001b[39m\u001b[38;5;241m.\u001b[39mformat(num1,num2,num3,avg))\n",
      "\u001b[1;31mNameError\u001b[0m: name 'num33333' is not defined"
     ]
    }
   ],
   "source": [
    "avg()"
   ]
  },
  {
   "cell_type": "markdown",
   "id": "a4e7cd47",
   "metadata": {},
   "source": [
    "**Note**:\n",
    "    \n",
    "    we are not sure , the function is defined correct or wrong\n",
    "    \n",
    "    untill unless we call the function"
   ]
  },
  {
   "cell_type": "code",
   "execution_count": 39,
   "id": "4687c840",
   "metadata": {},
   "outputs": [
    {
     "name": "stdout",
     "output_type": "stream",
     "text": [
      "enter number1:20\n",
      "enter number2:30\n",
      "enter number3:40\n",
      "the average of 20,30 and 40 is 30.0\n"
     ]
    }
   ],
   "source": [
    "try:\n",
    "    num1=eval(input(\"enter number1:\"))\n",
    "    num2=eval(input(\"enter number2:\"))\n",
    "    num3=eval(input(\"enter number3:\"))\n",
    "    avg=(num1+num2+num3)/3\n",
    "    print(\"the average of {},{} and {} is {}\".format(num1,num2,num3,avg))\n",
    "    \n",
    "except Exception as e:\n",
    "    print(e)"
   ]
  },
  {
   "cell_type": "code",
   "execution_count": 41,
   "id": "7adc2c7d",
   "metadata": {},
   "outputs": [
    {
     "name": "stdout",
     "output_type": "stream",
     "text": [
      "enter number1:20\n",
      "enter number2:30\n",
      "enter number3:40\n",
      "name 'num3333' is not defined\n"
     ]
    }
   ],
   "source": [
    "def avg1():\n",
    "    try:\n",
    "        num1=eval(input(\"enter number1:\"))\n",
    "        num2=eval(input(\"enter number2:\"))\n",
    "        num3=eval(input(\"enter number3:\"))\n",
    "        avg=(num1+num2+num3333)/3\n",
    "        print(\"the average of {},{} and {} is {}\".format(num1,num2,num3,avg))\n",
    "    \n",
    "    except Exception as e:\n",
    "        print(e)\n",
    "        \n",
    "avg1()"
   ]
  },
  {
   "cell_type": "code",
   "execution_count": null,
   "id": "d8e80bee",
   "metadata": {},
   "outputs": [],
   "source": [
    "# WAP ask the user enter bill amount\n",
    "#     ask the user enter tip amount\n",
    "#     calculate total bill\n",
    "\n",
    "# First write normal code\n",
    "# Then implement the function"
   ]
  },
  {
   "cell_type": "code",
   "execution_count": 42,
   "id": "d73b1292",
   "metadata": {},
   "outputs": [
    {
     "name": "stdout",
     "output_type": "stream",
     "text": [
      "Enter Bill amount20\n",
      "Enter Tip amount30\n",
      "Total Bill is 50\n"
     ]
    }
   ],
   "source": [
    "def Bill():\n",
    "    try:\n",
    "        Bill_Amt= eval(input(\"Enter Bill amount\"))\n",
    "        Tip_Amt= eval(input(\"Enter Tip amount\"))\n",
    "        Total_Bill = Bill_Amt+Tip_Amt\n",
    "        print(\"Total Bill is {}\".format(Total_Bill))\n",
    "    except exception as e:\n",
    "        print(e)\n",
    "        \n",
    "Bill()"
   ]
  },
  {
   "cell_type": "code",
   "execution_count": null,
   "id": "3f5c5054",
   "metadata": {},
   "outputs": [],
   "source": [
    "#WAP ask the user get a random number between 1 to 100\n",
    "# print it is even or odd number\n",
    "# Implement using function\n",
    "# import <package>\n",
    "# num=<package>.<method_name>(1,100)\n",
    "# if <condition>:\n",
    "#      print(\"{} is an even number\".format(num))\n",
    "#else:\n",
    "#    print(\"{} is an odd number\".format(num))"
   ]
  },
  {
   "cell_type": "code",
   "execution_count": 44,
   "id": "23aea45e",
   "metadata": {},
   "outputs": [
    {
     "name": "stdout",
     "output_type": "stream",
     "text": [
      "54 is an even number\n"
     ]
    }
   ],
   "source": [
    "import random\n",
    "num=random.randint(1,100)\n",
    "if num%2==0:\n",
    "    print(\"{} is an even number\".format(num))\n",
    "else:\n",
    "    print(\"{} is an odd number\".format(num))"
   ]
  },
  {
   "cell_type": "code",
   "execution_count": 47,
   "id": "d1e7136c",
   "metadata": {},
   "outputs": [
    {
     "name": "stdout",
     "output_type": "stream",
     "text": [
      "wev are implementing even odd function\n",
      "take one number\n",
      "the remainder is zero\n",
      "76 is an even number\n"
     ]
    }
   ],
   "source": [
    "import random\n",
    "def even_odd1():\n",
    "    print('we are implementing even odd function')\n",
    "    print(\"take one number\")\n",
    "    num=random.randint(1,100)\n",
    "    if num%2==0:\n",
    "        print(\"the remainder is zero\")\n",
    "        print(\"{} is an even number\".format(num))\n",
    "    else:\n",
    "        print(\"the remainder is not equal to zero\")\n",
    "        print(\"{} is an odd number\".format(num))\n",
    "        \n",
    "even_odd1()"
   ]
  },
  {
   "cell_type": "code",
   "execution_count": 48,
   "id": "5531b663",
   "metadata": {},
   "outputs": [
    {
     "name": "stdout",
     "output_type": "stream",
     "text": [
      "we are implementing even odd function\n",
      "take one number\n",
      "the remainder is zero\n",
      "8 is an even number\n"
     ]
    }
   ],
   "source": [
    "import random\n",
    "def even_odd2():\n",
    "    try:\n",
    "        print('we are implementing even odd function')\n",
    "        print(\"take one number\")\n",
    "        num=random.randint(1,100)\n",
    "        if num%2==0:\n",
    "            print(\"the remainder is zero\")\n",
    "            print(\"{} is an even number\".format(num))\n",
    "        else:\n",
    "            print(\"the remainder is not equal to zero\")\n",
    "            print(\"{} is an odd number\".format(num))\n",
    "            \n",
    "    except Exception as e:\n",
    "        print(e)\n",
    "        \n",
    "even_odd2()"
   ]
  },
  {
   "cell_type": "code",
   "execution_count": 49,
   "id": "4200fff0",
   "metadata": {},
   "outputs": [
    {
     "name": "stdout",
     "output_type": "stream",
     "text": [
      "hello\n",
      "python\n",
      "calling function\n",
      "we are implementing even odd function\n",
      "take one number\n",
      "the remainder is zero\n",
      "50 is an even number\n",
      "done!\n"
     ]
    }
   ],
   "source": [
    "import random\n",
    "print('hello')\n",
    "print(\"python\")\n",
    "def even_odd2():\n",
    "    try:\n",
    "        print('we are implementing even odd function')\n",
    "        print(\"take one number\")\n",
    "        num=random.randint(1,100)\n",
    "        if num%2==0:\n",
    "            print(\"the remainder is zero\")\n",
    "            print(\"{} is an even number\".format(num))\n",
    "        else:\n",
    "            print(\"the remainder is not equal to zero\")\n",
    "            print(\"{} is an odd number\".format(num))\n",
    "            \n",
    "    except Exception as e:\n",
    "        print(e)\n",
    "\n",
    "print('calling function')\n",
    "even_odd2()\n",
    "print(\"done!\")"
   ]
  },
  {
   "cell_type": "code",
   "execution_count": null,
   "id": "e4f048c3",
   "metadata": {},
   "outputs": [],
   "source": [
    "def addition():\n",
    "    n1=20\n",
    "    n2=30\n",
    "    print('addition:',n1+n2)\n",
    "\n",
    "print(\"mul function starts\")\n",
    "def mul():\n",
    "    n1=20\n",
    "    n2=30\n",
    "    print('mul:',n1*n2)\n",
    "    print(\"mul is done\") \n",
    "    \n",
    "print(\"subtraction function starts\")\n",
    "def sub():\n",
    "    n1=20\n",
    "    n2=30\n",
    "    print('sub:',n1-n2)\n",
    "    print(\"subtraction is done\")\n",
    "    \n",
    "print(\"anything remains\")\n",
    "print(\"no\")\n",
    "print(\"then call the function\")\n",
    "\n",
    "sub()\n",
    "mul()\n",
    "addition()"
   ]
  },
  {
   "cell_type": "code",
   "execution_count": null,
   "id": "caa2168a",
   "metadata": {},
   "outputs": [],
   "source": []
  },
  {
   "cell_type": "code",
   "execution_count": null,
   "id": "2f354b62",
   "metadata": {},
   "outputs": [],
   "source": [
    "def addition():\n",
    "    n1=10\n",
    "    n2=20\n",
    "    add=n1+n2\n",
    "    print(\"the addition of {} and {} is {}\".format(n1,n2,add))\n",
    "    \n",
    "addition()"
   ]
  },
  {
   "cell_type": "code",
   "execution_count": null,
   "id": "33212411",
   "metadata": {},
   "outputs": [],
   "source": [
    "def Bill():\n",
    "    try:\n",
    "        Bill_Amt= eval(input(\"Enter Bill amount\"))\n",
    "        Tip_Amt= eval(input(\"Enter Tip amount\"))\n",
    "        Total_Bill = Bill_Amt+Tip_Amt\n",
    "        print(\"Total Bill is {}\".format(Total_Bill))\n",
    "    except exception as e:\n",
    "        print(e)\n",
    "        \n",
    "Bill()"
   ]
  },
  {
   "cell_type": "code",
   "execution_count": null,
   "id": "01a851b6",
   "metadata": {},
   "outputs": [],
   "source": [
    "addition()\n",
    "Bill()"
   ]
  },
  {
   "cell_type": "markdown",
   "id": "39a69a2d",
   "metadata": {},
   "source": [
    "- if you are not mentioning any values inside the function bracket\n",
    "\n",
    "- with out arguments or with out parmeters\n",
    "\n",
    "- arguments or parameters"
   ]
  },
  {
   "cell_type": "markdown",
   "id": "caf132a6",
   "metadata": {},
   "source": [
    "**With arguments**"
   ]
  },
  {
   "cell_type": "code",
   "execution_count": null,
   "id": "173d39cf",
   "metadata": {},
   "outputs": [],
   "source": [
    "def addition():\n",
    "    n1=10\n",
    "    n2=20\n",
    "    add=n1+n2\n",
    "    print(\"the addition of {} and {} is {}\".format(n1,n2,add))\n",
    "    \n",
    "addition()\n",
    "\n",
    "# 1Q) inside function how many variables are there\n",
    "#      3 variables are there\n",
    "# 2Q) how many user provided variables\n",
    "#       2 variables"
   ]
  },
  {
   "cell_type": "code",
   "execution_count": 53,
   "id": "7ca17691",
   "metadata": {},
   "outputs": [
    {
     "name": "stdout",
     "output_type": "stream",
     "text": [
      "the addition of 100 and 200 is 300\n"
     ]
    }
   ],
   "source": [
    "def addition(n1,n2): # arguments\n",
    "    add=n1+n2\n",
    "    print(\"the addition of {} and {} is {}\".format(n1,n2,add))\n",
    "    \n",
    "addition(100,200)  # n1=100  n2=200"
   ]
  },
  {
   "cell_type": "code",
   "execution_count": 55,
   "id": "b6633c54",
   "metadata": {},
   "outputs": [
    {
     "ename": "TypeError",
     "evalue": "addition() missing 1 required positional argument: 'n2'",
     "output_type": "error",
     "traceback": [
      "\u001b[1;31m---------------------------------------------------------------------------\u001b[0m",
      "\u001b[1;31mTypeError\u001b[0m                                 Traceback (most recent call last)",
      "Cell \u001b[1;32mIn[55], line 6\u001b[0m\n\u001b[0;32m      3\u001b[0m     add\u001b[38;5;241m=\u001b[39mn1\u001b[38;5;241m+\u001b[39mn2\n\u001b[0;32m      4\u001b[0m     \u001b[38;5;28mprint\u001b[39m(\u001b[38;5;124m\"\u001b[39m\u001b[38;5;124mthe addition of \u001b[39m\u001b[38;5;132;01m{}\u001b[39;00m\u001b[38;5;124m and \u001b[39m\u001b[38;5;132;01m{}\u001b[39;00m\u001b[38;5;124m is \u001b[39m\u001b[38;5;132;01m{}\u001b[39;00m\u001b[38;5;124m\"\u001b[39m\u001b[38;5;241m.\u001b[39mformat(n1,n2,add))\n\u001b[1;32m----> 6\u001b[0m addition(\u001b[38;5;241m200\u001b[39m)\n",
      "\u001b[1;31mTypeError\u001b[0m: addition() missing 1 required positional argument: 'n2'"
     ]
    }
   ],
   "source": [
    "def addition(n1,n2):\n",
    "    add=n1+n2\n",
    "    print(\"the addition of {} and {} is {}\".format(n1,n2,add))\n",
    "    \n",
    "addition(200) "
   ]
  },
  {
   "cell_type": "code",
   "execution_count": 57,
   "id": "d405bd57",
   "metadata": {},
   "outputs": [
    {
     "ename": "TypeError",
     "evalue": "addition11() takes 0 positional arguments but 2 were given",
     "output_type": "error",
     "traceback": [
      "\u001b[1;31m---------------------------------------------------------------------------\u001b[0m",
      "\u001b[1;31mTypeError\u001b[0m                                 Traceback (most recent call last)",
      "Cell \u001b[1;32mIn[57], line 5\u001b[0m\n\u001b[0;32m      2\u001b[0m     add\u001b[38;5;241m=\u001b[39mn111\u001b[38;5;241m+\u001b[39mn222\n\u001b[0;32m      3\u001b[0m     \u001b[38;5;28mprint\u001b[39m(\u001b[38;5;124m\"\u001b[39m\u001b[38;5;124mthe addition of \u001b[39m\u001b[38;5;132;01m{}\u001b[39;00m\u001b[38;5;124m and \u001b[39m\u001b[38;5;132;01m{}\u001b[39;00m\u001b[38;5;124m is \u001b[39m\u001b[38;5;132;01m{}\u001b[39;00m\u001b[38;5;124m\"\u001b[39m\u001b[38;5;241m.\u001b[39mformat(n1,n2,add))\n\u001b[1;32m----> 5\u001b[0m addition11(\u001b[38;5;241m200\u001b[39m,\u001b[38;5;241m300\u001b[39m)\n",
      "\u001b[1;31mTypeError\u001b[0m: addition11() takes 0 positional arguments but 2 were given"
     ]
    }
   ],
   "source": [
    "def addition11():\n",
    "    add=n111+n222\n",
    "    print(\"the addition of {} and {} is {}\".format(n1,n2,add))\n",
    "    \n",
    "addition11(200,300)   # what is the error"
   ]
  },
  {
   "cell_type": "code",
   "execution_count": 58,
   "id": "80e78d67",
   "metadata": {},
   "outputs": [
    {
     "name": "stdout",
     "output_type": "stream",
     "text": [
      "num1: 20\n",
      "num2: 30\n",
      "num3: 40\n",
      "the average of 20,30 and 40 is 30.0\n"
     ]
    }
   ],
   "source": [
    "# Implement below code using with arguments\n",
    "def avg(num1,num2,num3):\n",
    "    print(\"num1:\",num1) # 20\n",
    "    print(\"num2:\",num2) #30\n",
    "    print(\"num3:\",num3) # 40\n",
    "    avg=(num1+num2+num3)/3\n",
    "    print(\"the average of {},{} and {} is {}\".format(num1,num2,num3,avg))\n",
    "    \n",
    "avg(20,30,40)"
   ]
  },
  {
   "cell_type": "code",
   "execution_count": 67,
   "id": "145d4016",
   "metadata": {},
   "outputs": [
    {
     "data": {
      "text/plain": [
       "12"
      ]
     },
     "execution_count": 67,
     "metadata": {},
     "output_type": "execute_result"
    }
   ],
   "source": [
    "num=12345\n",
    "v1=num%10     #5\n",
    "v11=num//100\n",
    "v11  # 1234\n",
    "\n",
    "v2=v11%10    # 4\n",
    "v2\n",
    "v22=v11//10 # 123\n",
    "v22\n",
    "\n",
    "# 12345========= 1234=====4\n",
    "# 54321"
   ]
  },
  {
   "cell_type": "code",
   "execution_count": 69,
   "id": "e33eb6a0",
   "metadata": {},
   "outputs": [
    {
     "data": {
      "text/plain": [
       "45"
      ]
     },
     "execution_count": 69,
     "metadata": {},
     "output_type": "execute_result"
    }
   ],
   "source": [
    "num=12345\n",
    "v1=num%100\n",
    "v1"
   ]
  },
  {
   "cell_type": "code",
   "execution_count": 66,
   "id": "2e3b59a1",
   "metadata": {},
   "outputs": [
    {
     "data": {
      "text/plain": [
       "1234"
      ]
     },
     "execution_count": 66,
     "metadata": {},
     "output_type": "execute_result"
    }
   ],
   "source": [
    "v11=num//10\n",
    "v11"
   ]
  },
  {
   "cell_type": "code",
   "execution_count": 64,
   "id": "8d34c6ff",
   "metadata": {},
   "outputs": [
    {
     "ename": "SyntaxError",
     "evalue": "invalid syntax. Maybe you meant '==' or ':=' instead of '='? (826857986.py, line 1)",
     "output_type": "error",
     "traceback": [
      "\u001b[1;36m  Cell \u001b[1;32mIn[64], line 1\u001b[1;36m\u001b[0m\n\u001b[1;33m    if a=10:\u001b[0m\n\u001b[1;37m       ^\u001b[0m\n\u001b[1;31mSyntaxError\u001b[0m\u001b[1;31m:\u001b[0m invalid syntax. Maybe you meant '==' or ':=' instead of '='?\n"
     ]
    }
   ],
   "source": [
    "if a=10:\n",
    "    print('h')"
   ]
  },
  {
   "cell_type": "code",
   "execution_count": null,
   "id": "cfec7eae",
   "metadata": {},
   "outputs": [],
   "source": [
    "7260927090"
   ]
  },
  {
   "cell_type": "code",
   "execution_count": null,
   "id": "8d1f8743",
   "metadata": {},
   "outputs": [],
   "source": [
    "12345 ======== 54"
   ]
  },
  {
   "cell_type": "code",
   "execution_count": 70,
   "id": "d16be38a",
   "metadata": {},
   "outputs": [
    {
     "data": {
      "text/plain": [
       "5"
      ]
     },
     "execution_count": 70,
     "metadata": {},
     "output_type": "execute_result"
    }
   ],
   "source": [
    "12345%10"
   ]
  },
  {
   "cell_type": "code",
   "execution_count": null,
   "id": "b755c2d1",
   "metadata": {},
   "outputs": [],
   "source": [
    "12345 ======== 4?"
   ]
  },
  {
   "cell_type": "code",
   "execution_count": null,
   "id": "7e9d453d",
   "metadata": {},
   "outputs": [],
   "source": [
    "1234?"
   ]
  },
  {
   "cell_type": "code",
   "execution_count": 71,
   "id": "5c392ef8",
   "metadata": {},
   "outputs": [
    {
     "name": "stdout",
     "output_type": "stream",
     "text": [
      "54\n"
     ]
    }
   ],
   "source": [
    "print(5,end='')\n",
    "print(4)"
   ]
  },
  {
   "cell_type": "code",
   "execution_count": null,
   "id": "95eb0733",
   "metadata": {},
   "outputs": [],
   "source": [
    "12345%10=====> 5"
   ]
  },
  {
   "cell_type": "code",
   "execution_count": 73,
   "id": "7ce8cb7d",
   "metadata": {},
   "outputs": [
    {
     "data": {
      "text/plain": [
       "1234"
      ]
     },
     "execution_count": 73,
     "metadata": {},
     "output_type": "execute_result"
    }
   ],
   "source": [
    "12345//10"
   ]
  },
  {
   "cell_type": "code",
   "execution_count": 78,
   "id": "3ff7dfb7",
   "metadata": {},
   "outputs": [
    {
     "data": {
      "text/plain": [
       "2"
      ]
     },
     "execution_count": 78,
     "metadata": {},
     "output_type": "execute_result"
    }
   ],
   "source": []
  },
  {
   "cell_type": "code",
   "execution_count": 79,
   "id": "6589a03d",
   "metadata": {},
   "outputs": [
    {
     "data": {
      "text/plain": [
       "100"
      ]
     },
     "execution_count": 79,
     "metadata": {},
     "output_type": "execute_result"
    }
   ],
   "source": [
    "180\n",
    "100"
   ]
  },
  {
   "cell_type": "code",
   "execution_count": null,
   "id": "151f1afd",
   "metadata": {},
   "outputs": [],
   "source": [
    "1100\n",
    "150\n",
    "310"
   ]
  },
  {
   "cell_type": "code",
   "execution_count": null,
   "id": "c919cf40",
   "metadata": {},
   "outputs": [],
   "source": [
    "def Bill():\n",
    "    try:\n",
    "        Bill_Amt= eval(input(\"Enter Bill amount\"))\n",
    "        Tip_Amt= eval(input(\"Enter Tip amount\"))\n",
    "        Total_Bill = Bill_Amt+Tip_Amt\n",
    "        print(\"Total Bill is {}\".format(Total_Bill))\n",
    "    except exception as e:\n",
    "        print(e)\n",
    "        \n",
    "Bill()\n",
    "\n",
    "\n",
    "# First how many important(user) variables are there inside the function\n",
    "# Bill_Amy, Tip_AMT"
   ]
  },
  {
   "cell_type": "code",
   "execution_count": 2,
   "id": "335789f5",
   "metadata": {},
   "outputs": [
    {
     "name": "stdout",
     "output_type": "stream",
     "text": [
      "Total Bill is 1050\n"
     ]
    }
   ],
   "source": [
    "def Bill(Bill_Amt,Tip_Amt):\n",
    "    try:\n",
    "        Total_Bill = Bill_Amt+Tip_Amt\n",
    "        print(\"Total Bill is {}\".format(Total_Bill))\n",
    "    except exception as e:\n",
    "        print(e)\n",
    "        \n",
    "Bill(1000,50)\n",
    "\n",
    "# What error will come \n",
    "# Name error: Bill_Amt not defined"
   ]
  },
  {
   "cell_type": "code",
   "execution_count": null,
   "id": "6b6136d3",
   "metadata": {},
   "outputs": [],
   "source": [
    "# WAP ask the user enter number \n",
    "# and find the square of the number\n",
    "\n",
    "# M-1: Write in normal ways\n",
    "# M-2: write in function with out argument\n",
    "# M-3: Weite in function with argument"
   ]
  },
  {
   "cell_type": "code",
   "execution_count": 3,
   "id": "fb98b784",
   "metadata": {},
   "outputs": [
    {
     "name": "stdout",
     "output_type": "stream",
     "text": [
      "enter a number5\n",
      "the square of 5 is 25\n"
     ]
    }
   ],
   "source": [
    "number=eval(input(\"enter a number\"))\n",
    "print(\"the square of {} is {}\".format(number,number*number))"
   ]
  },
  {
   "cell_type": "code",
   "execution_count": 4,
   "id": "d30f6d4a",
   "metadata": {},
   "outputs": [
    {
     "name": "stdout",
     "output_type": "stream",
     "text": [
      "enter a number6\n",
      "the square of 6 is 36\n"
     ]
    }
   ],
   "source": [
    "def square():   # In side the bracket No arguments\n",
    "    number=eval(input(\"enter a number\"))\n",
    "    print(\"the square of {} is {}\".format(number,number*number))\n",
    "    \n",
    "square()"
   ]
  },
  {
   "cell_type": "code",
   "execution_count": 5,
   "id": "9526d823",
   "metadata": {},
   "outputs": [
    {
     "name": "stdout",
     "output_type": "stream",
     "text": [
      "the square of 7 is 49\n"
     ]
    }
   ],
   "source": [
    "def square(number):  \n",
    "    print(\"the square of {} is {}\".format(number,number*number))\n",
    "    \n",
    "square(7)\n",
    "\n",
    "# How many variables are there inside the function: number"
   ]
  },
  {
   "cell_type": "code",
   "execution_count": null,
   "id": "5ce7d573",
   "metadata": {},
   "outputs": [],
   "source": [
    "# WAP ask there user \n",
    "# get one random number between 1 to 20\n",
    "# enter a number \n",
    "# compare these two number\n",
    "# if both are same: print(\"you won\")\n",
    "# else: print(lost)\n",
    "\n",
    "#M-1: Write in normal way\n",
    "#M-2: Create a function with out argument\n",
    "#M-3: Create a function with argument"
   ]
  },
  {
   "cell_type": "code",
   "execution_count": 7,
   "id": "5d7cfd58",
   "metadata": {},
   "outputs": [
    {
     "name": "stdout",
     "output_type": "stream",
     "text": [
      "enter number:7\n",
      "you lost\n"
     ]
    }
   ],
   "source": [
    "#M-1:\n",
    "import random\n",
    "random_num=random.randint(1,20)\n",
    "num=eval(input(\"enter number:\"))\n",
    "\n",
    "if random_num==num:\n",
    "    print(\"you won\")\n",
    "else:\n",
    "    print(\"you lost\")"
   ]
  },
  {
   "cell_type": "code",
   "execution_count": 9,
   "id": "68bdce4a",
   "metadata": {},
   "outputs": [
    {
     "name": "stdout",
     "output_type": "stream",
     "text": [
      "enter number:9\n",
      "you lost because the random number is: 17\n"
     ]
    }
   ],
   "source": [
    "#M-2:\n",
    "import random\n",
    "def compare():\n",
    "    random_num=random.randint(1,20)\n",
    "    num=eval(input(\"enter number:\"))\n",
    "\n",
    "    if random_num==num:\n",
    "        print(\"you won\")\n",
    "    else:\n",
    "        print(\"you lost because the random number is:\",random_num)\n",
    "        \n",
    "compare()"
   ]
  },
  {
   "cell_type": "code",
   "execution_count": 14,
   "id": "3292ef49",
   "metadata": {},
   "outputs": [
    {
     "name": "stdout",
     "output_type": "stream",
     "text": [
      "enter number20\n",
      "you lost because the random number is: 13\n"
     ]
    }
   ],
   "source": [
    "#M-2:\n",
    "import random\n",
    "def compare(num):\n",
    "    random_num=random.randint(1,20)\n",
    "    if random_num==num:\n",
    "        print(\"you won\")\n",
    "    else:\n",
    "        print(\"you lost because the random number is:\",random_num)\n",
    "        \n",
    "compare(eval(input(\"enter number\"))) # keyboard pass"
   ]
  },
  {
   "cell_type": "code",
   "execution_count": 13,
   "id": "46f6db79",
   "metadata": {},
   "outputs": [
    {
     "name": "stdout",
     "output_type": "stream",
     "text": [
      "you lost because the random number is: 19\n"
     ]
    }
   ],
   "source": [
    "#M-2:\n",
    "import random\n",
    "def compare(num):\n",
    "    random_num=random.randint(1,20)\n",
    "    if random_num==num:\n",
    "        print(\"you won\")\n",
    "    else:\n",
    "        print(\"you lost because the random number is:\",random_num)\n",
    "\n",
    "compare(20) # direct pass"
   ]
  },
  {
   "cell_type": "code",
   "execution_count": null,
   "id": "269dac42",
   "metadata": {},
   "outputs": [],
   "source": [
    "#M-2:\n",
    "import random\n",
    "def compare(num):\n",
    "    random_num=random.randint(1,20)\n",
    "    if random_num==num:\n",
    "        print(\"you won\")\n",
    "    else:\n",
    "        print(\"you lost because the random number is:\",random_num)\n",
    "\n",
    "value=20\n",
    "compare(value) # direct pass"
   ]
  },
  {
   "cell_type": "code",
   "execution_count": 15,
   "id": "b85c0a80",
   "metadata": {},
   "outputs": [
    {
     "name": "stdout",
     "output_type": "stream",
     "text": [
      "enter number7\n",
      "you lost because the random number is: 18\n"
     ]
    }
   ],
   "source": [
    "#M-2:\n",
    "import random\n",
    "def compare(random_num,num):\n",
    "\n",
    "    if random_num==num:\n",
    "        print(\"you won\")\n",
    "    else:\n",
    "        print(\"you lost because the random number is:\",random_num)\n",
    "        \n",
    "value_random=random.randint(1,20) \n",
    "value=eval(input(\"enter number\"))\n",
    "\n",
    "compare(value_random,value)\n",
    "\n",
    "\n",
    "# Step-1: import random\n",
    "# step-2: function will defin: not give \n",
    "# step-3: value_random\n",
    "# step-4: value\n",
    "# step-5: calling the function======> step-2\n",
    "#                                    print won/loss"
   ]
  },
  {
   "cell_type": "code",
   "execution_count": 16,
   "id": "d803ab5f",
   "metadata": {},
   "outputs": [
    {
     "name": "stdout",
     "output_type": "stream",
     "text": [
      "enter number8\n",
      "you lost because the random number is: 9\n"
     ]
    }
   ],
   "source": [
    "# Step-1: import random\n",
    "# step-3: value_random\n",
    "# step-4: value\n",
    "# step-2: function will defin: not give \n",
    "# step-5: calling the function======> step-2\n",
    "#                                    print won/loss\n",
    "\n",
    "\n",
    "import random\n",
    "\n",
    "value_random=random.randint(1,20) \n",
    "value=eval(input(\"enter number\"))\n",
    "\n",
    "def compare(random_num,num):\n",
    "\n",
    "    if random_num==num:\n",
    "        print(\"you won\")\n",
    "    else:\n",
    "        print(\"you lost because the random number is:\",random_num)\n",
    "        \n",
    "compare(value_random,value)"
   ]
  },
  {
   "cell_type": "code",
   "execution_count": null,
   "id": "8cdbe26c",
   "metadata": {},
   "outputs": [],
   "source": [
    "# Step-1: import random\n",
    "# step-2: function will defin: not give \n",
    "# step-5: calling the function======> step-2\n",
    "#                                    print won/loss\n",
    "# step-3: value_random\n",
    "# step-4: value"
   ]
  },
  {
   "cell_type": "code",
   "execution_count": 17,
   "id": "86a6b237",
   "metadata": {},
   "outputs": [
    {
     "data": {
      "text/plain": [
       "3"
      ]
     },
     "execution_count": 17,
     "metadata": {},
     "output_type": "execute_result"
    }
   ],
   "source": [
    "import random\n",
    "random.randint(1,20)"
   ]
  },
  {
   "cell_type": "code",
   "execution_count": 18,
   "id": "1e3e3582",
   "metadata": {},
   "outputs": [
    {
     "data": {
      "text/plain": [
       "16"
      ]
     },
     "execution_count": 18,
     "metadata": {},
     "output_type": "execute_result"
    }
   ],
   "source": [
    "from random import randint\n",
    "randint(1,20)"
   ]
  },
  {
   "cell_type": "code",
   "execution_count": 25,
   "id": "1698f742",
   "metadata": {},
   "outputs": [
    {
     "name": "stdout",
     "output_type": "stream",
     "text": [
      "enter number9\n",
      "you lost because the random number is: 2\n"
     ]
    }
   ],
   "source": [
    "import random\n",
    "\n",
    "#==============================defined======================\n",
    "def megha(random_num,num):\n",
    "\n",
    "    if random_num==num:\n",
    "        print(\"you won\")\n",
    "    else:\n",
    "        print(\"you lost because the random number is:\",random_num)\n",
    "        \n",
    "#================calling==========================================\n",
    "#     \n",
    "megha(20,10)\n"
   ]
  },
  {
   "cell_type": "code",
   "execution_count": null,
   "id": "3b952a9d",
   "metadata": {},
   "outputs": [],
   "source": [
    "# WAP ask the user enter salary\n",
    "#     ask the user enter tax percentage\n",
    "#     calulate total tax to pay"
   ]
  },
  {
   "cell_type": "code",
   "execution_count": 29,
   "id": "632e9111",
   "metadata": {},
   "outputs": [
    {
     "name": "stdout",
     "output_type": "stream",
     "text": [
      "Enter a number:9\n",
      "You are not a winner\n"
     ]
    }
   ],
   "source": [
    "import random\n",
    "def compare(user_num,ran_num):\n",
    "    try:\n",
    "        if ran_num == user_num:\n",
    "            print(\"You won\")\n",
    "        else:\n",
    "            print(\"You are not a winner\")\n",
    "    except exception as e:\n",
    "        print(e)\n",
    "        \n",
    "#user_num=eval(input(\"enter number\"))  \n",
    "#ran_num=random.randint(1,20)\n",
    "#compare(user_num,ran_num)\n",
    "\n",
    "compare(eval(input(\"Enter a number:\")),\n",
    "        random.randint(1,20))"
   ]
  },
  {
   "cell_type": "code",
   "execution_count": 31,
   "id": "b68a9630",
   "metadata": {},
   "outputs": [
    {
     "name": "stdout",
     "output_type": "stream",
     "text": [
      "The total tax is: 1000.0\n"
     ]
    }
   ],
   "source": [
    "def tax_cal(salary,tax_per):\n",
    "    total_tax=salary*tax_per/100\n",
    "    print(\"The total tax is:\",total_tax)\n",
    "    \n",
    "tax_cal(10000,10)"
   ]
  },
  {
   "cell_type": "code",
   "execution_count": null,
   "id": "3b0aa958",
   "metadata": {},
   "outputs": [],
   "source": [
    "# How do you pass the value\n",
    "def tax_cal(salary,tax_per):\n",
    "    total_tax=salary*tax_per/100\n",
    "    print(\"The total tax is:\",total_tax)\n",
    "    \n",
    "tax_cal(10000,10)                 # Direct pass"
   ]
  },
  {
   "cell_type": "code",
   "execution_count": 33,
   "id": "950331aa",
   "metadata": {},
   "outputs": [
    {
     "name": "stdout",
     "output_type": "stream",
     "text": [
      "enter salary:10000\n",
      "enter tax perc:10\n",
      "The total tax is: 1000.0\n"
     ]
    }
   ],
   "source": [
    "# How do you pass the value\n",
    "def tax_cal(salary,tax_per):\n",
    "    total_tax=salary*tax_per/100\n",
    "    print(\"The total tax is:\",total_tax)\n",
    "\n",
    "val1=eval(input(\"enter salary:\"))\n",
    "val2=eval(input(\"enter tax perc:\"))\n",
    "tax_cal(val1,val2)                 # keyboard pass"
   ]
  },
  {
   "cell_type": "markdown",
   "id": "d7bfa6dd",
   "metadata": {},
   "source": [
    "**default arguments**"
   ]
  },
  {
   "cell_type": "code",
   "execution_count": null,
   "id": "744e530c",
   "metadata": {},
   "outputs": [],
   "source": [
    "# tax percentage is always=20\n",
    "# fixed\n",
    "# default parameter"
   ]
  },
  {
   "cell_type": "code",
   "execution_count": 34,
   "id": "ca693764",
   "metadata": {},
   "outputs": [
    {
     "name": "stdout",
     "output_type": "stream",
     "text": [
      "The total tax is: 2000.0\n"
     ]
    }
   ],
   "source": [
    "# How do you pass the value\n",
    "def tax_cal(salary,tax_per=20):\n",
    "    total_tax=salary*tax_per/100\n",
    "    print(\"The total tax is:\",total_tax)\n",
    "    \n",
    "tax_cal(10000)  "
   ]
  },
  {
   "cell_type": "code",
   "execution_count": 36,
   "id": "9709a514",
   "metadata": {},
   "outputs": [
    {
     "name": "stdout",
     "output_type": "stream",
     "text": [
      "the avg is: 30.0\n"
     ]
    }
   ],
   "source": [
    "def avg(num1,num2,num3):\n",
    "    add=(num1+num2+num3)\n",
    "    avg=add/3\n",
    "    print(\"the avg is:\",avg)\n",
    "    \n",
    "avg(20,30,40)"
   ]
  },
  {
   "cell_type": "code",
   "execution_count": 43,
   "id": "31fd532a",
   "metadata": {},
   "outputs": [
    {
     "name": "stdout",
     "output_type": "stream",
     "text": [
      "num1: 20\n",
      "num2: 20\n",
      "num3: 100\n",
      "the avg is: 46.666666666666664\n"
     ]
    }
   ],
   "source": [
    "def avg(num1,num2,num3=50):\n",
    "    print(\"num1:\",num1)           # 20\n",
    "    print(\"num2:\",num2)           # 20\n",
    "    print(\"num3:\",num3)            # 100\n",
    "    add=(num1+num2+num3)\n",
    "    avg=add/3\n",
    "    print(\"the avg is:\",avg)\n",
    "    \n",
    "avg(20,20,100)"
   ]
  },
  {
   "cell_type": "code",
   "execution_count": 45,
   "id": "bd4207d8",
   "metadata": {},
   "outputs": [
    {
     "ename": "SyntaxError",
     "evalue": "non-default argument follows default argument (3283137564.py, line 1)",
     "output_type": "error",
     "traceback": [
      "\u001b[1;36m  Cell \u001b[1;32mIn[45], line 1\u001b[1;36m\u001b[0m\n\u001b[1;33m    def avg(num1,num2=200,num3):\u001b[0m\n\u001b[1;37m                          ^\u001b[0m\n\u001b[1;31mSyntaxError\u001b[0m\u001b[1;31m:\u001b[0m non-default argument follows default argument\n"
     ]
    }
   ],
   "source": [
    "def avg(num1,num2=200,num3):\n",
    "    print(\"num1:\",num1)           # \n",
    "    print(\"num2:\",num2)           # \n",
    "    print(\"num3:\",num3)            # \n",
    "    add=(num1+num2+num3)\n",
    "    avg=add/3\n",
    "    print(\"the avg is:\",avg)\n",
    "    \n",
    "avg(200,300)"
   ]
  },
  {
   "cell_type": "code",
   "execution_count": 46,
   "id": "f09c5240",
   "metadata": {},
   "outputs": [
    {
     "name": "stdout",
     "output_type": "stream",
     "text": [
      "num1: 10000\n",
      "num2: 30\n",
      "num3: 50\n",
      "the avg is: 3360.0\n"
     ]
    }
   ],
   "source": [
    "def avg(num1,num2,num3=50):\n",
    "    print(\"num1:\",num1)           # 20\n",
    "    print(\"num2:\",num2)           # 20\n",
    "    print(\"num3:\",num3)            # 100\n",
    "    add=(num1+num2+num3)\n",
    "    avg=add/3\n",
    "    print(\"the avg is:\",avg)\n",
    "\n",
    "va1=20\n",
    "val2=30\n",
    "avg(val1,val2)"
   ]
  },
  {
   "cell_type": "code",
   "execution_count": null,
   "id": "d9f47bbb",
   "metadata": {},
   "outputs": [],
   "source": []
  },
  {
   "cell_type": "code",
   "execution_count": null,
   "id": "f3ba1296",
   "metadata": {},
   "outputs": [],
   "source": []
  },
  {
   "cell_type": "code",
   "execution_count": null,
   "id": "0176559a",
   "metadata": {},
   "outputs": [],
   "source": []
  },
  {
   "cell_type": "code",
   "execution_count": 42,
   "id": "55dc66f1",
   "metadata": {},
   "outputs": [
    {
     "ename": "TypeError",
     "evalue": "cannot unpack non-iterable int object",
     "output_type": "error",
     "traceback": [
      "\u001b[1;31m---------------------------------------------------------------------------\u001b[0m",
      "\u001b[1;31mTypeError\u001b[0m                                 Traceback (most recent call last)",
      "Cell \u001b[1;32mIn[42], line 1\u001b[0m\n\u001b[1;32m----> 1\u001b[0m num1,num2,num3\u001b[38;5;241m=\u001b[39m\u001b[38;5;241m100\u001b[39m\n\u001b[0;32m      2\u001b[0m \u001b[38;5;28mprint\u001b[39m(num1,num2,num3)\n",
      "\u001b[1;31mTypeError\u001b[0m: cannot unpack non-iterable int object"
     ]
    }
   ],
   "source": [
    "num1,num2,num3=100\n",
    "print(num1,num2,num3)"
   ]
  },
  {
   "cell_type": "code",
   "execution_count": null,
   "id": "3be9f0a3",
   "metadata": {},
   "outputs": [],
   "source": [
    "num1,num2,num3=300  =========== valid\n",
    "num1,num2=200,num3  ========== not\n",
    "num1=100,num2=200,num3 ====== not\n",
    "num1=100,num2,num3 ========= not\n",
    "num1,num2=500,num3=300 ===== valid"
   ]
  },
  {
   "cell_type": "code",
   "execution_count": null,
   "id": "2ac6fe5a",
   "metadata": {},
   "outputs": [],
   "source": [
    "def avg(num1,num2,num3=50):\n",
    "    print(\"num1:\",num1)           # 20\n",
    "    print(\"num2:\",num2)           # 20\n",
    "    print(\"num3:\",num3)            # 100\n",
    "    num3=800\n",
    "    add=(num1+num2+num3)\n",
    "    avg=add/3\n",
    "    print(\"the avg is:\",avg)\n",
    "\n",
    "avg(200,300,600)\n",
    "\n",
    "# while defining function: num3=50\n",
    "# while you are calling function num3=600\n",
    "# after enter inside the function num3=800"
   ]
  },
  {
   "cell_type": "markdown",
   "id": "99d4cf0c",
   "metadata": {},
   "source": [
    "- with out arguments\n",
    "\n",
    "- with arguments\n",
    "\n",
    "- default arguments"
   ]
  },
  {
   "cell_type": "code",
   "execution_count": 50,
   "id": "0c6e246e",
   "metadata": {},
   "outputs": [
    {
     "ename": "TypeError",
     "evalue": "Random.randint() missing 2 required positional arguments: 'a' and 'b'",
     "output_type": "error",
     "traceback": [
      "\u001b[1;31m---------------------------------------------------------------------------\u001b[0m",
      "\u001b[1;31mTypeError\u001b[0m                                 Traceback (most recent call last)",
      "Cell \u001b[1;32mIn[50], line 2\u001b[0m\n\u001b[0;32m      1\u001b[0m \u001b[38;5;28;01mimport\u001b[39;00m \u001b[38;5;21;01mrandom\u001b[39;00m\n\u001b[1;32m----> 2\u001b[0m random\u001b[38;5;241m.\u001b[39mrandint()\n",
      "\u001b[1;31mTypeError\u001b[0m: Random.randint() missing 2 required positional arguments: 'a' and 'b'"
     ]
    }
   ],
   "source": [
    "import random\n",
    "random.randint()   # a\n",
    "\n",
    "# (<excpecting 2 arguments>)"
   ]
  },
  {
   "cell_type": "code",
   "execution_count": 54,
   "id": "ad1347cf",
   "metadata": {},
   "outputs": [
    {
     "data": {
      "text/plain": [
       "(7+0j)"
      ]
     },
     "execution_count": 54,
     "metadata": {},
     "output_type": "execute_result"
    }
   ],
   "source": [
    "complex(7) # not provide: default"
   ]
  },
  {
   "cell_type": "code",
   "execution_count": 56,
   "id": "cbab323f",
   "metadata": {},
   "outputs": [
    {
     "data": {
      "text/plain": [
       "19"
      ]
     },
     "execution_count": 56,
     "metadata": {},
     "output_type": "execute_result"
    }
   ],
   "source": [
    "from random import randint\n",
    "randint(10,20)"
   ]
  },
  {
   "cell_type": "code",
   "execution_count": null,
   "id": "0ac6c0e4",
   "metadata": {},
   "outputs": [],
   "source": []
  },
  {
   "cell_type": "code",
   "execution_count": null,
   "id": "eba85ba2",
   "metadata": {},
   "outputs": [],
   "source": [
    "# function = method"
   ]
  },
  {
   "cell_type": "code",
   "execution_count": 58,
   "id": "330210e3",
   "metadata": {},
   "outputs": [
    {
     "name": "stdout",
     "output_type": "stream",
     "text": [
      "50\n"
     ]
    }
   ],
   "source": [
    "def summ(a=0,b=0):\n",
    "    print(a*b)\n",
    "    \n",
    "summ(5,10)"
   ]
  },
  {
   "cell_type": "code",
   "execution_count": null,
   "id": "73eee6b3",
   "metadata": {},
   "outputs": [],
   "source": [
    "# WAP ask the user to find area of circle\n",
    "# Formulae: pi*radius*radius\n",
    "# import math, math.pi\n",
    "# Basic method\n",
    "# With out arguments\n",
    "# With arguments\n",
    "# Default arguments"
   ]
  },
  {
   "cell_type": "code",
   "execution_count": 5,
   "id": "58b48555",
   "metadata": {},
   "outputs": [
    {
     "name": "stdout",
     "output_type": "stream",
     "text": [
      "enter the radius20\n",
      "the area of circle is: 1256.64\n"
     ]
    }
   ],
   "source": [
    "import math\n",
    "pii=math.pi\n",
    "r=eval(input(\"enter the radius\"))\n",
    "area1=round(pii*r*r,2) \n",
    "print(\"the area of circle is:\",area1)\n",
    "#area2=pii*r**2\n"
   ]
  },
  {
   "cell_type": "code",
   "execution_count": 7,
   "id": "16d1b2fc",
   "metadata": {},
   "outputs": [
    {
     "name": "stdout",
     "output_type": "stream",
     "text": [
      "enter the radius20\n",
      "the area of circle is: 1256.64\n"
     ]
    }
   ],
   "source": [
    "# M-1: with out arguments\n",
    "import math\n",
    "def area_of_circle():\n",
    "    pii=math.pi\n",
    "    r=eval(input(\"enter the radius\"))\n",
    "    area1=round(pii*r*r,2) \n",
    "    print(\"the area of circle is:\",area1)\n",
    "\n",
    "area_of_circle()"
   ]
  },
  {
   "cell_type": "code",
   "execution_count": 8,
   "id": "1353c711",
   "metadata": {},
   "outputs": [
    {
     "name": "stdout",
     "output_type": "stream",
     "text": [
      "the area of circle is: 1256.64\n"
     ]
    }
   ],
   "source": [
    "# M-2: with arguments  direct pass\n",
    "import math\n",
    "def area_of_circle(r):\n",
    "    pii=math.pi\n",
    "    area1=round(pii*r*r,2) \n",
    "    print(\"the area of circle is:\",area1)\n",
    "\n",
    "area_of_circle(20) # Direct pass"
   ]
  },
  {
   "cell_type": "code",
   "execution_count": 9,
   "id": "8a4bac0f",
   "metadata": {},
   "outputs": [
    {
     "name": "stdout",
     "output_type": "stream",
     "text": [
      "enter radius20\n",
      "the area of circle is: 1256.64\n"
     ]
    }
   ],
   "source": [
    "# M-2: keyboard pass\n",
    "# you need to provide argument value before call the function anywhere\n",
    "#r=eval(input(\"enter radius\"))\n",
    "import math                         # s-1\n",
    "def area_of_circle(r):\n",
    "    pii=math.pi\n",
    "    area1=round(pii*r*r,2) \n",
    "    print(\"the area of circle is:\",area1)\n",
    "r=eval(input(\"enter radius\"))\n",
    "area_of_circle(r) \n",
    "\n",
    "# s-1: import math\n",
    "# s-2: define function\n",
    "# s-3: getting r value\n",
    "# s-4: call the function\n",
    "# s-5:            pii value\n",
    "# s-6:            area1\n",
    "#s-7:             print"
   ]
  },
  {
   "cell_type": "code",
   "execution_count": 10,
   "id": "bf370536",
   "metadata": {},
   "outputs": [
    {
     "name": "stdout",
     "output_type": "stream",
     "text": [
      "enter radius20\n",
      "the area of circle is: 1256.64\n"
     ]
    }
   ],
   "source": [
    "# M-2: keyboard pass\n",
    "# you need to provide argument value before call the function anywhere\n",
    "#r=eval(input(\"enter radius\"))\n",
    "import math                         # s-1\n",
    "def area_of_circle(r):\n",
    "    pii=math.pi\n",
    "    area1=round(pii*r*r,2) \n",
    "    print(\"the area of circle is:\",area1)\n",
    "\n",
    "area_of_circle(eval(input(\"enter radius\"))) \n",
    "\n",
    "# s-1: import math\n",
    "# s-2: define function\n",
    "# s-3: getting r value\n",
    "# s-4: call the function\n",
    "# s-5:            pii value\n",
    "# s-6:            area1\n",
    "#s-7:             print"
   ]
  },
  {
   "cell_type": "code",
   "execution_count": 11,
   "id": "2427e9c7",
   "metadata": {},
   "outputs": [
    {
     "name": "stdout",
     "output_type": "stream",
     "text": [
      "the area of circle is: 1256.0\n"
     ]
    }
   ],
   "source": [
    "# M-3: deafualt arguments\n",
    "import math\n",
    "def area_of_circle(pii,r=20):\n",
    "    area1=round(pii*r*r,2) \n",
    "    print(\"the area of circle is:\",area1)\n",
    "\n",
    "pii=math.pi\n",
    "area_of_circle(pii)   # 3.14=pii"
   ]
  },
  {
   "cell_type": "code",
   "execution_count": 14,
   "id": "5af93900",
   "metadata": {},
   "outputs": [
    {
     "name": "stdout",
     "output_type": "stream",
     "text": [
      "enter the radius20\n",
      "the area of circle is: 1256.64\n"
     ]
    }
   ],
   "source": [
    "import math\n",
    "def area_of_circle():\n",
    "    try:\n",
    "        pii=math.pi\n",
    "        r=eval(input(\"enter the radius\"))\n",
    "        area11=round(pii*r*r,2) \n",
    "        print(\"the area of circle is:\",area11)\n",
    " \n",
    "    except Exception as e:\n",
    "        print(e)\n",
    "        \n",
    "area_of_circle()"
   ]
  },
  {
   "cell_type": "code",
   "execution_count": 15,
   "id": "41c7e0ff",
   "metadata": {},
   "outputs": [
    {
     "ename": "NameError",
     "evalue": "name 'area11' is not defined",
     "output_type": "error",
     "traceback": [
      "\u001b[1;31m---------------------------------------------------------------------------\u001b[0m",
      "\u001b[1;31mNameError\u001b[0m                                 Traceback (most recent call last)",
      "Cell \u001b[1;32mIn[15], line 1\u001b[0m\n\u001b[1;32m----> 1\u001b[0m area11\n",
      "\u001b[1;31mNameError\u001b[0m: name 'area11' is not defined"
     ]
    }
   ],
   "source": [
    "area11\n",
    "\n",
    "# Function is calculating area value\n",
    "# but not providing(return) that value to you\n",
    "# when you want use that value outside the function========> error"
   ]
  },
  {
   "cell_type": "markdown",
   "id": "84186666",
   "metadata": {},
   "source": [
    "**Return**"
   ]
  },
  {
   "cell_type": "code",
   "execution_count": 20,
   "id": "0bf2be1d",
   "metadata": {},
   "outputs": [],
   "source": [
    "import math\n",
    "def area_of_circle():\n",
    "    pii=math.pi\n",
    "    r=eval(input(\"enter the radius\"))\n",
    "    area11=round(pii*r*r,2) \n",
    "    print(\"the area of circle is:\",area11)\n",
    "    return(area11,pii)\n",
    "    "
   ]
  },
  {
   "cell_type": "code",
   "execution_count": 21,
   "id": "b4a40709",
   "metadata": {},
   "outputs": [
    {
     "name": "stdout",
     "output_type": "stream",
     "text": [
      "enter the radius20\n",
      "the area of circle is: 1256.64\n"
     ]
    }
   ],
   "source": [
    "Area,Pi=area_of_circle()  # \n",
    "\n",
    "# area_of_circle() will return two values\n",
    "# area11,pii\n",
    "# area11 will store in a variable: Area\n",
    "# pii will store in a variable: Pi"
   ]
  },
  {
   "cell_type": "code",
   "execution_count": 22,
   "id": "2ee52f32",
   "metadata": {},
   "outputs": [
    {
     "data": {
      "text/plain": [
       "1256.64"
      ]
     },
     "execution_count": 22,
     "metadata": {},
     "output_type": "execute_result"
    }
   ],
   "source": [
    "Area"
   ]
  },
  {
   "cell_type": "code",
   "execution_count": 23,
   "id": "3fc31e73",
   "metadata": {},
   "outputs": [
    {
     "data": {
      "text/plain": [
       "3.141592653589793"
      ]
     },
     "execution_count": 23,
     "metadata": {},
     "output_type": "execute_result"
    }
   ],
   "source": [
    "Pi"
   ]
  },
  {
   "cell_type": "code",
   "execution_count": 24,
   "id": "294fcac3",
   "metadata": {},
   "outputs": [
    {
     "name": "stdout",
     "output_type": "stream",
     "text": [
      "enter the radius20\n",
      "the area of circle is: 1256.64\n",
      "1256.64\n",
      "3.141592653589793\n"
     ]
    }
   ],
   "source": [
    "import math\n",
    "def area_of_circle():\n",
    "    pii=math.pi\n",
    "    r=eval(input(\"enter the radius\"))\n",
    "    area11=round(pii*r*r,2) \n",
    "    print(\"the area of circle is:\",area11)\n",
    "    return(area11,pii)\n",
    "\n",
    "Area,Pi=area_of_circle() \n",
    "print(Area)\n",
    "print(Pi)"
   ]
  },
  {
   "cell_type": "code",
   "execution_count": null,
   "id": "e90ac205",
   "metadata": {},
   "outputs": [],
   "source": [
    "# ask the user enter 3 numbers\n",
    "# find the  sum and average\n",
    "# Return the avergae value and sum both"
   ]
  },
  {
   "cell_type": "code",
   "execution_count": 27,
   "id": "cdc15af3",
   "metadata": {},
   "outputs": [
    {
     "name": "stdout",
     "output_type": "stream",
     "text": [
      "sum: 90\n",
      "avg: 30.0\n",
      "addition is: 90 average is: 30.0\n"
     ]
    }
   ],
   "source": [
    "def sum_avg(n1,n2,n3):\n",
    "    summ=n1+n2+n3\n",
    "    avg=summ/3\n",
    "    print('sum:',summ)\n",
    "    print('avg:',avg)\n",
    "    return(summ,avg)\n",
    "\n",
    "addition,average=sum_avg(20,30,40)\n",
    "\n",
    "# sum_avg(20,30,40) is returning two values\n",
    "# summ and avg\n",
    "# summ we are saving in a variable: addition\n",
    "# avg we are saving in a variable: average\n",
    "print('addition is:',addition,'average is:',average)"
   ]
  },
  {
   "cell_type": "code",
   "execution_count": null,
   "id": "1f65c3c3",
   "metadata": {},
   "outputs": [],
   "source": [
    "# Find the biggest number of 3 numbers\n",
    "# take three numbers\n",
    "# and find the biggest number\n",
    "# and return that number\n",
    "\n",
    "#if num1>num2 and num1>num3 : num1\n",
    "\n",
    "#elif num2>num3:  num2\n",
    "\n",
    "# esle:  num3\n",
    "\n",
    "# first write the normal code\n",
    "# then create the function\n",
    "# return the value"
   ]
  },
  {
   "cell_type": "code",
   "execution_count": 30,
   "id": "4174c7df",
   "metadata": {},
   "outputs": [
    {
     "name": "stdout",
     "output_type": "stream",
     "text": [
      "200 is greater\n",
      "200\n"
     ]
    }
   ],
   "source": [
    "def greater(n1,n2,n3):\n",
    "    if n1>n2 and n1>n3:\n",
    "        print('{} is greater'.format(n1))\n",
    "        return(n1)\n",
    "        \n",
    "    elif n2>n3:\n",
    "        print(\"{} is greater\".format(n2))\n",
    "        return(n2)\n",
    "    else:\n",
    "        print(\"{} is greater\".format(n3))\n",
    "        return(n3)\n",
    "        \n",
    "GREATER=greater(20,200,10)\n",
    "\n",
    "# It is returning only one values\n",
    "# whenever condition satisfi\n",
    "\n",
    "print(GREATER)"
   ]
  },
  {
   "cell_type": "code",
   "execution_count": null,
   "id": "e023873a",
   "metadata": {},
   "outputs": [],
   "source": [
    "def numbers():\n",
    "    num1=eval(input(\"Enter 1st no\"))\n",
    "    num2=eval(input(\"Enter 2nd no\"))\n",
    "    num3=eval(input(\"Enter 3rd no\"))\n",
    "    if num2<num1>num3:\n",
    "        print(num1, \"is the grestest number\")\n",
    "        a=num1\n",
    "    elif num2>num3:\n",
    "        print(num2, \"is the grestest number\")\n",
    "        a=num2\n",
    "    else:\n",
    "        print(num3, \"is the grestest number\")\n",
    "        a=num3\n",
    "    return(a)\n",
    "a=numbers()\n",
    "print(a)….got my error this is working now"
   ]
  },
  {
   "cell_type": "code",
   "execution_count": null,
   "id": "eea89074",
   "metadata": {},
   "outputs": [],
   "source": [
    "def sum_avg(n1,n2,n3):\n",
    "    return(n1+n2+n3,(n1+n2+n3)/3)\n",
    "\n",
    "addition,average=sum_avg(20,30,40)\n",
    "\n",
    "\n",
    "def sum_avg(n1,n2,n3):\n",
    "    summ=n1+n2+n3\n",
    "    avg=summ/3\n",
    "    print('sum:',summ)\n",
    "    print('avg:',avg)\n",
    "    return(summ,avg)\n",
    "\n",
    "addition,average=sum_avg(20,30,40)"
   ]
  },
  {
   "cell_type": "code",
   "execution_count": 33,
   "id": "16b0a955",
   "metadata": {},
   "outputs": [
    {
     "name": "stdout",
     "output_type": "stream",
     "text": [
      "50 -10 600 0.67\n"
     ]
    }
   ],
   "source": [
    "def add(a,b):\n",
    "    return(a+b)\n",
    "\n",
    "def mul(a,b):\n",
    "    return(a*b)\n",
    "\n",
    "def sub(a,b):\n",
    "    return(a-b)\n",
    "\n",
    "def div(a,b):\n",
    "    return(a/b)\n",
    "\n",
    "val_add=add(20,30)\n",
    "val_sub=sub(20,30)\n",
    "val_mul=mul(20,30)\n",
    "val_div=div(20,30)\n",
    "print(val_add,val_sub,val_mul,round(val_div,2))"
   ]
  },
  {
   "cell_type": "code",
   "execution_count": 34,
   "id": "63321e65",
   "metadata": {},
   "outputs": [
    {
     "name": "stdout",
     "output_type": "stream",
     "text": [
      "50 -10 600 0.67\n"
     ]
    }
   ],
   "source": [
    "def aggregation(a,b):\n",
    "    return(a+b,a-b,a*b,a/b)\n",
    "\n",
    "add,sub,mul,div=aggregation(20,30)\n",
    "print(add,sub,mul,round(div,2))"
   ]
  },
  {
   "cell_type": "code",
   "execution_count": 35,
   "id": "3db42e3a",
   "metadata": {},
   "outputs": [
    {
     "data": {
      "text/plain": [
       "(50, -10, 600, 0.6666666666666666)"
      ]
     },
     "execution_count": 35,
     "metadata": {},
     "output_type": "execute_result"
    }
   ],
   "source": [
    "def aggregation(a,b):\n",
    "    return(a+b,a-b,a*b,a/b)\n",
    "\n",
    "value=aggregation(20,30)\n",
    "value"
   ]
  },
  {
   "cell_type": "code",
   "execution_count": null,
   "id": "c2a0d743",
   "metadata": {},
   "outputs": [],
   "source": [
    "how to print in next line using one print statement"
   ]
  },
  {
   "cell_type": "code",
   "execution_count": 38,
   "id": "60a839cc",
   "metadata": {},
   "outputs": [
    {
     "name": "stdout",
     "output_type": "stream",
     "text": [
      "50 -10 600 0.67\n"
     ]
    }
   ],
   "source": [
    "def add(a,b):return(a+b)\n",
    "def sub(a,b):return(a-b)\n",
    "def mul(a,b):return(a*b)\n",
    "def div(a,b):return(a/b)\n",
    "val_add=add(20,30)\n",
    "val_sub=sub(20,30)\n",
    "val_mul=mul(20,30)\n",
    "val_div=div(20,30)\n",
    "print(val_add,val_sub,val_mul,round(val_div,2))"
   ]
  },
  {
   "cell_type": "code",
   "execution_count": null,
   "id": "ce9d5355",
   "metadata": {},
   "outputs": [],
   "source": []
  }
 ],
 "metadata": {
  "kernelspec": {
   "display_name": "Python 3 (ipykernel)",
   "language": "python",
   "name": "python3"
  },
  "language_info": {
   "codemirror_mode": {
    "name": "ipython",
    "version": 3
   },
   "file_extension": ".py",
   "mimetype": "text/x-python",
   "name": "python",
   "nbconvert_exporter": "python",
   "pygments_lexer": "ipython3",
   "version": "3.11.5"
  }
 },
 "nbformat": 4,
 "nbformat_minor": 5
}
