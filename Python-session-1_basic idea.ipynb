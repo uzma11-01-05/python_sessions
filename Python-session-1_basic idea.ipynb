{
 "cells": [
  {
   "cell_type": "markdown",
   "id": "6a66fede",
   "metadata": {},
   "source": [
    "# python notebook will works by using python kernal\n",
    "\n",
    "- python kernal dot , if dot is white color : idle state, ready to execute to code\n",
    "    \n",
    "- python kernal black ======= > it is busy\n",
    "\n",
    "- python kernal will run the codes step by step\n",
    "\n",
    "- if you see kernal balck color , do not run any codes\n",
    "\n",
    "- python kernal is red ========= kernal is dead"
   ]
  },
  {
   "cell_type": "markdown",
   "id": "445204af",
   "metadata": {},
   "source": [
    "plus sign \n",
    "\n",
    "click on plus sign ==== it will create new cells\n",
    "\n",
    "new cell is used to provide some input\n",
    "\n",
    "input means write some code\n",
    "\n",
    "when you run it will provide output\n",
    "\n",
    "\n",
    "markdown shor cut:esc+m at a time"
   ]
  },
  {
   "cell_type": "markdown",
   "id": "1a1dd21d",
   "metadata": {},
   "source": [
    "whenever if you are seeing IN\n",
    "which means the cell is in code mode\n",
    "\n",
    "code mode ====== In at cell both are same\n",
    "\n",
    "if you want write any story change code mode Markdown mode\n",
    "\n",
    "select the cell double click"
   ]
  },
  {
   "cell_type": "code",
   "execution_count": null,
   "id": "ccc0feb6",
   "metadata": {},
   "outputs": [],
   "source": [
    "a=20\n",
    "a\n",
    "\n",
    "# shift+enter at a time\n",
    "# esc-y to return the code"
   ]
  },
  {
   "cell_type": "markdown",
   "id": "cc562892",
   "metadata": {},
   "source": [
    "# python"
   ]
  },
  {
   "cell_type": "markdown",
   "id": "a177712a",
   "metadata": {},
   "source": [
    "#### Python"
   ]
  },
  {
   "cell_type": "code",
   "execution_count": 7,
   "id": "f4f90c3f",
   "metadata": {},
   "outputs": [
    {
     "data": {
      "text/plain": [
       "20"
      ]
     },
     "execution_count": 7,
     "metadata": {},
     "output_type": "execute_result"
    }
   ],
   "source": [
    "a=20  # 20 value saved in a variable a\n",
    "a"
   ]
  },
  {
   "cell_type": "markdown",
   "id": "7f25f2e5",
   "metadata": {},
   "source": [
    "- python is easy\n",
    "\n",
    "    - hello\n",
    "     \n",
    "    - how do you do\n",
    "\n",
    "- python is my friend\n",
    "\n",
    "- python is used DS and AI"
   ]
  },
  {
   "cell_type": "markdown",
   "id": "27d46922",
   "metadata": {},
   "source": [
    "- code mode\n",
    "\n",
    "- markdown mode"
   ]
  },
  {
   "cell_type": "code",
   "execution_count": null,
   "id": "0bd4a4d2",
   "metadata": {},
   "outputs": [],
   "source": [
    "# packages\n",
    "\n",
    "# package name: Random\n",
    "\n",
    "#import <package_name>\n",
    "#dir(<package_name>)   # It will return methods\n",
    "#help(<package_name>.<method_name>)"
   ]
  },
  {
   "cell_type": "code",
   "execution_count": 8,
   "id": "307f6fb2",
   "metadata": {},
   "outputs": [],
   "source": [
    "import random"
   ]
  },
  {
   "cell_type": "code",
   "execution_count": 9,
   "id": "d731cf81",
   "metadata": {},
   "outputs": [
    {
     "data": {
      "text/plain": [
       "67"
      ]
     },
     "execution_count": 9,
     "metadata": {},
     "output_type": "execute_result"
    }
   ],
   "source": [
    "random.randint(1,100)   # shift+tab curosr should be inside the bracket"
   ]
  },
  {
   "cell_type": "code",
   "execution_count": 10,
   "id": "3c46acd9",
   "metadata": {},
   "outputs": [
    {
     "data": {
      "text/plain": [
       "89"
      ]
     },
     "execution_count": 10,
     "metadata": {},
     "output_type": "execute_result"
    }
   ],
   "source": [
    "import random\n",
    "random.randint(1,100)"
   ]
  },
  {
   "cell_type": "code",
   "execution_count": 11,
   "id": "42b00020",
   "metadata": {},
   "outputs": [
    {
     "data": {
      "text/plain": [
       "0.8939966636005579"
      ]
     },
     "execution_count": 11,
     "metadata": {},
     "output_type": "execute_result"
    }
   ],
   "source": [
    "import math\n",
    "math.sin(90)  # shift+tab at a time"
   ]
  },
  {
   "cell_type": "code",
   "execution_count": 12,
   "id": "072c2111",
   "metadata": {},
   "outputs": [],
   "source": [
    "import math"
   ]
  },
  {
   "cell_type": "code",
   "execution_count": 13,
   "id": "ca82f002",
   "metadata": {},
   "outputs": [
    {
     "data": {
      "text/plain": [
       "<module 'math' (built-in)>"
      ]
     },
     "execution_count": 13,
     "metadata": {},
     "output_type": "execute_result"
    }
   ],
   "source": [
    "import math\n",
    "math"
   ]
  },
  {
   "cell_type": "code",
   "execution_count": 14,
   "id": "d3476291",
   "metadata": {},
   "outputs": [
    {
     "data": {
      "text/plain": [
       "<module 'random' from 'C:\\\\Users\\\\omkar\\\\anaconda3\\\\Lib\\\\random.py'>"
      ]
     },
     "execution_count": 14,
     "metadata": {},
     "output_type": "execute_result"
    }
   ],
   "source": [
    "import random\n",
    "random\n",
    "\n",
    "# .py \n",
    "# vscode\n",
    "# pycharm\n",
    "# notepad++"
   ]
  },
  {
   "cell_type": "code",
   "execution_count": 17,
   "id": "3592387b",
   "metadata": {},
   "outputs": [
    {
     "data": {
      "text/plain": [
       "30"
      ]
     },
     "execution_count": 17,
     "metadata": {},
     "output_type": "execute_result"
    }
   ],
   "source": [
    "import random\n",
    "random.randint(1,200)"
   ]
  },
  {
   "cell_type": "code",
   "execution_count": 16,
   "id": "2aee8952",
   "metadata": {},
   "outputs": [
    {
     "data": {
      "text/plain": [
       "['BPF',\n",
       " 'LOG4',\n",
       " 'NV_MAGICCONST',\n",
       " 'RECIP_BPF',\n",
       " 'Random',\n",
       " 'SG_MAGICCONST',\n",
       " 'SystemRandom',\n",
       " 'TWOPI',\n",
       " '_ONE',\n",
       " '_Sequence',\n",
       " '_Set',\n",
       " '__all__',\n",
       " '__builtins__',\n",
       " '__cached__',\n",
       " '__doc__',\n",
       " '__file__',\n",
       " '__loader__',\n",
       " '__name__',\n",
       " '__package__',\n",
       " '__spec__',\n",
       " '_accumulate',\n",
       " '_acos',\n",
       " '_bisect',\n",
       " '_ceil',\n",
       " '_cos',\n",
       " '_e',\n",
       " '_exp',\n",
       " '_floor',\n",
       " '_index',\n",
       " '_inst',\n",
       " '_isfinite',\n",
       " '_log',\n",
       " '_os',\n",
       " '_pi',\n",
       " '_random',\n",
       " '_repeat',\n",
       " '_sha512',\n",
       " '_sin',\n",
       " '_sqrt',\n",
       " '_test',\n",
       " '_test_generator',\n",
       " '_urandom',\n",
       " '_warn',\n",
       " 'betavariate',\n",
       " 'choice',\n",
       " 'choices',\n",
       " 'expovariate',\n",
       " 'gammavariate',\n",
       " 'gauss',\n",
       " 'getrandbits',\n",
       " 'getstate',\n",
       " 'lognormvariate',\n",
       " 'normalvariate',\n",
       " 'paretovariate',\n",
       " 'randbytes',\n",
       " 'randint',\n",
       " 'random',\n",
       " 'randrange',\n",
       " 'sample',\n",
       " 'seed',\n",
       " 'setstate',\n",
       " 'shuffle',\n",
       " 'triangular',\n",
       " 'uniform',\n",
       " 'vonmisesvariate',\n",
       " 'weibullvariate']"
      ]
     },
     "execution_count": 16,
     "metadata": {},
     "output_type": "execute_result"
    }
   ],
   "source": [
    "dir(random)"
   ]
  },
  {
   "cell_type": "code",
   "execution_count": null,
   "id": "8bb7d96a",
   "metadata": {},
   "outputs": [],
   "source": [
    "# we imported package\n",
    "# we have seen where the package is located"
   ]
  },
  {
   "cell_type": "code",
   "execution_count": 18,
   "id": "fb18b026",
   "metadata": {},
   "outputs": [],
   "source": [
    "# package name:  keyword\n",
    "import keyword"
   ]
  },
  {
   "cell_type": "code",
   "execution_count": 19,
   "id": "492e5dc0",
   "metadata": {},
   "outputs": [
    {
     "data": {
      "text/plain": [
       "['__all__',\n",
       " '__builtins__',\n",
       " '__cached__',\n",
       " '__doc__',\n",
       " '__file__',\n",
       " '__loader__',\n",
       " '__name__',\n",
       " '__package__',\n",
       " '__spec__',\n",
       " 'iskeyword',\n",
       " 'issoftkeyword',\n",
       " 'kwlist',\n",
       " 'softkwlist']"
      ]
     },
     "execution_count": 19,
     "metadata": {},
     "output_type": "execute_result"
    }
   ],
   "source": [
    "dir(keyword)"
   ]
  },
  {
   "cell_type": "code",
   "execution_count": 21,
   "id": "c6228cce",
   "metadata": {},
   "outputs": [
    {
     "data": {
      "text/plain": [
       "['False',\n",
       " 'None',\n",
       " 'True',\n",
       " 'and',\n",
       " 'as',\n",
       " 'assert',\n",
       " 'async',\n",
       " 'await',\n",
       " 'break',\n",
       " 'class',\n",
       " 'continue',\n",
       " 'def',\n",
       " 'del',\n",
       " 'elif',\n",
       " 'else',\n",
       " 'except',\n",
       " 'finally',\n",
       " 'for',\n",
       " 'from',\n",
       " 'global',\n",
       " 'if',\n",
       " 'import',\n",
       " 'in',\n",
       " 'is',\n",
       " 'lambda',\n",
       " 'nonlocal',\n",
       " 'not',\n",
       " 'or',\n",
       " 'pass',\n",
       " 'raise',\n",
       " 'return',\n",
       " 'try',\n",
       " 'while',\n",
       " 'with',\n",
       " 'yield']"
      ]
     },
     "execution_count": 21,
     "metadata": {},
     "output_type": "execute_result"
    }
   ],
   "source": [
    "# read the kwlist\n",
    "\n",
    "# <pname>.<method name>\n",
    "keyword.kwlist"
   ]
  },
  {
   "cell_type": "code",
   "execution_count": null,
   "id": "653fee54",
   "metadata": {},
   "outputs": [],
   "source": [
    "#package name:  cv2\n",
    "\n",
    "#cv2= computer vision\n",
    "\n",
    "ModuleNotFoundError\n",
    "\n",
    "because the package is not there in our pc\n",
    "\n",
    "we need to install the package\n",
    "\n",
    "we need to take the help of google\n",
    "\n",
    "\n",
    "# shift + enter\n",
    "\n",
    "search python organization\n",
    "\n",
    "\n",
    "pip install opencv-python\n",
    "\n",
    "where will install ========= anaconda command prompt"
   ]
  },
  {
   "cell_type": "code",
   "execution_count": 22,
   "id": "319fa42f",
   "metadata": {},
   "outputs": [],
   "source": [
    "import cv2"
   ]
  },
  {
   "cell_type": "code",
   "execution_count": 23,
   "id": "4b814722",
   "metadata": {},
   "outputs": [
    {
     "name": "stdout",
     "output_type": "stream",
     "text": [
      "Requirement already satisfied: opencv-python in c:\\users\\omkar\\anaconda3\\lib\\site-packages (4.8.1.78)\n",
      "Requirement already satisfied: numpy>=1.21.2 in c:\\users\\omkar\\anaconda3\\lib\\site-packages (from opencv-python) (1.24.3)\n"
     ]
    }
   ],
   "source": [
    "!pip install opencv-python"
   ]
  },
  {
   "cell_type": "code",
   "execution_count": 24,
   "id": "16fe44ef",
   "metadata": {},
   "outputs": [
    {
     "data": {
      "text/plain": [
       "<module 'cv2' from 'C:\\\\Users\\\\omkar\\\\anaconda3\\\\Lib\\\\site-packages\\\\cv2\\\\__init__.py'>"
      ]
     },
     "execution_count": 24,
     "metadata": {},
     "output_type": "execute_result"
    }
   ],
   "source": [
    "cv2"
   ]
  },
  {
   "cell_type": "code",
   "execution_count": null,
   "id": "4b697df7",
   "metadata": {},
   "outputs": [],
   "source": []
  }
 ],
 "metadata": {
  "kernelspec": {
   "display_name": "Python 3 (ipykernel)",
   "language": "python",
   "name": "python3"
  },
  "language_info": {
   "codemirror_mode": {
    "name": "ipython",
    "version": 3
   },
   "file_extension": ".py",
   "mimetype": "text/x-python",
   "name": "python",
   "nbconvert_exporter": "python",
   "pygments_lexer": "ipython3",
   "version": "3.11.5"
  }
 },
 "nbformat": 4,
 "nbformat_minor": 5
}
