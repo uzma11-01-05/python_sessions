{
 "cells": [
  {
   "cell_type": "markdown",
   "id": "f4895a4d",
   "metadata": {},
   "source": [
    "- Basic syntax\n",
    "\n",
    "- conditional statements\n",
    "\n",
    "- try-exception\n",
    "\n",
    "- functions\n",
    "\n",
    "- loop\n",
    "\n",
    "     - for\n",
    "    \n",
    "     - while"
   ]
  },
  {
   "cell_type": "markdown",
   "id": "f636bc7a",
   "metadata": {},
   "source": [
    "$For$ $loop$"
   ]
  },
  {
   "cell_type": "markdown",
   "id": "1c35bb29",
   "metadata": {},
   "source": [
    "- you will be in the loop\n",
    "\n",
    "- when you will enter into the loop\n",
    "\n",
    "- how much time you will stay in the loop\n",
    "\n",
    "- how you will come out of the from the loop"
   ]
  },
  {
   "cell_type": "markdown",
   "id": "e3503be6",
   "metadata": {},
   "source": [
    "- intialization\n",
    "\n",
    "- increment/ decrement\n",
    "\n",
    "- condition to stop the loop"
   ]
  },
  {
   "cell_type": "code",
   "execution_count": null,
   "id": "eadf7df6",
   "metadata": {},
   "outputs": [],
   "source": [
    "# I want to print fisrt 10 numbers\n",
    "# intial point: 0\n",
    "# increment\n",
    "# cond=10"
   ]
  },
  {
   "cell_type": "code",
   "execution_count": null,
   "id": "0e1cca7d",
   "metadata": {},
   "outputs": [],
   "source": [
    "i=0\n",
    "i=1\n",
    "i=2\n",
    "i=3\n",
    "i=4"
   ]
  },
  {
   "cell_type": "markdown",
   "id": "23bb230c",
   "metadata": {},
   "source": [
    "$pattern-1$"
   ]
  },
  {
   "cell_type": "markdown",
   "id": "153c230a",
   "metadata": {},
   "source": [
    "for i in range(stop):\n",
    "    \n",
    "- in the bracket if we have only single value that is consider as stop value\n",
    "\n",
    "- the default start value is =0\n",
    "\n",
    "- python index always start with :0\n",
    "    \n",
    "- if direction sign is not mentioned : increment (+) sign\n",
    "    \n",
    "- if direction is postive side then end=stop-1"
   ]
  },
  {
   "cell_type": "code",
   "execution_count": 4,
   "id": "973b7979",
   "metadata": {},
   "outputs": [
    {
     "name": "stdout",
     "output_type": "stream",
     "text": [
      "0\n",
      "1\n",
      "2\n",
      "3\n",
      "4\n",
      "5\n",
      "6\n",
      "7\n",
      "8\n",
      "9\n",
      "10\n",
      "11\n",
      "12\n",
      "13\n",
      "14\n",
      "15\n",
      "16\n",
      "17\n",
      "18\n",
      "19\n"
     ]
    }
   ],
   "source": [
    "for i in range(20):\n",
    "    print(i)\n",
    "    \n",
    "# start=0\n",
    "# direc=+\n",
    "# end=stop-1=20-1=19"
   ]
  },
  {
   "cell_type": "code",
   "execution_count": null,
   "id": "1c249dee",
   "metadata": {},
   "outputs": [],
   "source": [
    "for i in range(20):\n",
    "    print(i)"
   ]
  },
  {
   "cell_type": "code",
   "execution_count": 5,
   "id": "7b4f44ff",
   "metadata": {},
   "outputs": [
    {
     "name": "stdout",
     "output_type": "stream",
     "text": [
      "0\n",
      "1\n",
      "2\n"
     ]
    }
   ],
   "source": [
    "print(0)\n",
    "print(1)\n",
    "print(2)\n",
    "\n",
    "# generalised: print(i)"
   ]
  },
  {
   "cell_type": "code",
   "execution_count": null,
   "id": "6c9ec95e",
   "metadata": {},
   "outputs": [],
   "source": [
    "- intial \n",
    "\n",
    "- increment/decrement\n",
    "\n",
    "- condition\n",
    "\n",
    "for i in range(20)"
   ]
  },
  {
   "cell_type": "code",
   "execution_count": null,
   "id": "f24bb778",
   "metadata": {},
   "outputs": [],
   "source": []
  },
  {
   "cell_type": "code",
   "execution_count": 8,
   "id": "e6c77fad",
   "metadata": {},
   "outputs": [
    {
     "name": "stdout",
     "output_type": "stream",
     "text": [
      "0 1 2\n"
     ]
    }
   ],
   "source": [
    "print(0,end=' ')\n",
    "print(1,end=' ')\n",
    "print(2)   # 0 1 2\n",
    "\n",
    "#print(i,end=' ')"
   ]
  },
  {
   "cell_type": "code",
   "execution_count": 9,
   "id": "33ce7bf2",
   "metadata": {},
   "outputs": [
    {
     "name": "stdout",
     "output_type": "stream",
     "text": [
      "0 1 2 3 4 5 6 7 8 9 10 11 12 13 14 15 16 17 18 19 "
     ]
    }
   ],
   "source": [
    "for i in range(20):\n",
    "    print(i,end=' ')"
   ]
  },
  {
   "cell_type": "markdown",
   "id": "fbb5a4ed",
   "metadata": {},
   "source": [
    "$pattern-2$\n",
    "\n",
    "for i in range(start,stop)\n",
    "\n",
    "- start: start of the loop, intial point\n",
    "    \n",
    "- direction sign not mentioned: +ve direction i.e.increment\n",
    "    \n",
    "- end=stop-1"
   ]
  },
  {
   "cell_type": "code",
   "execution_count": 11,
   "id": "92c12db1",
   "metadata": {},
   "outputs": [
    {
     "name": "stdout",
     "output_type": "stream",
     "text": [
      "2 3 4 5 6 "
     ]
    }
   ],
   "source": [
    "for i in range(2,7):\n",
    "    print(i,end=' ')\n",
    "# start=10  pos  end=20-1=19\n"
   ]
  },
  {
   "cell_type": "markdown",
   "id": "1bb98792",
   "metadata": {},
   "source": [
    "$pattern-3$\n",
    "\n",
    "for i in range(start,stop,step)\n",
    "\n",
    "- start: start of the loop, intial point\n",
    "    \n",
    "- direction: what is sign of step value, that is the direction\n",
    "    \n",
    "             - direction will not decide by start and stop value\n",
    "        \n",
    "             - direction will provided by step value\n",
    "    \n",
    "- if step size is postive direction\n",
    "\n",
    "               end= stop-1\n",
    "    \n",
    "    \n",
    "- if step size is negative direction\n",
    "\n",
    "              end=stop+1"
   ]
  },
  {
   "cell_type": "code",
   "execution_count": 12,
   "id": "aef36f21",
   "metadata": {},
   "outputs": [
    {
     "name": "stdout",
     "output_type": "stream",
     "text": [
      "2 4 6 8 10 12 14 16 18 "
     ]
    }
   ],
   "source": [
    "for i in range(2,20,2):  # (start,stop,step)\n",
    "    print(i,end=' ')\n",
    "    \n",
    "# start=2\n",
    "# direction: step size=+2\n",
    "# end=stop-1=20-1=19\n",
    "\n",
    "# 2  4  6  8  10  12  14  16  18  <20>"
   ]
  },
  {
   "cell_type": "code",
   "execution_count": 13,
   "id": "8032a704",
   "metadata": {},
   "outputs": [
    {
     "name": "stdout",
     "output_type": "stream",
     "text": [
      "-1 -2 -3 -4 -5 -6 -7 -8 -9 "
     ]
    }
   ],
   "source": [
    "for i in range(-1,-10,-1):\n",
    "    print(i,end=' ')\n",
    "    \n",
    "# start= -1\n",
    "# direction: step=-1    negative\n",
    "# end= stop+1 = -10+1=-9\n",
    "# is this possible or not?"
   ]
  },
  {
   "cell_type": "code",
   "execution_count": 14,
   "id": "4abc37ee",
   "metadata": {},
   "outputs": [],
   "source": [
    "for i in range(-1,-10,1):\n",
    "    print(i,end=' ')\n",
    "    \n",
    "# start=-1\n",
    "# direc= step=+1\n",
    "# end=stop-1= -10-1=-11\n",
    "# possible/np"
   ]
  },
  {
   "cell_type": "code",
   "execution_count": 15,
   "id": "020109fe",
   "metadata": {},
   "outputs": [],
   "source": [
    "for i in range(8,20,-2):\n",
    "    print(i)\n",
    "    \n",
    "# start=8\n",
    "# direc=step=-2  : -neg\n",
    "# end=stop+1=20+1=21"
   ]
  },
  {
   "cell_type": "code",
   "execution_count": null,
   "id": "caf33b78",
   "metadata": {},
   "outputs": [],
   "source": [
    "range(3,25,3)   # start=3  pos  end =25-1=24 p\n",
    "range(3,25,-3)  # 3        neg  end=25+1=26 np\n",
    "range(3,-25,3)  # np\n",
    "range(3,-25,-3) # start=3   neg   end= -25+1=-24\n",
    "range(-3,25,3)  # p\n",
    "range(-3,-25,3) # np\n",
    "range(-3,25,-3) # np\n",
    "range(-3,-25,-3) # p"
   ]
  },
  {
   "cell_type": "code",
   "execution_count": 16,
   "id": "59610cc4",
   "metadata": {},
   "outputs": [
    {
     "name": "stdout",
     "output_type": "stream",
     "text": [
      "3 0 -3 -6 -9 -12 -15 -18 -21 -24 "
     ]
    }
   ],
   "source": [
    "for i in range(3,-25,-3): print(i,end=' ')"
   ]
  },
  {
   "cell_type": "code",
   "execution_count": 1,
   "id": "f2e7722a",
   "metadata": {},
   "outputs": [
    {
     "name": "stdout",
     "output_type": "stream",
     "text": [
      "hello\n",
      "hello\n",
      "hello\n"
     ]
    }
   ],
   "source": [
    "#Wap print : hello  3 times/iteration ===== > loop for\n",
    "print('hello')\n",
    "print('hello')\n",
    "print('hello')\n",
    "print('hello') # generalised"
   ]
  },
  {
   "cell_type": "code",
   "execution_count": 6,
   "id": "bc646596",
   "metadata": {},
   "outputs": [
    {
     "name": "stdout",
     "output_type": "stream",
     "text": [
      "hello\n",
      "hello\n",
      "hello\n"
     ]
    }
   ],
   "source": [
    "# first set up the loop\n",
    "for i in range(3):\n",
    "    print('hello')"
   ]
  },
  {
   "cell_type": "code",
   "execution_count": 7,
   "id": "05cda7a6",
   "metadata": {},
   "outputs": [
    {
     "name": "stdout",
     "output_type": "stream",
     "text": [
      "hai\n",
      "hello\n",
      "hello\n",
      "hello\n",
      "how do yo do\n"
     ]
    }
   ],
   "source": [
    "print('hai')\n",
    "for i in range(3):\n",
    "    print('hello')\n",
    "print('how do yo do')"
   ]
  },
  {
   "cell_type": "code",
   "execution_count": 8,
   "id": "03143beb",
   "metadata": {},
   "outputs": [
    {
     "name": "stdout",
     "output_type": "stream",
     "text": [
      "A\n",
      "A\n",
      "A\n",
      "B\n",
      "B\n",
      "C\n",
      "C\n",
      "C\n"
     ]
    }
   ],
   "source": [
    "# A\n",
    "# A\n",
    "# A\n",
    "# B\n",
    "# B\n",
    "# C\n",
    "# C\n",
    "# C\n",
    "\n",
    "for i in range(3):\n",
    "    print(\"A\")\n",
    "for i in range(2):\n",
    "    print(\"B\")\n",
    "for i in range(3):\n",
    "    print(\"C\")"
   ]
  },
  {
   "cell_type": "code",
   "execution_count": 9,
   "id": "5586029f",
   "metadata": {},
   "outputs": [
    {
     "name": "stdout",
     "output_type": "stream",
     "text": [
      "A\n",
      "B\n",
      "A\n",
      "B\n",
      "A\n",
      "B\n",
      "C\n",
      "C\n",
      "C\n"
     ]
    }
   ],
   "source": [
    "# A\n",
    "# B\n",
    "# A\n",
    "# B\n",
    "# A\n",
    "# B\n",
    "# C\n",
    "# C\n",
    "# C\n",
    "\n",
    "for i in range(3):\n",
    "    print(\"A\")\n",
    "    print('B')\n",
    "for i in range(3):\n",
    "    print(\"C\")"
   ]
  },
  {
   "cell_type": "code",
   "execution_count": 11,
   "id": "e1c29389",
   "metadata": {},
   "outputs": [
    {
     "name": "stdout",
     "output_type": "stream",
     "text": [
      "The square of 10 is 100\n",
      "The square of 11 is 121\n",
      "The square of 12 is 144\n",
      "The square of 13 is 169\n",
      "The square of 14 is 196\n",
      "The square of 15 is 225\n"
     ]
    }
   ],
   "source": [
    "# WAP ask the user to get the square of the numbers \n",
    "# between 10 to 15\n",
    "# square of 10 is 100\n",
    "# square of 11 is 121\n",
    "# square of 12 is 144\n",
    "\n",
    "# first get the numbers from 10 to 15\n",
    "for i in range(10,16):\n",
    "    print(\"The square of {} is {}\".format(i,i*i))"
   ]
  },
  {
   "cell_type": "code",
   "execution_count": 12,
   "id": "4a89c5de",
   "metadata": {},
   "outputs": [
    {
     "name": "stdout",
     "output_type": "stream",
     "text": [
      "enter start number:10\n",
      "enter stop number:16\n",
      "The square of 10 is 100\n",
      "The square of 11 is 121\n",
      "The square of 12 is 144\n",
      "The square of 13 is 169\n",
      "The square of 14 is 196\n",
      "The square of 15 is 225\n"
     ]
    }
   ],
   "source": [
    "# the same above question\n",
    "# take the numbers from keyboard \n",
    "# num1=eval(input())   10\n",
    "# num2=eval(input())   16\n",
    "# replace 10,16 in for loop with variables num1,num2\n",
    "num1=eval(input('enter start number:'))   \n",
    "num2=eval(input('enter stop number:')) \n",
    "\n",
    "for i in range(num1,num2):\n",
    "    print(\"The square of {} is {}\".format(i,i*i))"
   ]
  },
  {
   "cell_type": "code",
   "execution_count": 13,
   "id": "396e2f2e",
   "metadata": {},
   "outputs": [
    {
     "name": "stdout",
     "output_type": "stream",
     "text": [
      "enter start number:10\n",
      "enter stop number:16\n",
      "The square of 10 is 100\n",
      "The square of 11 is 121\n",
      "The square of 12 is 144\n",
      "The square of 13 is 169\n",
      "The square of 14 is 196\n",
      "The square of 15 is 225\n"
     ]
    }
   ],
   "source": [
    "#num1=eval(input('enter start number:'))   \n",
    "#num2=eval(input('enter stop number:')) \n",
    "\n",
    "for i in range(eval(input('enter start number:')),\n",
    "               eval(input('enter stop number:'))):\n",
    "    print(\"The square of {} is {}\".format(i,i*i))"
   ]
  },
  {
   "cell_type": "code",
   "execution_count": 14,
   "id": "9f871f33",
   "metadata": {},
   "outputs": [
    {
     "name": "stdout",
     "output_type": "stream",
     "text": [
      "The square of 10 is 100\n",
      "The square of 11 is 121\n",
      "The square of 12 is 144\n",
      "The square of 13 is 169\n",
      "The square of 14 is 196\n",
      "The square of 15 is 225\n"
     ]
    }
   ],
   "source": [
    "num1=10  \n",
    "num2=16 \n",
    "\n",
    "for i in range(num1,num2):\n",
    "    print(\"The square of {} is {}\".format(i,i*i))"
   ]
  },
  {
   "cell_type": "code",
   "execution_count": 16,
   "id": "ad1e314c",
   "metadata": {},
   "outputs": [
    {
     "name": "stdout",
     "output_type": "stream",
     "text": [
      "enter start number:10\n",
      "enter stop number:13\n",
      "The square of 10 is 100\n",
      "The square of 11 is 121\n",
      "The square of 12 is 144\n"
     ]
    }
   ],
   "source": [
    "# Function with out arguments\n",
    "def square1():\n",
    "    \n",
    "    num1=eval(input('enter start number:'))   \n",
    "    num2=eval(input('enter stop number:')) \n",
    "\n",
    "    for i in range(num1,num2):\n",
    "        print(\"The square of {} is {}\".format(i,i*i))\n",
    "        \n",
    "square1()"
   ]
  },
  {
   "cell_type": "code",
   "execution_count": 25,
   "id": "adabb49c",
   "metadata": {},
   "outputs": [
    {
     "name": "stdout",
     "output_type": "stream",
     "text": [
      "my name is usha\n",
      "my name is usha\n",
      "the square of 5 is 25\n"
     ]
    }
   ],
   "source": [
    "name='usha'\n",
    "print('my name is',name)\n",
    "print('my name is {}'.format(name))\n",
    "print(\"the square of {} is {}\".format(5,5*5))"
   ]
  },
  {
   "cell_type": "code",
   "execution_count": 27,
   "id": "ebc2ceb9",
   "metadata": {},
   "outputs": [
    {
     "name": "stdout",
     "output_type": "stream",
     "text": [
      "The square of 10 is 100\n",
      "The square of 11 is 121\n",
      "The square of 12 is 144\n"
     ]
    }
   ],
   "source": [
    "# Function with arguments\n",
    "def square1(num11,num22):\n",
    "\n",
    "    for i in range(num11,num22):\n",
    "        print(\"The square of {} is {}\".format(i,i*i))\n",
    "        \n",
    "square1(10,13)"
   ]
  },
  {
   "cell_type": "code",
   "execution_count": 29,
   "id": "9f572596",
   "metadata": {},
   "outputs": [
    {
     "name": "stdout",
     "output_type": "stream",
     "text": [
      "enter a number:10\n",
      "the square of 10 is 100\n",
      "enter a number:20\n",
      "the square of 20 is 400\n",
      "enter a number:30\n",
      "the square of 30 is 900\n",
      "enter a number:40\n",
      "the square of 40 is 1600\n",
      "enter a number:50\n",
      "the square of 50 is 2500\n"
     ]
    }
   ],
   "source": [
    "# Wap ask the user to print square of the five numbers\n",
    "# and these five numbers you need ask user every time\n",
    "for i in range(5):\n",
    "    num=eval(input('enter a number:'))\n",
    "    print(\"the square of {} is {}\".format(num,num*num))"
   ]
  },
  {
   "cell_type": "code",
   "execution_count": 30,
   "id": "77f0ef1a",
   "metadata": {},
   "outputs": [
    {
     "name": "stdout",
     "output_type": "stream",
     "text": [
      "the square of 0 is 0\n",
      "the square of 1 is 1\n",
      "the square of 2 is 4\n",
      "the square of 3 is 9\n",
      "the square of 4 is 16\n"
     ]
    }
   ],
   "source": [
    "for i in range(5):\n",
    "    print(\"the square of {} is {}\".format(i,i*i))"
   ]
  },
  {
   "cell_type": "code",
   "execution_count": 31,
   "id": "ec84503c",
   "metadata": {},
   "outputs": [
    {
     "name": "stdout",
     "output_type": "stream",
     "text": [
      "enter a number:5\n",
      "the square of 5 is 25\n",
      "the square of 5 is 25\n",
      "the square of 5 is 25\n",
      "the square of 5 is 25\n",
      "the square of 5 is 25\n",
      "enter a number:5\n",
      "the square of 5 is 25\n",
      "enter a number:6\n",
      "the square of 6 is 36\n",
      "enter a number:7\n",
      "the square of 7 is 49\n",
      "enter a number:8\n",
      "the square of 8 is 64\n",
      "enter a number:9\n",
      "the square of 9 is 81\n"
     ]
    }
   ],
   "source": [
    "num=eval(input('enter a number:'))# 5\n",
    "for i in range(5):\n",
    "    print(\"the square of {} is {}\".format(num,num*num)) # 25 25 25 25 25\n",
    "    \n",
    "    \n",
    "for i in range(5):\n",
    "    num=eval(input('enter a number:')) # 5 6\n",
    "    print(\"the square of {} is {}\".format(num,num*num)) # 25 36\n",
    "    "
   ]
  },
  {
   "cell_type": "code",
   "execution_count": 33,
   "id": "222ca5d9",
   "metadata": {},
   "outputs": [
    {
     "name": "stdout",
     "output_type": "stream",
     "text": [
      "the square of 12 is 144\n",
      "the square of 3 is 9\n",
      "the square of 6 is 36\n",
      "the square of 18 is 324\n",
      "the square of 9 is 81\n"
     ]
    }
   ],
   "source": [
    "# Wap ask the user to print square of the five numbers\n",
    "# and these five numbers you need ask user every time\n",
    "#for i in range(5):\n",
    "    #num=eval(input('enter a number:'))\n",
    "    #print(\"the square of {} is {}\".format(num,num*num))\n",
    "\n",
    "\n",
    "# WAP ask the user to print five times square of a number\n",
    "# this time you need to take every time a random number between 1 to 20\n",
    "import random\n",
    "for i in range(5):\n",
    "    num=random.randint(1,20)\n",
    "    print(\"the square of {} is {}\".format(num,num*num))"
   ]
  },
  {
   "cell_type": "code",
   "execution_count": 38,
   "id": "85a4f0e4",
   "metadata": {},
   "outputs": [
    {
     "name": "stdout",
     "output_type": "stream",
     "text": [
      "the given 10 is even\n",
      "the given 11 is odd\n",
      "the given 12 is even\n",
      "the given 13 is odd\n",
      "the given 14 is even\n",
      "the given 15 is odd\n",
      "the given 16 is even\n",
      "the given 17 is odd\n",
      "the given 18 is even\n",
      "the given 19 is odd\n",
      "the given 20 is even\n",
      "the given 21 is odd\n",
      "the given 22 is even\n",
      "the given 23 is odd\n",
      "the given 24 is even\n",
      "the given 25 is odd\n",
      "the given 26 is even\n",
      "the given 27 is odd\n",
      "the given 28 is even\n",
      "the given 29 is odd\n",
      "the given 30 is even\n"
     ]
    }
   ],
   "source": [
    "# WAP ask the user print the given number is even or odd\n",
    "# you need to take the number between 10 30\n",
    "\n",
    "# iterate the loop between 10 and 30\n",
    "# every time apply if i%2==0: print even\n",
    "#                  else : print odd\n",
    "\n",
    "for num in range(10,31):\n",
    "    if num%2==0:\n",
    "        print(\"the given {} is even\".format(num))\n",
    "    else:\n",
    "        print(\"the given {} is odd\".format(num))"
   ]
  },
  {
   "cell_type": "code",
   "execution_count": 40,
   "id": "1f775ba3",
   "metadata": {},
   "outputs": [
    {
     "name": "stdout",
     "output_type": "stream",
     "text": [
      "the given 13 is odd\n",
      "the given 12 is even\n",
      "the given 28 is even\n",
      "the given 26 is even\n",
      "the given 24 is even\n"
     ]
    }
   ],
   "source": [
    "# WAP ask the user print the given number is even or odd\n",
    "# you need to take the number between randomly between 10 and 30\n",
    "# this process you need to 5 times\n",
    "\n",
    "# create a for loop to run 5 times\n",
    "# every time get the random number\n",
    "# finally apply if-else condition : it is an even and odd\n",
    "\n",
    "import random\n",
    "for i in range(5):\n",
    "    num=random.randint(10,30)\n",
    "    if num%2==0:\n",
    "        print(\"the given {} is even\".format(num))\n",
    "    else:\n",
    "        print(\"the given {} is odd\".format(num))"
   ]
  },
  {
   "cell_type": "code",
   "execution_count": 41,
   "id": "d9e55810",
   "metadata": {},
   "outputs": [
    {
     "name": "stdout",
     "output_type": "stream",
     "text": [
      "the given 30 is even\n",
      "the given 14 is even\n",
      "the given 23 is odd\n",
      "the given 15 is odd\n",
      "the given 20 is even\n"
     ]
    }
   ],
   "source": [
    "def even_odd(num):\n",
    "    if num%2==0:\n",
    "        print(\"the given {} is even\".format(num))\n",
    "    else:\n",
    "        print(\"the given {} is odd\".format(num))\n",
    "        \n",
    "import random\n",
    "for i in range(5):\n",
    "    num=random.randint(10,30)\n",
    "    even_odd(num)"
   ]
  },
  {
   "cell_type": "code",
   "execution_count": 52,
   "id": "dc8521c9",
   "metadata": {},
   "outputs": [
    {
     "name": "stdout",
     "output_type": "stream",
     "text": [
      "4\n",
      "enter number between 1 and 10:5\n",
      "you lost\n",
      "the number of chances left is: 2\n",
      "enter number between 1 and 10:4\n",
      "you won\n"
     ]
    }
   ],
   "source": [
    "# 5 lines\n",
    "# take a random number from random package between 1 to 10\n",
    "\n",
    "# ========= you need to repat 3 times============\n",
    "# ask the user enter a number between 1 to 10\n",
    "# if the number == random number:\n",
    "#        print('you won')\n",
    "# else:\n",
    "#     print('you lost')\n",
    "\n",
    "import random\n",
    "random_num=random.randint(1,10)\n",
    "print(random_num)\n",
    "for i in range(3):\n",
    "    user_num=eval(input(\"enter number between 1 and 10:\"))\n",
    "    if user_num==random_num:\n",
    "        print(\"you won\")\n",
    "        break\n",
    "    else:\n",
    "        print(\"you lost\")"
   ]
  },
  {
   "cell_type": "code",
   "execution_count": null,
   "id": "29cb11c2",
   "metadata": {},
   "outputs": [],
   "source": [
    "# 5 lines\n",
    "# take a random number from random package between 1 to 10\n",
    "\n",
    "# ========= you need to repat 3 times============\n",
    "# ask the user enter a number between 1 to 10\n",
    "# if the number == random number:\n",
    "#        print('you won')\n",
    "# else:\n",
    "#     print('you lost')\n",
    "\n",
    "import random\n",
    "random_num=random.randint(1,10)\n",
    "print(random_num)\n",
    "for i in range(3):\n",
    "    user_num=eval(input(\"enter number between 1 and 10:\"))\n",
    "    if user_num==random_num:\n",
    "        print(\"you won\")\n",
    "        break\n",
    "    else:\n",
    "        print(\"you lost\")\n",
    "        print(\"the number of chances left is:\",3-1-i)"
   ]
  },
  {
   "cell_type": "code",
   "execution_count": 55,
   "id": "82454a22",
   "metadata": {},
   "outputs": [
    {
     "name": "stdout",
     "output_type": "stream",
     "text": [
      "8\n",
      "enter how many chances you want:7\n",
      "enter number between 1 and 10:9\n",
      "you lost\n",
      "the number of chances left is: 6\n",
      "enter number between 1 and 10:3\n",
      "you lost\n",
      "the number of chances left is: 5\n",
      "enter number between 1 and 10:6\n",
      "you lost\n",
      "the number of chances left is: 4\n",
      "enter number between 1 and 10:6\n",
      "you lost\n",
      "the number of chances left is: 3\n",
      "enter number between 1 and 10:6\n",
      "you lost\n",
      "the number of chances left is: 2\n",
      "enter number between 1 and 10:6\n",
      "you lost\n",
      "the number of chances left is: 1\n",
      "enter number between 1 and 10:6\n",
      "you lost\n",
      "the number of chances left is: 0\n"
     ]
    }
   ],
   "source": [
    "# Improvise above code\n",
    "# you need to mention number of chances left\n",
    "# the user whenever he fail/losr\n",
    "\n",
    "\n",
    "import random\n",
    "random_num=random.randint(1,10)\n",
    "print(random_num)\n",
    "chances=eval(input(\"enter how many chances you want:\"))\n",
    "for i in range(chances):\n",
    "    user_num=eval(input(\"enter number between 1 and 10:\"))\n",
    "    if user_num==random_num:\n",
    "        print(\"you won\")\n",
    "        break\n",
    "    else:\n",
    "        print(\"you lost\")\n",
    "        print(\"the number of chances left is:\",chances-1-i)"
   ]
  },
  {
   "cell_type": "code",
   "execution_count": 58,
   "id": "c5e0cfc4",
   "metadata": {},
   "outputs": [
    {
     "name": "stdout",
     "output_type": "stream",
     "text": [
      "4\n",
      "enter how many chances you want:3\n",
      "enter number between 1 and 10:2\n",
      "you lost\n",
      "the number of chances left is: 2\n",
      "------------------------------------------\n",
      "enter number between 1 and 10:2\n",
      "you lost\n",
      "the number of chances left is: 1\n",
      "------------------------------------------\n",
      "enter number between 1 and 10:2\n",
      "you lost\n",
      "all chances are over\n",
      "pls try again\n"
     ]
    }
   ],
   "source": [
    "# Improvise above code\n",
    "# whenever the user lost all the chances\n",
    "# it should print all the chances are over\n",
    "# print('pls try again after 10mins')\n",
    "\n",
    "# Hint:\n",
    "# you need to provide one more condtion\n",
    "\n",
    "import random\n",
    "random_num=random.randint(1,10)\n",
    "print(random_num)\n",
    "chances=eval(input(\"enter how many chances you want:\"))\n",
    "for i in range(chances):\n",
    "    user_num=eval(input(\"enter number between 1 and 10:\"))\n",
    "    if user_num==random_num:\n",
    "        print(\"you won\")\n",
    "        break\n",
    "    \n",
    "    elif chances-1-i==0: \n",
    "        print(\"you lost\")\n",
    "        print(\"all chances are over\")\n",
    "        print(\"pls try again\")\n",
    "    else:\n",
    "        print(\"you lost\")\n",
    "        print(\"the number of chances left is:\",chances-1-i)\n",
    "        print(\"------------------------------------------\")\n",
    "        \n",
    "# Chances=3\n",
    "# i=0    2    10   if 2==10 F ====> elif 3-1-0: 2==0 F ====> else: 2  \n",
    "# i=1    2    10   if 2==10 F ====> elif 3-1-1: 1==0 F ====> else:1\n",
    "# i=2   2     10   if 2==10 F =====> elif 3-1-2:0==0 T  "
   ]
  },
  {
   "cell_type": "code",
   "execution_count": 5,
   "id": "13218369",
   "metadata": {},
   "outputs": [
    {
     "name": "stdout",
     "output_type": "stream",
     "text": [
      "0+1 is:\n",
      "1\n",
      "1+2 is:\n",
      "3\n",
      "3+3 is:\n",
      "6\n",
      "6+4 is:\n",
      "10\n",
      "10+5 is:\n",
      "15\n",
      "15+6 is:\n",
      "21\n",
      "21+7 is:\n",
      "28\n",
      "28+8 is:\n",
      "36\n",
      "36+9 is:\n",
      "45\n",
      "45+10 is:\n",
      "55\n",
      "The sum of first 10 natural numbers is: 55\n"
     ]
    }
   ],
   "source": [
    "# WAP ask the user get the sum of 10 natural nunbers\n",
    "# 1+2+3+4+5+6+7+8+10=55\n",
    "\n",
    "summ=0   \n",
    "for i in range(1,11):\n",
    "    print(\"{}+{} is:\".format(summ,i))\n",
    "    summ=summ+i   # 1+2=1 \n",
    "    print(summ)   # in this loop the last value is 55\n",
    "    \n",
    "print(\"The sum of first 10 natural numbers is:\",summ)\n",
    "    \n",
    "#0+1=1\n",
    "#1+2=3\n",
    "#3+3=6\n",
    "#6+4=10\n",
    "#10+5=15\n",
    "#15+6=21\n",
    "#(21)+(7)=28\n",
    "#(sum)+(i)\n"
   ]
  },
  {
   "cell_type": "code",
   "execution_count": 6,
   "id": "b0136b97",
   "metadata": {},
   "outputs": [
    {
     "name": "stdout",
     "output_type": "stream",
     "text": [
      "0\n",
      "1\n",
      "2\n",
      "3\n",
      "4\n",
      "5\n",
      "6\n",
      "7\n",
      "8\n",
      "9\n"
     ]
    },
    {
     "data": {
      "text/plain": [
       "9"
      ]
     },
     "execution_count": 6,
     "metadata": {},
     "output_type": "execute_result"
    }
   ],
   "source": [
    "for i in range(10):\n",
    "    num=i\n",
    "    print(i)  # 9\n",
    "    \n",
    "num"
   ]
  },
  {
   "cell_type": "markdown",
   "id": "d3f2f1d1",
   "metadata": {},
   "source": [
    "- whenever if you want implement counter program\n",
    "\n",
    "- summ program\n",
    "\n",
    "- intialize the variable with zero\n",
    "\n",
    "- like: summ=0  or count=0\n",
    "    \n",
    "- inside the loop based on the problem update the variable\n",
    "\n",
    "- like: summ=summ+i  or count=count+i\n",
    "    \n",
    "-     : summ+=i      or  count+=i"
   ]
  },
  {
   "cell_type": "code",
   "execution_count": 10,
   "id": "87c9384c",
   "metadata": {},
   "outputs": [
    {
     "name": "stdout",
     "output_type": "stream",
     "text": [
      "when is odd: 0\n",
      "the given 27 is odd\n",
      "when is odd: 1\n",
      "the given 25 is odd\n",
      "when is odd: 2\n",
      "the given 27 is odd\n",
      "when is odd: 3\n",
      "the given 11 is odd\n",
      "when is odd: 4\n",
      "the given 29 is odd\n",
      "0 5\n"
     ]
    }
   ],
   "source": [
    "# WAP ask the user print the given number is even or odd\n",
    "# you need to take the number between randomly between 10 and 30\n",
    "# this process you need to 5 times\n",
    "\n",
    "# create a for loop to run 5 times\n",
    "# every time get the random number\n",
    "# finally apply if-else condition : it is an even and odd\n",
    "\n",
    "# Improvise this problem\n",
    "# by count the number of even and number odds you are getting\n",
    "even_count=0\n",
    "odd_count=0\n",
    "import random\n",
    "for i in range(5):\n",
    "    num=random.randint(10,30)\n",
    "    if num%2==0:\n",
    "        print('when is even:',i)\n",
    "        print(\"the given {} is even\".format(num))\n",
    "        even_count=even_count+1\n",
    "    else:\n",
    "        print('when is odd:',i)\n",
    "        print(\"the given {} is odd\".format(num))\n",
    "        odd_count=odd_count+1\n",
    "\n",
    "print(even_count,odd_count)\n",
    "\n",
    "# i=0  =1  =4\n",
    "# even_count=0\n",
    "# even_count=even_count+i  ==== > 0+0=0\n",
    "# 0+1=1\n",
    "# 1+4=5"
   ]
  },
  {
   "cell_type": "code",
   "execution_count": null,
   "id": "112e03ff",
   "metadata": {},
   "outputs": [],
   "source": [
    "ypur loop should run 3 time\n",
    "even=0\n",
    "i=0      24     one even \n",
    "i=1      22     two\n",
    "i=3      19"
   ]
  },
  {
   "cell_type": "code",
   "execution_count": 16,
   "id": "62b69f5b",
   "metadata": {},
   "outputs": [
    {
     "name": "stdout",
     "output_type": "stream",
     "text": [
      "90\n",
      "95\n",
      "62\n",
      "60\n",
      "the number of values more than 50 is: 4\n"
     ]
    }
   ],
   "source": [
    "# WAP ask the user take a random number between 1 to 99\n",
    "# iterate the loop 10 times\n",
    "# count how many times a number is coming and greater than 50\n",
    "\n",
    "import random\n",
    "count=0\n",
    "for i in range(10):\n",
    "    num=random.randint(1,99)\n",
    "    if num>50:\n",
    "        print(num)\n",
    "        count+=1\n",
    "        \n",
    "print(\"the number of values more than 50 is:\",count)"
   ]
  },
  {
   "cell_type": "code",
   "execution_count": 24,
   "id": "2ee1711b",
   "metadata": {},
   "outputs": [
    {
     "name": "stdout",
     "output_type": "stream",
     "text": [
      "enter which number divsiors want to know:10\n",
      "10 is divisible by 1\n",
      "10 is divisible by 2\n",
      "10 is divisible by 5\n",
      "10 is divisible by 10\n",
      "The number of divisors are: 4\n",
      "the number of non divisors count is: 6\n"
     ]
    }
   ],
   "source": [
    "# Number of divisiors program\n",
    "# 10 is divisible by what numbers\n",
    "# 10/1  10/2  10/3 10/4 10/5 10/6 10/7 10/8 10/9 10/10 \n",
    "# (num/i)%2==0\n",
    "# 5 divisiors :   1 to 5\n",
    "\n",
    "d_count=0\n",
    "nd_count=0\n",
    "num=eval(input(\"enter which number divsiors want to know:\"))\n",
    "for i in range(1,num+1):\n",
    "    if num%i==0:\n",
    "        print(\"{} is divisible by {}\".format(num,i))\n",
    "        d_count=d_count+1\n",
    "      \n",
    "    else:\n",
    "        nd_count=nd_count+1\n",
    "    \n",
    "        \n",
    "print(\"The number of divisors are:\",d_count)\n",
    "print(\"the number of non divisors count is:\",nd_count)"
   ]
  },
  {
   "cell_type": "code",
   "execution_count": 29,
   "id": "7f603799",
   "metadata": {},
   "outputs": [
    {
     "name": "stdout",
     "output_type": "stream",
     "text": [
      "enter which number divsiors want to know:10\n",
      "10 is divisible by 1\n",
      "10 is divisible by 2\n",
      "10 is divisible by 5\n",
      "10 is divisible by 10\n",
      "4 6\n"
     ]
    }
   ],
   "source": [
    "num=eval(input(\"enter which number divsiors want to know:\"))\n",
    "\n",
    "def counter():\n",
    "    d_count=0\n",
    "    nd_count=0\n",
    "    for i in range(1,num+1):\n",
    "        if num%i==0:\n",
    "            print(\"{} is divisible by {}\".format(num,i))\n",
    "            d_count=d_count+1\n",
    "\n",
    "        else:\n",
    "            nd_count=nd_count+1\n",
    "    return(d_count,nd_count)\n",
    "\n",
    "val1,val2=counter()\n",
    "print(val1,val2)"
   ]
  },
  {
   "cell_type": "code",
   "execution_count": 27,
   "id": "ede8cafb",
   "metadata": {},
   "outputs": [
    {
     "name": "stdout",
     "output_type": "stream",
     "text": [
      "enter which number divsiors want to know:10\n",
      "10 is divisible by 1\n",
      "10 is divisible by 2\n",
      "10 is divisible by 5\n",
      "10 is divisible by 10\n",
      "4 6\n"
     ]
    }
   ],
   "source": [
    "def counter2():\n",
    "    d_count=0\n",
    "    nd_count=0\n",
    "    num=eval(input(\"enter which number divsiors want to know:\"))\n",
    "    for i in range(1,num+1):\n",
    "        if num%i==0:\n",
    "            print(\"{} is divisible by {}\".format(num,i))\n",
    "            d_count=d_count+1\n",
    "\n",
    "        else:\n",
    "            nd_count=nd_count+1\n",
    "            \n",
    "    return(d_count,nd_count)\n",
    "\n",
    "val1,val2=counter2()\n",
    "print(val1,val2)"
   ]
  },
  {
   "cell_type": "markdown",
   "id": "e1fd57c8",
   "metadata": {},
   "source": [
    "- whenever if you want implement counter program \n",
    "\n",
    "- intialise counter inside the function only"
   ]
  },
  {
   "cell_type": "code",
   "execution_count": null,
   "id": "52c6bcda",
   "metadata": {},
   "outputs": [],
   "source": [
    "#def counter2():\n",
    "    #========\n",
    "    #======\n",
    "    #return()"
   ]
  },
  {
   "cell_type": "code",
   "execution_count": 31,
   "id": "219518f4",
   "metadata": {},
   "outputs": [
    {
     "name": "stdout",
     "output_type": "stream",
     "text": [
      "10 is divisible by 5\n"
     ]
    },
    {
     "data": {
      "text/plain": [
       "(1, 0)"
      ]
     },
     "execution_count": 31,
     "metadata": {},
     "output_type": "execute_result"
    }
   ],
   "source": [
    "def condition(num,i,d_count,nd_count):\n",
    "    if num%i==0:\n",
    "        print(\"{} is divisible by {}\".format(num,i))\n",
    "        d_count=d_count+1\n",
    "\n",
    "    else:\n",
    "        nd_count=nd_count+1\n",
    "        \n",
    "    return(d_count,nd_count)\n",
    "        \n",
    "condition(10,5,0,0)"
   ]
  },
  {
   "cell_type": "code",
   "execution_count": 32,
   "id": "6eaadf48",
   "metadata": {},
   "outputs": [
    {
     "name": "stdout",
     "output_type": "stream",
     "text": [
      "enter which number divsiors want to know:10\n",
      "10 is divisible by 1\n",
      "10 is divisible by 2\n",
      "10 is divisible by 5\n",
      "10 is divisible by 10\n",
      "4 6\n"
     ]
    }
   ],
   "source": [
    "def counter2():\n",
    "    d_count=0\n",
    "    nd_count=0\n",
    "    num=eval(input(\"enter which number divsiors want to know:\"))\n",
    "    for i in range(1,num+1):\n",
    "        d_count,nd_count=condition(num,i,d_count,nd_count) \n",
    "            \n",
    "    return(d_count,nd_count)\n",
    "\n",
    "val1,val2=counter2()\n",
    "print(val1,val2)"
   ]
  },
  {
   "cell_type": "code",
   "execution_count": 30,
   "id": "966f9ba1",
   "metadata": {},
   "outputs": [],
   "source": [
    "def condition(num,\n",
    "              d_count,\n",
    "              nd_count,\n",
    "              i):\n",
    "    if num%i==0:\n",
    "        print(\"{} is divisible by {}\".format(num,i))\n",
    "        d_count=d_count+1\n",
    "    else:\n",
    "        nd_count=nd_count+1\n",
    "    return(d_count,nd_count)"
   ]
  },
  {
   "cell_type": "code",
   "execution_count": null,
   "id": "c8302f1f",
   "metadata": {},
   "outputs": [],
   "source": [
    "def condition(num,\n",
    "              d_count,\n",
    "              nd_count,\n",
    "              i):\n",
    "    if num%i==0:\n",
    "        print(\"{} is divisible by {}\".format(num,i))\n",
    "        d_count=d_count+1\n",
    "    else:\n",
    "        nd_count=nd_count+1\n",
    "    return(d_count,nd_count)\n",
    "\n",
    "\n",
    "def counter2():\n",
    "    d_count=0\n",
    "    nd_count=0\n",
    "    num=eval(input(\"enter which number divsiors want to know:\"))\n",
    "    for i in range(1,num+1):\n",
    "        d_count,nd_count=condition(num,d_count,nd_count,i)\n",
    "            \n",
    "    return(d_count,nd_count)\n",
    "\n",
    "val1,val2=counter2()\n",
    "print(val1,val2)"
   ]
  }
 ],
 "metadata": {
  "kernelspec": {
   "display_name": "Python 3 (ipykernel)",
   "language": "python",
   "name": "python3"
  },
  "language_info": {
   "codemirror_mode": {
    "name": "ipython",
    "version": 3
   },
   "file_extension": ".py",
   "mimetype": "text/x-python",
   "name": "python",
   "nbconvert_exporter": "python",
   "pygments_lexer": "ipython3",
   "version": "3.11.5"
  }
 },
 "nbformat": 4,
 "nbformat_minor": 5
}
