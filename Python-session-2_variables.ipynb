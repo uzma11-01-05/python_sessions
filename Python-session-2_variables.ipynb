{
 "cells": [
  {
   "cell_type": "markdown",
   "id": "bb01dbbc",
   "metadata": {},
   "source": [
    "### Variables:"
   ]
  },
  {
   "cell_type": "code",
   "execution_count": null,
   "id": "25778ec2",
   "metadata": {},
   "outputs": [],
   "source": [
    "- variable  term  vary\n",
    "\n",
    "- you want to save some values at some place , that place is called variables\n",
    "\n",
    "- variables and constant"
   ]
  },
  {
   "cell_type": "code",
   "execution_count": 2,
   "id": "a20e8910",
   "metadata": {},
   "outputs": [
    {
     "data": {
      "text/plain": [
       "100"
      ]
     },
     "execution_count": 2,
     "metadata": {},
     "output_type": "execute_result"
    }
   ],
   "source": [
    "number=100  # 100 values is stored in variable called number\n",
    "number      # so here number is a variable"
   ]
  },
  {
   "cell_type": "code",
   "execution_count": 3,
   "id": "2ca1e8de",
   "metadata": {},
   "outputs": [
    {
     "data": {
      "text/plain": [
       "200"
      ]
     },
     "execution_count": 3,
     "metadata": {},
     "output_type": "execute_result"
    }
   ],
   "source": [
    "number=200\n",
    "number"
   ]
  },
  {
   "cell_type": "code",
   "execution_count": null,
   "id": "fd67a532",
   "metadata": {},
   "outputs": [],
   "source": [
    "# so here first number has 100\n",
    "#         second number has 200\n",
    "# number is changing its value\n",
    "# thats why we are calling number as variable"
   ]
  },
  {
   "cell_type": "markdown",
   "id": "47379a8a",
   "metadata": {},
   "source": [
    "**Rules to define variables**"
   ]
  },
  {
   "cell_type": "code",
   "execution_count": 4,
   "id": "9ee24504",
   "metadata": {},
   "outputs": [
    {
     "data": {
      "text/plain": [
       "300"
      ]
     },
     "execution_count": 4,
     "metadata": {},
     "output_type": "execute_result"
    }
   ],
   "source": [
    "# Upper case\n",
    "NUMBER=300\n",
    "NUMBER"
   ]
  },
  {
   "cell_type": "code",
   "execution_count": 5,
   "id": "17300909",
   "metadata": {},
   "outputs": [
    {
     "data": {
      "text/plain": [
       "400"
      ]
     },
     "execution_count": 5,
     "metadata": {},
     "output_type": "execute_result"
    }
   ],
   "source": [
    "# lower case\n",
    "number=400\n",
    "number"
   ]
  },
  {
   "cell_type": "code",
   "execution_count": 6,
   "id": "90b402d8",
   "metadata": {},
   "outputs": [
    {
     "data": {
      "text/plain": [
       "500"
      ]
     },
     "execution_count": 6,
     "metadata": {},
     "output_type": "execute_result"
    }
   ],
   "source": [
    "# combination of upper case and lower case\n",
    "NUMber=500\n",
    "NUMber"
   ]
  },
  {
   "cell_type": "code",
   "execution_count": 7,
   "id": "1f6ab5a0",
   "metadata": {},
   "outputs": [
    {
     "data": {
      "text/plain": [
       "600"
      ]
     },
     "execution_count": 7,
     "metadata": {},
     "output_type": "execute_result"
    }
   ],
   "source": [
    "# Combination of letters and numbers , numbers as suffix\n",
    "number123=600\n",
    "number123"
   ]
  },
  {
   "cell_type": "code",
   "execution_count": 8,
   "id": "fbf3bc95",
   "metadata": {},
   "outputs": [
    {
     "ename": "SyntaxError",
     "evalue": "invalid decimal literal (3944608882.py, line 2)",
     "output_type": "error",
     "traceback": [
      "\u001b[1;36m  Cell \u001b[1;32mIn[8], line 2\u001b[1;36m\u001b[0m\n\u001b[1;33m    123number=700\u001b[0m\n\u001b[1;37m      ^\u001b[0m\n\u001b[1;31mSyntaxError\u001b[0m\u001b[1;31m:\u001b[0m invalid decimal literal\n"
     ]
    }
   ],
   "source": [
    "# Combination of letters and numbers, numbers as prefix\n",
    "123number=700\n",
    "123number"
   ]
  },
  {
   "cell_type": "code",
   "execution_count": 10,
   "id": "f37fc824",
   "metadata": {},
   "outputs": [
    {
     "ename": "SyntaxError",
     "evalue": "invalid syntax (1051806080.py, line 3)",
     "output_type": "error",
     "traceback": [
      "\u001b[1;36m  Cell \u001b[1;32mIn[10], line 3\u001b[1;36m\u001b[0m\n\u001b[1;33m    number%\u001b[0m\n\u001b[1;37m           ^\u001b[0m\n\u001b[1;31mSyntaxError\u001b[0m\u001b[1;31m:\u001b[0m invalid syntax\n"
     ]
    }
   ],
   "source": [
    "# spl charcters\n",
    "number%=800\n",
    "number%"
   ]
  },
  {
   "cell_type": "code",
   "execution_count": 11,
   "id": "c1aa4a39",
   "metadata": {},
   "outputs": [
    {
     "data": {
      "text/plain": [
       "900"
      ]
     },
     "execution_count": 11,
     "metadata": {},
     "output_type": "execute_result"
    }
   ],
   "source": [
    "#underscore\n",
    "number_=900\n",
    "number_"
   ]
  },
  {
   "cell_type": "code",
   "execution_count": 12,
   "id": "2214948e",
   "metadata": {},
   "outputs": [
    {
     "ename": "SyntaxError",
     "evalue": "invalid syntax (163203028.py, line 2)",
     "output_type": "error",
     "traceback": [
      "\u001b[1;36m  Cell \u001b[1;32mIn[12], line 2\u001b[1;36m\u001b[0m\n\u001b[1;33m    if=500\u001b[0m\n\u001b[1;37m      ^\u001b[0m\n\u001b[1;31mSyntaxError\u001b[0m\u001b[1;31m:\u001b[0m invalid syntax\n"
     ]
    }
   ],
   "source": [
    "# keywords\n",
    "if=500\n",
    "if"
   ]
  },
  {
   "cell_type": "code",
   "execution_count": 13,
   "id": "1cbc0429",
   "metadata": {},
   "outputs": [
    {
     "data": {
      "text/plain": [
       "700"
      ]
     },
     "execution_count": 13,
     "metadata": {},
     "output_type": "execute_result"
    }
   ],
   "source": [
    "sum=700\n",
    "sum"
   ]
  },
  {
   "cell_type": "markdown",
   "id": "25e30578",
   "metadata": {},
   "source": [
    "**Note**:\n",
    "    \n",
    "    sum is a math operation it will works\n",
    "    \n",
    "    but do not use as variable"
   ]
  },
  {
   "cell_type": "code",
   "execution_count": 14,
   "id": "74a6e988",
   "metadata": {},
   "outputs": [
    {
     "ename": "SyntaxError",
     "evalue": "invalid syntax (3066955823.py, line 2)",
     "output_type": "error",
     "traceback": [
      "\u001b[1;36m  Cell \u001b[1;32mIn[14], line 2\u001b[1;36m\u001b[0m\n\u001b[1;33m    number one= 700\u001b[0m\n\u001b[1;37m           ^\u001b[0m\n\u001b[1;31mSyntaxError\u001b[0m\u001b[1;31m:\u001b[0m invalid syntax\n"
     ]
    }
   ],
   "source": [
    "# spaces will not allowed\n",
    "number one= 700\n",
    "number one"
   ]
  },
  {
   "cell_type": "code",
   "execution_count": 15,
   "id": "c40cf7b8",
   "metadata": {},
   "outputs": [
    {
     "data": {
      "text/plain": [
       "700"
      ]
     },
     "execution_count": 15,
     "metadata": {},
     "output_type": "execute_result"
    }
   ],
   "source": [
    "number_one=700\n",
    "number_one"
   ]
  },
  {
   "cell_type": "code",
   "execution_count": 16,
   "id": "9f51bcf1",
   "metadata": {},
   "outputs": [
    {
     "data": {
      "text/plain": [
       "900"
      ]
     },
     "execution_count": 16,
     "metadata": {},
     "output_type": "execute_result"
    }
   ],
   "source": [
    "_=900\n",
    "_"
   ]
  },
  {
   "cell_type": "code",
   "execution_count": null,
   "id": "1a77e86b",
   "metadata": {},
   "outputs": [],
   "source": [
    "############### Basics###############\n",
    "1) Basic syntax\n",
    "2) Variables\n",
    "3) python packages information\n",
    "4) Basic python code\n",
    "5) Conditional statements\n",
    "6) functions\n",
    "7) loop\n",
    "\n",
    "################ Leve-2###############\n",
    "1) Strings\n",
    "2) List\n",
    "3) dictionary\n",
    "4) tuples ======== write up \n",
    "5) sets\n",
    "6) file handling sessions\n",
    "\n",
    "========== 2 weeks gap ============== statistics theory\n",
    "EDA: python\n",
    "\n",
    "############ Level-3################\n",
    "1) OOPS concept in python\n",
    "2) how to create your own packages\n",
    "3) FLASK APPS"
   ]
  },
  {
   "cell_type": "code",
   "execution_count": null,
   "id": "151a42b6",
   "metadata": {},
   "outputs": [],
   "source": []
  },
  {
   "cell_type": "code",
   "execution_count": null,
   "id": "3b56510e",
   "metadata": {},
   "outputs": [],
   "source": []
  },
  {
   "cell_type": "code",
   "execution_count": null,
   "id": "727b5317",
   "metadata": {},
   "outputs": [],
   "source": []
  },
  {
   "cell_type": "code",
   "execution_count": null,
   "id": "503a7506",
   "metadata": {},
   "outputs": [],
   "source": []
  },
  {
   "cell_type": "code",
   "execution_count": null,
   "id": "ebcccf14",
   "metadata": {},
   "outputs": [],
   "source": []
  }
 ],
 "metadata": {
  "kernelspec": {
   "display_name": "Python 3 (ipykernel)",
   "language": "python",
   "name": "python3"
  },
  "language_info": {
   "codemirror_mode": {
    "name": "ipython",
    "version": 3
   },
   "file_extension": ".py",
   "mimetype": "text/x-python",
   "name": "python",
   "nbconvert_exporter": "python",
   "pygments_lexer": "ipython3",
   "version": "3.11.5"
  }
 },
 "nbformat": 4,
 "nbformat_minor": 5
}
