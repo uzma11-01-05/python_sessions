{
 "cells": [
  {
   "cell_type": "markdown",
   "id": "01b3fe6f",
   "metadata": {},
   "source": [
    "**How to read the strings**"
   ]
  },
  {
   "cell_type": "code",
   "execution_count": 1,
   "id": "971ed199",
   "metadata": {},
   "outputs": [
    {
     "data": {
      "text/plain": [
       "'python'"
      ]
     },
     "execution_count": 1,
     "metadata": {},
     "output_type": "execute_result"
    }
   ],
   "source": [
    "string1='python'   # single quote\n",
    "string1"
   ]
  },
  {
   "cell_type": "code",
   "execution_count": 2,
   "id": "cf8d49f2",
   "metadata": {},
   "outputs": [
    {
     "data": {
      "text/plain": [
       "'python'"
      ]
     },
     "execution_count": 2,
     "metadata": {},
     "output_type": "execute_result"
    }
   ],
   "source": [
    "string2=\"python\"  # double quotes\n",
    "string2"
   ]
  },
  {
   "cell_type": "code",
   "execution_count": null,
   "id": "1dbc974c",
   "metadata": {},
   "outputs": [],
   "source": [
    "### Triple quotes \n",
    "\n",
    "# Doc string is used to say some information about your python code "
   ]
  },
  {
   "cell_type": "code",
   "execution_count": null,
   "id": "b97c4cc0",
   "metadata": {},
   "outputs": [],
   "source": [
    "\"\"\"\n",
    "im creating a hello function\n",
    "arguments: None\n",
    "return:   None\n",
    "\"\"\"\n",
    "def hello():\n",
    "    print(\"good moring\")"
   ]
  },
  {
   "cell_type": "code",
   "execution_count": null,
   "id": "724f10e3",
   "metadata": {},
   "outputs": [],
   "source": [
    "'hello python'  # I want highlite the python"
   ]
  },
  {
   "cell_type": "code",
   "execution_count": 6,
   "id": "9074bab1",
   "metadata": {},
   "outputs": [
    {
     "name": "stdout",
     "output_type": "stream",
     "text": [
      "hello \"python\"\n"
     ]
    }
   ],
   "source": [
    "string3='hello \"python\"'\n",
    "print(string3)"
   ]
  },
  {
   "cell_type": "code",
   "execution_count": 7,
   "id": "c1fd190a",
   "metadata": {},
   "outputs": [
    {
     "name": "stdout",
     "output_type": "stream",
     "text": [
      "hello 'python'\n"
     ]
    }
   ],
   "source": [
    "string4=\"hello 'python'\"\n",
    "print(string4)"
   ]
  },
  {
   "cell_type": "markdown",
   "id": "1072fd57",
   "metadata": {},
   "source": [
    "- type\n",
    "\n",
    "- len\n",
    "\n",
    "- max\n",
    "\n",
    "- min"
   ]
  },
  {
   "cell_type": "markdown",
   "id": "7ba1963c",
   "metadata": {},
   "source": [
    "$type$:"
   ]
  },
  {
   "cell_type": "code",
   "execution_count": 8,
   "id": "aeaf3427",
   "metadata": {},
   "outputs": [
    {
     "data": {
      "text/plain": [
       "'python'"
      ]
     },
     "execution_count": 8,
     "metadata": {},
     "output_type": "execute_result"
    }
   ],
   "source": [
    "string1"
   ]
  },
  {
   "cell_type": "code",
   "execution_count": 9,
   "id": "8208f7b5",
   "metadata": {},
   "outputs": [
    {
     "data": {
      "text/plain": [
       "str"
      ]
     },
     "execution_count": 9,
     "metadata": {},
     "output_type": "execute_result"
    }
   ],
   "source": [
    "type(string1)   # str"
   ]
  },
  {
   "cell_type": "markdown",
   "id": "28ccec89",
   "metadata": {},
   "source": [
    "$len$"
   ]
  },
  {
   "cell_type": "code",
   "execution_count": 10,
   "id": "5cb7513a",
   "metadata": {},
   "outputs": [
    {
     "data": {
      "text/plain": [
       "6"
      ]
     },
     "execution_count": 10,
     "metadata": {},
     "output_type": "execute_result"
    }
   ],
   "source": [
    "len(string1)"
   ]
  },
  {
   "cell_type": "markdown",
   "id": "501b91d4",
   "metadata": {},
   "source": [
    "$max$-$min$"
   ]
  },
  {
   "cell_type": "code",
   "execution_count": 11,
   "id": "994ac9f9",
   "metadata": {},
   "outputs": [
    {
     "data": {
      "text/plain": [
       "'p'"
      ]
     },
     "execution_count": 11,
     "metadata": {},
     "output_type": "execute_result"
    }
   ],
   "source": [
    "string1='pP'\n",
    "max(string1)   # python\n",
    "\n",
    "# ASCII\n",
    "# 'A': 65    'a':97"
   ]
  },
  {
   "cell_type": "markdown",
   "id": "6ab2a5dd",
   "metadata": {},
   "source": [
    "$ord$-$chr$"
   ]
  },
  {
   "cell_type": "code",
   "execution_count": 12,
   "id": "254666ba",
   "metadata": {},
   "outputs": [
    {
     "data": {
      "text/plain": [
       "112"
      ]
     },
     "execution_count": 12,
     "metadata": {},
     "output_type": "execute_result"
    }
   ],
   "source": [
    " # It will provide ascii value of char"
   ]
  },
  {
   "cell_type": "code",
   "execution_count": 13,
   "id": "47be9187",
   "metadata": {},
   "outputs": [
    {
     "data": {
      "text/plain": [
       "80"
      ]
     },
     "execution_count": 13,
     "metadata": {},
     "output_type": "execute_result"
    }
   ],
   "source": [
    "ord('P')"
   ]
  },
  {
   "cell_type": "code",
   "execution_count": 16,
   "id": "f633ecb6",
   "metadata": {},
   "outputs": [
    {
     "data": {
      "text/plain": [
       "('y', 'h')"
      ]
     },
     "execution_count": 16,
     "metadata": {},
     "output_type": "execute_result"
    }
   ],
   "source": [
    "string1='python'\n",
    "max(string1),min(string1)"
   ]
  },
  {
   "cell_type": "code",
   "execution_count": 15,
   "id": "c6bdfa4e",
   "metadata": {},
   "outputs": [
    {
     "data": {
      "text/plain": [
       "(112, 121, 116, 104, 111, 110)"
      ]
     },
     "execution_count": 15,
     "metadata": {},
     "output_type": "execute_result"
    }
   ],
   "source": [
    "ord('p'),ord('y'),ord('t'),ord('h'),ord('o'),ord('n')"
   ]
  },
  {
   "cell_type": "code",
   "execution_count": 22,
   "id": "ad029890",
   "metadata": {},
   "outputs": [
    {
     "data": {
      "text/plain": [
       "('p', 'y', 't', 'h', 'o', 'n')"
      ]
     },
     "execution_count": 22,
     "metadata": {},
     "output_type": "execute_result"
    }
   ],
   "source": [
    "chr(112),chr(121),chr(116),chr(104),chr(111),chr(110)"
   ]
  },
  {
   "cell_type": "code",
   "execution_count": 25,
   "id": "2bd920d3",
   "metadata": {},
   "outputs": [
    {
     "name": "stdout",
     "output_type": "stream",
     "text": [
      "0\n",
      "1\n",
      "2\n",
      "3\n",
      "4\n",
      "5\n"
     ]
    }
   ],
   "source": [
    "for i in range(len('python')):\n",
    "    print(i)"
   ]
  },
  {
   "cell_type": "code",
   "execution_count": null,
   "id": "b4c327b4",
   "metadata": {},
   "outputs": [],
   "source": [
    "# I want print p y t h o n "
   ]
  },
  {
   "cell_type": "markdown",
   "id": "9c435fcd",
   "metadata": {},
   "source": [
    "$in$"
   ]
  },
  {
   "cell_type": "code",
   "execution_count": 27,
   "id": "5f0f1892",
   "metadata": {},
   "outputs": [
    {
     "data": {
      "text/plain": [
       "True"
      ]
     },
     "execution_count": 27,
     "metadata": {},
     "output_type": "execute_result"
    }
   ],
   "source": [
    "string1='python'\n",
    "\n",
    "'p' in string1\n",
    "'y' in string1\n",
    "'t' in string1\n",
    "'h' in string1\n",
    "'o' in string1\n",
    "'n' in string1\n",
    "\n",
    "#i in string1"
   ]
  },
  {
   "cell_type": "code",
   "execution_count": 28,
   "id": "2b066869",
   "metadata": {},
   "outputs": [
    {
     "name": "stdout",
     "output_type": "stream",
     "text": [
      "p\n",
      "y\n",
      "t\n",
      "h\n",
      "o\n",
      "n\n"
     ]
    }
   ],
   "source": [
    "for i in string1:\n",
    "    print(i)"
   ]
  },
  {
   "cell_type": "markdown",
   "id": "9c50001a",
   "metadata": {},
   "source": [
    "- range()  : you need to provide number inside the range\n",
    "    \n",
    "- in       : is used only for strings\n",
    "\n",
    "if you want print the letters using for loop go for in operator"
   ]
  },
  {
   "cell_type": "code",
   "execution_count": 29,
   "id": "7282da0b",
   "metadata": {},
   "outputs": [
    {
     "name": "stdout",
     "output_type": "stream",
     "text": [
      "112\n",
      "121\n",
      "116\n",
      "104\n",
      "111\n",
      "110\n"
     ]
    }
   ],
   "source": [
    "print(ord('p'))\n",
    "print(ord('y'))\n",
    "print(ord('t'))\n",
    "print(ord('h'))\n",
    "print(ord('o'))\n",
    "print(ord('n'))\n",
    "\n",
    "print(ord(i))"
   ]
  },
  {
   "cell_type": "code",
   "execution_count": 31,
   "id": "92d5e078",
   "metadata": {},
   "outputs": [
    {
     "name": "stdout",
     "output_type": "stream",
     "text": [
      "the ascii value of p is 112\n",
      "the ascii value of y is 121\n",
      "the ascii value of t is 116\n",
      "the ascii value of h is 104\n",
      "the ascii value of o is 111\n",
      "the ascii value of n is 110\n"
     ]
    }
   ],
   "source": [
    "for i in string1:\n",
    "    print(\"the ascii value of {} is {}\".format(i,ord(i)))\n",
    "    # The ascii value of p is 112"
   ]
  },
  {
   "cell_type": "code",
   "execution_count": null,
   "id": "9e18b49f",
   "metadata": {},
   "outputs": [],
   "source": [
    "# Ascii value of A to Z"
   ]
  },
  {
   "cell_type": "code",
   "execution_count": 32,
   "id": "3065d044",
   "metadata": {},
   "outputs": [
    {
     "name": "stdout",
     "output_type": "stream",
     "text": [
      "the ascii value of A is 65\n",
      "the ascii value of B is 66\n",
      "the ascii value of C is 67\n",
      "the ascii value of D is 68\n",
      "the ascii value of E is 69\n",
      "the ascii value of F is 70\n",
      "the ascii value of G is 71\n",
      "the ascii value of H is 72\n",
      "the ascii value of I is 73\n",
      "the ascii value of J is 74\n",
      "the ascii value of K is 75\n",
      "the ascii value of L is 76\n",
      "the ascii value of M is 77\n",
      "the ascii value of N is 78\n",
      "the ascii value of O is 79\n",
      "the ascii value of P is 80\n",
      "the ascii value of Q is 81\n",
      "the ascii value of R is 82\n",
      "the ascii value of S is 83\n",
      "the ascii value of T is 84\n",
      "the ascii value of U is 85\n",
      "the ascii value of V is 86\n",
      "the ascii value of W is 87\n",
      "the ascii value of X is 88\n",
      "the ascii value of Y is 89\n",
      "the ascii value of Z is 90\n"
     ]
    }
   ],
   "source": [
    "for i in 'ABCDEFGHIJKLMNOPQRSTUVWXYZ':\n",
    "    print(\"the ascii value of {} is {}\".format(i,ord(i)))"
   ]
  },
  {
   "cell_type": "code",
   "execution_count": 33,
   "id": "07de1d6b",
   "metadata": {},
   "outputs": [],
   "source": [
    "# package_name: string\n",
    "import string"
   ]
  },
  {
   "cell_type": "code",
   "execution_count": 34,
   "id": "4d7792c8",
   "metadata": {},
   "outputs": [
    {
     "data": {
      "text/plain": [
       "['Formatter',\n",
       " 'Template',\n",
       " '_ChainMap',\n",
       " '__all__',\n",
       " '__builtins__',\n",
       " '__cached__',\n",
       " '__doc__',\n",
       " '__file__',\n",
       " '__loader__',\n",
       " '__name__',\n",
       " '__package__',\n",
       " '__spec__',\n",
       " '_re',\n",
       " '_sentinel_dict',\n",
       " '_string',\n",
       " 'ascii_letters',\n",
       " 'ascii_lowercase',\n",
       " 'ascii_uppercase',\n",
       " 'capwords',\n",
       " 'digits',\n",
       " 'hexdigits',\n",
       " 'octdigits',\n",
       " 'printable',\n",
       " 'punctuation',\n",
       " 'whitespace']"
      ]
     },
     "execution_count": 34,
     "metadata": {},
     "output_type": "execute_result"
    }
   ],
   "source": [
    "dir(string)"
   ]
  },
  {
   "cell_type": "code",
   "execution_count": 35,
   "id": "02494240",
   "metadata": {},
   "outputs": [
    {
     "data": {
      "text/plain": [
       "'ABCDEFGHIJKLMNOPQRSTUVWXYZ'"
      ]
     },
     "execution_count": 35,
     "metadata": {},
     "output_type": "execute_result"
    }
   ],
   "source": [
    "# see the output of : ascii_uppercase\n",
    "string.ascii_uppercase"
   ]
  },
  {
   "cell_type": "code",
   "execution_count": 36,
   "id": "722bbe82",
   "metadata": {},
   "outputs": [
    {
     "name": "stdout",
     "output_type": "stream",
     "text": [
      "the ascii value of A is 65\n",
      "the ascii value of B is 66\n",
      "the ascii value of C is 67\n",
      "the ascii value of D is 68\n",
      "the ascii value of E is 69\n",
      "the ascii value of F is 70\n",
      "the ascii value of G is 71\n",
      "the ascii value of H is 72\n",
      "the ascii value of I is 73\n",
      "the ascii value of J is 74\n",
      "the ascii value of K is 75\n",
      "the ascii value of L is 76\n",
      "the ascii value of M is 77\n",
      "the ascii value of N is 78\n",
      "the ascii value of O is 79\n",
      "the ascii value of P is 80\n",
      "the ascii value of Q is 81\n",
      "the ascii value of R is 82\n",
      "the ascii value of S is 83\n",
      "the ascii value of T is 84\n",
      "the ascii value of U is 85\n",
      "the ascii value of V is 86\n",
      "the ascii value of W is 87\n",
      "the ascii value of X is 88\n",
      "the ascii value of Y is 89\n",
      "the ascii value of Z is 90\n"
     ]
    }
   ],
   "source": [
    "for i in string.ascii_uppercase:\n",
    "    print(\"the ascii value of {} is {}\".format(i,ord(i)))"
   ]
  },
  {
   "cell_type": "code",
   "execution_count": 37,
   "id": "f7acbbd7",
   "metadata": {},
   "outputs": [
    {
     "name": "stdout",
     "output_type": "stream",
     "text": [
      "the ascii value of a is 97\n",
      "the ascii value of b is 98\n",
      "the ascii value of c is 99\n",
      "the ascii value of d is 100\n",
      "the ascii value of e is 101\n",
      "the ascii value of f is 102\n",
      "the ascii value of g is 103\n",
      "the ascii value of h is 104\n",
      "the ascii value of i is 105\n",
      "the ascii value of j is 106\n",
      "the ascii value of k is 107\n",
      "the ascii value of l is 108\n",
      "the ascii value of m is 109\n",
      "the ascii value of n is 110\n",
      "the ascii value of o is 111\n",
      "the ascii value of p is 112\n",
      "the ascii value of q is 113\n",
      "the ascii value of r is 114\n",
      "the ascii value of s is 115\n",
      "the ascii value of t is 116\n",
      "the ascii value of u is 117\n",
      "the ascii value of v is 118\n",
      "the ascii value of w is 119\n",
      "the ascii value of x is 120\n",
      "the ascii value of y is 121\n",
      "the ascii value of z is 122\n"
     ]
    }
   ],
   "source": [
    "for i in string.ascii_lowercase:\n",
    "    print(\"the ascii value of {} is {}\".format(i,ord(i)))"
   ]
  },
  {
   "cell_type": "code",
   "execution_count": 38,
   "id": "cb3808fe",
   "metadata": {},
   "outputs": [
    {
     "name": "stdout",
     "output_type": "stream",
     "text": [
      "the ascii value of ! is 33\n",
      "the ascii value of \" is 34\n",
      "the ascii value of # is 35\n",
      "the ascii value of $ is 36\n",
      "the ascii value of % is 37\n",
      "the ascii value of & is 38\n",
      "the ascii value of ' is 39\n",
      "the ascii value of ( is 40\n",
      "the ascii value of ) is 41\n",
      "the ascii value of * is 42\n",
      "the ascii value of + is 43\n",
      "the ascii value of , is 44\n",
      "the ascii value of - is 45\n",
      "the ascii value of . is 46\n",
      "the ascii value of / is 47\n",
      "the ascii value of : is 58\n",
      "the ascii value of ; is 59\n",
      "the ascii value of < is 60\n",
      "the ascii value of = is 61\n",
      "the ascii value of > is 62\n",
      "the ascii value of ? is 63\n",
      "the ascii value of @ is 64\n",
      "the ascii value of [ is 91\n",
      "the ascii value of \\ is 92\n",
      "the ascii value of ] is 93\n",
      "the ascii value of ^ is 94\n",
      "the ascii value of _ is 95\n",
      "the ascii value of ` is 96\n",
      "the ascii value of { is 123\n",
      "the ascii value of | is 124\n",
      "the ascii value of } is 125\n",
      "the ascii value of ~ is 126\n"
     ]
    }
   ],
   "source": [
    "for i in string.punctuation:\n",
    "    print(\"the ascii value of {} is {}\".format(i,ord(i)))"
   ]
  },
  {
   "cell_type": "code",
   "execution_count": 39,
   "id": "fc98e61c",
   "metadata": {},
   "outputs": [
    {
     "data": {
      "text/plain": [
       "97"
      ]
     },
     "execution_count": 39,
     "metadata": {},
     "output_type": "execute_result"
    }
   ],
   "source": [
    "# what is the start and end of ascii numbers?\n",
    "\n",
    "ord('a') "
   ]
  },
  {
   "cell_type": "code",
   "execution_count": 49,
   "id": "05ca9d25",
   "metadata": {},
   "outputs": [
    {
     "name": "stdout",
     "output_type": "stream",
     "text": [
      "983 ϗ\n",
      "984 Ϙ\n",
      "985 ϙ\n",
      "986 Ϛ\n",
      "987 ϛ\n",
      "988 Ϝ\n",
      "989 ϝ\n",
      "990 Ϟ\n",
      "991 ϟ\n",
      "992 Ϡ\n",
      "993 ϡ\n",
      "994 Ϣ\n",
      "995 ϣ\n",
      "996 Ϥ\n",
      "997 ϥ\n",
      "998 Ϧ\n",
      "999 ϧ\n"
     ]
    }
   ],
   "source": [
    "for i in range(983,1000):\n",
    "    print(i,chr(i))\n",
    "    \n",
    "# start with 33 \n",
    "# end with 126\n",
    "# ascii: "
   ]
  },
  {
   "cell_type": "code",
   "execution_count": 50,
   "id": "b88fc8b0",
   "metadata": {},
   "outputs": [
    {
     "data": {
      "text/plain": [
       "'abcdefghijklmnopqrstuvwxyzABCDEFGHIJKLMNOPQRSTUVWXYZ'"
      ]
     },
     "execution_count": 50,
     "metadata": {},
     "output_type": "execute_result"
    }
   ],
   "source": [
    "string.ascii_letters"
   ]
  },
  {
   "cell_type": "code",
   "execution_count": 51,
   "id": "be4fc161",
   "metadata": {},
   "outputs": [
    {
     "data": {
      "text/plain": [
       "'0123456789abcdefghijklmnopqrstuvwxyzABCDEFGHIJKLMNOPQRSTUVWXYZ!\"#$%&\\'()*+,-./:;<=>?@[\\\\]^_`{|}~ \\t\\n\\r\\x0b\\x0c'"
      ]
     },
     "execution_count": 51,
     "metadata": {},
     "output_type": "execute_result"
    }
   ],
   "source": [
    "string.printable\n",
    "\n",
    "# digts\n",
    "# lower\n",
    "# upp\n",
    "# punct"
   ]
  },
  {
   "cell_type": "code",
   "execution_count": 54,
   "id": "255e66da",
   "metadata": {},
   "outputs": [
    {
     "name": "stdout",
     "output_type": "stream",
     "text": [
      "3\n"
     ]
    }
   ],
   "source": [
    "# WAP ask the user find number of 'a' letters in a given strinh\n",
    "# string='hai how are you and how do you do'\n",
    "# ans:3\n",
    "\n",
    "# count=0\n",
    "# first iterate the string using in and for loop\n",
    "# print each letter ==== > i\n",
    "# apply the if condition  i=='a'\n",
    "#                       count+=1\n",
    "string='hai how are you and how do you do'\n",
    "count=0\n",
    "for i in string:\n",
    "    #print(i)\n",
    "    if i=='a':\n",
    "        count=count+1\n",
    "        \n",
    "print(count)\n",
    "        \n",
    "# step-1:  i='h'  'h'=='a'  F\n",
    "# step-2:  i='a'   'a'=='a' T === > count=1"
   ]
  },
  {
   "cell_type": "code",
   "execution_count": 55,
   "id": "9bdd15bf",
   "metadata": {},
   "outputs": [
    {
     "name": "stdout",
     "output_type": "stream",
     "text": [
      "7\n"
     ]
    }
   ],
   "source": [
    "# WAP count the number of vowels in a given string\n",
    "# string='hai how are you'\n",
    "# 7\n",
    "\n",
    "string='hai how are you'\n",
    "count=0\n",
    "for i in string:\n",
    "    #print(i)\n",
    "    if i in 'aeiou':\n",
    "        count=count+1\n",
    "        \n",
    "print(count)"
   ]
  },
  {
   "cell_type": "code",
   "execution_count": 60,
   "id": "df030450",
   "metadata": {},
   "outputs": [
    {
     "name": "stdout",
     "output_type": "stream",
     "text": [
      "python\n"
     ]
    }
   ],
   "source": [
    "# WAP count the number of unique vowels in a given string\n",
    "# ans:5\n",
    "string1=''\n",
    "for i in 'python':\n",
    "    string1=string1+i\n",
    "    \n",
    "print(string1)"
   ]
  },
  {
   "cell_type": "code",
   "execution_count": 61,
   "id": "73ae4ea1",
   "metadata": {},
   "outputs": [
    {
     "name": "stdout",
     "output_type": "stream",
     "text": [
      "7\n"
     ]
    }
   ],
   "source": [
    "string='hai how are you'\n",
    "str1=''\n",
    "count=0\n",
    "for i in string:\n",
    "    if i in 'aeiou':\n",
    "        count=count+1\n",
    "        \n",
    "print(count)"
   ]
  },
  {
   "cell_type": "markdown",
   "id": "23678d4d",
   "metadata": {},
   "source": [
    "$concatenation$"
   ]
  },
  {
   "cell_type": "code",
   "execution_count": 62,
   "id": "360db4c9",
   "metadata": {},
   "outputs": [
    {
     "data": {
      "text/plain": [
       "'haihow'"
      ]
     },
     "execution_count": 62,
     "metadata": {},
     "output_type": "execute_result"
    }
   ],
   "source": [
    "str1='hai'\n",
    "str2='how'\n",
    "str1+str2"
   ]
  },
  {
   "cell_type": "code",
   "execution_count": null,
   "id": "a9bb357b",
   "metadata": {},
   "outputs": [],
   "source": [
    "str1-str2 #\n",
    "str1*str2 #\n",
    "str1/str2 #"
   ]
  },
  {
   "cell_type": "code",
   "execution_count": 66,
   "id": "fc74edd2",
   "metadata": {},
   "outputs": [
    {
     "ename": "TypeError",
     "evalue": "unsupported operand type(s) for -: 'str' and 'str'",
     "output_type": "error",
     "traceback": [
      "\u001b[1;31m---------------------------------------------------------------------------\u001b[0m",
      "\u001b[1;31mTypeError\u001b[0m                                 Traceback (most recent call last)",
      "Cell \u001b[1;32mIn[66], line 1\u001b[0m\n\u001b[1;32m----> 1\u001b[0m str1\u001b[38;5;241m-\u001b[39mstr2\n",
      "\u001b[1;31mTypeError\u001b[0m: unsupported operand type(s) for -: 'str' and 'str'"
     ]
    }
   ],
   "source": [
    "str1-str2"
   ]
  },
  {
   "cell_type": "code",
   "execution_count": 68,
   "id": "df524ab9",
   "metadata": {},
   "outputs": [
    {
     "data": {
      "text/plain": [
       "'haihaihai'"
      ]
     },
     "execution_count": 68,
     "metadata": {},
     "output_type": "execute_result"
    }
   ],
   "source": [
    "#can't multiply sequence by non-int of type 'str'\n",
    "\n",
    "3*str1"
   ]
  },
  {
   "cell_type": "code",
   "execution_count": 69,
   "id": "740f002a",
   "metadata": {},
   "outputs": [
    {
     "data": {
      "text/plain": [
       "'haihaihai'"
      ]
     },
     "execution_count": 69,
     "metadata": {},
     "output_type": "execute_result"
    }
   ],
   "source": [
    "str1+str1+str1"
   ]
  },
  {
   "cell_type": "code",
   "execution_count": null,
   "id": "1579edf7",
   "metadata": {},
   "outputs": [],
   "source": [
    "- how to read\n",
    "\n",
    "- single/double/triple\n",
    "\n",
    "- type\n",
    "\n",
    "- len\n",
    "\n",
    "- in (how to iterate through for loop)\n",
    "\n",
    "- max\n",
    "\n",
    "- min\n",
    "\n",
    "- concatenation"
   ]
  },
  {
   "cell_type": "markdown",
   "id": "4db57ba9",
   "metadata": {},
   "source": [
    "$index$"
   ]
  },
  {
   "cell_type": "code",
   "execution_count": 70,
   "id": "035e370e",
   "metadata": {},
   "outputs": [],
   "source": [
    "string1='python'  # 6 letters"
   ]
  },
  {
   "cell_type": "code",
   "execution_count": null,
   "id": "88416650",
   "metadata": {},
   "outputs": [],
   "source": [
    "p   y   t   h   o   n\n",
    "0   1   2   3   4   5"
   ]
  },
  {
   "cell_type": "code",
   "execution_count": 75,
   "id": "14e3acb8",
   "metadata": {},
   "outputs": [
    {
     "data": {
      "text/plain": [
       "('p', 'y', 't', 'h', 'o', 'n')"
      ]
     },
     "execution_count": 75,
     "metadata": {},
     "output_type": "execute_result"
    }
   ],
   "source": [
    "string1[0],string1[1],string1[2],string1[3],string1[4],string1[5]\n",
    "\n",
    "string1[i]"
   ]
  },
  {
   "cell_type": "code",
   "execution_count": 78,
   "id": "aafaa3c4",
   "metadata": {},
   "outputs": [
    {
     "name": "stdout",
     "output_type": "stream",
     "text": [
      "p\n",
      "y\n",
      "t\n",
      "h\n",
      "o\n"
     ]
    }
   ],
   "source": [
    "for i in range(5):\n",
    "    print(string1[i])\n",
    "#i=0 ====== string1[0]===='p'\n",
    "#i=1======= string1[1]===='y'\n",
    "\n",
    "# i ======= will give index\n",
    "# string[i] ======= letters"
   ]
  },
  {
   "cell_type": "code",
   "execution_count": 81,
   "id": "e50ef3b5",
   "metadata": {},
   "outputs": [
    {
     "name": "stdout",
     "output_type": "stream",
     "text": [
      "p\n",
      "y\n",
      "t\n",
      "h\n",
      "o\n",
      "n\n",
      "0 p\n",
      "1 y\n",
      "2 t\n",
      "3 h\n",
      "4 o\n",
      "5 n\n"
     ]
    }
   ],
   "source": [
    "string1='python'\n",
    "\n",
    "# i want to print letters using in opertor\n",
    "# i want to print letters using range operator\n",
    "for i in string1:\n",
    "    print(i)\n",
    "    \n",
    "for i in range(len(string1)):\n",
    "    print(i,string1[i])"
   ]
  },
  {
   "cell_type": "code",
   "execution_count": 83,
   "id": "2657fc9b",
   "metadata": {},
   "outputs": [
    {
     "ename": "TypeError",
     "evalue": "string indices must be integers, not 'str'",
     "output_type": "error",
     "traceback": [
      "\u001b[1;31m---------------------------------------------------------------------------\u001b[0m",
      "\u001b[1;31mTypeError\u001b[0m                                 Traceback (most recent call last)",
      "Cell \u001b[1;32mIn[83], line 4\u001b[0m\n\u001b[0;32m      1\u001b[0m name\u001b[38;5;241m=\u001b[39m\u001b[38;5;124m'\u001b[39m\u001b[38;5;124mpython class\u001b[39m\u001b[38;5;124m'\u001b[39m\n\u001b[0;32m      3\u001b[0m \u001b[38;5;28;01mfor\u001b[39;00m i \u001b[38;5;129;01min\u001b[39;00m name:\n\u001b[1;32m----> 4\u001b[0m     \u001b[38;5;28mprint\u001b[39m(\u001b[38;5;124m\"\u001b[39m\u001b[38;5;124mThe index no of \u001b[39m\u001b[38;5;124m'\u001b[39m\u001b[38;5;132;01m{}\u001b[39;00m\u001b[38;5;124m'\u001b[39m\u001b[38;5;124m is \u001b[39m\u001b[38;5;132;01m{}\u001b[39;00m\u001b[38;5;124m\"\u001b[39m\u001b[38;5;241m.\u001b[39mformat(name[i],i))\n",
      "\u001b[1;31mTypeError\u001b[0m: string indices must be integers, not 'str'"
     ]
    }
   ],
   "source": [
    "name='python class'\n",
    "\n",
    "for i in name:\n",
    "    print(\"The index no of '{}' is {}\".format(name[i],i))\n",
    "    \n",
    "    # i='p'  name['p'],'p'\n",
    "    \n",
    "# if you want print only letter : in\n",
    "# if you want print index: range\n",
    "# if you want print index as well as letter: range"
   ]
  },
  {
   "cell_type": "markdown",
   "id": "082cd304",
   "metadata": {},
   "source": [
    "- How to read the strings\n",
    "\n",
    "- doc string\n",
    "\n",
    "- type/len/max/min\n",
    "\n",
    "- concatenation\n",
    "\n",
    "- index"
   ]
  },
  {
   "cell_type": "code",
   "execution_count": 1,
   "id": "935714be",
   "metadata": {},
   "outputs": [],
   "source": [
    "string1='python'\n",
    "\n",
    "# I want to print the letters using for loop\n",
    "# in \n",
    "# range"
   ]
  },
  {
   "cell_type": "code",
   "execution_count": 11,
   "id": "0412802e",
   "metadata": {},
   "outputs": [
    {
     "name": "stdout",
     "output_type": "stream",
     "text": [
      "0 p\n",
      "1 y\n",
      "2 t\n",
      "3 h\n",
      "4 o\n",
      "5 n\n"
     ]
    }
   ],
   "source": [
    "for i in string1:   # i means each letter\n",
    "    print(i,end=' ')\n",
    "    \n",
    "    \n",
    "for i in range(len(string1)):  # i means numbers o \n",
    "    print(i,string1[i])\n",
    "    "
   ]
  },
  {
   "cell_type": "code",
   "execution_count": 12,
   "id": "7cf43eaf",
   "metadata": {},
   "outputs": [
    {
     "data": {
      "text/plain": [
       "'the index of y is 1'"
      ]
     },
     "execution_count": 12,
     "metadata": {},
     "output_type": "execute_result"
    }
   ],
   "source": [
    "'the index of p is 0'\n",
    "'the index of y is 1'"
   ]
  },
  {
   "cell_type": "code",
   "execution_count": 36,
   "id": "56d24865",
   "metadata": {},
   "outputs": [
    {
     "name": "stdout",
     "output_type": "stream",
     "text": [
      "the postive index of p is 0\n",
      "the postive index of y is 1\n",
      "the postive index of t is 2\n",
      "the postive index of h is 3\n",
      "the postive index of o is 4\n",
      "the postive index of n is 5\n"
     ]
    }
   ],
   "source": [
    "for i in range(len(string1)):  # i means numbers o \n",
    "    print('the postive index of {} is {}'.format(string1[i],i))"
   ]
  },
  {
   "cell_type": "code",
   "execution_count": null,
   "id": "76812638",
   "metadata": {},
   "outputs": [],
   "source": [
    "\n",
    "-6  -5   -4    -3   -2   -1\n",
    "p    y    t     h    o    n\n",
    "0    1    2     3    4    5 ======= > pos"
   ]
  },
  {
   "cell_type": "code",
   "execution_count": 15,
   "id": "96d47dbe",
   "metadata": {},
   "outputs": [
    {
     "data": {
      "text/plain": [
       "'n'"
      ]
     },
     "execution_count": 15,
     "metadata": {},
     "output_type": "execute_result"
    }
   ],
   "source": [
    "string1[-1]"
   ]
  },
  {
   "cell_type": "code",
   "execution_count": 22,
   "id": "3b8fb521",
   "metadata": {},
   "outputs": [
    {
     "data": {
      "text/plain": [
       "('p', 'y', 't', 'h', 'o', 'n')"
      ]
     },
     "execution_count": 22,
     "metadata": {},
     "output_type": "execute_result"
    }
   ],
   "source": [
    "string1[-6], string1[-5],string1[-4],string1[-3],string1[-2],string1[-1]"
   ]
  },
  {
   "cell_type": "code",
   "execution_count": 27,
   "id": "072011e9",
   "metadata": {},
   "outputs": [
    {
     "name": "stdout",
     "output_type": "stream",
     "text": [
      "the negative index of p is -6\n",
      "the negative index of y is -5\n",
      "the negative index of t is -4\n",
      "the negative index of h is -3\n",
      "the negative index of o is -2\n",
      "the negative index of n is -1\n"
     ]
    }
   ],
   "source": [
    "# iterate the for loop on string1\n",
    "# print the letters using negative index\n",
    "# the idea is first you need to print the numers between -6 to -1 using for loop\n",
    "\n",
    "string1='python'\n",
    "for i in range(-len(string1),0):\n",
    "    print(\"the negative index of {} is {}\".format(string1[i],i))"
   ]
  },
  {
   "cell_type": "code",
   "execution_count": 32,
   "id": "85f15f44",
   "metadata": {},
   "outputs": [
    {
     "name": "stdout",
     "output_type": "stream",
     "text": [
      "the negative index of p is -6\n",
      "the negative index of y is -5\n",
      "the negative index of t is -4\n",
      "the negative index of h is -3\n",
      "the negative index of o is -2\n",
      "the negative index of n is -1\n"
     ]
    }
   ],
   "source": [
    "string1='python'\n",
    "for i in range(len(string1)):\n",
    "    print(\"the negative index of {} is {}\".format(string1[i],i-6))"
   ]
  },
  {
   "cell_type": "code",
   "execution_count": 35,
   "id": "851fe38e",
   "metadata": {},
   "outputs": [
    {
     "name": "stdout",
     "output_type": "stream",
     "text": [
      "the postive index is 0 and negative index is p for -6\n",
      "the postive index is 1 and negative index is y for -5\n",
      "the postive index is 2 and negative index is t for -4\n",
      "the postive index is 3 and negative index is h for -3\n",
      "the postive index is 4 and negative index is o for -2\n",
      "the postive index is 5 and negative index is n for -1\n"
     ]
    }
   ],
   "source": [
    "string1='python'\n",
    "for i in range(len(string1)):\n",
    "    print(\"the postive index is {} and negative index is {} for {}\".format(i,string1[i],i-6))"
   ]
  },
  {
   "cell_type": "code",
   "execution_count": 31,
   "id": "4773f5f2",
   "metadata": {},
   "outputs": [
    {
     "name": "stdout",
     "output_type": "stream",
     "text": [
      "-6 -5 -4 -3 -2 -1 "
     ]
    }
   ],
   "source": [
    "#for i in range(-6,0):print(i,end=' ')\n",
    "for i in range(0,6):print(i-6,end=' ')  # 0 --------- -6   i-6\n",
    "                                     #  1 --------- -5"
   ]
  },
  {
   "cell_type": "code",
   "execution_count": null,
   "id": "7de0c755",
   "metadata": {},
   "outputs": [],
   "source": [
    "for i in range(len(string1)): \n",
    "    print('the postive index of {} is {}'.format(string1[i],i))\n",
    "    \n",
    "    \n",
    "for i in range(len(string1)):\n",
    "    print(\"the negative index of {} is {}\".format(string1[i],i-6))\n",
    "    \n",
    "    \n",
    "for i in range(len(string1)):\n",
    "    print(\"the postive index is {} and negative index is {} for {}\".format(i,string1[i],i-6))"
   ]
  },
  {
   "cell_type": "code",
   "execution_count": 40,
   "id": "1c4fe664",
   "metadata": {},
   "outputs": [
    {
     "name": "stdout",
     "output_type": "stream",
     "text": [
      "the postive index of p is 0\n",
      "the postive index of y is 1\n",
      "the postive index of t is 2\n",
      "the postive index of h is 3\n",
      "the postive index of o is 4\n",
      "the postive index of n is 5\n",
      "the negative index of p is -6\n",
      "the negative index of y is -5\n",
      "the negative index of t is -4\n",
      "the negative index of h is -3\n",
      "the negative index of o is -2\n",
      "the negative index of n is -1\n",
      "the postive index is 0 and negative index is p for -6\n",
      "the postive index is 1 and negative index is y for -5\n",
      "the postive index is 2 and negative index is t for -4\n",
      "the postive index is 3 and negative index is h for -3\n",
      "the postive index is 4 and negative index is o for -2\n",
      "the postive index is 5 and negative index is n for -1\n"
     ]
    }
   ],
   "source": [
    "for i in range(-len(string1),0):  \n",
    "    print('the postive index of {} is {}'.format(string1[i],i+6))\n",
    "    \n",
    "    \n",
    "for i in range(-len(string1),0):\n",
    "    print(\"the negative index of {} is {}\".format(string1[i],i))\n",
    "    \n",
    "\n",
    "for i in range(-len(string1),0):\n",
    "    print(\"the postive index is {} and negative index is {} for {}\".format(i+6,string1[i],i))"
   ]
  },
  {
   "cell_type": "code",
   "execution_count": 39,
   "id": "6a4fa7bf",
   "metadata": {},
   "outputs": [
    {
     "name": "stdout",
     "output_type": "stream",
     "text": [
      "-6 0\n",
      "-5 1\n",
      "-4 2\n",
      "-3 3\n",
      "-2 4\n",
      "-1 5\n"
     ]
    }
   ],
   "source": [
    "for i in range(-len(string1),0): \n",
    "    print(i,i+6)"
   ]
  },
  {
   "cell_type": "code",
   "execution_count": 43,
   "id": "fbb6634c",
   "metadata": {},
   "outputs": [
    {
     "name": "stdout",
     "output_type": "stream",
     "text": [
      "the postive index is 0 and negative index is -6 for p\n",
      "the postive index is 1 and negative index is -5 for y\n",
      "the postive index is 2 and negative index is -4 for t\n",
      "the postive index is 3 and negative index is -3 for h\n",
      "the postive index is 4 and negative index is -2 for o\n",
      "the postive index is 5 and negative index is -1 for n\n"
     ]
    }
   ],
   "source": [
    "i=0\n",
    "while i<len(string1):\n",
    "    print(\"the postive index is {} and negative index is {} for {}\".format(i,i-6,string1[i]))\n",
    "    i=i+1"
   ]
  },
  {
   "cell_type": "code",
   "execution_count": 47,
   "id": "b4298447",
   "metadata": {},
   "outputs": [
    {
     "name": "stdout",
     "output_type": "stream",
     "text": [
      "2\n"
     ]
    }
   ],
   "source": [
    "string1='hai how are you'\n",
    "count=0\n",
    "for i in string1:\n",
    "    if i=='a':\n",
    "        count+=1\n",
    "print(count)"
   ]
  },
  {
   "cell_type": "code",
   "execution_count": 46,
   "id": "4b7ad337",
   "metadata": {},
   "outputs": [
    {
     "name": "stdout",
     "output_type": "stream",
     "text": [
      "2\n"
     ]
    }
   ],
   "source": [
    "string1='hai how are you'\n",
    "count=0\n",
    "for i in range(len(string1)):\n",
    "    if string1[i]=='a':\n",
    "        count+=1\n",
    "print(count)"
   ]
  },
  {
   "cell_type": "markdown",
   "id": "394ebff6",
   "metadata": {},
   "source": [
    "**Mutable and immutable concept**\n",
    "\n",
    "mutable ===== we can change\n",
    "\n",
    "immutable ===== we can not change the value by using index operations\n",
    "\n",
    "\n",
    "**strings are immutable**"
   ]
  },
  {
   "cell_type": "code",
   "execution_count": 50,
   "id": "8b905b2b",
   "metadata": {},
   "outputs": [
    {
     "ename": "TypeError",
     "evalue": "'str' object does not support item assignment",
     "output_type": "error",
     "traceback": [
      "\u001b[1;31m---------------------------------------------------------------------------\u001b[0m",
      "\u001b[1;31mTypeError\u001b[0m                                 Traceback (most recent call last)",
      "Cell \u001b[1;32mIn[50], line 4\u001b[0m\n\u001b[0;32m      1\u001b[0m string1\u001b[38;5;241m=\u001b[39m\u001b[38;5;124m'\u001b[39m\u001b[38;5;124mpython\u001b[39m\u001b[38;5;124m'\u001b[39m \n\u001b[0;32m      2\u001b[0m \u001b[38;5;66;03m# I want change  'p'  ====== 'P'\u001b[39;00m\n\u001b[0;32m      3\u001b[0m \u001b[38;5;66;03m# o/p: 'Python'\u001b[39;00m\n\u001b[1;32m----> 4\u001b[0m string1[\u001b[38;5;241m0\u001b[39m]\u001b[38;5;241m=\u001b[39m\u001b[38;5;124m'\u001b[39m\u001b[38;5;124mP\u001b[39m\u001b[38;5;124m'\u001b[39m\n",
      "\u001b[1;31mTypeError\u001b[0m: 'str' object does not support item assignment"
     ]
    }
   ],
   "source": [
    "string1='python' \n",
    "# I want change  'p'  ====== 'P'\n",
    "# o/p: 'Python'\n",
    "string1[0]='P'"
   ]
  },
  {
   "cell_type": "code",
   "execution_count": 53,
   "id": "773c87ac",
   "metadata": {},
   "outputs": [
    {
     "data": {
      "text/plain": [
       "[1000, 200, 300]"
      ]
     },
     "execution_count": 53,
     "metadata": {},
     "output_type": "execute_result"
    }
   ],
   "source": [
    "list1=[100,200,300]  # 100 ====== 1000\n",
    "list1[0]=1000\n",
    "list1"
   ]
  },
  {
   "cell_type": "markdown",
   "id": "a1bb98e6",
   "metadata": {},
   "source": [
    "$slice$"
   ]
  },
  {
   "cell_type": "code",
   "execution_count": null,
   "id": "a3064824",
   "metadata": {},
   "outputs": [],
   "source": [
    "h  a  i     h  o  w     a  r  e       y   o  u\n",
    "0  1  2  3  4  5  6  7  8  9  10  11 12  13 14 "
   ]
  },
  {
   "cell_type": "code",
   "execution_count": 55,
   "id": "ee139208",
   "metadata": {},
   "outputs": [
    {
     "data": {
      "text/plain": [
       "'i how ar'"
      ]
     },
     "execution_count": 55,
     "metadata": {},
     "output_type": "execute_result"
    }
   ],
   "source": [
    "string1='hai how are you'\n",
    "string1[2:10]\n",
    "# start=2\n",
    "# stop=10-1=9\n",
    "# postive"
   ]
  },
  {
   "cell_type": "code",
   "execution_count": 56,
   "id": "eebe24c4",
   "metadata": {},
   "outputs": [
    {
     "data": {
      "text/plain": [
       "'ioa'"
      ]
     },
     "execution_count": 56,
     "metadata": {},
     "output_type": "execute_result"
    }
   ],
   "source": [
    "string1='hai how are you'\n",
    "string1[2:10:3]\n",
    "# start=2\n",
    "# dire=+  step=3\n",
    "# stop=10-1=9\n",
    "# 2  5  8  "
   ]
  },
  {
   "cell_type": "code",
   "execution_count": 57,
   "id": "499dc500",
   "metadata": {},
   "outputs": [
    {
     "data": {
      "text/plain": [
       "'hai how are you'"
      ]
     },
     "execution_count": 57,
     "metadata": {},
     "output_type": "execute_result"
    }
   ],
   "source": [
    "string1[:]\n",
    "\n",
    "# nothing mentioned means take start and last letter"
   ]
  },
  {
   "cell_type": "code",
   "execution_count": 58,
   "id": "020df031",
   "metadata": {},
   "outputs": [
    {
     "data": {
      "text/plain": [
       "'hai how are you'"
      ]
     },
     "execution_count": 58,
     "metadata": {},
     "output_type": "execute_result"
    }
   ],
   "source": [
    "string1[::]\n",
    "# start= 0\n",
    "# stop= last letter len(string1)\n",
    "# step= +1"
   ]
  },
  {
   "cell_type": "code",
   "execution_count": null,
   "id": "2a6d690a",
   "metadata": {},
   "outputs": [],
   "source": [
    "string1='hai how are you'\n",
    "string1[2:10]\n",
    "string1[2:10:3]\n",
    "string1[:]\n",
    "string1[::]"
   ]
  },
  {
   "cell_type": "code",
   "execution_count": 59,
   "id": "b7a8b8a9",
   "metadata": {},
   "outputs": [
    {
     "data": {
      "text/plain": [
       "''"
      ]
     },
     "execution_count": 59,
     "metadata": {},
     "output_type": "execute_result"
    }
   ],
   "source": [
    "string1[2:10:-3]"
   ]
  },
  {
   "cell_type": "code",
   "execution_count": 60,
   "id": "16a29450",
   "metadata": {},
   "outputs": [],
   "source": [
    "for i in range(2,10,-3):print(i)"
   ]
  },
  {
   "cell_type": "code",
   "execution_count": 61,
   "id": "902d2298",
   "metadata": {},
   "outputs": [
    {
     "data": {
      "text/plain": [
       "15"
      ]
     },
     "execution_count": 61,
     "metadata": {},
     "output_type": "execute_result"
    }
   ],
   "source": [
    "len(string1)"
   ]
  },
  {
   "cell_type": "code",
   "execution_count": null,
   "id": "9684dbb8",
   "metadata": {},
   "outputs": [],
   "source": [
    "-15  -14  -13  -12  -11  -10  -9  -8  -7  -6  -5  -4  -3  -2  -1\n",
    "h     a    i          h   o   w        a   r   e       y   o  u\n",
    "0     1    2    3     4   5   6    7   8   9  10  11   12  13 14 "
   ]
  },
  {
   "cell_type": "code",
   "execution_count": 65,
   "id": "61d2d41e",
   "metadata": {},
   "outputs": [
    {
     "data": {
      "text/plain": [
       "'awhi'"
      ]
     },
     "execution_count": 65,
     "metadata": {},
     "output_type": "execute_result"
    }
   ],
   "source": [
    "string1[8:-15:-2]  # start=8  stop =-15+1=-14  step=2"
   ]
  },
  {
   "cell_type": "code",
   "execution_count": 69,
   "id": "af4ad946",
   "metadata": {},
   "outputs": [
    {
     "data": {
      "text/plain": [
       "'o r o '"
      ]
     },
     "execution_count": 69,
     "metadata": {},
     "output_type": "execute_result"
    }
   ],
   "source": [
    "string1[-2:-14:-2]   # empty   i \n",
    "\n",
    "# start=2\n",
    "# stop=-14+1=-13\n",
    "# \n",
    "# ' '"
   ]
  },
  {
   "cell_type": "code",
   "execution_count": 3,
   "id": "39f740e5",
   "metadata": {},
   "outputs": [
    {
     "ename": "NameError",
     "evalue": "name 'string1' is not defined",
     "output_type": "error",
     "traceback": [
      "\u001b[1;31m---------------------------------------------------------------------------\u001b[0m",
      "\u001b[1;31mNameError\u001b[0m                                 Traceback (most recent call last)",
      "Cell \u001b[1;32mIn[3], line 1\u001b[0m\n\u001b[1;32m----> 1\u001b[0m string1[\u001b[38;5;241m2\u001b[39m:\u001b[38;5;241m14\u001b[39m:\u001b[38;5;241m2\u001b[39m] \u001b[38;5;66;03m## P\u001b[39;00m\n\u001b[0;32m      2\u001b[0m string1[\u001b[38;5;241m2\u001b[39m:\u001b[38;5;241m14\u001b[39m:\u001b[38;5;241m-\u001b[39m\u001b[38;5;241m2\u001b[39m] \u001b[38;5;66;03m# Np\u001b[39;00m\n\u001b[0;32m      3\u001b[0m string1[\u001b[38;5;241m2\u001b[39m:\u001b[38;5;241m-\u001b[39m\u001b[38;5;241m14\u001b[39m:\u001b[38;5;241m2\u001b[39m] \u001b[38;5;66;03m# np\u001b[39;00m\n",
      "\u001b[1;31mNameError\u001b[0m: name 'string1' is not defined"
     ]
    }
   ],
   "source": [
    "string1[2:14:2] ## P\n",
    "string1[2:14:-2] # Np\n",
    "string1[2:-14:2] # np\n",
    "string1[2:-14:-2] # \n",
    "string1[-2:14:2] # p\n",
    "string1[-2:-14:2] # np\n",
    "string1[-2:-14:-2]"
   ]
  },
  {
   "cell_type": "code",
   "execution_count": 2,
   "id": "8a5ec890",
   "metadata": {},
   "outputs": [
    {
     "name": "stdout",
     "output_type": "stream",
     "text": [
      "1 2 3 4 4 "
     ]
    }
   ],
   "source": [
    "string1=(\"12344\")\n",
    "for i in string1:print(i,end=' ')"
   ]
  },
  {
   "cell_type": "code",
   "execution_count": null,
   "id": "55b9e058",
   "metadata": {},
   "outputs": [],
   "source": []
  },
  {
   "cell_type": "markdown",
   "id": "47f74ac0",
   "metadata": {},
   "source": [
    "- reading methods\n",
    "\n",
    "- single/double/triple(doc string)\n",
    "\n",
    "- type\n",
    "\n",
    "- len\n",
    "\n",
    "- max\n",
    "\n",
    "- min\n",
    "\n",
    "- concatenation\n",
    "\n",
    "- subtraction/mult/div\n",
    "\n",
    "- in \n",
    "\n",
    "- index\n",
    "\n",
    "- mutable\n",
    "\n",
    "- slice"
   ]
  },
  {
   "cell_type": "markdown",
   "id": "7ad43b38",
   "metadata": {},
   "source": [
    "**String Methods**"
   ]
  },
  {
   "cell_type": "code",
   "execution_count": null,
   "id": "7f173766",
   "metadata": {},
   "outputs": [],
   "source": [
    "import <package_name>\n",
    "dir(<package_name>)\n",
    "help(<package_name>.<method_name>)"
   ]
  },
  {
   "cell_type": "code",
   "execution_count": 70,
   "id": "14d608cc",
   "metadata": {},
   "outputs": [
    {
     "data": {
      "text/plain": [
       "['__add__',\n",
       " '__class__',\n",
       " '__contains__',\n",
       " '__delattr__',\n",
       " '__dir__',\n",
       " '__doc__',\n",
       " '__eq__',\n",
       " '__format__',\n",
       " '__ge__',\n",
       " '__getattribute__',\n",
       " '__getitem__',\n",
       " '__getnewargs__',\n",
       " '__getstate__',\n",
       " '__gt__',\n",
       " '__hash__',\n",
       " '__init__',\n",
       " '__init_subclass__',\n",
       " '__iter__',\n",
       " '__le__',\n",
       " '__len__',\n",
       " '__lt__',\n",
       " '__mod__',\n",
       " '__mul__',\n",
       " '__ne__',\n",
       " '__new__',\n",
       " '__reduce__',\n",
       " '__reduce_ex__',\n",
       " '__repr__',\n",
       " '__rmod__',\n",
       " '__rmul__',\n",
       " '__setattr__',\n",
       " '__sizeof__',\n",
       " '__str__',\n",
       " '__subclasshook__',\n",
       " 'capitalize',\n",
       " 'casefold',\n",
       " 'center',\n",
       " 'count',\n",
       " 'encode',\n",
       " 'endswith',\n",
       " 'expandtabs',\n",
       " 'find',\n",
       " 'format',\n",
       " 'format_map',\n",
       " 'index',\n",
       " 'isalnum',\n",
       " 'isalpha',\n",
       " 'isascii',\n",
       " 'isdecimal',\n",
       " 'isdigit',\n",
       " 'isidentifier',\n",
       " 'islower',\n",
       " 'isnumeric',\n",
       " 'isprintable',\n",
       " 'isspace',\n",
       " 'istitle',\n",
       " 'isupper',\n",
       " 'join',\n",
       " 'ljust',\n",
       " 'lower',\n",
       " 'lstrip',\n",
       " 'maketrans',\n",
       " 'partition',\n",
       " 'removeprefix',\n",
       " 'removesuffix',\n",
       " 'replace',\n",
       " 'rfind',\n",
       " 'rindex',\n",
       " 'rjust',\n",
       " 'rpartition',\n",
       " 'rsplit',\n",
       " 'rstrip',\n",
       " 'split',\n",
       " 'splitlines',\n",
       " 'startswith',\n",
       " 'strip',\n",
       " 'swapcase',\n",
       " 'title',\n",
       " 'translate',\n",
       " 'upper',\n",
       " 'zfill']"
      ]
     },
     "execution_count": 70,
     "metadata": {},
     "output_type": "execute_result"
    }
   ],
   "source": [
    "dir('')"
   ]
  },
  {
   "cell_type": "markdown",
   "id": "8ac42e07",
   "metadata": {},
   "source": [
    "$capitalize$"
   ]
  },
  {
   "cell_type": "code",
   "execution_count": 77,
   "id": "e597a15d",
   "metadata": {},
   "outputs": [
    {
     "data": {
      "text/plain": [
       "'Welcome'"
      ]
     },
     "execution_count": 77,
     "metadata": {},
     "output_type": "execute_result"
    }
   ],
   "source": [
    "string1='welcome'\n",
    "string1.capitalize()"
   ]
  },
  {
   "cell_type": "markdown",
   "id": "de6123b7",
   "metadata": {},
   "source": [
    "$upper$"
   ]
  },
  {
   "cell_type": "code",
   "execution_count": 78,
   "id": "a0331495",
   "metadata": {},
   "outputs": [
    {
     "data": {
      "text/plain": [
       "'WELCOME'"
      ]
     },
     "execution_count": 78,
     "metadata": {},
     "output_type": "execute_result"
    }
   ],
   "source": [
    "string1.upper()"
   ]
  },
  {
   "cell_type": "markdown",
   "id": "bcf7bd20",
   "metadata": {},
   "source": [
    "$lower$"
   ]
  },
  {
   "cell_type": "code",
   "execution_count": 79,
   "id": "66479e7e",
   "metadata": {},
   "outputs": [
    {
     "data": {
      "text/plain": [
       "'welcome'"
      ]
     },
     "execution_count": 79,
     "metadata": {},
     "output_type": "execute_result"
    }
   ],
   "source": [
    "string1.lower()"
   ]
  },
  {
   "cell_type": "code",
   "execution_count": 80,
   "id": "56850399",
   "metadata": {},
   "outputs": [
    {
     "name": "stdout",
     "output_type": "stream",
     "text": [
      "Welcome\n",
      "WELCOME\n",
      "welcome\n"
     ]
    }
   ],
   "source": [
    "string1='weLCome'\n",
    "print(string1.capitalize())\n",
    "print(string1.upper())\n",
    "print(string1.lower())"
   ]
  },
  {
   "cell_type": "code",
   "execution_count": 81,
   "id": "64415c3f",
   "metadata": {},
   "outputs": [],
   "source": [
    "string1='hai how are you'\n",
    "# how many 'a' s are there"
   ]
  },
  {
   "cell_type": "code",
   "execution_count": 82,
   "id": "28a18b9a",
   "metadata": {},
   "outputs": [
    {
     "data": {
      "text/plain": [
       "2"
      ]
     },
     "execution_count": 82,
     "metadata": {},
     "output_type": "execute_result"
    }
   ],
   "source": [
    "string1.count('a')"
   ]
  },
  {
   "cell_type": "code",
   "execution_count": 83,
   "id": "3ffd19c6",
   "metadata": {},
   "outputs": [],
   "source": [
    "count=0\n",
    "for i in string1:\n",
    "    if i=='a':\n",
    "        count+=1"
   ]
  },
  {
   "cell_type": "code",
   "execution_count": 89,
   "id": "fee8b455",
   "metadata": {},
   "outputs": [],
   "source": [
    "string1='welcome'\n",
    "# output: 'weLcome'\n",
    "# idea: \n",
    "# str1=we   \n",
    "# str2=come\n",
    "# index\n",
    "# slice\n",
    "# concatenation= str1+'L'+str2"
   ]
  },
  {
   "cell_type": "code",
   "execution_count": 93,
   "id": "d37ef1a7",
   "metadata": {},
   "outputs": [
    {
     "data": {
      "text/plain": [
       "'weLcome'"
      ]
     },
     "execution_count": 93,
     "metadata": {},
     "output_type": "execute_result"
    }
   ],
   "source": [
    "string1='welcome'\n",
    "str1=string1[:2]\n",
    "str2=string1[3:]\n",
    "str1+'L'+str2"
   ]
  },
  {
   "cell_type": "code",
   "execution_count": 94,
   "id": "0f90345d",
   "metadata": {},
   "outputs": [
    {
     "data": {
      "text/plain": [
       "'weLcome'"
      ]
     },
     "execution_count": 94,
     "metadata": {},
     "output_type": "execute_result"
    }
   ],
   "source": [
    "string1.replace('l','L')"
   ]
  },
  {
   "cell_type": "markdown",
   "id": "636d33c7",
   "metadata": {},
   "source": [
    "**casefold**"
   ]
  },
  {
   "cell_type": "code",
   "execution_count": 1,
   "id": "1fa8a49f",
   "metadata": {},
   "outputs": [
    {
     "data": {
      "text/plain": [
       "'welcome'"
      ]
     },
     "execution_count": 1,
     "metadata": {},
     "output_type": "execute_result"
    }
   ],
   "source": [
    "string1='WelCome'\n",
    "string1.casefold()"
   ]
  },
  {
   "cell_type": "code",
   "execution_count": 2,
   "id": "494e12fb",
   "metadata": {},
   "outputs": [
    {
     "data": {
      "text/plain": [
       "'welcome'"
      ]
     },
     "execution_count": 2,
     "metadata": {},
     "output_type": "execute_result"
    }
   ],
   "source": [
    "string2='welcome'\n",
    "string2.casefold()"
   ]
  },
  {
   "cell_type": "code",
   "execution_count": null,
   "id": "9f51c674",
   "metadata": {},
   "outputs": [],
   "source": []
  },
  {
   "cell_type": "markdown",
   "id": "ace7df87",
   "metadata": {},
   "source": [
    "- capitalize  :  First letter as capital\n",
    "\n",
    "- upper :  ALL letters are in upper case\n",
    "\n",
    "- lower : All letters are in lower case\n",
    "\n",
    "- casefold : Case less comparision( lower case)"
   ]
  },
  {
   "cell_type": "markdown",
   "id": "cd9b940c",
   "metadata": {},
   "source": [
    "$Count$"
   ]
  },
  {
   "cell_type": "code",
   "execution_count": 3,
   "id": "82b99596",
   "metadata": {},
   "outputs": [
    {
     "data": {
      "text/plain": [
       "2"
      ]
     },
     "execution_count": 3,
     "metadata": {},
     "output_type": "execute_result"
    }
   ],
   "source": [
    "string1='hai how are you'\n",
    "# How many 'a' are there\n",
    "string1.count('a')"
   ]
  },
  {
   "cell_type": "code",
   "execution_count": 4,
   "id": "fc61f7a3",
   "metadata": {},
   "outputs": [
    {
     "data": {
      "text/plain": [
       "1"
      ]
     },
     "execution_count": 4,
     "metadata": {},
     "output_type": "execute_result"
    }
   ],
   "source": [
    "string1.count('hai')"
   ]
  },
  {
   "cell_type": "code",
   "execution_count": 8,
   "id": "c5e30235",
   "metadata": {},
   "outputs": [
    {
     "name": "stdout",
     "output_type": "stream",
     "text": [
      "3\n",
      "2\n",
      "3\n",
      "0\n"
     ]
    }
   ],
   "source": [
    "string1='ola ola ola'\n",
    "print(string1.count('ola'))  # 3\n",
    "print(string1.count('ola ')) # 2\n",
    "print(string1.count('ol'))  # 3\n",
    "print(string1.count('oa'))  # check 'o' after 'a' is there?"
   ]
  },
  {
   "cell_type": "code",
   "execution_count": 19,
   "id": "68c4dc15",
   "metadata": {},
   "outputs": [
    {
     "name": "stdout",
     "output_type": "stream",
     "text": [
      "2\n",
      "2\n",
      "0\n",
      "1\n",
      "0\n",
      "2\n",
      "0\n"
     ]
    }
   ],
   "source": [
    "string1='ola ola ola'\n",
    "# ola   ola   ola\n",
    "# 012 3 456 7 8910\n",
    "# we are counting the number of 'a' from index 4\n",
    "print(string1.count('a',4)) \n",
    "print(string1.count('a',6))\n",
    "print(string1.count('a',4,6))  # 4 and 5\n",
    "print(string1.count('a',4,7))  # 4 5 6\n",
    "print(string1.count('A',4))    # 0\n",
    "print(string1.count('A'.lower(),4))  # 2\n",
    "print(string1.count('a'.upper(),4,7))"
   ]
  },
  {
   "cell_type": "code",
   "execution_count": null,
   "id": "08c2277e",
   "metadata": {},
   "outputs": [],
   "source": [
    "'ola ola ola'.count('a')"
   ]
  },
  {
   "cell_type": "code",
   "execution_count": null,
   "id": "996b18f2",
   "metadata": {},
   "outputs": [],
   "source": [
    "# sir any ignore case function"
   ]
  },
  {
   "cell_type": "code",
   "execution_count": 21,
   "id": "80470c02",
   "metadata": {},
   "outputs": [
    {
     "name": "stdout",
     "output_type": "stream",
     "text": [
      "3\n"
     ]
    }
   ],
   "source": [
    "string1='ola ola ola'\n",
    "count=0\n",
    "for i in string1:\n",
    "    if i=='a':\n",
    "        count+=1\n",
    "        \n",
    "print(count)"
   ]
  },
  {
   "cell_type": "code",
   "execution_count": 22,
   "id": "7fa9b4d3",
   "metadata": {},
   "outputs": [
    {
     "data": {
      "text/plain": [
       "3"
      ]
     },
     "execution_count": 22,
     "metadata": {},
     "output_type": "execute_result"
    }
   ],
   "source": [
    "# How many 'ola' are there \n",
    "# do till now what we completed use that only except count method\n",
    "count = 0\n",
    "word = ''\n",
    "for i in string1:\n",
    "    if i != ' ':\n",
    "        word+=i\n",
    "    if word == 'ola':\n",
    "        count+=1\n",
    "        word=''\n",
    "    \n",
    "count"
   ]
  },
  {
   "cell_type": "code",
   "execution_count": 23,
   "id": "819fa2b7",
   "metadata": {},
   "outputs": [
    {
     "name": "stdout",
     "output_type": "stream",
     "text": [
      "3\n"
     ]
    }
   ],
   "source": [
    "string1='ola ola ola'\n",
    "count=0\n",
    "for i in range(len(string1)):\n",
    "    if string1[i:i+3]=='ola':\n",
    "        count+=1\n",
    "        \n",
    "print(count)\n",
    "# i=0   string1[0:3]: 0 1 2  : ola\n",
    "# i=1   string1[1:4]: 1 2 3  : la "
   ]
  },
  {
   "cell_type": "code",
   "execution_count": 24,
   "id": "ae816f8d",
   "metadata": {},
   "outputs": [
    {
     "data": {
      "text/plain": [
       "3"
      ]
     },
     "execution_count": 24,
     "metadata": {},
     "output_type": "execute_result"
    }
   ],
   "source": [
    "string1.count('a') # this as developer \n",
    "string1.count('ola') # as developer mode"
   ]
  },
  {
   "cell_type": "markdown",
   "id": "d12dfbd3",
   "metadata": {},
   "source": [
    "$replace$"
   ]
  },
  {
   "cell_type": "code",
   "execution_count": 29,
   "id": "6f0ab003",
   "metadata": {},
   "outputs": [
    {
     "data": {
      "text/plain": [
       "'we@come'"
      ]
     },
     "execution_count": 29,
     "metadata": {},
     "output_type": "execute_result"
    }
   ],
   "source": [
    "string1='welcome'\n",
    "# replace 'l' with 'L'\n",
    "string1.replace('l','@')"
   ]
  },
  {
   "cell_type": "code",
   "execution_count": 30,
   "id": "f71aaf87",
   "metadata": {},
   "outputs": [
    {
     "data": {
      "text/plain": [
       "'$esta$t'"
      ]
     },
     "execution_count": 30,
     "metadata": {},
     "output_type": "execute_result"
    }
   ],
   "source": [
    "string1='restart'\n",
    "# replace 'r' with '$'\n",
    "string1.replace('r','$')"
   ]
  },
  {
   "cell_type": "code",
   "execution_count": 40,
   "id": "03e5237e",
   "metadata": {},
   "outputs": [
    {
     "data": {
      "text/plain": [
       "'$estart'"
      ]
     },
     "execution_count": 40,
     "metadata": {},
     "output_type": "execute_result"
    }
   ],
   "source": [
    "string1='restart'\n",
    "# replace 'r' with '$'\n",
    "string1.replace('r','$',1)"
   ]
  },
  {
   "cell_type": "code",
   "execution_count": null,
   "id": "24b82ca8",
   "metadata": {},
   "outputs": [],
   "source": [
    "string1='restart'\n",
    "# o/p: 'resta$t'\n",
    "\n",
    "# Do only with what we completed till now"
   ]
  },
  {
   "cell_type": "code",
   "execution_count": 26,
   "id": "68034e07",
   "metadata": {},
   "outputs": [
    {
     "data": {
      "text/plain": [
       "11"
      ]
     },
     "execution_count": 26,
     "metadata": {},
     "output_type": "execute_result"
    }
   ],
   "source": [
    "len(string1)\n",
    "max(string1)  # string1.max()"
   ]
  },
  {
   "cell_type": "code",
   "execution_count": 45,
   "id": "594f522b",
   "metadata": {},
   "outputs": [
    {
     "data": {
      "text/plain": [
       "'resta$t'"
      ]
     },
     "execution_count": 45,
     "metadata": {},
     "output_type": "execute_result"
    }
   ],
   "source": [
    "string1='restart'\n",
    "s1=string1[0]\n",
    "s2=string1[1:].replace('r','$')\n",
    "s1+s2"
   ]
  },
  {
   "cell_type": "code",
   "execution_count": 49,
   "id": "2f86306a",
   "metadata": {},
   "outputs": [
    {
     "data": {
      "text/plain": [
       "'resta$t'"
      ]
     },
     "execution_count": 49,
     "metadata": {},
     "output_type": "execute_result"
    }
   ],
   "source": [
    "string1[::-1].replace('r','$',1)[::-1]"
   ]
  },
  {
   "cell_type": "markdown",
   "id": "dde7e190",
   "metadata": {},
   "source": [
    "$index$"
   ]
  },
  {
   "cell_type": "code",
   "execution_count": 50,
   "id": "d68bcd49",
   "metadata": {},
   "outputs": [
    {
     "data": {
      "text/plain": [
       "3"
      ]
     },
     "execution_count": 50,
     "metadata": {},
     "output_type": "execute_result"
    }
   ],
   "source": [
    "string1='welcome python'\n",
    "\n",
    "# index of 'c'\n",
    "string1.index('c')"
   ]
  },
  {
   "cell_type": "code",
   "execution_count": 51,
   "id": "d389ecd6",
   "metadata": {},
   "outputs": [
    {
     "ename": "ValueError",
     "evalue": "substring not found",
     "output_type": "error",
     "traceback": [
      "\u001b[1;31m---------------------------------------------------------------------------\u001b[0m",
      "\u001b[1;31mValueError\u001b[0m                                Traceback (most recent call last)",
      "Cell \u001b[1;32mIn[51], line 1\u001b[0m\n\u001b[1;32m----> 1\u001b[0m string1\u001b[38;5;241m.\u001b[39mindex(\u001b[38;5;124m'\u001b[39m\u001b[38;5;124mz\u001b[39m\u001b[38;5;124m'\u001b[39m)\n",
      "\u001b[1;31mValueError\u001b[0m: substring not found"
     ]
    }
   ],
   "source": [
    "string1.index('z') # sub string not found"
   ]
  },
  {
   "cell_type": "code",
   "execution_count": 53,
   "id": "f62c4c85",
   "metadata": {},
   "outputs": [
    {
     "name": "stdout",
     "output_type": "stream",
     "text": [
      "3\n"
     ]
    },
    {
     "data": {
      "text/plain": [
       "3"
      ]
     },
     "execution_count": 53,
     "metadata": {},
     "output_type": "execute_result"
    }
   ],
   "source": [
    "string1='hai how are you and' \n",
    "# how many 'a' are there\n",
    "# what are the indexes of 'a'\n",
    "\n",
    "count=0\n",
    "for i in string1:\n",
    "    if i=='a':\n",
    "        count+=1\n",
    "        \n",
    "print(count)\n",
    "\n",
    "string1.count('a')"
   ]
  },
  {
   "cell_type": "code",
   "execution_count": 54,
   "id": "26dcdd43",
   "metadata": {},
   "outputs": [
    {
     "name": "stdout",
     "output_type": "stream",
     "text": [
      "1\n",
      "8\n",
      "16\n"
     ]
    }
   ],
   "source": [
    "for i in range(len(string1)):\n",
    "    if string1[i]=='a':\n",
    "        print(i)"
   ]
  },
  {
   "cell_type": "code",
   "execution_count": 55,
   "id": "05bd5576",
   "metadata": {},
   "outputs": [
    {
     "data": {
      "text/plain": [
       "1"
      ]
     },
     "execution_count": 55,
     "metadata": {},
     "output_type": "execute_result"
    }
   ],
   "source": [
    "string1.index('a')  # only first occurence"
   ]
  },
  {
   "cell_type": "code",
   "execution_count": 65,
   "id": "c09d6645",
   "metadata": {},
   "outputs": [
    {
     "name": "stdout",
     "output_type": "stream",
     "text": [
      "1 5 9 13 17\n"
     ]
    }
   ],
   "source": [
    "string1='hai hai hai hai hai'\n",
    "i1=string1.index('a') # 1\n",
    "i2=string1.index('a',i1+1) \n",
    "i3=string1.index('a',i2+1) \n",
    "i4=string1.index('a',i3+1) \n",
    "i5=string1.index('a',i4+1)\n",
    "print(i1,i2,i3,i4,i5)"
   ]
  },
  {
   "cell_type": "code",
   "execution_count": 76,
   "id": "0f02122f",
   "metadata": {},
   "outputs": [
    {
     "data": {
      "text/plain": [
       "9"
      ]
     },
     "execution_count": 76,
     "metadata": {},
     "output_type": "execute_result"
    }
   ],
   "source": [
    "string1='hai hai hai hai hai'\n",
    "# i want to first occurence of 'a'\n",
    "i1=string1.index('a')\n",
    "# second occurence of 'a'\n",
    "i2=string1.index('a',i1+1) # 5\n",
    "string1.index('a',i2+1)\n",
    "\n",
    "string1.index('a',string1.index('a')+1)\n",
    "string1.index('a',string1.index('a',string1.index('a')+1)+1)"
   ]
  },
  {
   "cell_type": "code",
   "execution_count": 66,
   "id": "10a7fabd",
   "metadata": {},
   "outputs": [
    {
     "data": {
      "text/plain": [
       "5"
      ]
     },
     "execution_count": 66,
     "metadata": {},
     "output_type": "execute_result"
    }
   ],
   "source": [
    "string1.index('a',string1.index('a')+1)"
   ]
  },
  {
   "cell_type": "code",
   "execution_count": 71,
   "id": "4f85dc12",
   "metadata": {},
   "outputs": [
    {
     "data": {
      "text/plain": [
       "17"
      ]
     },
     "execution_count": 71,
     "metadata": {},
     "output_type": "execute_result"
    }
   ],
   "source": [
    "string1.index('a',string1.index('a',string1.index('a',string1.index('a')+1)+1)+1)+1\n",
    "#string1.index('a',string1.index('a',string1.index('a')+1)+1)+1\n",
    "string1.index('a',string1.index('a',string1.index('a',string1.index('a',string1.index('a')+1)+1)+1)+1)"
   ]
  },
  {
   "cell_type": "code",
   "execution_count": 78,
   "id": "d2955326",
   "metadata": {},
   "outputs": [
    {
     "name": "stdout",
     "output_type": "stream",
     "text": [
      "5\n",
      "5\n",
      "5\n",
      "5\n",
      "5\n"
     ]
    }
   ],
   "source": [
    "# function in function\n",
    "for i in string1:\n",
    "    if i=='a':\n",
    "        index=string1.index(i)\n",
    "        print(string1.index(i,index+1))"
   ]
  },
  {
   "cell_type": "code",
   "execution_count": 87,
   "id": "be188190",
   "metadata": {},
   "outputs": [
    {
     "data": {
      "text/plain": [
       "15"
      ]
     },
     "execution_count": 87,
     "metadata": {},
     "output_type": "execute_result"
    }
   ],
   "source": [
    "string1='welcome helo hello'\n",
    "string1.index('l')\n",
    "string1.index('l',string1.index('l')+1)\n",
    "string1.index('l',string1.index('l',string1.index('l')+1)+1)\n",
    "#string1.index('l',string1.index('l',string1.index('l')+1)+1)\n"
   ]
  },
  {
   "cell_type": "markdown",
   "id": "a1948762",
   "metadata": {},
   "source": [
    "$find$"
   ]
  },
  {
   "cell_type": "code",
   "execution_count": null,
   "id": "9540c184",
   "metadata": {},
   "outputs": [],
   "source": [
    "# take one string1\n",
    "# string1.find()   \n",
    "# apply shift+tab\n",
    "# read waht it is says\n",
    "# implement that"
   ]
  },
  {
   "cell_type": "code",
   "execution_count": 92,
   "id": "8862c878",
   "metadata": {},
   "outputs": [
    {
     "ename": "ValueError",
     "evalue": "substring not found",
     "output_type": "error",
     "traceback": [
      "\u001b[1;31m---------------------------------------------------------------------------\u001b[0m",
      "\u001b[1;31mValueError\u001b[0m                                Traceback (most recent call last)",
      "Cell \u001b[1;32mIn[92], line 6\u001b[0m\n\u001b[0;32m      2\u001b[0m string1\u001b[38;5;241m.\u001b[39mfind(\u001b[38;5;124m'\u001b[39m\u001b[38;5;124mz\u001b[39m\u001b[38;5;124m'\u001b[39m)  \u001b[38;5;66;03m# No error\u001b[39;00m\n\u001b[0;32m      4\u001b[0m \u001b[38;5;66;03m# if substring not found it returns -1\u001b[39;00m\n\u001b[1;32m----> 6\u001b[0m string1\u001b[38;5;241m.\u001b[39mindex(\u001b[38;5;124m'\u001b[39m\u001b[38;5;124mz\u001b[39m\u001b[38;5;124m'\u001b[39m)\n\u001b[0;32m      8\u001b[0m \u001b[38;5;66;03m# ValueError: substring not found\u001b[39;00m\n\u001b[0;32m     10\u001b[0m string1\u001b[38;5;241m.\u001b[39mcount(\u001b[38;5;124m'\u001b[39m\u001b[38;5;124mz\u001b[39m\u001b[38;5;124m'\u001b[39m)\n",
      "\u001b[1;31mValueError\u001b[0m: substring not found"
     ]
    }
   ],
   "source": [
    "string1='hai hai'\n",
    "string1.find('z')  # No error\n",
    "# if substring not found it returns -1\n",
    "\n",
    "string1.index('z')\n",
    "# ValueError: substring not found\n",
    "\n",
    "string1.count('z')  # No error\n",
    "# returns zero"
   ]
  },
  {
   "cell_type": "code",
   "execution_count": null,
   "id": "98d9acb5",
   "metadata": {},
   "outputs": [],
   "source": [
    "- capitalize/upper/lower/casefold\n",
    "\n",
    "- index/find\n",
    "\n",
    "- count\n",
    "\n",
    "- replace"
   ]
  },
  {
   "cell_type": "code",
   "execution_count": 1,
   "id": "231bde68",
   "metadata": {},
   "outputs": [
    {
     "data": {
      "text/plain": [
       "2"
      ]
     },
     "execution_count": 1,
     "metadata": {},
     "output_type": "execute_result"
    }
   ],
   "source": [
    "str1='hai how are you , im good'\n",
    "str1.index('i') # first occurence "
   ]
  },
  {
   "cell_type": "code",
   "execution_count": 3,
   "id": "c5443625",
   "metadata": {},
   "outputs": [
    {
     "data": {
      "text/plain": [
       "18"
      ]
     },
     "execution_count": 3,
     "metadata": {},
     "output_type": "execute_result"
    }
   ],
   "source": [
    "str1.index('i',str1.index('i')+1)"
   ]
  },
  {
   "cell_type": "markdown",
   "id": "dd09513a",
   "metadata": {},
   "source": [
    "$strip$-$lstrip$-$rstrip$"
   ]
  },
  {
   "cell_type": "code",
   "execution_count": 4,
   "id": "48b3c264",
   "metadata": {},
   "outputs": [],
   "source": [
    "str1=' hello how are you '\n",
    "str2=\" hello how are you\"\n",
    "str3=\"hello how are you \"\n",
    "\n",
    "# I want remove the spaces\n",
    "# If you want to remove the spaces both side use strip method\n",
    "# If you want to remove the spaces only left side then use lstrip: left strip\n",
    "# If you want to remove the spaces only right side then use rstrip: Right strip"
   ]
  },
  {
   "cell_type": "code",
   "execution_count": 5,
   "id": "fdd5497d",
   "metadata": {},
   "outputs": [
    {
     "name": "stdout",
     "output_type": "stream",
     "text": [
      "hello how are you\n",
      "hello how are you \n",
      " hello how are you\n"
     ]
    }
   ],
   "source": [
    "print(str1.strip())\n",
    "print(str1.lstrip())\n",
    "print(str1.rstrip())"
   ]
  },
  {
   "cell_type": "code",
   "execution_count": 4,
   "id": "76ff4276",
   "metadata": {
    "scrolled": true
   },
   "outputs": [
    {
     "ename": "NameError",
     "evalue": "name 'str1' is not defined",
     "output_type": "error",
     "traceback": [
      "\u001b[1;31m---------------------------------------------------------------------------\u001b[0m",
      "\u001b[1;31mNameError\u001b[0m                                 Traceback (most recent call last)",
      "Cell \u001b[1;32mIn[4], line 1\u001b[0m\n\u001b[1;32m----> 1\u001b[0m \u001b[38;5;28mprint\u001b[39m(str1\u001b[38;5;241m.\u001b[39mstrip(\u001b[38;5;124m'\u001b[39m\u001b[38;5;124mh\u001b[39m\u001b[38;5;124m'\u001b[39m))\n\u001b[0;32m      2\u001b[0m \u001b[38;5;28mprint\u001b[39m(str2\u001b[38;5;241m.\u001b[39mlstrip())\n\u001b[0;32m      3\u001b[0m \u001b[38;5;28mprint\u001b[39m(str3\u001b[38;5;241m.\u001b[39mrstrip())\n",
      "\u001b[1;31mNameError\u001b[0m: name 'str1' is not defined"
     ]
    }
   ],
   "source": [
    "print(str1.strip('h'))\n",
    "print(str2.lstrip())\n",
    "print(str3.rstrip())"
   ]
  },
  {
   "cell_type": "code",
   "execution_count": 8,
   "id": "efcd6594",
   "metadata": {},
   "outputs": [
    {
     "name": "stdout",
     "output_type": "stream",
     "text": [
      "hello how are you \n"
     ]
    }
   ],
   "source": [
    "print(str3)"
   ]
  },
  {
   "cell_type": "code",
   "execution_count": 9,
   "id": "4d7be334",
   "metadata": {},
   "outputs": [
    {
     "data": {
      "text/plain": [
       "'hello how are you '"
      ]
     },
     "execution_count": 9,
     "metadata": {},
     "output_type": "execute_result"
    }
   ],
   "source": [
    "str3"
   ]
  },
  {
   "cell_type": "code",
   "execution_count": 14,
   "id": "07772fed",
   "metadata": {},
   "outputs": [],
   "source": [
    "#Wap to extract\n",
    "\n",
    "str1='python.anaconda@nareshit.com'\n",
    "str2='omkar.nallagoni@cognizant.com'\n",
    "str3='virat.kohli@bcci.com'\n",
    "# Extract first name: python\n",
    "# Extract second name: anaconda\n",
    "# Extract company name: nareshit\n",
    "\n",
    "# Do not count it\n",
    "# Use methods find/index"
   ]
  },
  {
   "cell_type": "code",
   "execution_count": 27,
   "id": "5a44f9ef",
   "metadata": {},
   "outputs": [
    {
     "data": {
      "text/plain": [
       "6"
      ]
     },
     "execution_count": 27,
     "metadata": {},
     "output_type": "execute_result"
    }
   ],
   "source": [
    "str1[0:6],str1[7:15],str1[16:24]\n",
    "str1.find('.')"
   ]
  },
  {
   "cell_type": "code",
   "execution_count": 28,
   "id": "461be2bf",
   "metadata": {},
   "outputs": [
    {
     "data": {
      "text/plain": [
       "'python'"
      ]
     },
     "execution_count": 28,
     "metadata": {},
     "output_type": "execute_result"
    }
   ],
   "source": [
    "str1[0:str1.find('.')]\n",
    "\n",
    "str1[7:15]"
   ]
  },
  {
   "cell_type": "code",
   "execution_count": null,
   "id": "185d0a8b",
   "metadata": {},
   "outputs": [],
   "source": []
  },
  {
   "cell_type": "code",
   "execution_count": 11,
   "id": "d24969ff",
   "metadata": {},
   "outputs": [
    {
     "name": "stdout",
     "output_type": "stream",
     "text": [
      "First Name: omkar\n",
      "Second Name: nallagoni\n",
      "Second Name: cognizant\n"
     ]
    }
   ],
   "source": [
    "str1 ='omkar.nallagoni@cognizant.com'\n",
    "print(\"First Name:\",str1[:str1.find('.')])\n",
    "print(\"Second Name:\",str1[str1.find('.')+1:str1.find('@')])\n",
    "print(\"Second Name:\",str1[str1.find('@')+1:str1.find('.',str1.find('.')+1)])"
   ]
  },
  {
   "cell_type": "code",
   "execution_count": 13,
   "id": "0773f6ab",
   "metadata": {},
   "outputs": [
    {
     "name": "stdout",
     "output_type": "stream",
     "text": [
      "omkar\n",
      "nallagoni\n",
      "cognizant\n"
     ]
    }
   ],
   "source": [
    "str1='omkar.nallagoni@cognizant.com'\n",
    "num1=str1.find('.')\n",
    "f_name=str1[:num1]\n",
    "print(f_name)\n",
    "num2=str1.find('@')\n",
    "s_name=str1[num1+1:num2]\n",
    "print(s_name)\n",
    "num3=str1.find('.',str1.find('.')+1)\n",
    "c_name=str1[num2+1:num3]\n",
    "print(c_name)"
   ]
  },
  {
   "cell_type": "code",
   "execution_count": 36,
   "id": "5b27771a",
   "metadata": {},
   "outputs": [
    {
     "data": {
      "text/plain": [
       "'c'"
      ]
     },
     "execution_count": 36,
     "metadata": {},
     "output_type": "execute_result"
    }
   ],
   "source": [
    "str1='a.b@c.com'\n",
    "first_dot=str1.index('.')\n",
    "\n",
    "second_dot=str1.index('.',first_dot+1) # after completion of first dot\n",
    "\n",
    "str1[str1.find('@')+1:second_dot]"
   ]
  },
  {
   "cell_type": "code",
   "execution_count": 45,
   "id": "3d8663d6",
   "metadata": {},
   "outputs": [
    {
     "data": {
      "text/plain": [
       "'1489'"
      ]
     },
     "execution_count": 45,
     "metadata": {},
     "output_type": "execute_result"
    }
   ],
   "source": [
    "str1='3.1489'\n",
    "# Extract 3\n",
    "# Extract 1489\n",
    "\n",
    "str1[str1.index('.')-1]\n",
    "str1[str1.index('.')+1:]  # str1[<first>:<last>]"
   ]
  },
  {
   "cell_type": "code",
   "execution_count": 44,
   "id": "6dc9655d",
   "metadata": {},
   "outputs": [
    {
     "data": {
      "text/plain": [
       "1"
      ]
     },
     "execution_count": 44,
     "metadata": {},
     "output_type": "execute_result"
    }
   ],
   "source": [
    "str1.index('.')+1"
   ]
  },
  {
   "cell_type": "markdown",
   "id": "91098443",
   "metadata": {},
   "source": [
    "$startswith$- $endswith$"
   ]
  },
  {
   "cell_type": "code",
   "execution_count": 46,
   "id": "d707760f",
   "metadata": {},
   "outputs": [],
   "source": [
    "str1='hai how are you'"
   ]
  },
  {
   "cell_type": "code",
   "execution_count": 53,
   "id": "fedc0c2c",
   "metadata": {},
   "outputs": [
    {
     "data": {
      "text/plain": [
       "True"
      ]
     },
     "execution_count": 53,
     "metadata": {},
     "output_type": "execute_result"
    }
   ],
   "source": [
    "str1.startswith('hai how are you')\n",
    "#str1.startswith('h')"
   ]
  },
  {
   "cell_type": "code",
   "execution_count": 50,
   "id": "f03849fc",
   "metadata": {},
   "outputs": [
    {
     "data": {
      "text/plain": [
       "True"
      ]
     },
     "execution_count": 50,
     "metadata": {},
     "output_type": "execute_result"
    }
   ],
   "source": [
    "str1.endswith('you')"
   ]
  },
  {
   "cell_type": "code",
   "execution_count": 54,
   "id": "b0827264",
   "metadata": {},
   "outputs": [
    {
     "data": {
      "text/plain": [
       "True"
      ]
     },
     "execution_count": 54,
     "metadata": {},
     "output_type": "execute_result"
    }
   ],
   "source": [
    "str1.startswith(str1)\n",
    "\n",
    "#str1.endswith(str1)"
   ]
  },
  {
   "cell_type": "code",
   "execution_count": 55,
   "id": "b4710010",
   "metadata": {},
   "outputs": [
    {
     "data": {
      "text/plain": [
       "True"
      ]
     },
     "execution_count": 55,
     "metadata": {},
     "output_type": "execute_result"
    }
   ],
   "source": [
    "str1.endswith(str1)"
   ]
  },
  {
   "cell_type": "code",
   "execution_count": 56,
   "id": "5f85ab04",
   "metadata": {},
   "outputs": [
    {
     "data": {
      "text/plain": [
       "['__add__',\n",
       " '__class__',\n",
       " '__contains__',\n",
       " '__delattr__',\n",
       " '__dir__',\n",
       " '__doc__',\n",
       " '__eq__',\n",
       " '__format__',\n",
       " '__ge__',\n",
       " '__getattribute__',\n",
       " '__getitem__',\n",
       " '__getnewargs__',\n",
       " '__getstate__',\n",
       " '__gt__',\n",
       " '__hash__',\n",
       " '__init__',\n",
       " '__init_subclass__',\n",
       " '__iter__',\n",
       " '__le__',\n",
       " '__len__',\n",
       " '__lt__',\n",
       " '__mod__',\n",
       " '__mul__',\n",
       " '__ne__',\n",
       " '__new__',\n",
       " '__reduce__',\n",
       " '__reduce_ex__',\n",
       " '__repr__',\n",
       " '__rmod__',\n",
       " '__rmul__',\n",
       " '__setattr__',\n",
       " '__sizeof__',\n",
       " '__str__',\n",
       " '__subclasshook__',\n",
       " 'capitalize',\n",
       " 'casefold',\n",
       " 'center',\n",
       " 'count',\n",
       " 'encode',\n",
       " 'endswith',\n",
       " 'expandtabs',\n",
       " 'find',\n",
       " 'format',\n",
       " 'format_map',\n",
       " 'index',\n",
       " 'isalnum',\n",
       " 'isalpha',\n",
       " 'isascii',\n",
       " 'isdecimal',\n",
       " 'isdigit',\n",
       " 'isidentifier',\n",
       " 'islower',\n",
       " 'isnumeric',\n",
       " 'isprintable',\n",
       " 'isspace',\n",
       " 'istitle',\n",
       " 'isupper',\n",
       " 'join',\n",
       " 'ljust',\n",
       " 'lower',\n",
       " 'lstrip',\n",
       " 'maketrans',\n",
       " 'partition',\n",
       " 'removeprefix',\n",
       " 'removesuffix',\n",
       " 'replace',\n",
       " 'rfind',\n",
       " 'rindex',\n",
       " 'rjust',\n",
       " 'rpartition',\n",
       " 'rsplit',\n",
       " 'rstrip',\n",
       " 'split',\n",
       " 'splitlines',\n",
       " 'startswith',\n",
       " 'strip',\n",
       " 'swapcase',\n",
       " 'title',\n",
       " 'translate',\n",
       " 'upper',\n",
       " 'zfill']"
      ]
     },
     "execution_count": 56,
     "metadata": {},
     "output_type": "execute_result"
    }
   ],
   "source": [
    "dir('')"
   ]
  },
  {
   "cell_type": "code",
   "execution_count": null,
   "id": "37f21bda",
   "metadata": {},
   "outputs": [],
   "source": [
    "'isalnum',\n",
    " 'isalpha',\n",
    " 'isascii',\n",
    " 'isdecimal',\n",
    " 'isdigit',\n",
    " 'isidentifier',\n",
    " 'islower',\n",
    " 'isnumeric',\n",
    " 'isprintable',\n",
    " 'isspace',\n",
    " 'istitle',\n",
    " 'isupper',"
   ]
  },
  {
   "cell_type": "code",
   "execution_count": null,
   "id": "f9007cda",
   "metadata": {},
   "outputs": [],
   "source": [
    "# take one string1\n",
    "# string1.isalnum()\n",
    "# isalpha\n",
    "# isnumeric\n",
    "# isupper\n",
    "# islower"
   ]
  },
  {
   "cell_type": "code",
   "execution_count": 58,
   "id": "730eb462",
   "metadata": {},
   "outputs": [
    {
     "data": {
      "text/plain": [
       "False"
      ]
     },
     "execution_count": 58,
     "metadata": {},
     "output_type": "execute_result"
    }
   ],
   "source": [
    "string1='abc'\n",
    "string2='123'\n",
    "string3='abc123'\n",
    "string4='ABC'\n",
    "string1.isnumeric()\n",
    "       .isaplha\n",
    "        .isalnum\n",
    "        .isupper\n",
    "        .islower"
   ]
  },
  {
   "cell_type": "code",
   "execution_count": 59,
   "id": "b0d394ff",
   "metadata": {},
   "outputs": [
    {
     "data": {
      "text/plain": [
       "False"
      ]
     },
     "execution_count": 59,
     "metadata": {},
     "output_type": "execute_result"
    }
   ],
   "source": [
    "str1='90hai hello 8 888how are you'\n",
    "str1.isalnum()"
   ]
  },
  {
   "cell_type": "code",
   "execution_count": null,
   "id": "a7ea4687",
   "metadata": {},
   "outputs": [],
   "source": [
    "str1='abc.123'"
   ]
  },
  {
   "cell_type": "markdown",
   "id": "e05d758f",
   "metadata": {},
   "source": [
    "$split$"
   ]
  },
  {
   "cell_type": "code",
   "execution_count": 69,
   "id": "30b2b414",
   "metadata": {},
   "outputs": [
    {
     "data": {
      "text/plain": [
       "['hai', 'howw', 'are', 'you']"
      ]
     },
     "execution_count": 69,
     "metadata": {},
     "output_type": "execute_result"
    }
   ],
   "source": [
    "str1='hai howw are you'\n",
    "str1.split() \n",
    "# if i not provide anything inside brackets: space\n",
    "# output is in list format"
   ]
  },
  {
   "cell_type": "code",
   "execution_count": 62,
   "id": "4dc5efcf",
   "metadata": {},
   "outputs": [
    {
     "data": {
      "text/plain": [
       "['hai how', 'are you']"
      ]
     },
     "execution_count": 62,
     "metadata": {},
     "output_type": "execute_result"
    }
   ],
   "source": [
    "str1='hai how,are you'\n",
    "str1.split(',')"
   ]
  },
  {
   "cell_type": "code",
   "execution_count": 63,
   "id": "451c12f0",
   "metadata": {},
   "outputs": [
    {
     "data": {
      "text/plain": [
       "['h', 'i how,', 're you']"
      ]
     },
     "execution_count": 63,
     "metadata": {},
     "output_type": "execute_result"
    }
   ],
   "source": [
    "str1='hai how,are you'\n",
    "str1.split('a') #h i how, re you"
   ]
  },
  {
   "cell_type": "code",
   "execution_count": 66,
   "id": "a8ae4423",
   "metadata": {},
   "outputs": [
    {
     "data": {
      "text/plain": [
       "['hai', 'how,are', 'you']"
      ]
     },
     "execution_count": 66,
     "metadata": {},
     "output_type": "execute_result"
    }
   ],
   "source": [
    "str1='hai how,are you'\n",
    "str1.split() #h i how, re you"
   ]
  },
  {
   "cell_type": "code",
   "execution_count": 64,
   "id": "44e2857b",
   "metadata": {},
   "outputs": [
    {
     "data": {
      "text/plain": [
       "'hello'"
      ]
     },
     "execution_count": 64,
     "metadata": {},
     "output_type": "execute_result"
    }
   ],
   "source": [
    "str1='%%%hello%%%%'\n",
    "str1.strip('%')"
   ]
  },
  {
   "cell_type": "code",
   "execution_count": null,
   "id": "8a413d94",
   "metadata": {},
   "outputs": [],
   "source": [
    "- capitalize/upper/lower/casefold\n",
    "\n",
    "- index/find\n",
    "\n",
    "- count\n",
    "\n",
    "- replace\n",
    "\n",
    "- lstrip/rstrip/strip\n",
    "\n",
    "- startswith/endswith\n",
    "\n",
    "- isalpha/isnumeric/isalnum\n",
    "\n",
    "- split"
   ]
  },
  {
   "cell_type": "code",
   "execution_count": null,
   "id": "1cd7082e",
   "metadata": {},
   "outputs": [],
   "source": [
    "# WAP to identify the longest word and shortest word in a given sentence\n",
    "\n",
    "# WAP to identify the most repated word in a given stentence\n",
    "\n",
    "# WAP out of 3 strings 'hyd','blr','mumbai' which is greater and which lower"
   ]
  },
  {
   "cell_type": "code",
   "execution_count": null,
   "id": "9aa19dd9",
   "metadata": {},
   "outputs": [],
   "source": [
    "Basic python======= assignment\n",
    "\n",
    "certication\n",
    "\n",
    "\n",
    "Writeup on list"
   ]
  },
  {
   "cell_type": "markdown",
   "id": "5edc7e41",
   "metadata": {},
   "source": [
    "- how to read the strings\n",
    "\n",
    "- single quotes/double quotes/triple quotes\n",
    "\n",
    "- docstring\n",
    "\n",
    "- type\n",
    "\n",
    "- max\n",
    "\n",
    "- min\n",
    "\n",
    "- len\n",
    "\n",
    "- addition of two strings(concatenation)\n",
    "\n",
    "- multiplication\n",
    "\n",
    "- subtraction\n",
    "\n",
    "- division\n",
    "\n",
    "- in opertor (for loop)\n",
    "\n",
    "- index\n",
    "\n",
    "- mutable condition\n",
    "\n",
    "- slice\n",
    "\n",
    "- stringe methods:\n",
    "    \n",
    "    \n",
    "    - capitalize/upper/lower/casefold\n",
    "\n",
    "    - index/find\n",
    "\n",
    "    - count\n",
    "\n",
    "    - replace\n",
    "\n",
    "    - lstrip/rstrip/strip\n",
    "\n",
    "    - startswith/endswith\n",
    "\n",
    "    - isalpha/isnumeric/isalnum\n",
    "\n",
    "    - split"
   ]
  },
  {
   "cell_type": "code",
   "execution_count": null,
   "id": "58d7401a",
   "metadata": {},
   "outputs": [],
   "source": []
  },
  {
   "cell_type": "code",
   "execution_count": null,
   "id": "564cdc73",
   "metadata": {},
   "outputs": [],
   "source": []
  },
  {
   "cell_type": "code",
   "execution_count": null,
   "id": "3076ebf4",
   "metadata": {},
   "outputs": [],
   "source": []
  }
 ],
 "metadata": {
  "kernelspec": {
   "display_name": "Python 3 (ipykernel)",
   "language": "python",
   "name": "python3"
  },
  "language_info": {
   "codemirror_mode": {
    "name": "ipython",
    "version": 3
   },
   "file_extension": ".py",
   "mimetype": "text/x-python",
   "name": "python",
   "nbconvert_exporter": "python",
   "pygments_lexer": "ipython3",
   "version": "3.11.5"
  }
 },
 "nbformat": 4,
 "nbformat_minor": 5
}
