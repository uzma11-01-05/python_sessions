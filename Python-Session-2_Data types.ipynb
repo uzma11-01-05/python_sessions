{
 "cells": [
  {
   "cell_type": "markdown",
   "id": "dddc03b0",
   "metadata": {},
   "source": [
    "### Data types\n",
    "\n",
    "- integer               \n",
    "\n",
    "     int\n",
    "\n",
    "- float                 \n",
    "\n",
    "     float\n",
    "\n",
    "- strings               \n",
    "\n",
    "     str\n",
    "\n",
    "- boolean               \n",
    "\n",
    "    bool\n",
    " \n",
    "- complex conjugate     \n",
    "\n",
    "    complex"
   ]
  },
  {
   "cell_type": "markdown",
   "id": "c3549f24",
   "metadata": {},
   "source": [
    "$integer$"
   ]
  },
  {
   "cell_type": "code",
   "execution_count": 1,
   "id": "9ba302be",
   "metadata": {},
   "outputs": [
    {
     "data": {
      "text/plain": [
       "100"
      ]
     },
     "execution_count": 1,
     "metadata": {},
     "output_type": "execute_result"
    }
   ],
   "source": [
    "number=100\n",
    "number"
   ]
  },
  {
   "cell_type": "code",
   "execution_count": 2,
   "id": "b1b62eba",
   "metadata": {},
   "outputs": [
    {
     "data": {
      "text/plain": [
       "int"
      ]
     },
     "execution_count": 2,
     "metadata": {},
     "output_type": "execute_result"
    }
   ],
   "source": [
    "# type of the varible :  type\n",
    "type(number)"
   ]
  },
  {
   "cell_type": "markdown",
   "id": "1a554e6c",
   "metadata": {},
   "source": [
    "# In maths we have different number system\n",
    "\n",
    "- decimal\n",
    "\n",
    "- binary\n",
    "\n",
    "- octal\n",
    "\n",
    "- hexa"
   ]
  },
  {
   "cell_type": "markdown",
   "id": "0365ec8d",
   "metadata": {},
   "source": [
    "**Binary**\n",
    "\n",
    "- Bi mean 2\n",
    "\n",
    "- so the base is also 2\n",
    "\n",
    "- 0  1   2   3  4  5  6  7  8  9\n",
    "\n",
    "- here will use only two digits:  0 and 1\n",
    "    \n",
    "- representation is :  0b<combinations of 0 and 1>\n",
    "    \n",
    "- 0b110  , 0B011101\n"
   ]
  },
  {
   "cell_type": "code",
   "execution_count": 3,
   "id": "cd852217",
   "metadata": {},
   "outputs": [
    {
     "data": {
      "text/plain": [
       "7"
      ]
     },
     "execution_count": 3,
     "metadata": {},
     "output_type": "execute_result"
    }
   ],
   "source": [
    "0b111\n",
    "# python output will come as decimal format only"
   ]
  },
  {
   "cell_type": "code",
   "execution_count": 4,
   "id": "d820c76b",
   "metadata": {},
   "outputs": [
    {
     "data": {
      "text/plain": [
       "15"
      ]
     },
     "execution_count": 4,
     "metadata": {},
     "output_type": "execute_result"
    }
   ],
   "source": [
    "0b1111"
   ]
  },
  {
   "cell_type": "code",
   "execution_count": null,
   "id": "e11c78a5",
   "metadata": {},
   "outputs": [],
   "source": [
    "# 3 digits = 4   2   1\n",
    "# 4 digits = 8   4   2   1\n",
    "# 5 digits=  16  8   4   2   1\n",
    "**********************         \n",
    "4    2     1    decimal output\n",
    "**********************\n",
    "0    0     0      0\n",
    "0    0     1      1\n",
    "0    1     0      2\n",
    "0    1     1      3\n",
    "1    0     0      4\n",
    "1    0     1      5\n",
    "1    1     0      6\n",
    "1    1     1      7\n",
    "\n",
    "4= 4 times 0 and 4 times 1 will come    \n",
    "2= 2 times 0 and 2 time  1\n",
    "1= 1 time  0 and 1  time  1\n",
    "\n",
    "ON=1\n",
    "Off=0"
   ]
  },
  {
   "cell_type": "code",
   "execution_count": null,
   "id": "a443c89d",
   "metadata": {},
   "outputs": [],
   "source": [
    "    **********************         \n",
    " 8  4    2     1    decimal output\n",
    "    **********************\n",
    " 0   0    0     0      0\n",
    " 0   0    0     1      1\n",
    " 0   0    1     0      2\n",
    " 0   0    1     1      3\n",
    " 0   1    0     0      4\n",
    " 0   1    0     1      5\n",
    " 0   1    1     0      6\n",
    " 0   1    1     1      7\n",
    " 1   0    0     0      8     \n",
    " 1   0    0     1      9\n",
    " 1   0    1     0      10\n",
    " 1   0    1     1      11\n",
    " 1   1    0     0      12\n",
    " 1   1    0     1      13\n",
    " 1   1    1     0      14\n",
    " 1   1    1     1      15"
   ]
  },
  {
   "cell_type": "code",
   "execution_count": 5,
   "id": "96e6d0dd",
   "metadata": {},
   "outputs": [
    {
     "data": {
      "text/plain": [
       "14"
      ]
     },
     "execution_count": 5,
     "metadata": {},
     "output_type": "execute_result"
    }
   ],
   "source": [
    "0b1110"
   ]
  },
  {
   "cell_type": "code",
   "execution_count": 6,
   "id": "b616d7e4",
   "metadata": {},
   "outputs": [
    {
     "data": {
      "text/plain": [
       "9"
      ]
     },
     "execution_count": 6,
     "metadata": {},
     "output_type": "execute_result"
    }
   ],
   "source": [
    "0b1001"
   ]
  },
  {
   "cell_type": "markdown",
   "id": "bc5411af",
   "metadata": {},
   "source": [
    "**Octa**\n",
    "\n",
    "\n",
    "- octa mean 8\n",
    "\n",
    "- so the base is also 8\n",
    "\n",
    "- 0  1   2   3  4  5  6  7  8  9\n",
    "\n",
    "- here will use only 8 digits:  0,1,2,3,4,5,6,7 (0 to 7 means 8 digits)\n",
    "    \n",
    "- representation is :  0o<combinations of 0 to 7>\n",
    "    \n",
    "- 0o123  , 0O7564\n"
   ]
  },
  {
   "cell_type": "code",
   "execution_count": 7,
   "id": "d8d395ea",
   "metadata": {},
   "outputs": [
    {
     "data": {
      "text/plain": [
       "83"
      ]
     },
     "execution_count": 7,
     "metadata": {},
     "output_type": "execute_result"
    }
   ],
   "source": [
    "0o123"
   ]
  },
  {
   "cell_type": "code",
   "execution_count": 8,
   "id": "e90edd61",
   "metadata": {},
   "outputs": [
    {
     "data": {
      "text/plain": [
       "494"
      ]
     },
     "execution_count": 8,
     "metadata": {},
     "output_type": "execute_result"
    }
   ],
   "source": [
    "0O756"
   ]
  },
  {
   "cell_type": "code",
   "execution_count": 9,
   "id": "72f7c5f0",
   "metadata": {},
   "outputs": [
    {
     "data": {
      "text/plain": [
       "373"
      ]
     },
     "execution_count": 9,
     "metadata": {},
     "output_type": "execute_result"
    }
   ],
   "source": [
    "0o565"
   ]
  },
  {
   "cell_type": "markdown",
   "id": "698166d9",
   "metadata": {},
   "source": [
    "**hexa**\n",
    "\n",
    "\n",
    "- hexa mean 16\n",
    "\n",
    "- so the base is also 16\n",
    "\n",
    "- 0  1   2   3  4  5  6  7  8  9  , A  ,B, C, D, E, F\n",
    "\n",
    "- here will use only 16 digits:  (0 to 9 and A to F)\n",
    "    \n",
    "- representation is :  0x<0 to 9 and A to F>\n",
    "    \n",
    "- 0xabc  , 0X9DF"
   ]
  },
  {
   "cell_type": "code",
   "execution_count": 11,
   "id": "f27e6dbf",
   "metadata": {},
   "outputs": [
    {
     "data": {
      "text/plain": [
       "2748"
      ]
     },
     "execution_count": 11,
     "metadata": {},
     "output_type": "execute_result"
    }
   ],
   "source": [
    "0xabc"
   ]
  },
  {
   "cell_type": "markdown",
   "id": "c1a993a8",
   "metadata": {},
   "source": [
    "$float$"
   ]
  },
  {
   "cell_type": "code",
   "execution_count": 13,
   "id": "004b73b8",
   "metadata": {},
   "outputs": [
    {
     "data": {
      "text/plain": [
       "123.5"
      ]
     },
     "execution_count": 13,
     "metadata": {},
     "output_type": "execute_result"
    }
   ],
   "source": [
    "number1=123.5\n",
    "number1"
   ]
  },
  {
   "cell_type": "code",
   "execution_count": 14,
   "id": "b0ae29e1",
   "metadata": {},
   "outputs": [
    {
     "data": {
      "text/plain": [
       "float"
      ]
     },
     "execution_count": 14,
     "metadata": {},
     "output_type": "execute_result"
    }
   ],
   "source": [
    "type(number1)"
   ]
  },
  {
   "cell_type": "markdown",
   "id": "5eb8d796",
   "metadata": {},
   "source": [
    "$e$ $represntation$"
   ]
  },
  {
   "cell_type": "code",
   "execution_count": 15,
   "id": "6da0578f",
   "metadata": {},
   "outputs": [
    {
     "data": {
      "text/plain": [
       "10000.0"
      ]
     },
     "execution_count": 15,
     "metadata": {},
     "output_type": "execute_result"
    }
   ],
   "source": [
    "10e3   #  10 * 1000 = 10000"
   ]
  },
  {
   "cell_type": "code",
   "execution_count": 16,
   "id": "d6b3e65c",
   "metadata": {},
   "outputs": [
    {
     "data": {
      "text/plain": [
       "10000.0"
      ]
     },
     "execution_count": 16,
     "metadata": {},
     "output_type": "execute_result"
    }
   ],
   "source": [
    "10e+3  # 10e3  and 10e+3  both are same"
   ]
  },
  {
   "cell_type": "code",
   "execution_count": 17,
   "id": "d37520fc",
   "metadata": {},
   "outputs": [
    {
     "data": {
      "text/plain": [
       "100000.0"
      ]
     },
     "execution_count": 17,
     "metadata": {},
     "output_type": "execute_result"
    }
   ],
   "source": [
    "1e5   # 1* 100000"
   ]
  },
  {
   "cell_type": "code",
   "execution_count": 18,
   "id": "851815c9",
   "metadata": {},
   "outputs": [
    {
     "data": {
      "text/plain": [
       "0.01"
      ]
     },
     "execution_count": 18,
     "metadata": {},
     "output_type": "execute_result"
    }
   ],
   "source": [
    "10e-3   # 10/1000= 1/100=0.01"
   ]
  },
  {
   "cell_type": "code",
   "execution_count": null,
   "id": "39d87259",
   "metadata": {},
   "outputs": [],
   "source": [
    "# ML ===== output as zero\n",
    "# 0.00000000000000000000123\n",
    "# 123e-10= 123/100000000000= 0.0000000000123"
   ]
  },
  {
   "cell_type": "code",
   "execution_count": 20,
   "id": "555ca805",
   "metadata": {},
   "outputs": [
    {
     "data": {
      "text/plain": [
       "0.01"
      ]
     },
     "execution_count": 20,
     "metadata": {},
     "output_type": "execute_result"
    }
   ],
   "source": [
    "1000e-5  # 1000/100000"
   ]
  },
  {
   "cell_type": "code",
   "execution_count": 23,
   "id": "c5eaf636",
   "metadata": {},
   "outputs": [
    {
     "data": {
      "text/plain": [
       "1e-05"
      ]
     },
     "execution_count": 23,
     "metadata": {},
     "output_type": "execute_result"
    }
   ],
   "source": [
    "10e-6"
   ]
  },
  {
   "cell_type": "markdown",
   "id": "b9b4c689",
   "metadata": {},
   "source": [
    "$Strings$"
   ]
  },
  {
   "cell_type": "code",
   "execution_count": 24,
   "id": "040d5ff9",
   "metadata": {},
   "outputs": [
    {
     "data": {
      "text/plain": [
       "str"
      ]
     },
     "execution_count": 24,
     "metadata": {},
     "output_type": "execute_result"
    }
   ],
   "source": [
    "name=\"python\"  # write any thing in quotes\n",
    "type(name)"
   ]
  },
  {
   "cell_type": "code",
   "execution_count": 25,
   "id": "ccb02e4d",
   "metadata": {},
   "outputs": [
    {
     "data": {
      "text/plain": [
       "str"
      ]
     },
     "execution_count": 25,
     "metadata": {},
     "output_type": "execute_result"
    }
   ],
   "source": [
    "name1=\"100\"\n",
    "type(name1)"
   ]
  },
  {
   "cell_type": "code",
   "execution_count": 26,
   "id": "425baa54",
   "metadata": {},
   "outputs": [
    {
     "data": {
      "text/plain": [
       "'how are you'"
      ]
     },
     "execution_count": 26,
     "metadata": {},
     "output_type": "execute_result"
    }
   ],
   "source": [
    "name2='how are you'\n",
    "name2"
   ]
  },
  {
   "cell_type": "code",
   "execution_count": null,
   "id": "a8b42a3e",
   "metadata": {},
   "outputs": [],
   "source": [
    "hai\n",
    "\n",
    "how are you\n",
    "\n",
    "write above sentence in the one string \n",
    "when you call your output should line be lie\n",
    "/n   /t"
   ]
  },
  {
   "cell_type": "code",
   "execution_count": 27,
   "id": "b7bfc7c7",
   "metadata": {},
   "outputs": [
    {
     "ename": "SyntaxError",
     "evalue": "unterminated string literal (detected at line 1) (373100525.py, line 1)",
     "output_type": "error",
     "traceback": [
      "\u001b[1;36m  Cell \u001b[1;32mIn[27], line 1\u001b[1;36m\u001b[0m\n\u001b[1;33m    name3=\"hai\u001b[0m\n\u001b[1;37m          ^\u001b[0m\n\u001b[1;31mSyntaxError\u001b[0m\u001b[1;31m:\u001b[0m unterminated string literal (detected at line 1)\n"
     ]
    }
   ],
   "source": [
    "name3=\"hai\n",
    "       how are you\"\n",
    "    \n",
    "name3"
   ]
  },
  {
   "cell_type": "code",
   "execution_count": 28,
   "id": "a7551bd2",
   "metadata": {},
   "outputs": [
    {
     "ename": "SyntaxError",
     "evalue": "unterminated string literal (detected at line 1) (2079976953.py, line 1)",
     "output_type": "error",
     "traceback": [
      "\u001b[1;36m  Cell \u001b[1;32mIn[28], line 1\u001b[1;36m\u001b[0m\n\u001b[1;33m    name4='hai\u001b[0m\n\u001b[1;37m          ^\u001b[0m\n\u001b[1;31mSyntaxError\u001b[0m\u001b[1;31m:\u001b[0m unterminated string literal (detected at line 1)\n"
     ]
    }
   ],
   "source": [
    "name4='hai\n",
    "       how are you'\n",
    "    \n",
    "name4"
   ]
  },
  {
   "cell_type": "code",
   "execution_count": 29,
   "id": "514b091f",
   "metadata": {},
   "outputs": [
    {
     "data": {
      "text/plain": [
       "'hai\\n         how are you'"
      ]
     },
     "execution_count": 29,
     "metadata": {},
     "output_type": "execute_result"
    }
   ],
   "source": [
    "# whenever you want write multi lines  use triple quotes\n",
    "\n",
    "name5=\"\"\"hai\n",
    "         how are you\"\"\"\n",
    "name5\n",
    "\n",
    "# doc string"
   ]
  },
  {
   "cell_type": "code",
   "execution_count": null,
   "id": "358e765b",
   "metadata": {},
   "outputs": [],
   "source": [
    "# doc string is very important\n",
    "# jupyter notebook : markdown option\n",
    "# vs code pycharm :  doc string"
   ]
  },
  {
   "cell_type": "code",
   "execution_count": 30,
   "id": "4b22165a",
   "metadata": {},
   "outputs": [],
   "source": [
    "import random\n",
    "random.randint()"
   ]
  },
  {
   "cell_type": "markdown",
   "id": "32e43f9e",
   "metadata": {},
   "source": [
    "my name is python"
   ]
  },
  {
   "cell_type": "code",
   "execution_count": null,
   "id": "0109a668",
   "metadata": {},
   "outputs": [],
   "source": [
    "\"\"\"my name is python\"\"\""
   ]
  },
  {
   "cell_type": "code",
   "execution_count": 31,
   "id": "29791c9d",
   "metadata": {},
   "outputs": [
    {
     "data": {
      "text/plain": [
       "50"
      ]
     },
     "execution_count": 31,
     "metadata": {},
     "output_type": "execute_result"
    }
   ],
   "source": [
    "\"\"\"\n",
    "i have taken 20 in a\n",
    "i have taken 30 in b\n",
    "im cal\n",
    "\"\"\"\n",
    "a=20 #\n",
    "b=30\n",
    "a+b"
   ]
  },
  {
   "cell_type": "code",
   "execution_count": null,
   "id": "2db3439a",
   "metadata": {},
   "outputs": [],
   "source": [
    "import random\n",
    "random.randint()"
   ]
  },
  {
   "cell_type": "code",
   "execution_count": null,
   "id": "66d03f23",
   "metadata": {},
   "outputs": [],
   "source": []
  },
  {
   "cell_type": "code",
   "execution_count": null,
   "id": "ebf3bf9a",
   "metadata": {},
   "outputs": [],
   "source": []
  }
 ],
 "metadata": {
  "kernelspec": {
   "display_name": "Python 3 (ipykernel)",
   "language": "python",
   "name": "python3"
  },
  "language_info": {
   "codemirror_mode": {
    "name": "ipython",
    "version": 3
   },
   "file_extension": ".py",
   "mimetype": "text/x-python",
   "name": "python",
   "nbconvert_exporter": "python",
   "pygments_lexer": "ipython3",
   "version": "3.11.5"
  }
 },
 "nbformat": 4,
 "nbformat_minor": 5
}
