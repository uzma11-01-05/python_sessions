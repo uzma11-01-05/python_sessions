{
 "cells": [
  {
   "cell_type": "code",
   "execution_count": 1,
   "id": "25f12505",
   "metadata": {},
   "outputs": [],
   "source": [
    "list1=['Ram','Raheem','Robert']\n",
    "\n",
    "list2=[25,30,35]"
   ]
  },
  {
   "cell_type": "code",
   "execution_count": null,
   "id": "96b8d8c2",
   "metadata": {},
   "outputs": [],
   "source": [
    "'Ram has age 25'\n",
    "'Raheem has age 30'\n",
    "'Robert has age 35'"
   ]
  },
  {
   "cell_type": "code",
   "execution_count": 2,
   "id": "40030e53",
   "metadata": {},
   "outputs": [
    {
     "name": "stdout",
     "output_type": "stream",
     "text": [
      "Ram 25\n",
      "Raheem 30\n",
      "Robert 35\n"
     ]
    }
   ],
   "source": [
    "for i,j in zip(list1,list2):\n",
    "    print(i,j)"
   ]
  },
  {
   "cell_type": "code",
   "execution_count": null,
   "id": "dfbd6332",
   "metadata": {},
   "outputs": [],
   "source": [
    "#{key:value}"
   ]
  },
  {
   "cell_type": "code",
   "execution_count": 3,
   "id": "294342c3",
   "metadata": {},
   "outputs": [
    {
     "data": {
      "text/plain": [
       "{'Ram': 25, 'Raheem': 30, 'Robert': 35}"
      ]
     },
     "execution_count": 3,
     "metadata": {},
     "output_type": "execute_result"
    }
   ],
   "source": [
    "d1={'Ram':25,\n",
    " 'Raheem':30,\n",
    " 'Robert':35}\n",
    "\n",
    "d1\n",
    "\n",
    "#keys= 'Ram','Raheem','Robert'\n",
    "#values=25,30,35"
   ]
  },
  {
   "cell_type": "code",
   "execution_count": 4,
   "id": "6cb661a3",
   "metadata": {},
   "outputs": [
    {
     "data": {
      "text/plain": [
       "{25: 'Ram', 30: 'Raheem', 35: 'Robert'}"
      ]
     },
     "execution_count": 4,
     "metadata": {},
     "output_type": "execute_result"
    }
   ],
   "source": [
    "d2={25:'Ram',30:'Raheem',35:'Robert'}\n",
    "d2\n",
    "\n",
    "#keys: 25,30,35\n",
    "#values: 'Ram','Raheem','Robert'"
   ]
  },
  {
   "cell_type": "code",
   "execution_count": 5,
   "id": "b2dcdcb5",
   "metadata": {},
   "outputs": [
    {
     "data": {
      "text/plain": [
       "{'even': [2, 4, 6], 'odd': [3, 5, 7]}"
      ]
     },
     "execution_count": 5,
     "metadata": {},
     "output_type": "execute_result"
    }
   ],
   "source": [
    "d3={'even':[2,4,6],\n",
    "   'odd':[3,5,7]}\n",
    "\n",
    "d3"
   ]
  },
  {
   "cell_type": "code",
   "execution_count": null,
   "id": "6c1fb6b8",
   "metadata": {},
   "outputs": [],
   "source": [
    "d4={[2,4,6]:'even',\n",
    "   [3,5,7]:'odd'}      # fail"
   ]
  },
  {
   "cell_type": "code",
   "execution_count": 8,
   "id": "889378b8",
   "metadata": {},
   "outputs": [
    {
     "data": {
      "text/plain": [
       "{(2, 4, 6): 'even', (3, 5, 7): 'odd'}"
      ]
     },
     "execution_count": 8,
     "metadata": {},
     "output_type": "execute_result"
    }
   ],
   "source": [
    "d4={(2,4,6):'even',\n",
    "   (3,5,7):'odd'}\n",
    "\n",
    "d4"
   ]
  },
  {
   "cell_type": "code",
   "execution_count": 9,
   "id": "62bbbc16",
   "metadata": {},
   "outputs": [
    {
     "data": {
      "text/plain": [
       "{'item_list': {'fruiits': 'Apple'}}"
      ]
     },
     "execution_count": 9,
     "metadata": {},
     "output_type": "execute_result"
    }
   ],
   "source": [
    "# {'key':<{}>}\n",
    "d5={'item_list':{'fruiits':'Apple'}}\n",
    "d5"
   ]
  },
  {
   "cell_type": "code",
   "execution_count": 10,
   "id": "4a439414",
   "metadata": {},
   "outputs": [
    {
     "ename": "TypeError",
     "evalue": "unhashable type: 'dict'",
     "output_type": "error",
     "traceback": [
      "\u001b[1;31m---------------------------------------------------------------------------\u001b[0m",
      "\u001b[1;31mTypeError\u001b[0m                                 Traceback (most recent call last)",
      "Cell \u001b[1;32mIn[10], line 1\u001b[0m\n\u001b[1;32m----> 1\u001b[0m d6\u001b[38;5;241m=\u001b[39m{{\u001b[38;5;124m'\u001b[39m\u001b[38;5;124mfruiits\u001b[39m\u001b[38;5;124m'\u001b[39m:\u001b[38;5;124m'\u001b[39m\u001b[38;5;124mApple\u001b[39m\u001b[38;5;124m'\u001b[39m}:\u001b[38;5;124m'\u001b[39m\u001b[38;5;124mitem_list\u001b[39m\u001b[38;5;124m'\u001b[39m}\n\u001b[0;32m      2\u001b[0m d6\n",
      "\u001b[1;31mTypeError\u001b[0m: unhashable type: 'dict'"
     ]
    }
   ],
   "source": [
    "d6={{'fruiits':'Apple'}:'item_list'}\n",
    "d6"
   ]
  },
  {
   "cell_type": "code",
   "execution_count": 11,
   "id": "8cc16ed0",
   "metadata": {},
   "outputs": [],
   "source": [
    "a=[1,2]\n",
    "b=(1,2)"
   ]
  },
  {
   "cell_type": "code",
   "execution_count": 18,
   "id": "2acbab12",
   "metadata": {},
   "outputs": [
    {
     "data": {
      "text/plain": [
       "2"
      ]
     },
     "execution_count": 18,
     "metadata": {},
     "output_type": "execute_result"
    }
   ],
   "source": [
    "a,b=[1,2]\n",
    "c,d=(1,2)\n",
    "d"
   ]
  },
  {
   "cell_type": "code",
   "execution_count": 19,
   "id": "7ccdb33f",
   "metadata": {},
   "outputs": [
    {
     "data": {
      "text/plain": [
       "(1, 2)"
      ]
     },
     "execution_count": 19,
     "metadata": {},
     "output_type": "execute_result"
    }
   ],
   "source": [
    "a=1,2\n",
    "a"
   ]
  },
  {
   "cell_type": "code",
   "execution_count": 20,
   "id": "4e015037",
   "metadata": {},
   "outputs": [
    {
     "data": {
      "text/plain": [
       "{'A': 1, 'B': 2}"
      ]
     },
     "execution_count": 20,
     "metadata": {},
     "output_type": "execute_result"
    }
   ],
   "source": [
    "d1={'A':1,'B':2,'A':1}\n",
    "d1"
   ]
  },
  {
   "cell_type": "code",
   "execution_count": 22,
   "id": "6c163610",
   "metadata": {},
   "outputs": [
    {
     "data": {
      "text/plain": [
       "{'A': 3, 'B': 2}"
      ]
     },
     "execution_count": 22,
     "metadata": {},
     "output_type": "execute_result"
    }
   ],
   "source": [
    "d1={'A':1,'B':2,'A':3}\n",
    "d1"
   ]
  },
  {
   "cell_type": "markdown",
   "id": "692b71e4",
   "metadata": {},
   "source": [
    "- Dictionary is a key:value pair \n",
    "\n",
    "- at values postition you can take any data type\n",
    "\n",
    "- at keys postion list and dictionary will fail\n",
    "\n",
    "- Duplicates are not allowed\n",
    "\n",
    "- If you will update a key value, latest value it will take"
   ]
  },
  {
   "cell_type": "markdown",
   "id": "857f2d6d",
   "metadata": {},
   "source": [
    "$type$"
   ]
  },
  {
   "cell_type": "code",
   "execution_count": 23,
   "id": "777553a1",
   "metadata": {},
   "outputs": [
    {
     "data": {
      "text/plain": [
       "dict"
      ]
     },
     "execution_count": 23,
     "metadata": {},
     "output_type": "execute_result"
    }
   ],
   "source": [
    "type(d1)"
   ]
  },
  {
   "cell_type": "markdown",
   "id": "f5ebd8ba",
   "metadata": {},
   "source": [
    "- str\n",
    "\n",
    "- list\n",
    "\n",
    "- dict\n",
    "\n",
    "- int\n",
    "\n",
    "- float\n",
    "\n",
    "- bool\n",
    "\n",
    "- complex\n",
    "\n",
    "- tuple\n",
    "\n",
    "- set"
   ]
  },
  {
   "cell_type": "code",
   "execution_count": 24,
   "id": "1c645dba",
   "metadata": {},
   "outputs": [
    {
     "data": {
      "text/plain": [
       "'Robert'"
      ]
     },
     "execution_count": 24,
     "metadata": {},
     "output_type": "execute_result"
    }
   ],
   "source": [
    "d1={'Ram':25,\n",
    " 'Raheem':30,\n",
    " 'Robert':35}\n",
    "\n",
    "max(d1)\n",
    "\n",
    "# this maximum we are getting based on key or value"
   ]
  },
  {
   "cell_type": "code",
   "execution_count": 25,
   "id": "0a70fb43",
   "metadata": {},
   "outputs": [
    {
     "data": {
      "text/plain": [
       "'Robert'"
      ]
     },
     "execution_count": 25,
     "metadata": {},
     "output_type": "execute_result"
    }
   ],
   "source": [
    "d1={'Ram':25,\n",
    " 'Raheem':30,\n",
    " 'Robert':3}\n",
    "\n",
    "max(d1)"
   ]
  },
  {
   "cell_type": "markdown",
   "id": "5c9d61f9",
   "metadata": {},
   "source": [
    "- Maximum and minimum value based on key only"
   ]
  },
  {
   "cell_type": "code",
   "execution_count": 26,
   "id": "456e6408",
   "metadata": {},
   "outputs": [
    {
     "data": {
      "text/plain": [
       "'Raheem'"
      ]
     },
     "execution_count": 26,
     "metadata": {},
     "output_type": "execute_result"
    }
   ],
   "source": [
    "min(d1)\n",
    "\n",
    "'Ram',     ord('m')\n",
    "'Raheem',  ord('h')\n",
    "'Robert'"
   ]
  },
  {
   "cell_type": "code",
   "execution_count": 27,
   "id": "790085f3",
   "metadata": {},
   "outputs": [
    {
     "data": {
      "text/plain": [
       "3"
      ]
     },
     "execution_count": 27,
     "metadata": {},
     "output_type": "execute_result"
    }
   ],
   "source": [
    "len(d1)"
   ]
  },
  {
   "cell_type": "code",
   "execution_count": 28,
   "id": "8add7fab",
   "metadata": {},
   "outputs": [
    {
     "data": {
      "text/plain": [
       "{'Ram': 25, 'Raheem': 30, 'Robert': 3}"
      ]
     },
     "execution_count": 28,
     "metadata": {},
     "output_type": "execute_result"
    }
   ],
   "source": [
    "d1"
   ]
  },
  {
   "cell_type": "code",
   "execution_count": 29,
   "id": "3d0c3775",
   "metadata": {},
   "outputs": [
    {
     "ename": "TypeError",
     "evalue": "unsupported operand type(s) for +: 'int' and 'str'",
     "output_type": "error",
     "traceback": [
      "\u001b[1;31m---------------------------------------------------------------------------\u001b[0m",
      "\u001b[1;31mTypeError\u001b[0m                                 Traceback (most recent call last)",
      "Cell \u001b[1;32mIn[29], line 1\u001b[0m\n\u001b[1;32m----> 1\u001b[0m \u001b[38;5;28msum\u001b[39m(d1)\n",
      "\u001b[1;31mTypeError\u001b[0m: unsupported operand type(s) for +: 'int' and 'str'"
     ]
    }
   ],
   "source": [
    "sum(d1)"
   ]
  },
  {
   "cell_type": "code",
   "execution_count": 32,
   "id": "0d831b6b",
   "metadata": {},
   "outputs": [
    {
     "data": {
      "text/plain": [
       "400"
      ]
     },
     "execution_count": 32,
     "metadata": {},
     "output_type": "execute_result"
    }
   ],
   "source": [
    "d2={100:'2',300:'4'}\n",
    "sum(d2)"
   ]
  },
  {
   "cell_type": "markdown",
   "id": "15098c67",
   "metadata": {},
   "source": [
    "- if keys has numeric then we can do sum"
   ]
  },
  {
   "cell_type": "code",
   "execution_count": 35,
   "id": "409748c7",
   "metadata": {},
   "outputs": [
    {
     "ename": "TypeError",
     "evalue": "can't multiply sequence by non-int of type 'str'",
     "output_type": "error",
     "traceback": [
      "\u001b[1;31m---------------------------------------------------------------------------\u001b[0m",
      "\u001b[1;31mTypeError\u001b[0m                                 Traceback (most recent call last)",
      "Cell \u001b[1;32mIn[35], line 1\u001b[0m\n\u001b[1;32m----> 1\u001b[0m \u001b[38;5;124m'\u001b[39m\u001b[38;5;124ma\u001b[39m\u001b[38;5;124m'\u001b[39m\u001b[38;5;241m*\u001b[39m\u001b[38;5;124m'\u001b[39m\u001b[38;5;124mb\u001b[39m\u001b[38;5;124m'\u001b[39m\n",
      "\u001b[1;31mTypeError\u001b[0m: can't multiply sequence by non-int of type 'str'"
     ]
    }
   ],
   "source": [
    "'a'*'b'"
   ]
  },
  {
   "cell_type": "markdown",
   "id": "ec7ec1e5",
   "metadata": {},
   "source": [
    "- type\n",
    "\n",
    "- len\n",
    "\n",
    "- max\n",
    "\n",
    "- min\n",
    "\n",
    "- sum"
   ]
  },
  {
   "cell_type": "markdown",
   "id": "4af9bd7c",
   "metadata": {},
   "source": [
    "$in$"
   ]
  },
  {
   "cell_type": "code",
   "execution_count": 40,
   "id": "e873e297",
   "metadata": {},
   "outputs": [
    {
     "data": {
      "text/plain": [
       "True"
      ]
     },
     "execution_count": 40,
     "metadata": {},
     "output_type": "execute_result"
    }
   ],
   "source": [
    "d1={'Ram':25,\n",
    " 'Raheem':30,\n",
    " 'Robert':35}\n",
    "\n",
    "\n",
    "#'Ram':25  in d1  fail\n",
    "    \n",
    "'Ram'  in d1   # works\n",
    "\n",
    "#25  in d1    # Fails"
   ]
  },
  {
   "cell_type": "code",
   "execution_count": 39,
   "id": "27909e4d",
   "metadata": {},
   "outputs": [
    {
     "name": "stdout",
     "output_type": "stream",
     "text": [
      "Ram\n",
      "Raheem\n",
      "Robert\n"
     ]
    }
   ],
   "source": [
    "for i in d1:\n",
    "    print(i)"
   ]
  },
  {
   "cell_type": "code",
   "execution_count": 38,
   "id": "be396548",
   "metadata": {},
   "outputs": [
    {
     "name": "stdout",
     "output_type": "stream",
     "text": [
      "1\n",
      "2\n",
      "3\n"
     ]
    }
   ],
   "source": [
    "str1='apple'\n",
    "'a' in str1\n",
    "\n",
    "l1=[1,2,3]\n",
    "1 in l1\n",
    "\n",
    "for i in l1:\n",
    "    print(i)"
   ]
  },
  {
   "cell_type": "markdown",
   "id": "3497c3a4",
   "metadata": {},
   "source": [
    "$index$"
   ]
  },
  {
   "cell_type": "code",
   "execution_count": 42,
   "id": "26d133df",
   "metadata": {},
   "outputs": [
    {
     "data": {
      "text/plain": [
       "'a'"
      ]
     },
     "execution_count": 42,
     "metadata": {},
     "output_type": "execute_result"
    }
   ],
   "source": [
    "l1=[10,20,30,40]\n",
    "l1[0]\n",
    "\n",
    "str1='apple'\n",
    "str1[0]"
   ]
  },
  {
   "cell_type": "code",
   "execution_count": 44,
   "id": "d2c208f0",
   "metadata": {},
   "outputs": [
    {
     "data": {
      "text/plain": [
       "25"
      ]
     },
     "execution_count": 44,
     "metadata": {},
     "output_type": "execute_result"
    }
   ],
   "source": [
    "d1={'Ram':25,\n",
    " 'Raheem':30,\n",
    " 'Robert':35}\n",
    "\n",
    "d1['Ram']\n",
    "\n",
    "# can we get values using for loop"
   ]
  },
  {
   "cell_type": "code",
   "execution_count": 49,
   "id": "0f6da84f",
   "metadata": {},
   "outputs": [
    {
     "name": "stdout",
     "output_type": "stream",
     "text": [
      "The age of Ram is 25\n",
      "The age of Raheem is 30\n",
      "The age of Robert is 35\n"
     ]
    }
   ],
   "source": [
    "for key in d1:\n",
    "    print(\"The age of {} is {}\".format(key,d1[key]))"
   ]
  },
  {
   "cell_type": "code",
   "execution_count": 51,
   "id": "947507cf",
   "metadata": {},
   "outputs": [
    {
     "name": "stdout",
     "output_type": "stream",
     "text": [
      "0 10\n",
      "1 20\n",
      "2 30\n",
      "3 40\n"
     ]
    }
   ],
   "source": [
    "for i in range(len(l1)):\n",
    "    print(i,l1[i])"
   ]
  },
  {
   "cell_type": "code",
   "execution_count": 52,
   "id": "3ff381b0",
   "metadata": {},
   "outputs": [
    {
     "name": "stdout",
     "output_type": "stream",
     "text": [
      "0\n",
      "1\n",
      "2\n"
     ]
    }
   ],
   "source": [
    "for key in range(len(d1)):\n",
    "    print(key)\n",
    "    #print(\"The age of {} is {}\".format(key,d1[key]))  # possibile / not possible"
   ]
  },
  {
   "cell_type": "markdown",
   "id": "43376fb6",
   "metadata": {},
   "source": [
    "**Creating a empty dictionary and update**"
   ]
  },
  {
   "cell_type": "code",
   "execution_count": 54,
   "id": "b31bab13",
   "metadata": {},
   "outputs": [
    {
     "name": "stdout",
     "output_type": "stream",
     "text": [
      "apple\n"
     ]
    }
   ],
   "source": [
    "s=''\n",
    "\n",
    "for i in 'apple':\n",
    "    s=s+i\n",
    "    \n",
    "print(s)"
   ]
  },
  {
   "cell_type": "code",
   "execution_count": 55,
   "id": "a4f047f7",
   "metadata": {},
   "outputs": [
    {
     "data": {
      "text/plain": [
       "[0, 1, 2, 3, 4, 5, 6, 7, 8, 9]"
      ]
     },
     "execution_count": 55,
     "metadata": {},
     "output_type": "execute_result"
    }
   ],
   "source": [
    "l=[i for i in range(10)]\n",
    "\n",
    "l=[]\n",
    "for i in range(10):\n",
    "    l.append(i)\n",
    "    \n",
    "l"
   ]
  },
  {
   "cell_type": "code",
   "execution_count": 56,
   "id": "c3918531",
   "metadata": {},
   "outputs": [
    {
     "data": {
      "text/plain": [
       "{'fruite': 'Apple'}"
      ]
     },
     "execution_count": 56,
     "metadata": {},
     "output_type": "execute_result"
    }
   ],
   "source": [
    "d1={}\n",
    "d1['fruite']='Apple'\n",
    "d1"
   ]
  },
  {
   "cell_type": "code",
   "execution_count": 57,
   "id": "33e2b22c",
   "metadata": {},
   "outputs": [
    {
     "data": {
      "text/plain": [
       "{'First name': 'Nikita',\n",
       " 'sir name': 'Parolekar',\n",
       " 'Nativeplace': 'Dhule',\n",
       " 'State': 'Maharashtra'}"
      ]
     },
     "execution_count": 57,
     "metadata": {},
     "output_type": "execute_result"
    }
   ],
   "source": [
    "d1={}\n",
    "d1[\"First name\"]=\"Nikita\"\n",
    "d1[\"sir name\"]=\"Parolekar\"\n",
    "d1[\"Nativeplace\"]=\"Dhule\"\n",
    "d1[\"State\"]=\"Maharashtra\"\n",
    "d1"
   ]
  },
  {
   "cell_type": "code",
   "execution_count": null,
   "id": "7d91d2cf",
   "metadata": {},
   "outputs": [],
   "source": [
    "# WAP create a dictionary based on two lists\n",
    "# names=['Ram','Raheem','Robert']\n",
    "# age=[25,30,35]\n",
    "# d1={'Ram':25,'Raheem':30,'Robert':35}\n",
    "\n",
    "names=['Ram','Raheem','Robert']\n",
    "age=[25,30,35]"
   ]
  },
  {
   "cell_type": "code",
   "execution_count": 58,
   "id": "caa5deb7",
   "metadata": {},
   "outputs": [
    {
     "data": {
      "text/plain": [
       "{'Ram': 35, 'Raheem': 25, 'Robert': 30}"
      ]
     },
     "execution_count": 58,
     "metadata": {},
     "output_type": "execute_result"
    }
   ],
   "source": [
    "names=['Ram','Raheem','Robert']\n",
    "age=[35,25,30]\n",
    "dict1={}\n",
    "for i,j in zip(names,age):\n",
    "    dict1[i]=j\n",
    "dict1\n",
    "\n",
    "############################################################\n",
    "dict1={name:age for name,age in zip(names,age)}"
   ]
  },
  {
   "cell_type": "code",
   "execution_count": 73,
   "id": "9dc28ca7",
   "metadata": {},
   "outputs": [
    {
     "name": "stdout",
     "output_type": "stream",
     "text": [
      "Ram 25\n",
      "Raheem 30\n",
      "Robert 35\n"
     ]
    }
   ],
   "source": [
    "dict1={}\n",
    "for i in range(len(names)):\n",
    "    dict1[names[i]]=age[i]\n",
    "    \n",
    "#######################################################################\n",
    "dict1={names[i]:age[i] for i in range(len(names))}\n"
   ]
  },
  {
   "cell_type": "code",
   "execution_count": 68,
   "id": "983aa834",
   "metadata": {},
   "outputs": [
    {
     "data": {
      "text/plain": [
       "[0, 1, 2]"
      ]
     },
     "execution_count": 68,
     "metadata": {},
     "output_type": "execute_result"
    }
   ],
   "source": [
    "list1=[]\n",
    "for i in range(len(names)):\n",
    "    list1.append(i)\n",
    "    \n",
    "list1=[i for i in range(len(names))]\n",
    "list1"
   ]
  },
  {
   "cell_type": "code",
   "execution_count": null,
   "id": "66e59a94",
   "metadata": {},
   "outputs": [],
   "source": [
    "#WAP take 5 random numbers\n",
    "# and create a dictionary with even and odd\n",
    "\n",
    "# Output: {'even':[20,22],'odd':[19,21,23]}\n",
    "\n",
    "# step-1: take empty dictionary\n",
    "# step-2: take two even and odd list\n",
    "# step-3: import random\n",
    "# step-4: for i in range(5):\n",
    "# step-5:     num=random.randint(a,b)\n",
    "# step-6:     if <even>:\n",
    "# step-7:        append the values in even list\n",
    "# step-8:    else:\n",
    "# step-9:        append the values in odd list\n",
    "# step-10: create dictinary"
   ]
  },
  {
   "cell_type": "code",
   "execution_count": 1,
   "id": "b574591e",
   "metadata": {},
   "outputs": [],
   "source": [
    "import os"
   ]
  },
  {
   "cell_type": "code",
   "execution_count": 2,
   "id": "357e58f1",
   "metadata": {},
   "outputs": [
    {
     "data": {
      "text/plain": [
       "'C:\\\\Users\\\\omkar\\\\Documents'"
      ]
     },
     "execution_count": 2,
     "metadata": {},
     "output_type": "execute_result"
    }
   ],
   "source": [
    "os.getcwd()"
   ]
  },
  {
   "cell_type": "markdown",
   "id": "a6f134d3",
   "metadata": {},
   "source": [
    "**dictionary methods**"
   ]
  },
  {
   "cell_type": "code",
   "execution_count": 3,
   "id": "29dc0069",
   "metadata": {},
   "outputs": [
    {
     "data": {
      "text/plain": [
       "['__class__',\n",
       " '__class_getitem__',\n",
       " '__contains__',\n",
       " '__delattr__',\n",
       " '__delitem__',\n",
       " '__dir__',\n",
       " '__doc__',\n",
       " '__eq__',\n",
       " '__format__',\n",
       " '__ge__',\n",
       " '__getattribute__',\n",
       " '__getitem__',\n",
       " '__getstate__',\n",
       " '__gt__',\n",
       " '__hash__',\n",
       " '__init__',\n",
       " '__init_subclass__',\n",
       " '__ior__',\n",
       " '__iter__',\n",
       " '__le__',\n",
       " '__len__',\n",
       " '__lt__',\n",
       " '__ne__',\n",
       " '__new__',\n",
       " '__or__',\n",
       " '__reduce__',\n",
       " '__reduce_ex__',\n",
       " '__repr__',\n",
       " '__reversed__',\n",
       " '__ror__',\n",
       " '__setattr__',\n",
       " '__setitem__',\n",
       " '__sizeof__',\n",
       " '__str__',\n",
       " '__subclasshook__',\n",
       " 'clear',\n",
       " 'copy',\n",
       " 'fromkeys',\n",
       " 'get',\n",
       " 'items',\n",
       " 'keys',\n",
       " 'pop',\n",
       " 'popitem',\n",
       " 'setdefault',\n",
       " 'update',\n",
       " 'values']"
      ]
     },
     "execution_count": 3,
     "metadata": {},
     "output_type": "execute_result"
    }
   ],
   "source": [
    "dir({})\n",
    "\n",
    "# str=''\n",
    "# list=[]\n",
    "# dict={}"
   ]
  },
  {
   "cell_type": "markdown",
   "id": "207abe59",
   "metadata": {},
   "source": [
    "$items-keys-values$"
   ]
  },
  {
   "cell_type": "code",
   "execution_count": 4,
   "id": "baf3ee24",
   "metadata": {},
   "outputs": [
    {
     "data": {
      "text/plain": [
       "{'Ram': 25, 'Raheem': 30, 'Robert': 35}"
      ]
     },
     "execution_count": 4,
     "metadata": {},
     "output_type": "execute_result"
    }
   ],
   "source": [
    "d1={'Ram':25,\n",
    " 'Raheem':30,\n",
    " 'Robert':35}\n",
    "\n",
    "d1"
   ]
  },
  {
   "cell_type": "code",
   "execution_count": 8,
   "id": "fb9865c5",
   "metadata": {},
   "outputs": [
    {
     "data": {
      "text/plain": [
       "dict_items([('Ram', 25), ('Raheem', 30), ('Robert', 35)])"
      ]
     },
     "execution_count": 8,
     "metadata": {},
     "output_type": "execute_result"
    }
   ],
   "source": [
    "#items\n",
    "items=d1.items()\n",
    "items"
   ]
  },
  {
   "cell_type": "code",
   "execution_count": 9,
   "id": "8a687d6a",
   "metadata": {},
   "outputs": [
    {
     "data": {
      "text/plain": [
       "dict_items"
      ]
     },
     "execution_count": 9,
     "metadata": {},
     "output_type": "execute_result"
    }
   ],
   "source": [
    "type(items)   "
   ]
  },
  {
   "cell_type": "code",
   "execution_count": 10,
   "id": "7606e4bb",
   "metadata": {},
   "outputs": [
    {
     "data": {
      "text/plain": [
       "dict_keys(['Ram', 'Raheem', 'Robert'])"
      ]
     },
     "execution_count": 10,
     "metadata": {},
     "output_type": "execute_result"
    }
   ],
   "source": [
    "#keys\n",
    "keys=d1.keys()\n",
    "keys"
   ]
  },
  {
   "cell_type": "code",
   "execution_count": 11,
   "id": "43fe9b44",
   "metadata": {},
   "outputs": [
    {
     "data": {
      "text/plain": [
       "dict_keys"
      ]
     },
     "execution_count": 11,
     "metadata": {},
     "output_type": "execute_result"
    }
   ],
   "source": [
    "type(keys)"
   ]
  },
  {
   "cell_type": "code",
   "execution_count": 12,
   "id": "114c9856",
   "metadata": {},
   "outputs": [
    {
     "data": {
      "text/plain": [
       "dict_values([25, 30, 35])"
      ]
     },
     "execution_count": 12,
     "metadata": {},
     "output_type": "execute_result"
    }
   ],
   "source": [
    "# values\n",
    "values=d1.values()\n",
    "values"
   ]
  },
  {
   "cell_type": "code",
   "execution_count": 13,
   "id": "a00d4dc8",
   "metadata": {},
   "outputs": [
    {
     "data": {
      "text/plain": [
       "dict_values"
      ]
     },
     "execution_count": 13,
     "metadata": {},
     "output_type": "execute_result"
    }
   ],
   "source": [
    "type(values)"
   ]
  },
  {
   "cell_type": "code",
   "execution_count": 15,
   "id": "7eeec280",
   "metadata": {},
   "outputs": [
    {
     "data": {
      "text/plain": [
       "[25, 30, 35, 400]"
      ]
     },
     "execution_count": 15,
     "metadata": {},
     "output_type": "execute_result"
    }
   ],
   "source": [
    "l1=[25,30,35]\n",
    "l1.append(400)\n",
    "l1"
   ]
  },
  {
   "cell_type": "code",
   "execution_count": 20,
   "id": "48b6f6d4",
   "metadata": {},
   "outputs": [
    {
     "data": {
      "text/plain": [
       "[25, 30, 35]"
      ]
     },
     "execution_count": 20,
     "metadata": {},
     "output_type": "execute_result"
    }
   ],
   "source": [
    "values    # I want to convert into a list\n",
    "values_list=list(values) # then you can apply list methods\n",
    "values_list"
   ]
  },
  {
   "cell_type": "code",
   "execution_count": 21,
   "id": "11c55339",
   "metadata": {},
   "outputs": [
    {
     "data": {
      "text/plain": [
       "['Ram', 'Raheem', 'Robert']"
      ]
     },
     "execution_count": 21,
     "metadata": {},
     "output_type": "execute_result"
    }
   ],
   "source": [
    "keys_list=list(keys)\n",
    "keys_list"
   ]
  },
  {
   "cell_type": "code",
   "execution_count": null,
   "id": "e2490bd6",
   "metadata": {},
   "outputs": [],
   "source": [
    "# I will give the dictionary\n",
    "# can you extract keys ans values in a list\n",
    "\n",
    "\n",
    "\n",
    "# I will give two list  keys and values\n",
    "# can you create a dictionary"
   ]
  },
  {
   "cell_type": "code",
   "execution_count": 22,
   "id": "b332ba28",
   "metadata": {},
   "outputs": [],
   "source": [
    "d1={'Ram':25,\n",
    " 'Raheem':30,\n",
    " 'Robert':35}\n",
    "\n",
    "keys=list(d1.keys())\n",
    "values=list(d1.values())"
   ]
  },
  {
   "cell_type": "code",
   "execution_count": 24,
   "id": "1c5cdbf8",
   "metadata": {},
   "outputs": [
    {
     "data": {
      "text/plain": [
       "(['Ram', 'Raheem', 'Robert'], [25, 30, 35])"
      ]
     },
     "execution_count": 24,
     "metadata": {},
     "output_type": "execute_result"
    }
   ],
   "source": [
    "keys,values"
   ]
  },
  {
   "cell_type": "code",
   "execution_count": 25,
   "id": "d9616dde",
   "metadata": {},
   "outputs": [
    {
     "data": {
      "text/plain": [
       "{'Ram': 25, 'Raheem': 30, 'Robert': 35}"
      ]
     },
     "execution_count": 25,
     "metadata": {},
     "output_type": "execute_result"
    }
   ],
   "source": [
    "{i:j for i,j in zip(keys,values)}"
   ]
  },
  {
   "cell_type": "code",
   "execution_count": 27,
   "id": "4108014d",
   "metadata": {},
   "outputs": [
    {
     "data": {
      "text/plain": [
       "{'Ram': 25, 'Raheem': 30, 'Robert': 35}"
      ]
     },
     "execution_count": 27,
     "metadata": {},
     "output_type": "execute_result"
    }
   ],
   "source": [
    "d1={}\n",
    "for i in range(len(keys)):\n",
    "    d1[keys[i]]=values[i]   # d1[keys[0]]=values[0]   d1['Ram']=25\n",
    "    \n",
    "d1"
   ]
  },
  {
   "cell_type": "code",
   "execution_count": 28,
   "id": "67ab7c34",
   "metadata": {},
   "outputs": [
    {
     "data": {
      "text/plain": [
       "{'Ram': 25, 'Raheem': 30, 'Robert': 35}"
      ]
     },
     "execution_count": 28,
     "metadata": {},
     "output_type": "execute_result"
    }
   ],
   "source": [
    "dict(zip(keys,values))"
   ]
  },
  {
   "cell_type": "code",
   "execution_count": null,
   "id": "96c89945",
   "metadata": {},
   "outputs": [],
   "source": [
    "s1='virat.kohli@blr.com,Rohit.sharma@mumbai.com,kl.rahul@lucknow.com'\n",
    "\n",
    "# {'first_name':['virat','Rohit','KL'],\n",
    "#   'second_name':['kohli','sharma','rahul'],\n",
    "#   'company':['blr','mumbai','lucknow']}"
   ]
  },
  {
   "cell_type": "code",
   "execution_count": 32,
   "id": "7fea7b7f",
   "metadata": {},
   "outputs": [
    {
     "data": {
      "text/plain": [
       "['virat.kohli@blr.com', 'rohit.sharma@mumbai.com', 'kl.rahul@lucknow.com']"
      ]
     },
     "execution_count": 32,
     "metadata": {},
     "output_type": "execute_result"
    }
   ],
   "source": [
    "s1.split(',')"
   ]
  },
  {
   "cell_type": "code",
   "execution_count": 44,
   "id": "a323af09",
   "metadata": {},
   "outputs": [
    {
     "data": {
      "text/plain": [
       "{'first_name': ['virat', 'rohit', 'kl'],\n",
       " 'second_name': ['kohli', 'sharma', 'rahul'],\n",
       " 'company_name': ['blr', 'mumbai', 'lucknow']}"
      ]
     },
     "execution_count": 44,
     "metadata": {},
     "output_type": "execute_result"
    }
   ],
   "source": [
    "str1='virat.kohli@blr.com'\n",
    "d1={}\n",
    "f_name=[str1[:str1.find('.')] for str1 in s1.split(',')]\n",
    "s_name=[str1[str1.find('.')+1:str1.find('@')] for str1 in s1.split(',')]\n",
    "c_name=[str1[str1.find('@')+1:str1.find('.',str1.find('.')+1)] for str1 in s1.split(',')]\n",
    "f_name,s_name,c_name\n",
    "\n",
    "d1['first_name']=f_name\n",
    "d1['second_name']=s_name\n",
    "d1['company_name']=c_name\n",
    "\n",
    "d1"
   ]
  },
  {
   "cell_type": "code",
   "execution_count": 30,
   "id": "fca7fd70",
   "metadata": {},
   "outputs": [
    {
     "data": {
      "text/plain": [
       "{'first_name': ['virat', 'rohit', 'kl'],\n",
       " 'second_name': ['kohli', 'sharma', 'rahul'],\n",
       " 'company': ['blr', 'mumbai', 'lucknow']}"
      ]
     },
     "execution_count": 30,
     "metadata": {},
     "output_type": "execute_result"
    }
   ],
   "source": [
    "s1='virat.kohli@blr.com,rohit.sharma@mumbai.com,kl.rahul@lucknow.com'\n",
    "l1=s1.split(',')\n",
    "first_name=[]\n",
    "second_name=[]\n",
    "company=[]\n",
    "d2={}\n",
    "for i in l1:\n",
    "    #print(i)\n",
    "    first_name.append(i[0:i.find('.')])\n",
    "    second_name.append(i[i.find('.')+1:i.find('@')])\n",
    "    company.append(i[i.find('@')+1:i.find('.',i.find('.')+1)])\n",
    "    \n",
    "d2['first_name']=first_name\n",
    "d2['second_name']=second_name\n",
    "d2['company']=company\n",
    "d2"
   ]
  },
  {
   "cell_type": "markdown",
   "id": "62ed0570",
   "metadata": {},
   "source": [
    "$words$-$frequency$"
   ]
  },
  {
   "cell_type": "code",
   "execution_count": null,
   "id": "edf032c7",
   "metadata": {},
   "outputs": [],
   "source": [
    "str1='can can you canner can you able to can canner'\n",
    "\n",
    "#{'can':4,'you':2,'canner':2,'able':1,'to':1}\n",
    "\n",
    "# d={}\n",
    "# step-1: split the str1 ======= > you will get a list\n",
    "# step-2: iterate through loop ==== > each word will print\n",
    "# step-3: list1.count(<word>): number\n",
    "# step-4: make the dictionary"
   ]
  },
  {
   "cell_type": "code",
   "execution_count": 46,
   "id": "3643be5d",
   "metadata": {},
   "outputs": [
    {
     "data": {
      "text/plain": [
       "{'can': 4, 'you': 2, 'canner': 2, 'able': 1, 'to': 1}"
      ]
     },
     "execution_count": 46,
     "metadata": {},
     "output_type": "execute_result"
    }
   ],
   "source": [
    "str1='can can you canner can you able to can canner.'\n",
    "l1=str1.split(' ')  # step-1\n",
    "d1={}\n",
    "\n",
    "for i in l1:       # step-2\n",
    "    d1[i]=l1.count(i) # step-3\n",
    "    \n",
    "    \n",
    "d1"
   ]
  },
  {
   "cell_type": "code",
   "execution_count": 47,
   "id": "832b3ffa",
   "metadata": {},
   "outputs": [
    {
     "data": {
      "text/plain": [
       "['can', 'can', 'you', 'canner', 'can', 'you', 'able', 'to', 'can', 'canner.']"
      ]
     },
     "execution_count": 47,
     "metadata": {},
     "output_type": "execute_result"
    }
   ],
   "source": [
    "str1='can can you canner can you able to can canner.'\n",
    "str1.split()"
   ]
  },
  {
   "cell_type": "code",
   "execution_count": 55,
   "id": "139d5d7e",
   "metadata": {},
   "outputs": [],
   "source": [
    "keys=list(d1.keys())"
   ]
  },
  {
   "cell_type": "code",
   "execution_count": 56,
   "id": "e05019ee",
   "metadata": {},
   "outputs": [],
   "source": [
    "values=list(d1.values())"
   ]
  },
  {
   "cell_type": "code",
   "execution_count": 58,
   "id": "3b6edb26",
   "metadata": {},
   "outputs": [
    {
     "data": {
      "text/plain": [
       "(['can', 'you', 'canner', 'able', 'to'], [4, 2, 2, 1, 1])"
      ]
     },
     "execution_count": 58,
     "metadata": {},
     "output_type": "execute_result"
    }
   ],
   "source": [
    "keys,values"
   ]
  },
  {
   "cell_type": "code",
   "execution_count": 60,
   "id": "94c9acd3",
   "metadata": {},
   "outputs": [],
   "source": [
    "i=max(values)"
   ]
  },
  {
   "cell_type": "code",
   "execution_count": 61,
   "id": "48062818",
   "metadata": {},
   "outputs": [
    {
     "data": {
      "text/plain": [
       "0"
      ]
     },
     "execution_count": 61,
     "metadata": {},
     "output_type": "execute_result"
    }
   ],
   "source": [
    "values.index(i)"
   ]
  },
  {
   "cell_type": "code",
   "execution_count": 63,
   "id": "6fd02f03",
   "metadata": {},
   "outputs": [
    {
     "data": {
      "text/plain": [
       "'can'"
      ]
     },
     "execution_count": 63,
     "metadata": {},
     "output_type": "execute_result"
    }
   ],
   "source": [
    "keys[values.index(max(values))]"
   ]
  },
  {
   "cell_type": "code",
   "execution_count": null,
   "id": "08d0b7d0",
   "metadata": {},
   "outputs": [],
   "source": [
    "d1={'a':20,'b':30,'c':40}\n",
    "d2={'a':50,'b':100,'c':200}\n",
    "\n",
    "# o/p={'a':70,'b':130,'c':240}"
   ]
  },
  {
   "cell_type": "code",
   "execution_count": null,
   "id": "19d5e794",
   "metadata": {},
   "outputs": [],
   "source": [
    "d1={'a':20,'b':30,'c':40,'d':500}\n",
    "d2={'a':50,'b':100,'c':200}\n",
    "\n",
    "# o/p={'a':70,'b':130,'c':240,'d':500}"
   ]
  },
  {
   "cell_type": "code",
   "execution_count": 64,
   "id": "276f5c66",
   "metadata": {},
   "outputs": [
    {
     "data": {
      "text/plain": [
       "{'a': 70, 'b': 130, 'c': 240, 'd': 500}"
      ]
     },
     "execution_count": 64,
     "metadata": {},
     "output_type": "execute_result"
    }
   ],
   "source": [
    "d1 = {'a':20,'b':30,'c':40,'d':500}\n",
    "d2 = {'a':50,'b':100,'c':200}\n",
    "for i in d2:\n",
    "    d1[i]+=d2[i]\n",
    "d1"
   ]
  },
  {
   "cell_type": "code",
   "execution_count": 65,
   "id": "da231413",
   "metadata": {},
   "outputs": [
    {
     "data": {
      "text/plain": [
       "{'a': 70, 'b': 130, 'c': 240}"
      ]
     },
     "execution_count": 65,
     "metadata": {},
     "output_type": "execute_result"
    }
   ],
   "source": [
    "d1 = {'a':20,'b':30,'c':40}\n",
    "d2 = {'a':50,'b':100,'c':200}\n",
    "for i in d1:\n",
    "    d1[i]+=d2[i]\n",
    "d1"
   ]
  },
  {
   "cell_type": "code",
   "execution_count": 67,
   "id": "b1d12c9f",
   "metadata": {},
   "outputs": [
    {
     "data": {
      "text/plain": [
       "{'a': 70, 'b': 130, 'c': 240}"
      ]
     },
     "execution_count": 67,
     "metadata": {},
     "output_type": "execute_result"
    }
   ],
   "source": [
    "d1={'a':20,'b':30,'c':40}\n",
    "d2={'a':50,'b':100,'c':200}\n",
    "\n",
    "d3={}\n",
    "if len(d1)==len(d2):\n",
    "    for i in d1:\n",
    "        d3[i]=d1[i]+d2[i]\n",
    "        # d3['a']=d1['a']+d2['a']\n",
    "        \n",
    "d3\n",
    "\n",
    "# which ever is max length iterate through that dictionary"
   ]
  },
  {
   "cell_type": "code",
   "execution_count": 68,
   "id": "477bfe89",
   "metadata": {},
   "outputs": [
    {
     "data": {
      "text/plain": [
       "{'a': 70, 'b': 130, 'c': 240}"
      ]
     },
     "execution_count": 68,
     "metadata": {},
     "output_type": "execute_result"
    }
   ],
   "source": [
    "for i in range(min(len(d1),len(d2))):\n",
    "    d1[list(d1.keys())[i]]+=d2[list(d2.keys())[i]]\n",
    "d1"
   ]
  },
  {
   "cell_type": "code",
   "execution_count": 69,
   "id": "fe4d7d5d",
   "metadata": {},
   "outputs": [
    {
     "data": {
      "text/plain": [
       "{'a': 70, 'b': 130, 'c': 240, 'd': 500}"
      ]
     },
     "execution_count": 69,
     "metadata": {},
     "output_type": "execute_result"
    }
   ],
   "source": [
    "d1 = {'a':20,'b':30,'c':40,'d':500}\n",
    "d2 = {'a':50,'b':100,'c':200}\n",
    "for i in range(min(len(d1),len(d2))):\n",
    "    d1[list(d1.keys())[i]]+=d2[list(d2.keys())[i]]\n",
    "d1"
   ]
  },
  {
   "cell_type": "code",
   "execution_count": null,
   "id": "584a608f",
   "metadata": {},
   "outputs": [],
   "source": [
    "# strings /list/dictionary \n",
    "# Python developer "
   ]
  },
  {
   "cell_type": "code",
   "execution_count": null,
   "id": "de4b703d",
   "metadata": {},
   "outputs": [],
   "source": [
    "# this week finish python\n",
    "# statistics will start (10days)\n",
    "# EDA with python"
   ]
  },
  {
   "cell_type": "code",
   "execution_count": null,
   "id": "8610f642",
   "metadata": {},
   "outputs": [],
   "source": []
  },
  {
   "cell_type": "code",
   "execution_count": null,
   "id": "fe3830be",
   "metadata": {},
   "outputs": [],
   "source": []
  },
  {
   "cell_type": "code",
   "execution_count": null,
   "id": "54ba1d71",
   "metadata": {},
   "outputs": [],
   "source": []
  },
  {
   "cell_type": "code",
   "execution_count": null,
   "id": "a76f1ab6",
   "metadata": {},
   "outputs": [],
   "source": []
  },
  {
   "cell_type": "code",
   "execution_count": null,
   "id": "300110de",
   "metadata": {},
   "outputs": [],
   "source": []
  },
  {
   "cell_type": "code",
   "execution_count": null,
   "id": "3903c421",
   "metadata": {},
   "outputs": [],
   "source": []
  },
  {
   "cell_type": "code",
   "execution_count": null,
   "id": "e22a1e06",
   "metadata": {},
   "outputs": [],
   "source": []
  }
 ],
 "metadata": {
  "kernelspec": {
   "display_name": "Python 3 (ipykernel)",
   "language": "python",
   "name": "python3"
  },
  "language_info": {
   "codemirror_mode": {
    "name": "ipython",
    "version": 3
   },
   "file_extension": ".py",
   "mimetype": "text/x-python",
   "name": "python",
   "nbconvert_exporter": "python",
   "pygments_lexer": "ipython3",
   "version": "3.11.5"
  }
 },
 "nbformat": 4,
 "nbformat_minor": 5
}
