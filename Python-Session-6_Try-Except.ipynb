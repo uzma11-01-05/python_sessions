{
 "cells": [
  {
   "cell_type": "code",
   "execution_count": 1,
   "id": "8c3f24b9",
   "metadata": {},
   "outputs": [
    {
     "name": "stdout",
     "output_type": "stream",
     "text": [
      "enter a number1:100\n",
      "enter a number2:200\n",
      "300\n"
     ]
    }
   ],
   "source": [
    "num1=eval(input(\"enter a number1:\"))\n",
    "num2=eval(input(\"enter a number2:\"))\n",
    "add=num1+num2\n",
    "print(add)"
   ]
  },
  {
   "cell_type": "markdown",
   "id": "9798f542",
   "metadata": {},
   "source": [
    "**Types of erreors**"
   ]
  },
  {
   "cell_type": "code",
   "execution_count": 2,
   "id": "ff1d73e3",
   "metadata": {},
   "outputs": [
    {
     "name": "stdout",
     "output_type": "stream",
     "text": [
      "enter a number1:100\n",
      "enter a number2:300\n"
     ]
    },
    {
     "ename": "NameError",
     "evalue": "name 'num3' is not defined",
     "output_type": "error",
     "traceback": [
      "\u001b[1;31m---------------------------------------------------------------------------\u001b[0m",
      "\u001b[1;31mNameError\u001b[0m                                 Traceback (most recent call last)",
      "Cell \u001b[1;32mIn[2], line 4\u001b[0m\n\u001b[0;32m      2\u001b[0m num1\u001b[38;5;241m=\u001b[39m\u001b[38;5;28meval\u001b[39m(\u001b[38;5;28minput\u001b[39m(\u001b[38;5;124m\"\u001b[39m\u001b[38;5;124menter a number1:\u001b[39m\u001b[38;5;124m\"\u001b[39m))\n\u001b[0;32m      3\u001b[0m num2\u001b[38;5;241m=\u001b[39m\u001b[38;5;28meval\u001b[39m(\u001b[38;5;28minput\u001b[39m(\u001b[38;5;124m\"\u001b[39m\u001b[38;5;124menter a number2:\u001b[39m\u001b[38;5;124m\"\u001b[39m))\n\u001b[1;32m----> 4\u001b[0m add\u001b[38;5;241m=\u001b[39mnum1\u001b[38;5;241m+\u001b[39mnum3\n\u001b[0;32m      5\u001b[0m \u001b[38;5;28mprint\u001b[39m(add)\n",
      "\u001b[1;31mNameError\u001b[0m: name 'num3' is not defined"
     ]
    }
   ],
   "source": [
    "# error-1: Name error:  num3 not defined\n",
    "num1=eval(input(\"enter a number1:\"))\n",
    "num2=eval(input(\"enter a number2:\"))\n",
    "add=num1+num3\n",
    "print(add)"
   ]
  },
  {
   "cell_type": "code",
   "execution_count": 3,
   "id": "3b721f52",
   "metadata": {},
   "outputs": [
    {
     "ename": "SyntaxError",
     "evalue": "'(' was never closed (717108714.py, line 2)",
     "output_type": "error",
     "traceback": [
      "\u001b[1;36m  Cell \u001b[1;32mIn[3], line 2\u001b[1;36m\u001b[0m\n\u001b[1;33m    num1=eval(input(\"enter a number1:\")\u001b[0m\n\u001b[1;37m             ^\u001b[0m\n\u001b[1;31mSyntaxError\u001b[0m\u001b[1;31m:\u001b[0m '(' was never closed\n"
     ]
    }
   ],
   "source": [
    "# error-2:\n",
    "num1=eval(input(\"enter a number1:\")\n",
    "num2=eval(input(\"enter a number2:\"))\n",
    "add=num1+num2\n",
    "print(add)"
   ]
  },
  {
   "cell_type": "code",
   "execution_count": 5,
   "id": "be826251",
   "metadata": {},
   "outputs": [
    {
     "name": "stdout",
     "output_type": "stream",
     "text": [
      "enter a number1:100\n",
      "enter a number2:0\n"
     ]
    },
    {
     "ename": "ZeroDivisionError",
     "evalue": "division by zero",
     "output_type": "error",
     "traceback": [
      "\u001b[1;31m---------------------------------------------------------------------------\u001b[0m",
      "\u001b[1;31mZeroDivisionError\u001b[0m                         Traceback (most recent call last)",
      "Cell \u001b[1;32mIn[5], line 4\u001b[0m\n\u001b[0;32m      2\u001b[0m num1\u001b[38;5;241m=\u001b[39m\u001b[38;5;28meval\u001b[39m(\u001b[38;5;28minput\u001b[39m(\u001b[38;5;124m\"\u001b[39m\u001b[38;5;124menter a number1:\u001b[39m\u001b[38;5;124m\"\u001b[39m))\n\u001b[0;32m      3\u001b[0m num2\u001b[38;5;241m=\u001b[39m\u001b[38;5;28meval\u001b[39m(\u001b[38;5;28minput\u001b[39m(\u001b[38;5;124m\"\u001b[39m\u001b[38;5;124menter a number2:\u001b[39m\u001b[38;5;124m\"\u001b[39m))\n\u001b[1;32m----> 4\u001b[0m add\u001b[38;5;241m=\u001b[39mnum1\u001b[38;5;241m/\u001b[39mnum2\n\u001b[0;32m      5\u001b[0m \u001b[38;5;28mprint\u001b[39m(add)\n",
      "\u001b[1;31mZeroDivisionError\u001b[0m: division by zero"
     ]
    }
   ],
   "source": [
    "# error-3:\n",
    "num1=eval(input(\"enter a number1:\"))\n",
    "num2=eval(input(\"enter a number2:\"))\n",
    "add=num1/num2\n",
    "print(add)"
   ]
  },
  {
   "cell_type": "code",
   "execution_count": 6,
   "id": "a3435865",
   "metadata": {},
   "outputs": [
    {
     "name": "stdout",
     "output_type": "stream",
     "text": [
      "enter a number1:10\n",
      "enter a number2:20\n"
     ]
    },
    {
     "ename": "TypeError",
     "evalue": "unsupported operand type(s) for /: 'str' and 'int'",
     "output_type": "error",
     "traceback": [
      "\u001b[1;31m---------------------------------------------------------------------------\u001b[0m",
      "\u001b[1;31mTypeError\u001b[0m                                 Traceback (most recent call last)",
      "Cell \u001b[1;32mIn[6], line 4\u001b[0m\n\u001b[0;32m      2\u001b[0m num1\u001b[38;5;241m=\u001b[39m\u001b[38;5;28minput\u001b[39m(\u001b[38;5;124m\"\u001b[39m\u001b[38;5;124menter a number1:\u001b[39m\u001b[38;5;124m\"\u001b[39m)\n\u001b[0;32m      3\u001b[0m num2\u001b[38;5;241m=\u001b[39m\u001b[38;5;28meval\u001b[39m(\u001b[38;5;28minput\u001b[39m(\u001b[38;5;124m\"\u001b[39m\u001b[38;5;124menter a number2:\u001b[39m\u001b[38;5;124m\"\u001b[39m))\n\u001b[1;32m----> 4\u001b[0m add\u001b[38;5;241m=\u001b[39mnum1\u001b[38;5;241m/\u001b[39mnum2\n\u001b[0;32m      5\u001b[0m \u001b[38;5;28mprint\u001b[39m(add)\n",
      "\u001b[1;31mTypeError\u001b[0m: unsupported operand type(s) for /: 'str' and 'int'"
     ]
    }
   ],
   "source": [
    "# error-4:\n",
    "num1=input(\"enter a number1:\")     # string\n",
    "num2=eval(input(\"enter a number2:\")) # int\n",
    "add=num1/num2  # string/int\n",
    "print(add)"
   ]
  },
  {
   "cell_type": "code",
   "execution_count": 7,
   "id": "b7561c9c",
   "metadata": {},
   "outputs": [
    {
     "ename": "SyntaxError",
     "evalue": "Missing parentheses in call to 'print'. Did you mean print(...)? (616133533.py, line 5)",
     "output_type": "error",
     "traceback": [
      "\u001b[1;36m  Cell \u001b[1;32mIn[7], line 5\u001b[1;36m\u001b[0m\n\u001b[1;33m    print add\u001b[0m\n\u001b[1;37m    ^\u001b[0m\n\u001b[1;31mSyntaxError\u001b[0m\u001b[1;31m:\u001b[0m Missing parentheses in call to 'print'. Did you mean print(...)?\n"
     ]
    }
   ],
   "source": [
    "# error-5:\n",
    "num1=eval(input(\"enter a number1:\"))     \n",
    "num2=eval(input(\"enter a number2:\"))\n",
    "add=num1/num2  \n",
    "print add "
   ]
  },
  {
   "cell_type": "code",
   "execution_count": 9,
   "id": "e1f2c813",
   "metadata": {},
   "outputs": [
    {
     "name": "stdout",
     "output_type": "stream",
     "text": [
      "enter a number1:100\n",
      "enter a number2:200\n"
     ]
    },
    {
     "ename": "NameError",
     "evalue": "name 'Print' is not defined",
     "output_type": "error",
     "traceback": [
      "\u001b[1;31m---------------------------------------------------------------------------\u001b[0m",
      "\u001b[1;31mNameError\u001b[0m                                 Traceback (most recent call last)",
      "Cell \u001b[1;32mIn[9], line 5\u001b[0m\n\u001b[0;32m      3\u001b[0m num2\u001b[38;5;241m=\u001b[39m\u001b[38;5;28meval\u001b[39m(\u001b[38;5;28minput\u001b[39m(\u001b[38;5;124m\"\u001b[39m\u001b[38;5;124menter a number2:\u001b[39m\u001b[38;5;124m\"\u001b[39m))\n\u001b[0;32m      4\u001b[0m add\u001b[38;5;241m=\u001b[39mnum1\u001b[38;5;241m/\u001b[39mnum2  \n\u001b[1;32m----> 5\u001b[0m Print(add)\n\u001b[0;32m      6\u001b[0m \u001b[38;5;28mprint\u001b[39m(\u001b[38;5;124m'\u001b[39m\u001b[38;5;124mhello\u001b[39m\u001b[38;5;124m'\u001b[39m)\n",
      "\u001b[1;31mNameError\u001b[0m: name 'Print' is not defined"
     ]
    }
   ],
   "source": [
    "# error-6:\n",
    "num1=eval(input(\"enter a number1:\"))     \n",
    "num2=eval(input(\"enter a number2:\"))\n",
    "add=num1/num2  \n",
    "Print(add)\n",
    "print('hello')"
   ]
  },
  {
   "cell_type": "markdown",
   "id": "8054b295",
   "metadata": {},
   "source": [
    "### Possible errors:\n",
    "\n",
    "- Name error\n",
    "\n",
    "- Syntax error:'(' was never closed \n",
    "\n",
    "- Zero division error: division by zero\n",
    "\n",
    "- Type error: unsupported operand type(s) for /: 'str' and 'int'\n",
    "\n",
    "- Missing parentheses in call to 'print'. Did you mean print(...)?\n"
   ]
  },
  {
   "cell_type": "markdown",
   "id": "55a8b429",
   "metadata": {},
   "source": [
    "suppose you have written 500 lines of code\n",
    "at 200 line you got an error\n",
    "this error is migh not impact your code\n",
    "so you want execute after 200 line also\n",
    "\n",
    "Exception handling"
   ]
  },
  {
   "cell_type": "markdown",
   "id": "21f81d89",
   "metadata": {},
   "source": [
    "$try$-$except$\n",
    "\n",
    "- there are two blocks\n",
    "\n",
    "- one try block\n",
    "\n",
    "- another is exception block\n",
    "\n",
    "- your code will be there in try block\n",
    "\n",
    "- error capture will happens in except block\n",
    "\n",
    "- indentation : space\n",
    "\n",
    "- red : space/indentation not maintained properly\n",
    "\n",
    "- indenation has min 4 charcters\n",
    "\n",
    "- : is there, then indentation will be there"
   ]
  },
  {
   "cell_type": "code",
   "execution_count": null,
   "id": "50bd79b1",
   "metadata": {},
   "outputs": [],
   "source": [
    "try:\n",
    "    num1=10\n",
    "    num2=20\n",
    "    num3=20\n",
    "    add=num1+num2+num3\n",
    "    print(add)\n",
    "\n",
    "except:\n",
    "    print(\"error is there,check code\")"
   ]
  },
  {
   "cell_type": "code",
   "execution_count": 10,
   "id": "a20b4d41",
   "metadata": {},
   "outputs": [
    {
     "name": "stdout",
     "output_type": "stream",
     "text": [
      "50\n"
     ]
    }
   ],
   "source": [
    "num1=10\n",
    "num2=20\n",
    "num3=20\n",
    "add=num1+num2+num3\n",
    "print(add)"
   ]
  },
  {
   "cell_type": "code",
   "execution_count": null,
   "id": "dc5b0da6",
   "metadata": {},
   "outputs": [],
   "source": [
    "try:\n",
    "    num=10\n",
    "num2=20\n",
    "   add=num+num2\n",
    "   print(add)              # this will not work"
   ]
  },
  {
   "cell_type": "code",
   "execution_count": 14,
   "id": "c4e4b5b7",
   "metadata": {},
   "outputs": [
    {
     "name": "stdout",
     "output_type": "stream",
     "text": [
      "0.3333333333333333\n"
     ]
    }
   ],
   "source": [
    "# Method-1\n",
    "try:\n",
    "    num1=10\n",
    "    num2=30\n",
    "    num3=20\n",
    "    add=num1/num2  \n",
    "    print(add)\n",
    "\n",
    "except:\n",
    "    print(\"error is there,check code\")"
   ]
  },
  {
   "cell_type": "code",
   "execution_count": 15,
   "id": "fe6b6fcd",
   "metadata": {},
   "outputs": [
    {
     "name": "stdout",
     "output_type": "stream",
     "text": [
      "error is there,check code\n"
     ]
    }
   ],
   "source": [
    "# Method-2\n",
    "try:\n",
    "    num1=10\n",
    "    num2=0\n",
    "    num3=20\n",
    "    add=num1/num2  \n",
    "    print(add)\n",
    "\n",
    "except:\n",
    "    print(\"error is there,check code\")"
   ]
  },
  {
   "cell_type": "code",
   "execution_count": 13,
   "id": "797e3839",
   "metadata": {},
   "outputs": [
    {
     "ename": "ZeroDivisionError",
     "evalue": "division by zero",
     "output_type": "error",
     "traceback": [
      "\u001b[1;31m---------------------------------------------------------------------------\u001b[0m",
      "\u001b[1;31mZeroDivisionError\u001b[0m                         Traceback (most recent call last)",
      "Cell \u001b[1;32mIn[13], line 3\u001b[0m\n\u001b[0;32m      1\u001b[0m num1\u001b[38;5;241m=\u001b[39m\u001b[38;5;241m10\u001b[39m\n\u001b[0;32m      2\u001b[0m num2\u001b[38;5;241m=\u001b[39m\u001b[38;5;241m0\u001b[39m\n\u001b[1;32m----> 3\u001b[0m add\u001b[38;5;241m=\u001b[39mnum1\u001b[38;5;241m/\u001b[39mnum2   \u001b[38;5;66;03m# 10/0  ==== > zero \u001b[39;00m\n\u001b[0;32m      4\u001b[0m \u001b[38;5;28mprint\u001b[39m(add)\n",
      "\u001b[1;31mZeroDivisionError\u001b[0m: division by zero"
     ]
    }
   ],
   "source": [
    "num1=10\n",
    "num2=0\n",
    "add=num1/num2   # 10/0  ==== > zero \n",
    "print(add)"
   ]
  },
  {
   "cell_type": "code",
   "execution_count": 16,
   "id": "d1caa058",
   "metadata": {},
   "outputs": [
    {
     "name": "stdout",
     "output_type": "stream",
     "text": [
      "enter number-1:20\n",
      "enter number-2:30\n",
      "enter number-3:40\n",
      "The average of 20 , 30 and 40 is 30.0\n"
     ]
    }
   ],
   "source": [
    "# wap ask the user enter 3 numbers and find the avergae\n",
    "num1=eval(input(\"enter number-1:\"))\n",
    "num2=eval(input(\"enter number-2:\"))\n",
    "num3=eval(input(\"enter number-3:\"))\n",
    "avergae=(num1+num2+num3)/3\n",
    "print(\"The average of {},{} and {} is {}\".format(num1,num2,num3,avergae))"
   ]
  },
  {
   "cell_type": "code",
   "execution_count": 18,
   "id": "acdd5819",
   "metadata": {},
   "outputs": [
    {
     "name": "stdout",
     "output_type": "stream",
     "text": [
      "enter number-1:20\n",
      "enter number-2:30\n",
      "enter number-3:40\n",
      "check the code\n"
     ]
    }
   ],
   "source": [
    "try:\n",
    "    num1=eval(input(\"enter number-1:\"))\n",
    "    num2=eval(input(\"enter number-2:\"))\n",
    "    num3=eval(input(\"enter number-3:\"))\n",
    "    avergae=(num1+num2+num3333)/3\n",
    "    print(\"The average of {},{} and {} is {}\".format(num1,num2,num3,avergae))\n",
    "    \n",
    "except:\n",
    "    print(\"check the code\")\n",
    "    \n",
    "# error-1: name error"
   ]
  },
  {
   "cell_type": "code",
   "execution_count": 21,
   "id": "01bffb81",
   "metadata": {},
   "outputs": [
    {
     "name": "stdout",
     "output_type": "stream",
     "text": [
      "enter number-1:20\n",
      "enter number-2:30\n",
      "enter number-3:40\n",
      "division by zero\n"
     ]
    }
   ],
   "source": [
    "try:\n",
    "    num1=eval(input(\"enter number-1:\"))\n",
    "    num2=eval(input(\"enter number-2:\"))\n",
    "    num3=eval(input(\"enter number-3:\"))\n",
    "    avergae=(num1+num2+num3)/0\n",
    "    print(\"The average of {},{} and {} is {}\".format(num1,num2,num3,avergae))\n",
    "    \n",
    "except Exception as e:\n",
    "    print(e)\n"
   ]
  },
  {
   "cell_type": "code",
   "execution_count": 22,
   "id": "213c8f90",
   "metadata": {},
   "outputs": [
    {
     "name": "stdout",
     "output_type": "stream",
     "text": [
      "enter a number:10\n",
      "the square of 10 is 100\n"
     ]
    }
   ],
   "source": [
    "# wap ask the user enter a number and find the square of the number\n",
    "\n",
    "num=eval(input(\"enter a number:\"))\n",
    "print(\"the square of {} is {}\".format(num,num*num))\n"
   ]
  },
  {
   "cell_type": "code",
   "execution_count": 27,
   "id": "4d75c476",
   "metadata": {},
   "outputs": [
    {
     "name": "stdout",
     "output_type": "stream",
     "text": [
      "enter a number:10\n",
      "name 'num222' is not defined\n"
     ]
    }
   ],
   "source": [
    "try:\n",
    "    num=eval(input(\"enter a number:\"))\n",
    "    print(\"the square of {} is {}\".format(num,num222*num))\n",
    "    \n",
    "except Exception as e:\n",
    "    print(e)\n"
   ]
  },
  {
   "cell_type": "code",
   "execution_count": null,
   "id": "024bb83d",
   "metadata": {},
   "outputs": [],
   "source": [
    "try:\n",
    "    num=eval(input(\"enter a number:\"))\n",
    "    print(\"the square of {} is {}\".format(num,num222*num))\n",
    "    \n",
    "except Exception as e:\n",
    "    print(e)           # capture the error\n",
    "    print('hello')"
   ]
  },
  {
   "cell_type": "markdown",
   "id": "477ef4ef",
   "metadata": {},
   "source": [
    "**Case-1**"
   ]
  },
  {
   "cell_type": "code",
   "execution_count": 32,
   "id": "f1faf01a",
   "metadata": {},
   "outputs": [
    {
     "name": "stdout",
     "output_type": "stream",
     "text": [
      "enter a number:100\n",
      "name 'num222' is not defined\n",
      "hello\n"
     ]
    }
   ],
   "source": [
    "try:\n",
    "    num=eval(input(\"enter a number:\"))\n",
    "    print(\"the square of {} is {}\".format(num,num222*num))\n",
    "    \n",
    "except Exception as e:\n",
    "    print(e)           # capture the error   \n",
    "    print('hello')     # hello               "
   ]
  },
  {
   "cell_type": "markdown",
   "id": "27cf736e",
   "metadata": {},
   "source": [
    "**Case-2**"
   ]
  },
  {
   "cell_type": "code",
   "execution_count": 33,
   "id": "b1e86741",
   "metadata": {},
   "outputs": [
    {
     "name": "stdout",
     "output_type": "stream",
     "text": [
      "enter a number:100\n",
      "hai\n",
      "name 'num222' is not defined\n",
      "hello\n"
     ]
    }
   ],
   "source": [
    "try:\n",
    "    num=eval(input(\"enter a number:\"))\n",
    "    print(\"the square of {} is {}\".format(num,num222*num))\n",
    "    \n",
    "except Exception as e:\n",
    "    print('hai')\n",
    "    print(e)             \n",
    "    print('hello') "
   ]
  },
  {
   "cell_type": "markdown",
   "id": "9caaff3c",
   "metadata": {},
   "source": [
    "**Case-3**"
   ]
  },
  {
   "cell_type": "code",
   "execution_count": 34,
   "id": "c9b40534",
   "metadata": {},
   "outputs": [
    {
     "name": "stdout",
     "output_type": "stream",
     "text": [
      "enter a number:100\n",
      "hai\n",
      "name 'num222' is not defined\n",
      "hello\n",
      "python\n",
      "1\n",
      "2\n"
     ]
    }
   ],
   "source": [
    "try:\n",
    "    num=eval(input(\"enter a number:\"))\n",
    "    print(\"the square of {} is {}\".format(num,num222*num)) # error\n",
    "    \n",
    "except Exception as e:\n",
    "    print('hai')\n",
    "    print(e)             \n",
    "    print('hello')\n",
    "    \n",
    "print('python')\n",
    "print(1)\n",
    "print(2)\n",
    "\n",
    "# num= 100\n",
    "# error======= exception\n",
    "              # hai\n",
    "              # error\n",
    "              # hello\n",
    "            \n",
    "# python\n",
    "# 1\n",
    "# 2"
   ]
  },
  {
   "cell_type": "markdown",
   "id": "254b8cf2",
   "metadata": {},
   "source": [
    "**Case-4**"
   ]
  },
  {
   "cell_type": "code",
   "execution_count": 37,
   "id": "70ca6139",
   "metadata": {},
   "outputs": [
    {
     "ename": "SyntaxError",
     "evalue": "incomplete input (1132327885.py, line 2)",
     "output_type": "error",
     "traceback": [
      "\u001b[1;36m  Cell \u001b[1;32mIn[37], line 2\u001b[1;36m\u001b[0m\n\u001b[1;33m    print('hello')\u001b[0m\n\u001b[1;37m                  ^\u001b[0m\n\u001b[1;31mSyntaxError\u001b[0m\u001b[1;31m:\u001b[0m incomplete input\n"
     ]
    }
   ],
   "source": [
    "try:\n",
    "    print('hello')"
   ]
  },
  {
   "cell_type": "markdown",
   "id": "17d1673c",
   "metadata": {},
   "source": [
    "- if your code is with out error , try block will execute\n",
    "\n",
    "- if your code has errors,it will redirect to except block\n",
    "\n",
    "- what ever you written inside except block that will run\n",
    "\n",
    "- try and exception is together\n",
    "\n",
    "- ones try and exceptions code are complete, it try to look any other lines of code are there\n",
    "\n",
    "- Try-exception will not capture syntax error"
   ]
  },
  {
   "cell_type": "markdown",
   "id": "1ed82256",
   "metadata": {},
   "source": [
    "**Case-5**"
   ]
  },
  {
   "cell_type": "code",
   "execution_count": 38,
   "id": "fdbf176d",
   "metadata": {},
   "outputs": [
    {
     "name": "stdout",
     "output_type": "stream",
     "text": [
      "=============================\n",
      "8\n",
      "****************************\n",
      "enter a number:20\n",
      "hai\n",
      "name 'num222' is not defined\n",
      "hello\n",
      "python\n",
      "1\n",
      "2\n"
     ]
    }
   ],
   "source": [
    "print(\"=============================\")\n",
    "print(3+5)\n",
    "print('****************************')\n",
    "\n",
    "try:\n",
    "    num=eval(input(\"enter a number:\"))\n",
    "    print(\"the square of {} is {}\".format(num,num222*num)) # error\n",
    "    \n",
    "except Exception as e:\n",
    "    print('hai')\n",
    "    print(e)             \n",
    "    print('hello')\n",
    "    \n",
    "print('python')\n",
    "print(1)\n",
    "print(2)"
   ]
  },
  {
   "cell_type": "markdown",
   "id": "2e6a3f9e",
   "metadata": {},
   "source": [
    "**Case-6**"
   ]
  },
  {
   "cell_type": "code",
   "execution_count": 39,
   "id": "ccacbbf2",
   "metadata": {},
   "outputs": [
    {
     "ename": "SyntaxError",
     "evalue": "expected 'except' or 'finally' block (2801750305.py, line 9)",
     "output_type": "error",
     "traceback": [
      "\u001b[1;36m  Cell \u001b[1;32mIn[39], line 9\u001b[1;36m\u001b[0m\n\u001b[1;33m    print('out')\u001b[0m\n\u001b[1;37m    ^\u001b[0m\n\u001b[1;31mSyntaxError\u001b[0m\u001b[1;31m:\u001b[0m expected 'except' or 'finally' block\n"
     ]
    }
   ],
   "source": [
    "print(\"=============================\")\n",
    "print(3+5)\n",
    "print('****************************')\n",
    "\n",
    "try:\n",
    "    num=eval(input(\"enter a number:\"))\n",
    "    print(\"the square of {} is {}\".format(num,num222*num)) # error\n",
    "    \n",
    "print('out')\n",
    "    \n",
    "except Exception as e:\n",
    "    print('hai')\n",
    "    print(e)             \n",
    "    print('hello')\n",
    "    \n",
    "print('python')\n",
    "print(1)\n",
    "print(2)"
   ]
  },
  {
   "cell_type": "markdown",
   "id": "5a7cd54c",
   "metadata": {},
   "source": [
    "**Case-7**"
   ]
  },
  {
   "cell_type": "code",
   "execution_count": 41,
   "id": "3e7c51b8",
   "metadata": {},
   "outputs": [
    {
     "ename": "IndentationError",
     "evalue": "unindent does not match any outer indentation level (<tokenize>, line 9)",
     "output_type": "error",
     "traceback": [
      "\u001b[1;36m  File \u001b[1;32m<tokenize>:9\u001b[1;36m\u001b[0m\n\u001b[1;33m    print('out')\u001b[0m\n\u001b[1;37m    ^\u001b[0m\n\u001b[1;31mIndentationError\u001b[0m\u001b[1;31m:\u001b[0m unindent does not match any outer indentation level\n"
     ]
    }
   ],
   "source": [
    "print(\"=============================\")\n",
    "print(3+5)\n",
    "print('****************************')\n",
    "\n",
    "try:\n",
    "    num=eval(input(\"enter a number:\"))\n",
    "    print(\"the square of {} is {}\".format(num,num222*num)) # error\n",
    "    \n",
    " print('out')\n",
    "    \n",
    "except Exception as e:\n",
    "    print('hai')\n",
    "    print(e)             \n",
    "    print('hello')\n",
    "    \n",
    "print('python')\n",
    "print(1)\n",
    "print(2)"
   ]
  },
  {
   "cell_type": "markdown",
   "id": "bd89cc5f",
   "metadata": {},
   "source": [
    "### All points\n",
    "\n",
    "- there are two blocks\n",
    "\n",
    "- one try block\n",
    "\n",
    "- another is exception block\n",
    "\n",
    "- your code will be there in try block\n",
    "\n",
    "- error capture will happens in except block\n",
    "\n",
    "- indentation : space\n",
    "\n",
    "- red : space/indentation not maintained properly\n",
    "\n",
    "- indenation has min 4 charcters\n",
    "\n",
    "- : is there, then indentation will be there\n",
    "    \n",
    "    \n",
    "- if your code is with out error , try block will execute\n",
    "\n",
    "- if your code has errors,it will redirect to except block\n",
    "\n",
    "- what ever you written inside except block that will run\n",
    "\n",
    "- try and exception is together\n",
    "\n",
    "- ones try and exceptions code are complete, it try to look any other lines of code are there\n",
    "\n",
    "- Try-exception will not capture syntax errorm"
   ]
  },
  {
   "cell_type": "code",
   "execution_count": null,
   "id": "d18bf504",
   "metadata": {},
   "outputs": [],
   "source": []
  },
  {
   "cell_type": "code",
   "execution_count": null,
   "id": "d79c0d16",
   "metadata": {},
   "outputs": [],
   "source": []
  },
  {
   "cell_type": "code",
   "execution_count": null,
   "id": "7b04ded6",
   "metadata": {},
   "outputs": [],
   "source": []
  }
 ],
 "metadata": {
  "kernelspec": {
   "display_name": "Python 3 (ipykernel)",
   "language": "python",
   "name": "python3"
  },
  "language_info": {
   "codemirror_mode": {
    "name": "ipython",
    "version": 3
   },
   "file_extension": ".py",
   "mimetype": "text/x-python",
   "name": "python",
   "nbconvert_exporter": "python",
   "pygments_lexer": "ipython3",
   "version": "3.11.5"
  }
 },
 "nbformat": 4,
 "nbformat_minor": 5
}
