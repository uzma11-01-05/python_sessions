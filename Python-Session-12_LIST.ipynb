{
 "cells": [
  {
   "cell_type": "code",
   "execution_count": null,
   "id": "f8156dda",
   "metadata": {},
   "outputs": [],
   "source": [
    "Strings write up\n",
    "\n",
    "Assignment on strings"
   ]
  },
  {
   "cell_type": "code",
   "execution_count": null,
   "id": "713fe073",
   "metadata": {},
   "outputs": [],
   "source": []
  },
  {
   "cell_type": "code",
   "execution_count": null,
   "id": "4db0d383",
   "metadata": {},
   "outputs": [],
   "source": [
    "- Read the strings\n",
    "\n",
    "- type\n",
    "\n",
    "- max\n",
    "\n",
    "- min\n",
    "\n",
    "- len\n",
    "\n",
    "- in (for loop)\n",
    "\n",
    "- range \n",
    "\n",
    "- index\n",
    "\n",
    "- mutable \n",
    "\n",
    "- slice\n",
    "\n",
    "- methods "
   ]
  },
  {
   "cell_type": "markdown",
   "id": "b1e1cad5",
   "metadata": {},
   "source": [
    "- array of elements"
   ]
  },
  {
   "cell_type": "code",
   "execution_count": 1,
   "id": "61af2990",
   "metadata": {},
   "outputs": [],
   "source": [
    "string1='python'"
   ]
  },
  {
   "cell_type": "code",
   "execution_count": 2,
   "id": "bc5f73b9",
   "metadata": {},
   "outputs": [
    {
     "data": {
      "text/plain": [
       "[1, 2, 3, 4]"
      ]
     },
     "execution_count": 2,
     "metadata": {},
     "output_type": "execute_result"
    }
   ],
   "source": [
    "list1=[1,2,3,4]\n",
    "list1 # You can write numbers "
   ]
  },
  {
   "cell_type": "code",
   "execution_count": 3,
   "id": "579a5552",
   "metadata": {},
   "outputs": [
    {
     "data": {
      "text/plain": [
       "['A', 'B', 'C', 'D']"
      ]
     },
     "execution_count": 3,
     "metadata": {},
     "output_type": "execute_result"
    }
   ],
   "source": [
    "list2=['A','B','C','D']\n",
    "list2 # you can write strings"
   ]
  },
  {
   "cell_type": "code",
   "execution_count": 4,
   "id": "1c66b93a",
   "metadata": {},
   "outputs": [
    {
     "data": {
      "text/plain": [
       "[1, 2, 3, 4, 'A', 'B', 'C', 'D']"
      ]
     },
     "execution_count": 4,
     "metadata": {},
     "output_type": "execute_result"
    }
   ],
   "source": [
    "list3=[1,2,3,4,'A','B','C','D']\n",
    "list3"
   ]
  },
  {
   "cell_type": "code",
   "execution_count": 6,
   "id": "e58e9384",
   "metadata": {},
   "outputs": [
    {
     "data": {
      "text/plain": [
       "[1, 'Apple', 10.5, (10+20j), True]"
      ]
     },
     "execution_count": 6,
     "metadata": {},
     "output_type": "execute_result"
    }
   ],
   "source": [
    "list4=[1,'Apple',10.5,10+20j,True]\n",
    "list4"
   ]
  },
  {
   "cell_type": "code",
   "execution_count": 7,
   "id": "a3c7205c",
   "metadata": {},
   "outputs": [
    {
     "data": {
      "text/plain": [
       "[100, 100, 100]"
      ]
     },
     "execution_count": 7,
     "metadata": {},
     "output_type": "execute_result"
    }
   ],
   "source": [
    "list5=[100,100,100]\n",
    "list5"
   ]
  },
  {
   "cell_type": "code",
   "execution_count": 8,
   "id": "8968c41f",
   "metadata": {},
   "outputs": [
    {
     "data": {
      "text/plain": [
       "[[1, 2, 3, 4]]"
      ]
     },
     "execution_count": 8,
     "metadata": {},
     "output_type": "execute_result"
    }
   ],
   "source": [
    "list6=[[1,2,3,4]]\n",
    "list6"
   ]
  },
  {
   "cell_type": "markdown",
   "id": "a84ea8a8",
   "metadata": {},
   "source": [
    "- list is an array of elements\n",
    "\n",
    "- list elements heterogeneous(different) data types are allowed\n",
    "\n",
    "- duplicates are allowed\n",
    "\n",
    "- list in list also works"
   ]
  },
  {
   "cell_type": "markdown",
   "id": "f839bfe8",
   "metadata": {},
   "source": [
    "$type$"
   ]
  },
  {
   "cell_type": "code",
   "execution_count": 9,
   "id": "dd97b9ce",
   "metadata": {},
   "outputs": [
    {
     "data": {
      "text/plain": [
       "list"
      ]
     },
     "execution_count": 9,
     "metadata": {},
     "output_type": "execute_result"
    }
   ],
   "source": [
    "type(list3)"
   ]
  },
  {
   "cell_type": "markdown",
   "id": "ce7fc020",
   "metadata": {},
   "source": [
    "$max$"
   ]
  },
  {
   "cell_type": "code",
   "execution_count": 10,
   "id": "c89978b3",
   "metadata": {},
   "outputs": [
    {
     "data": {
      "text/plain": [
       "[1, 2, 3, 4]"
      ]
     },
     "execution_count": 10,
     "metadata": {},
     "output_type": "execute_result"
    }
   ],
   "source": [
    "list1"
   ]
  },
  {
   "cell_type": "code",
   "execution_count": 11,
   "id": "6143288c",
   "metadata": {},
   "outputs": [
    {
     "data": {
      "text/plain": [
       "['A', 'B', 'C', 'D']"
      ]
     },
     "execution_count": 11,
     "metadata": {},
     "output_type": "execute_result"
    }
   ],
   "source": [
    "list2"
   ]
  },
  {
   "cell_type": "code",
   "execution_count": 12,
   "id": "299856d7",
   "metadata": {},
   "outputs": [
    {
     "name": "stdout",
     "output_type": "stream",
     "text": [
      "4\n",
      "D\n"
     ]
    },
    {
     "ename": "TypeError",
     "evalue": "'>' not supported between instances of 'str' and 'int'",
     "output_type": "error",
     "traceback": [
      "\u001b[1;31m---------------------------------------------------------------------------\u001b[0m",
      "\u001b[1;31mTypeError\u001b[0m                                 Traceback (most recent call last)",
      "Cell \u001b[1;32mIn[12], line 3\u001b[0m\n\u001b[0;32m      1\u001b[0m \u001b[38;5;28mprint\u001b[39m(\u001b[38;5;28mmax\u001b[39m(list1)) \u001b[38;5;66;03m# 4\u001b[39;00m\n\u001b[0;32m      2\u001b[0m \u001b[38;5;28mprint\u001b[39m(\u001b[38;5;28mmax\u001b[39m(list2)) \u001b[38;5;66;03m# D ====== > ascii ord\u001b[39;00m\n\u001b[1;32m----> 3\u001b[0m \u001b[38;5;28mprint\u001b[39m(\u001b[38;5;28mmax\u001b[39m(list3))\n",
      "\u001b[1;31mTypeError\u001b[0m: '>' not supported between instances of 'str' and 'int'"
     ]
    }
   ],
   "source": [
    "print(max(list1)) # 4\n",
    "print(max(list2)) # D ====== > ascii ord\n",
    "print(max(list3)) # error we cant compare different data types"
   ]
  },
  {
   "cell_type": "markdown",
   "id": "0f6a914f",
   "metadata": {},
   "source": [
    "$min$"
   ]
  },
  {
   "cell_type": "code",
   "execution_count": 13,
   "id": "c518fa77",
   "metadata": {},
   "outputs": [
    {
     "name": "stdout",
     "output_type": "stream",
     "text": [
      "1\n",
      "A\n"
     ]
    },
    {
     "ename": "TypeError",
     "evalue": "'<' not supported between instances of 'str' and 'int'",
     "output_type": "error",
     "traceback": [
      "\u001b[1;31m---------------------------------------------------------------------------\u001b[0m",
      "\u001b[1;31mTypeError\u001b[0m                                 Traceback (most recent call last)",
      "Cell \u001b[1;32mIn[13], line 3\u001b[0m\n\u001b[0;32m      1\u001b[0m \u001b[38;5;28mprint\u001b[39m(\u001b[38;5;28mmin\u001b[39m(list1)) \u001b[38;5;66;03m# 1\u001b[39;00m\n\u001b[0;32m      2\u001b[0m \u001b[38;5;28mprint\u001b[39m(\u001b[38;5;28mmin\u001b[39m(list2)) \u001b[38;5;66;03m# A ====== > ascii ord\u001b[39;00m\n\u001b[1;32m----> 3\u001b[0m \u001b[38;5;28mprint\u001b[39m(\u001b[38;5;28mmin\u001b[39m(list3))\n",
      "\u001b[1;31mTypeError\u001b[0m: '<' not supported between instances of 'str' and 'int'"
     ]
    }
   ],
   "source": [
    "print(min(list1)) # 1\n",
    "print(min(list2)) # A ====== > ascii ord\n",
    "print(min(list3)) # error we cant compare different data types"
   ]
  },
  {
   "cell_type": "markdown",
   "id": "b681e999",
   "metadata": {},
   "source": [
    "$len$"
   ]
  },
  {
   "cell_type": "code",
   "execution_count": 14,
   "id": "350bdef2",
   "metadata": {},
   "outputs": [
    {
     "name": "stdout",
     "output_type": "stream",
     "text": [
      "4\n",
      "4\n",
      "8\n"
     ]
    }
   ],
   "source": [
    "print(len(list1))  # 4 \n",
    "print(len(list2)) # 4\n",
    "print(len(list3)) #8"
   ]
  },
  {
   "cell_type": "markdown",
   "id": "13dc5d0f",
   "metadata": {},
   "source": [
    "$sum$"
   ]
  },
  {
   "cell_type": "code",
   "execution_count": 16,
   "id": "926be12f",
   "metadata": {},
   "outputs": [
    {
     "name": "stdout",
     "output_type": "stream",
     "text": [
      "[1, 2, 3, 4]\n",
      "10\n"
     ]
    }
   ],
   "source": [
    "print(list1)\n",
    "print(sum(list1))"
   ]
  },
  {
   "cell_type": "code",
   "execution_count": 17,
   "id": "298134fd",
   "metadata": {},
   "outputs": [
    {
     "name": "stdout",
     "output_type": "stream",
     "text": [
      "['A', 'B', 'C', 'D']\n"
     ]
    },
    {
     "ename": "TypeError",
     "evalue": "unsupported operand type(s) for +: 'int' and 'str'",
     "output_type": "error",
     "traceback": [
      "\u001b[1;31m---------------------------------------------------------------------------\u001b[0m",
      "\u001b[1;31mTypeError\u001b[0m                                 Traceback (most recent call last)",
      "Cell \u001b[1;32mIn[17], line 2\u001b[0m\n\u001b[0;32m      1\u001b[0m \u001b[38;5;28mprint\u001b[39m(list2)\n\u001b[1;32m----> 2\u001b[0m \u001b[38;5;28mprint\u001b[39m(\u001b[38;5;28msum\u001b[39m(list2))\n",
      "\u001b[1;31mTypeError\u001b[0m: unsupported operand type(s) for +: 'int' and 'str'"
     ]
    }
   ],
   "source": [
    "print(list2)\n",
    "print(sum(list2))"
   ]
  },
  {
   "cell_type": "markdown",
   "id": "065752d3",
   "metadata": {},
   "source": [
    "- sum\n",
    "\n",
    "- eval\n",
    "\n",
    "- range "
   ]
  },
  {
   "cell_type": "markdown",
   "id": "bea6a16b",
   "metadata": {},
   "source": [
    "$in$"
   ]
  },
  {
   "cell_type": "code",
   "execution_count": 18,
   "id": "ff54b214",
   "metadata": {},
   "outputs": [
    {
     "data": {
      "text/plain": [
       "[1, 2, 3, 4]"
      ]
     },
     "execution_count": 18,
     "metadata": {},
     "output_type": "execute_result"
    }
   ],
   "source": [
    "list1"
   ]
  },
  {
   "cell_type": "code",
   "execution_count": 21,
   "id": "64257b56",
   "metadata": {},
   "outputs": [
    {
     "data": {
      "text/plain": [
       "False"
      ]
     },
     "execution_count": 21,
     "metadata": {},
     "output_type": "execute_result"
    }
   ],
   "source": [
    "1 in list1\n",
    "2 in list1\n",
    "3 in list1\n",
    "4 in list1\n",
    "\n",
    "i in list1\n",
    "\n",
    "# can i iterate through for loop"
   ]
  },
  {
   "cell_type": "code",
   "execution_count": 22,
   "id": "9bf3b7b4",
   "metadata": {},
   "outputs": [
    {
     "name": "stdout",
     "output_type": "stream",
     "text": [
      "1\n",
      "2\n",
      "3\n",
      "4\n"
     ]
    }
   ],
   "source": [
    "for i in list1:\n",
    "    print(i)"
   ]
  },
  {
   "cell_type": "markdown",
   "id": "871369c7",
   "metadata": {},
   "source": [
    "$Concatenation$"
   ]
  },
  {
   "cell_type": "code",
   "execution_count": 23,
   "id": "86b0c02d",
   "metadata": {},
   "outputs": [
    {
     "data": {
      "text/plain": [
       "[1, 2, 3, 4]"
      ]
     },
     "execution_count": 23,
     "metadata": {},
     "output_type": "execute_result"
    }
   ],
   "source": [
    "list1"
   ]
  },
  {
   "cell_type": "code",
   "execution_count": 24,
   "id": "5cae10ad",
   "metadata": {},
   "outputs": [
    {
     "data": {
      "text/plain": [
       "['A', 'B', 'C', 'D']"
      ]
     },
     "execution_count": 24,
     "metadata": {},
     "output_type": "execute_result"
    }
   ],
   "source": [
    "list2"
   ]
  },
  {
   "cell_type": "code",
   "execution_count": 25,
   "id": "89932f0a",
   "metadata": {},
   "outputs": [
    {
     "name": "stdout",
     "output_type": "stream",
     "text": [
      "[1, 2, 3, 4, 'A', 'B', 'C', 'D']\n",
      "['A', 'B', 'C', 'D', 1, 2, 3, 4]\n"
     ]
    }
   ],
   "source": [
    "print(list1+list2)\n",
    "print(list2+list1)"
   ]
  },
  {
   "cell_type": "code",
   "execution_count": 26,
   "id": "33cfd52c",
   "metadata": {},
   "outputs": [],
   "source": [
    "new_list=list1+list2"
   ]
  },
  {
   "cell_type": "code",
   "execution_count": 27,
   "id": "d81c1b4d",
   "metadata": {},
   "outputs": [
    {
     "data": {
      "text/plain": [
       "[1, 2, 3, 4, 'A', 'B', 'C', 'D']"
      ]
     },
     "execution_count": 27,
     "metadata": {},
     "output_type": "execute_result"
    }
   ],
   "source": [
    "new_list"
   ]
  },
  {
   "cell_type": "code",
   "execution_count": 28,
   "id": "3d3aeed0",
   "metadata": {},
   "outputs": [
    {
     "data": {
      "text/plain": [
       "[1, 2, 3, 4, 1, 2, 3, 4, 1, 2, 3, 4]"
      ]
     },
     "execution_count": 28,
     "metadata": {},
     "output_type": "execute_result"
    }
   ],
   "source": [
    "list1*3  # list1+list1+list1"
   ]
  },
  {
   "cell_type": "code",
   "execution_count": null,
   "id": "c803d44f",
   "metadata": {},
   "outputs": [],
   "source": [
    "list1-list2  # Fail\n",
    "list1*list2  # Fail\n",
    "list1/list2  # Fail\n",
    "\n",
    "#'a'/'b'"
   ]
  },
  {
   "cell_type": "code",
   "execution_count": null,
   "id": "4240f176",
   "metadata": {},
   "outputs": [],
   "source": [
    "96 ====== laptop\n",
    "\n",
    "techshame"
   ]
  },
  {
   "cell_type": "markdown",
   "id": "e53a1910",
   "metadata": {},
   "source": [
    "$Index$"
   ]
  },
  {
   "cell_type": "code",
   "execution_count": 29,
   "id": "bcc10985",
   "metadata": {},
   "outputs": [
    {
     "data": {
      "text/plain": [
       "[1, 2, 3, 4, 'A', 'B', 'C', 'D']"
      ]
     },
     "execution_count": 29,
     "metadata": {},
     "output_type": "execute_result"
    }
   ],
   "source": [
    "list3"
   ]
  },
  {
   "cell_type": "code",
   "execution_count": 33,
   "id": "b25939b1",
   "metadata": {},
   "outputs": [
    {
     "data": {
      "text/plain": [
       "(1, 2, 3, 4)"
      ]
     },
     "execution_count": 33,
     "metadata": {},
     "output_type": "execute_result"
    }
   ],
   "source": [
    "# python index start with zero\n",
    "list3[0],list3[1],list3[2],list3[3]\n",
    "\n",
    "# list3[i]\n",
    "# i=0 1 2 3 "
   ]
  },
  {
   "cell_type": "code",
   "execution_count": 37,
   "id": "d25596f7",
   "metadata": {},
   "outputs": [
    {
     "data": {
      "text/plain": [
       "'D'"
      ]
     },
     "execution_count": 37,
     "metadata": {},
     "output_type": "execute_result"
    }
   ],
   "source": [
    "list3[-1]\n",
    "\n",
    "-8  -7  -6  -5  -4  -3  -2  -1  \n",
    "1   2   3   4    A   B   C  D\n",
    "0   1   2   3    4   5   6  7"
   ]
  },
  {
   "cell_type": "code",
   "execution_count": 39,
   "id": "fbb6dacf",
   "metadata": {},
   "outputs": [
    {
     "name": "stdout",
     "output_type": "stream",
     "text": [
      "postive index is: 0 and negative index is -8: for an element 1\n",
      "postive index is: 1 and negative index is -7: for an element 2\n",
      "postive index is: 2 and negative index is -6: for an element 3\n",
      "postive index is: 3 and negative index is -5: for an element 4\n",
      "postive index is: 4 and negative index is -4: for an element A\n",
      "postive index is: 5 and negative index is -3: for an element B\n",
      "postive index is: 6 and negative index is -2: for an element C\n",
      "postive index is: 7 and negative index is -1: for an element D\n"
     ]
    }
   ],
   "source": [
    "for i in range(len(list3)):\n",
    "    print('postive index is: {} and negative index is {}: for an element {}'.format(i,i-len(list3),list3[i]))"
   ]
  },
  {
   "cell_type": "code",
   "execution_count": 42,
   "id": "038dcf19",
   "metadata": {},
   "outputs": [
    {
     "name": "stdout",
     "output_type": "stream",
     "text": [
      "Ab\n",
      "Cd\n",
      "Ef\n",
      "Ab\n",
      "Cd\n",
      "Ef\n"
     ]
    }
   ],
   "source": [
    "#WAP find the elements which are having len<3\n",
    "# list=['Apple','Ball','Cat','Ab','Cd','Ef']\n",
    "\n",
    "# step-1:  iterate the list using for loop \n",
    "# step-2:  apply the if condition len(<element>)<3:\n",
    "# step-3:            print(element)\n",
    "\n",
    "list1=['Apple','Ball','Cat','Ab','Cd','Ef']\n",
    "for i in range(len(list1)):\n",
    "    if len(list1[i])<3:\n",
    "        print(list1[i])\n",
    "        \n",
    "        \n",
    "for i in list1:\n",
    "    if len(i)<3:\n",
    "        print(i)"
   ]
  },
  {
   "cell_type": "code",
   "execution_count": 43,
   "id": "0e950c27",
   "metadata": {},
   "outputs": [
    {
     "name": "stdout",
     "output_type": "stream",
     "text": [
      "App#e\n",
      "B#ll\n",
      "C#t\n"
     ]
    }
   ],
   "source": [
    "#WAP find the elements which are having #\n",
    "# list=['App#e','B#ll','C#t','Ab','Cd','Ef']\n",
    "\n",
    "# step-1:  iterate the list using for loop \n",
    "# step-2:  apply the if condition:\n",
    "# step-3:            print(element)\n",
    "\n",
    "list1=['App#e','B#ll','C#t','Ab','Cd','Ef']\n",
    "for i in list1:\n",
    "    if '#' in i:\n",
    "        print(i)"
   ]
  },
  {
   "cell_type": "code",
   "execution_count": 44,
   "id": "b5003f16",
   "metadata": {},
   "outputs": [
    {
     "name": "stdout",
     "output_type": "stream",
     "text": [
      "3\n"
     ]
    }
   ],
   "source": [
    "list1=['App#e','B#ll','C#t','Ab','Cd','Ef']\n",
    "count=0\n",
    "for i in list1:\n",
    "    if '#' in i:\n",
    "        count=count+1\n",
    "        \n",
    "print(count)"
   ]
  },
  {
   "cell_type": "code",
   "execution_count": 46,
   "id": "79cb6a88",
   "metadata": {},
   "outputs": [
    {
     "data": {
      "text/plain": [
       "'Ball'"
      ]
     },
     "execution_count": 46,
     "metadata": {},
     "output_type": "execute_result"
    }
   ],
   "source": [
    "list1=[1,2,3,['Apple','Ball']]\n",
    "\n",
    "# retrive the ball using index\n",
    "# In the given list how many elements are there: 4\n",
    "list1[3][1]"
   ]
  },
  {
   "cell_type": "code",
   "execution_count": 53,
   "id": "fcf2b3f8",
   "metadata": {},
   "outputs": [
    {
     "data": {
      "text/plain": [
       "'Cherry'"
      ]
     },
     "execution_count": 53,
     "metadata": {},
     "output_type": "execute_result"
    }
   ],
   "source": [
    "list2=[[[[[[['Cherry']]]]]]]\n",
    "list2[0][0][0][0][0][0][0]"
   ]
  },
  {
   "cell_type": "code",
   "execution_count": null,
   "id": "60a15e5e",
   "metadata": {},
   "outputs": [],
   "source": [
    "list3=[[[['A','B',[[[1,2,3,['Car']]]]]]]]\n",
    "# retrive the car"
   ]
  },
  {
   "cell_type": "code",
   "execution_count": 54,
   "id": "a07ba8cf",
   "metadata": {},
   "outputs": [
    {
     "data": {
      "text/plain": [
       "'car'"
      ]
     },
     "execution_count": 54,
     "metadata": {},
     "output_type": "execute_result"
    }
   ],
   "source": [
    "list3=[[[['A','B',[[[1,2,3,['car']]]]]]]]\n",
    "list3[0][0][0][2][0][0][3][0]"
   ]
  },
  {
   "cell_type": "markdown",
   "id": "204413cd",
   "metadata": {},
   "source": [
    "$Mutabel$"
   ]
  },
  {
   "cell_type": "code",
   "execution_count": 56,
   "id": "9f8ea134",
   "metadata": {},
   "outputs": [
    {
     "ename": "TypeError",
     "evalue": "'str' object does not support item assignment",
     "output_type": "error",
     "traceback": [
      "\u001b[1;31m---------------------------------------------------------------------------\u001b[0m",
      "\u001b[1;31mTypeError\u001b[0m                                 Traceback (most recent call last)",
      "Cell \u001b[1;32mIn[56], line 3\u001b[0m\n\u001b[0;32m      1\u001b[0m string1\u001b[38;5;241m=\u001b[39m\u001b[38;5;124m'\u001b[39m\u001b[38;5;124mwelcome\u001b[39m\u001b[38;5;124m'\u001b[39m\n\u001b[0;32m      2\u001b[0m \u001b[38;5;66;03m# 'l'  to 'L'\u001b[39;00m\n\u001b[1;32m----> 3\u001b[0m string1[\u001b[38;5;241m2\u001b[39m]\u001b[38;5;241m=\u001b[39m\u001b[38;5;124m'\u001b[39m\u001b[38;5;124mL\u001b[39m\u001b[38;5;124m'\u001b[39m\n",
      "\u001b[1;31mTypeError\u001b[0m: 'str' object does not support item assignment"
     ]
    }
   ],
   "source": [
    "string1='welcome'\n",
    "# 'l'  to 'L'\n",
    "string1[2]='L'\n",
    "\n",
    "# strings are immutable"
   ]
  },
  {
   "cell_type": "code",
   "execution_count": 58,
   "id": "6c66d1f9",
   "metadata": {},
   "outputs": [
    {
     "data": {
      "text/plain": [
       "[100, 'B', 'C']"
      ]
     },
     "execution_count": 58,
     "metadata": {},
     "output_type": "execute_result"
    }
   ],
   "source": [
    "list1=['A','B','C']\n",
    "list1[0]=100\n",
    "list1"
   ]
  },
  {
   "cell_type": "markdown",
   "id": "a257e059",
   "metadata": {},
   "source": [
    "$slice$"
   ]
  },
  {
   "cell_type": "code",
   "execution_count": 59,
   "id": "0bb8d169",
   "metadata": {},
   "outputs": [
    {
     "name": "stdout",
     "output_type": "stream",
     "text": [
      "[30, 'P', 'H', 'a']\n",
      "[]\n",
      "[]\n",
      "[30]\n",
      "['c']\n",
      "[]\n",
      "['c', 'N', 'T', 50]\n",
      "[]\n"
     ]
    }
   ],
   "source": [
    "list1=[10,20,30,40,50,'P','Y','T','H','O','N','a','b','c','D']\n",
    "\n",
    "print(list1[2:14:3])   # p \n",
    "print(list1[2:14:-3])  # np\n",
    "print(list1[2:-14:3])  # np\n",
    "print(list1[2:-14:-3]) # p\n",
    "print(list1[-2:14:3])  # p\n",
    "print(list1[-2:-14:3])  # np\n",
    "print(list1[-2:-14:-3])  # p\n",
    "print(list1[-2:14:-3])  # np"
   ]
  },
  {
   "cell_type": "markdown",
   "id": "12a9c816",
   "metadata": {},
   "source": [
    "- Reading a list\n",
    "\n",
    "- Different ways to provide elements\n",
    "\n",
    "- type/min/max/sum/len\n",
    "\n",
    "- in\n",
    "\n",
    "- concatenation\n",
    "\n",
    "- index\n",
    "\n",
    "- mutable\n",
    "\n",
    "- slice\n",
    "\n"
   ]
  },
  {
   "cell_type": "markdown",
   "id": "9b511ebf",
   "metadata": {},
   "source": [
    "#### List methods"
   ]
  },
  {
   "cell_type": "code",
   "execution_count": 60,
   "id": "8e8a0df4",
   "metadata": {},
   "outputs": [
    {
     "data": {
      "text/plain": [
       "['__add__',\n",
       " '__class__',\n",
       " '__class_getitem__',\n",
       " '__contains__',\n",
       " '__delattr__',\n",
       " '__delitem__',\n",
       " '__dir__',\n",
       " '__doc__',\n",
       " '__eq__',\n",
       " '__format__',\n",
       " '__ge__',\n",
       " '__getattribute__',\n",
       " '__getitem__',\n",
       " '__getstate__',\n",
       " '__gt__',\n",
       " '__hash__',\n",
       " '__iadd__',\n",
       " '__imul__',\n",
       " '__init__',\n",
       " '__init_subclass__',\n",
       " '__iter__',\n",
       " '__le__',\n",
       " '__len__',\n",
       " '__lt__',\n",
       " '__mul__',\n",
       " '__ne__',\n",
       " '__new__',\n",
       " '__reduce__',\n",
       " '__reduce_ex__',\n",
       " '__repr__',\n",
       " '__reversed__',\n",
       " '__rmul__',\n",
       " '__setattr__',\n",
       " '__setitem__',\n",
       " '__sizeof__',\n",
       " '__str__',\n",
       " '__subclasshook__',\n",
       " 'append',\n",
       " 'clear',\n",
       " 'copy',\n",
       " 'count',\n",
       " 'extend',\n",
       " 'index',\n",
       " 'insert',\n",
       " 'pop',\n",
       " 'remove',\n",
       " 'reverse',\n",
       " 'sort']"
      ]
     },
     "execution_count": 60,
     "metadata": {},
     "output_type": "execute_result"
    }
   ],
   "source": [
    "dir([])"
   ]
  },
  {
   "cell_type": "markdown",
   "id": "68f240e8",
   "metadata": {},
   "source": [
    "$clear$-$copy$"
   ]
  },
  {
   "cell_type": "code",
   "execution_count": 62,
   "id": "2b1e1f19",
   "metadata": {},
   "outputs": [
    {
     "name": "stdout",
     "output_type": "stream",
     "text": [
      "list1: []\n",
      "list2: [1, 2, 3, 4]\n"
     ]
    }
   ],
   "source": [
    "list1=[1,2,3,4]\n",
    "\n",
    "# I wanat copy these elements in a list2\n",
    "\n",
    "list2=list1.copy()\n",
    "\n",
    "list1.clear()\n",
    "\n",
    "print('list1:',list1)  # []\n",
    "print('list2:',list2)  # [1,2,3,4]"
   ]
  },
  {
   "cell_type": "code",
   "execution_count": null,
   "id": "5e7ce1ad",
   "metadata": {},
   "outputs": [],
   "source": [
    "# Side heading\n",
    "\n",
    "# write the code\n",
    "\n",
    "# insight/observation from above code"
   ]
  },
  {
   "cell_type": "markdown",
   "id": "a35e66ee",
   "metadata": {},
   "source": [
    "$append$"
   ]
  },
  {
   "cell_type": "code",
   "execution_count": 3,
   "id": "cb19b22a",
   "metadata": {},
   "outputs": [
    {
     "data": {
      "text/plain": [
       "[100, 200, 300]"
      ]
     },
     "execution_count": 3,
     "metadata": {},
     "output_type": "execute_result"
    }
   ],
   "source": [
    "# add (something) to the end of a written document.\n",
    "\n",
    "list1=[100,200]\n",
    "\n",
    "# [100,200,300]\n",
    "\n",
    "list1.append(300)\n",
    "list1"
   ]
  },
  {
   "cell_type": "code",
   "execution_count": 4,
   "id": "4964b56f",
   "metadata": {},
   "outputs": [
    {
     "data": {
      "text/plain": [
       "[100, 200, 300]"
      ]
     },
     "execution_count": 4,
     "metadata": {},
     "output_type": "execute_result"
    }
   ],
   "source": [
    "list1=[]\n",
    "list1.append(100)\n",
    "list1.append(200)\n",
    "list1.append(300)\n",
    "list1"
   ]
  },
  {
   "cell_type": "code",
   "execution_count": 6,
   "id": "9ac95c92",
   "metadata": {},
   "outputs": [],
   "source": [
    "list1.append([100,200])"
   ]
  },
  {
   "cell_type": "code",
   "execution_count": 7,
   "id": "c6abaa3f",
   "metadata": {},
   "outputs": [
    {
     "data": {
      "text/plain": [
       "[100, 200, 300, [100, 200]]"
      ]
     },
     "execution_count": 7,
     "metadata": {},
     "output_type": "execute_result"
    }
   ],
   "source": [
    "list1"
   ]
  },
  {
   "cell_type": "code",
   "execution_count": 8,
   "id": "b3e2cae8",
   "metadata": {},
   "outputs": [],
   "source": [
    "list1.append('apple')"
   ]
  },
  {
   "cell_type": "code",
   "execution_count": 9,
   "id": "300eb188",
   "metadata": {},
   "outputs": [
    {
     "data": {
      "text/plain": [
       "[100, 200, 300, [100, 200], 'apple']"
      ]
     },
     "execution_count": 9,
     "metadata": {},
     "output_type": "execute_result"
    }
   ],
   "source": [
    "list1"
   ]
  },
  {
   "cell_type": "code",
   "execution_count": 10,
   "id": "af4360d4",
   "metadata": {},
   "outputs": [
    {
     "name": "stdout",
     "output_type": "stream",
     "text": [
      "1\n",
      "4\n",
      "9\n",
      "16\n",
      "25\n"
     ]
    }
   ],
   "source": [
    "# Input list= [1,2,3,4,5]\n",
    "# create a new list = [1,4,9,16,25]\n",
    "\n",
    "# write normal python code\n",
    "list1=[1,2,3,4,5]\n",
    "for i in list1:\n",
    "    print(i*i)\n",
    "    \n",
    "# I dont want print the values, i want save the output in a list"
   ]
  },
  {
   "cell_type": "code",
   "execution_count": 11,
   "id": "cfffbe30",
   "metadata": {},
   "outputs": [
    {
     "data": {
      "text/plain": [
       "[1, 4, 9, 16, 25]"
      ]
     },
     "execution_count": 11,
     "metadata": {},
     "output_type": "execute_result"
    }
   ],
   "source": [
    "list1=[1,2,3,4,5]\n",
    "output=[]\n",
    "for i in list1:\n",
    "    output.append(i*i)\n",
    "        \n",
    "output"
   ]
  },
  {
   "cell_type": "code",
   "execution_count": 19,
   "id": "71b2ba42",
   "metadata": {},
   "outputs": [
    {
     "data": {
      "text/plain": [
       "['Hyd', 'Bengaluru', 'Delhi']"
      ]
     },
     "execution_count": 19,
     "metadata": {},
     "output_type": "execute_result"
    }
   ],
   "source": [
    "list2=['hyd','bengaluru','delhi']\n",
    "# output=['Hyd','Bengaluru','Delhi']\n",
    "output=[]\n",
    "for i in list2:\n",
    "    output.append(i.capitalize())\n",
    "    \n",
    "output"
   ]
  },
  {
   "cell_type": "code",
   "execution_count": 22,
   "id": "799255b9",
   "metadata": {},
   "outputs": [
    {
     "data": {
      "text/plain": [
       "['h#d', 'beng#luru']"
      ]
     },
     "execution_count": 22,
     "metadata": {},
     "output_type": "execute_result"
    }
   ],
   "source": [
    "list3=['h#d','beng#luru','delhi']\n",
    "# output=['h#d','beng#luru']\n",
    "\n",
    "output=[]\n",
    "for i in list3:\n",
    "    if '#' in i:\n",
    "        output.append(i)\n",
    "        \n",
    "output"
   ]
  },
  {
   "cell_type": "markdown",
   "id": "e75036b7",
   "metadata": {},
   "source": [
    "**list comprehenshion**"
   ]
  },
  {
   "cell_type": "code",
   "execution_count": 24,
   "id": "c11354ad",
   "metadata": {},
   "outputs": [
    {
     "data": {
      "text/plain": [
       "[1, 4, 9, 16, 25]"
      ]
     },
     "execution_count": 24,
     "metadata": {},
     "output_type": "execute_result"
    }
   ],
   "source": [
    "# code in a single line ===== > speed the process\n",
    "list1=[1,2,3,4,5] # input\n",
    "\n",
    "output=[]\n",
    "for i in list1:\n",
    "    output.append(i*i)\n",
    "        \n",
    "output\n",
    "\n",
    "# step-1: intilaized the list  output=[]\n",
    "# step-2:  iterate the loop\n",
    "# step-3: you save the output\n",
    "\n",
    "output1=[i*i for i in list1]\n",
    "output1\n",
    "\n",
    "# [<output> <forloop>]"
   ]
  },
  {
   "cell_type": "code",
   "execution_count": 13,
   "id": "7a23297e",
   "metadata": {},
   "outputs": [
    {
     "data": {
      "text/plain": [
       "['Hyd', 'Bengaluru', 'Delhi']"
      ]
     },
     "execution_count": 13,
     "metadata": {},
     "output_type": "execute_result"
    }
   ],
   "source": [
    "list2=['hyd','bengaluru','delhi']\n",
    "# output=['Hyd','Bengaluru','Delhi']\n",
    "output=[]\n",
    "for i in list2:\n",
    "    output.append(i.capitalize())\n",
    "    \n",
    "output\n",
    "\n",
    "# [<output> <forloop>]\n",
    "output1=[i.capitalize() for i in list2]\n",
    "output1"
   ]
  },
  {
   "cell_type": "code",
   "execution_count": 29,
   "id": "aba64445",
   "metadata": {},
   "outputs": [
    {
     "data": {
      "text/plain": [
       "[1, 2, 3, 4, 5, 6, 7, 8, 9, 10, 11, 12, 13, 14, 15, 16, 17, 18, 19, 20]"
      ]
     },
     "execution_count": 29,
     "metadata": {},
     "output_type": "execute_result"
    }
   ],
   "source": [
    "# create the list of 20 numbers from 1 to 20\n",
    "\n",
    "##################################M-1\n",
    "#for i in range(1,21):\n",
    "    #print(i)\n",
    "    \n",
    "################################### M-2    \n",
    "numbers=[]\n",
    "for i in range(1,21):\n",
    "    numbers.append(i)\n",
    "numbers\n",
    "\n",
    "################################### M-3\n",
    "\n",
    "numbers1=[i for i in range(1,21)]\n",
    "numbers1"
   ]
  },
  {
   "cell_type": "code",
   "execution_count": null,
   "id": "38e9be0c",
   "metadata": {},
   "outputs": [],
   "source": [
    "# list comprehenshion with if condition"
   ]
  },
  {
   "cell_type": "code",
   "execution_count": 30,
   "id": "10fa39ab",
   "metadata": {},
   "outputs": [
    {
     "data": {
      "text/plain": [
       "['h#d', 'beng#luru']"
      ]
     },
     "execution_count": 30,
     "metadata": {},
     "output_type": "execute_result"
    }
   ],
   "source": [
    "list3=['h#d','beng#luru','delhi']\n",
    "# output=['h#d','beng#luru']\n",
    "\n",
    "output=[]\n",
    "for i in list3:\n",
    "    if '#' in i:\n",
    "        output.append(i)\n",
    "        \n",
    "output\n",
    "\n",
    "#[<o/p> <forloop> <if_condition>]\n",
    "\n",
    "output1=[i for i in list3 if '#' in i]\n",
    "output1"
   ]
  },
  {
   "cell_type": "code",
   "execution_count": null,
   "id": "9f713250",
   "metadata": {},
   "outputs": [],
   "source": [
    "list4=['abcd','abc','ac','a']\n",
    "# elemnts less than 3\n",
    "# ['ac','a']"
   ]
  },
  {
   "cell_type": "code",
   "execution_count": 32,
   "id": "21c7e0d1",
   "metadata": {},
   "outputs": [
    {
     "data": {
      "text/plain": [
       "['ac', 'a']"
      ]
     },
     "execution_count": 32,
     "metadata": {},
     "output_type": "execute_result"
    }
   ],
   "source": [
    "list4=[\"abcd\",\"abc\",\"ac\",\"a\"]\n",
    "\n",
    "output=[i for i in list4 if len(i)<3]\n",
    "output"
   ]
  },
  {
   "cell_type": "code",
   "execution_count": 34,
   "id": "47f0709b",
   "metadata": {},
   "outputs": [
    {
     "name": "stdout",
     "output_type": "stream",
     "text": [
      "odd:1\n",
      "even:2\n",
      "odd:3\n",
      "even:4\n",
      "odd:5\n",
      "even:6\n"
     ]
    }
   ],
   "source": [
    "# if else\n",
    "\n",
    "list1=[1,2,3,4,5,6]\n",
    "\n",
    "for i in list1:\n",
    "    if i%2==0:\n",
    "        print(\"even:{}\".format(i))\n",
    "        \n",
    "    else:\n",
    "        print(\"odd:{}\".format(i))"
   ]
  },
  {
   "cell_type": "code",
   "execution_count": 27,
   "id": "c965733a",
   "metadata": {},
   "outputs": [
    {
     "data": {
      "text/plain": [
       "[5, 'even:2', 'odd:3', 5, 'even:4', 'odd:5', 5, 'even:6']"
      ]
     },
     "execution_count": 27,
     "metadata": {},
     "output_type": "execute_result"
    }
   ],
   "source": [
    "list1=[2,3,4,5,6]\n",
    "\n",
    "output=[]\n",
    "\n",
    "for i in list1:\n",
    "    if i%2==0:\n",
    "        output.append(5)\n",
    "        output.append(\"even:{}\".format(i))\n",
    "        \n",
    "    else:\n",
    "        output.append(\"odd:{}\".format(i))\n",
    "        \n",
    "output"
   ]
  },
  {
   "cell_type": "code",
   "execution_count": 36,
   "id": "5360f070",
   "metadata": {},
   "outputs": [
    {
     "data": {
      "text/plain": [
       "['odd:1', 'even:2', 'odd:3', 'even:4', 'odd:5', 'even:6']"
      ]
     },
     "execution_count": 36,
     "metadata": {},
     "output_type": "execute_result"
    }
   ],
   "source": [
    "#[<if_output> <if_condition> else <else_ouput> <for loop>]\n",
    "\n",
    "[\"even:{}\".format(i) if i%2==0 else \"odd:{}\".format(i) for i in list1]"
   ]
  },
  {
   "cell_type": "markdown",
   "id": "03d1c27c",
   "metadata": {},
   "source": [
    "$count$"
   ]
  },
  {
   "cell_type": "code",
   "execution_count": 40,
   "id": "17f87a64",
   "metadata": {},
   "outputs": [
    {
     "data": {
      "text/plain": [
       "3"
      ]
     },
     "execution_count": 40,
     "metadata": {},
     "output_type": "execute_result"
    }
   ],
   "source": [
    "list1=[1,2,3,'A','B','B','B','C']\n",
    "list1.count('B')"
   ]
  },
  {
   "cell_type": "code",
   "execution_count": 41,
   "id": "0540ad29",
   "metadata": {},
   "outputs": [
    {
     "name": "stdout",
     "output_type": "stream",
     "text": [
      "3\n"
     ]
    }
   ],
   "source": [
    "count=0\n",
    "for i in list1:\n",
    "    if i=='B':\n",
    "        count=count+1\n",
    "        \n",
    "print(count)"
   ]
  },
  {
   "cell_type": "markdown",
   "id": "3ec561f1",
   "metadata": {},
   "source": [
    "$Extend$"
   ]
  },
  {
   "cell_type": "code",
   "execution_count": 43,
   "id": "66127720",
   "metadata": {},
   "outputs": [
    {
     "data": {
      "text/plain": [
       "['A', 'B', 'C', 1, 2, 3]"
      ]
     },
     "execution_count": 43,
     "metadata": {},
     "output_type": "execute_result"
    }
   ],
   "source": [
    "list1=['A','B','C']\n",
    "list2=[1,2,3]\n",
    "\n",
    "list1.extend(list2)\n",
    "list1 \n",
    "\n",
    "# here the list1 will be updated with list2 values"
   ]
  },
  {
   "cell_type": "code",
   "execution_count": 48,
   "id": "e508d8c9",
   "metadata": {},
   "outputs": [
    {
     "data": {
      "text/plain": [
       "['A', 'B', 'C', [1, 2, 3]]"
      ]
     },
     "execution_count": 48,
     "metadata": {},
     "output_type": "execute_result"
    }
   ],
   "source": [
    "list1=['A','B','C']\n",
    "list2=[1,2,3]\n",
    "list1.append(list2) # ['A','B','C',[1,2,3]]\n",
    "list1"
   ]
  },
  {
   "cell_type": "code",
   "execution_count": 46,
   "id": "0e721f30",
   "metadata": {},
   "outputs": [
    {
     "name": "stdout",
     "output_type": "stream",
     "text": [
      "['A', 'B', 'C']\n"
     ]
    }
   ],
   "source": [
    "list1=['A','B','C']\n",
    "list2=[1,2,3]\n",
    "list1=list1+list2\n",
    "\n",
    "print(list1)"
   ]
  },
  {
   "cell_type": "markdown",
   "id": "8a386b2b",
   "metadata": {},
   "source": [
    "**append** vs **extend**  vs **concat**"
   ]
  },
  {
   "cell_type": "markdown",
   "id": "af0b3db6",
   "metadata": {},
   "source": [
    "- append will add the element at last , that element can be any type\n",
    "\n",
    "       - list1=[1,2,3]\n",
    "    \n",
    "       - list2 =['A','B']\n",
    "        \n",
    "       - list1.append(list2)=[1,2,3,['A','B']]\n",
    "    \n",
    "    \n",
    "- Extend will update the list by adding new elements, the result also save in a same list\n",
    "\n",
    "       - list1=[1,2,3]\n",
    "    \n",
    "       - list2 =['A','B']\n",
    "        \n",
    "       - list1.extend(list2)=[1,2,3,'A','B']\n",
    "    \n",
    "\n",
    "    \n",
    "- Concat will add two list, but the result will not update in a same list\n",
    "\n",
    "       - list1=[1,2,3]\n",
    "    \n",
    "       - list2 =['A','B']\n",
    "        \n",
    "       - list1+list2=[1,2,3,'A','B']"
   ]
  },
  {
   "cell_type": "markdown",
   "id": "98e3a42c",
   "metadata": {},
   "source": [
    "$iterator$"
   ]
  },
  {
   "cell_type": "markdown",
   "id": "5fed531f",
   "metadata": {},
   "source": [
    "- iterator word ======= > loop \n",
    "\n",
    "- the elements we can print using for loop \n",
    "\n",
    "- string='python'  we can print each letter using for loop\n",
    "\n",
    "- list1=[1,2,3]    we can print each element using for loop"
   ]
  },
  {
   "cell_type": "code",
   "execution_count": 52,
   "id": "18528aef",
   "metadata": {},
   "outputs": [
    {
     "data": {
      "text/plain": [
       "<reversed at 0x21e9cac50f0>"
      ]
     },
     "execution_count": 52,
     "metadata": {},
     "output_type": "execute_result"
    }
   ],
   "source": [
    "val=reversed('python')\n",
    "val"
   ]
  },
  {
   "cell_type": "code",
   "execution_count": 51,
   "id": "d276b8bd",
   "metadata": {},
   "outputs": [
    {
     "name": "stdout",
     "output_type": "stream",
     "text": [
      "n\n",
      "o\n",
      "h\n",
      "t\n",
      "y\n",
      "p\n"
     ]
    }
   ],
   "source": [
    "for i in val:\n",
    "    print(i)"
   ]
  },
  {
   "cell_type": "code",
   "execution_count": 57,
   "id": "b11b529b",
   "metadata": {},
   "outputs": [
    {
     "data": {
      "text/plain": [
       "[1, 2, 3, 'p', 'y', 't', 'h', 'o', 'n', 'python']"
      ]
     },
     "execution_count": 57,
     "metadata": {},
     "output_type": "execute_result"
    }
   ],
   "source": [
    "list1=[1,2,3]\n",
    "list1.extend('python')\n",
    "list1.append('python')\n",
    "list1"
   ]
  },
  {
   "cell_type": "markdown",
   "id": "ca565be5",
   "metadata": {},
   "source": [
    "$pop$-$remove$-$del$"
   ]
  },
  {
   "cell_type": "code",
   "execution_count": 58,
   "id": "ed8e36f4",
   "metadata": {},
   "outputs": [
    {
     "data": {
      "text/plain": [
       "[1, 2, 3, 'p', 'y', 't', 'h', 'o', 'n', 'python']"
      ]
     },
     "execution_count": 58,
     "metadata": {},
     "output_type": "execute_result"
    }
   ],
   "source": [
    "list1"
   ]
  },
  {
   "cell_type": "code",
   "execution_count": 59,
   "id": "51464202",
   "metadata": {},
   "outputs": [
    {
     "data": {
      "text/plain": [
       "'python'"
      ]
     },
     "execution_count": 59,
     "metadata": {},
     "output_type": "execute_result"
    }
   ],
   "source": [
    "list1.pop()"
   ]
  },
  {
   "cell_type": "code",
   "execution_count": 60,
   "id": "d6061d9c",
   "metadata": {},
   "outputs": [
    {
     "data": {
      "text/plain": [
       "[1, 2, 3, 'p', 'y', 't', 'h', 'o', 'n']"
      ]
     },
     "execution_count": 60,
     "metadata": {},
     "output_type": "execute_result"
    }
   ],
   "source": [
    "list1"
   ]
  },
  {
   "cell_type": "code",
   "execution_count": 62,
   "id": "9bde8c58",
   "metadata": {},
   "outputs": [
    {
     "data": {
      "text/plain": [
       "'t'"
      ]
     },
     "execution_count": 62,
     "metadata": {},
     "output_type": "execute_result"
    }
   ],
   "source": [
    "list1\n",
    "list1.pop(5)  # list1.pop(list1.index('t'))\n",
    "\n",
    "# in side bracket default aragument is there  index=-1\n",
    "# -1 means last value\n",
    "# if you not provide any value \n",
    "# it will remove last value\n",
    "# if i provide any index, it will reove that element \n",
    "\n",
    "# it is also returning , which element it is removing"
   ]
  },
  {
   "cell_type": "code",
   "execution_count": 64,
   "id": "9178fd5b",
   "metadata": {},
   "outputs": [
    {
     "ename": "IndexError",
     "evalue": "pop index out of range",
     "output_type": "error",
     "traceback": [
      "\u001b[1;31m---------------------------------------------------------------------------\u001b[0m",
      "\u001b[1;31mIndexError\u001b[0m                                Traceback (most recent call last)",
      "Cell \u001b[1;32mIn[64], line 1\u001b[0m\n\u001b[1;32m----> 1\u001b[0m list1\u001b[38;5;241m.\u001b[39mpop(\u001b[38;5;241m100\u001b[39m)\n",
      "\u001b[1;31mIndexError\u001b[0m: pop index out of range"
     ]
    }
   ],
   "source": [
    "list1.pop(100)"
   ]
  },
  {
   "cell_type": "code",
   "execution_count": 66,
   "id": "bbf54f5d",
   "metadata": {},
   "outputs": [
    {
     "data": {
      "text/plain": [
       "[200, 100, 300]"
      ]
     },
     "execution_count": 66,
     "metadata": {},
     "output_type": "execute_result"
    }
   ],
   "source": [
    "list1=[100,200,100,300] # duplicates are allowed\n",
    "list1.remove(100)       # first occurence will gone\n",
    "list1                   # it will not return any value"
   ]
  },
  {
   "cell_type": "code",
   "execution_count": 67,
   "id": "1d720510",
   "metadata": {},
   "outputs": [],
   "source": [
    "del(list1)"
   ]
  },
  {
   "cell_type": "code",
   "execution_count": 68,
   "id": "22d9d059",
   "metadata": {},
   "outputs": [
    {
     "ename": "NameError",
     "evalue": "name 'list1' is not defined",
     "output_type": "error",
     "traceback": [
      "\u001b[1;31m---------------------------------------------------------------------------\u001b[0m",
      "\u001b[1;31mNameError\u001b[0m                                 Traceback (most recent call last)",
      "Cell \u001b[1;32mIn[68], line 1\u001b[0m\n\u001b[1;32m----> 1\u001b[0m list1\n",
      "\u001b[1;31mNameError\u001b[0m: name 'list1' is not defined"
     ]
    }
   ],
   "source": [
    "list1"
   ]
  },
  {
   "cell_type": "code",
   "execution_count": 69,
   "id": "9348716e",
   "metadata": {},
   "outputs": [
    {
     "data": {
      "text/plain": [
       "[100, 200, 300]"
      ]
     },
     "execution_count": 69,
     "metadata": {},
     "output_type": "execute_result"
    }
   ],
   "source": [
    "list1=[100,200,100,300]\n",
    "del list1[2]\n",
    "\n",
    "list1"
   ]
  },
  {
   "cell_type": "code",
   "execution_count": 70,
   "id": "790aa350",
   "metadata": {},
   "outputs": [
    {
     "data": {
      "text/plain": [
       "['__add__',\n",
       " '__class__',\n",
       " '__class_getitem__',\n",
       " '__contains__',\n",
       " '__delattr__',\n",
       " '__delitem__',\n",
       " '__dir__',\n",
       " '__doc__',\n",
       " '__eq__',\n",
       " '__format__',\n",
       " '__ge__',\n",
       " '__getattribute__',\n",
       " '__getitem__',\n",
       " '__getstate__',\n",
       " '__gt__',\n",
       " '__hash__',\n",
       " '__iadd__',\n",
       " '__imul__',\n",
       " '__init__',\n",
       " '__init_subclass__',\n",
       " '__iter__',\n",
       " '__le__',\n",
       " '__len__',\n",
       " '__lt__',\n",
       " '__mul__',\n",
       " '__ne__',\n",
       " '__new__',\n",
       " '__reduce__',\n",
       " '__reduce_ex__',\n",
       " '__repr__',\n",
       " '__reversed__',\n",
       " '__rmul__',\n",
       " '__setattr__',\n",
       " '__setitem__',\n",
       " '__sizeof__',\n",
       " '__str__',\n",
       " '__subclasshook__',\n",
       " 'append',\n",
       " 'clear',\n",
       " 'copy',\n",
       " 'count',\n",
       " 'extend',\n",
       " 'index',\n",
       " 'insert',\n",
       " 'pop',\n",
       " 'remove',\n",
       " 'reverse',\n",
       " 'sort']"
      ]
     },
     "execution_count": 70,
     "metadata": {},
     "output_type": "execute_result"
    }
   ],
   "source": [
    "dir(list1)"
   ]
  },
  {
   "cell_type": "code",
   "execution_count": null,
   "id": "fc4d0597",
   "metadata": {},
   "outputs": [],
   "source": [
    "- index   vs  multiple values\n",
    "\n",
    "- insert  vs append\n",
    "\n",
    "- reverse ascending and descending ======= reversed\n",
    "\n",
    "- sort  =========== sorted\n",
    "\n",
    "- difference between reverse and sort\n",
    "\n",
    "# get all the differences all the information\n",
    "# share your screenshot "
   ]
  },
  {
   "cell_type": "code",
   "execution_count": 73,
   "id": "88934a24",
   "metadata": {},
   "outputs": [
    {
     "data": {
      "text/plain": [
       "4"
      ]
     },
     "execution_count": 73,
     "metadata": {},
     "output_type": "execute_result"
    }
   ],
   "source": [
    "list1=[1,2,3,4,2,6]\n",
    "f_i=list1.index(2)\n",
    "list1.index(2,f_i+1)"
   ]
  },
  {
   "cell_type": "markdown",
   "id": "b6320f6d",
   "metadata": {},
   "source": [
    "$zip$"
   ]
  },
  {
   "cell_type": "code",
   "execution_count": 77,
   "id": "7b3183e5",
   "metadata": {},
   "outputs": [
    {
     "name": "stdout",
     "output_type": "stream",
     "text": [
      "Ram age is 25\n",
      "Robert age is 30\n",
      "Raheem age is 35\n"
     ]
    }
   ],
   "source": [
    "list1=['Ram','Robert','Raheem']\n",
    "list2=[25,30,35]\n",
    "\n",
    "# 'Ram age is 25'\n",
    "# 'Robert age is 30'\n",
    "# 'Raheem age is 35'\n",
    "for i,j in zip(list1,list2):\n",
    "    print(\"{} age is {}\".format(i,j))"
   ]
  },
  {
   "cell_type": "code",
   "execution_count": null,
   "id": "2e4dac84",
   "metadata": {},
   "outputs": [],
   "source": [
    "list1=[100,200,300]\n",
    "list2=[25,30,35]\n",
    "\n",
    "# output=[125,230,335]\n",
    "\n",
    "output=[i+j for i,j in zip(list1,list2)]\n",
    "output"
   ]
  },
  {
   "cell_type": "code",
   "execution_count": null,
   "id": "caa61cc1",
   "metadata": {},
   "outputs": [],
   "source": [
    "# take 5 questions in list1\n",
    "# take corresponding 5 answers in another list2\n",
    "# iterate through list1\n",
    "# every quetion should print\n",
    "# answer=input(\"tell the answer\")\n",
    "# answer will check in list2 \n",
    "# if it is there : marks=marks+1\n",
    "# else: No marks\n",
    "\n",
    "# how many write answers you made, how may answers you got\n",
    "\n",
    "######################################\n",
    "# list1=['Who is PM of india','What is the capital of india','Who is President of india']\n",
    "# list2=['Modi','Delhi','Draupadi']\n",
    "# marks=0\n",
    "# correct_answr=0\n",
    "# for i in range(len(list1)):\n",
    "#   print('Q1:'<>)\n",
    "#   answer=input(\"enter the answer\")\n",
    "#   if answer.lower()==list2.index(i):\n",
    "#          marks+=1\n",
    "#          "
   ]
  },
  {
   "cell_type": "code",
   "execution_count": 13,
   "id": "4cd51314",
   "metadata": {},
   "outputs": [
    {
     "name": "stdout",
     "output_type": "stream",
     "text": [
      "question: Who is PM of india\n",
      "enter the answer:modi\n",
      "question: What is the capital of india\n",
      "enter the answer:dlhi\n",
      "question: Who is President of india\n",
      "enter the answer:dd\n",
      "5\n"
     ]
    }
   ],
   "source": [
    "list1=['Who is PM of india','What is the capital of india','Who is President of india']\n",
    "list2=['Modi','Delhi','Draupadi']\n",
    "marks=0\n",
    "\n",
    "for i in range (len(list1)):\n",
    "    print('question:',list1[i])\n",
    "    answer=input(\"enter the answer:\").capitalize()\n",
    "    if answer==list2[i]:\n",
    "        marks+=5\n",
    "print(marks)"
   ]
  },
  {
   "cell_type": "code",
   "execution_count": null,
   "id": "71d39653",
   "metadata": {},
   "outputs": [],
   "source": [
    "list1=['Who is PM of india','What is the capital of india','Who is President of india']\n",
    "list2=['Modi','Delhi','Draupadi']\n",
    "marks=0\n",
    "\n",
    "for i in list1,list2:\n",
    "    print('question:',list1)\n",
    "    answer=input(\"enter the answer:\").captalize\n",
    "    if answer==list2[i]:\n",
    "        marks+=1\n",
    "print(marks)"
   ]
  },
  {
   "cell_type": "code",
   "execution_count": null,
   "id": "48a78b22",
   "metadata": {},
   "outputs": [],
   "source": []
  },
  {
   "cell_type": "code",
   "execution_count": null,
   "id": "fe682e43",
   "metadata": {},
   "outputs": [],
   "source": [
    "for i in range(3):\n",
    "    print(i)"
   ]
  }
 ],
 "metadata": {
  "kernelspec": {
   "display_name": "Python 3 (ipykernel)",
   "language": "python",
   "name": "python3"
  },
  "language_info": {
   "codemirror_mode": {
    "name": "ipython",
    "version": 3
   },
   "file_extension": ".py",
   "mimetype": "text/x-python",
   "name": "python",
   "nbconvert_exporter": "python",
   "pygments_lexer": "ipython3",
   "version": "3.11.5"
  }
 },
 "nbformat": 4,
 "nbformat_minor": 5
}
