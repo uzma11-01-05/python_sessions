{
 "cells": [
  {
   "cell_type": "code",
   "execution_count": null,
   "id": "0537b907",
   "metadata": {},
   "outputs": [],
   "source": [
    "- they never practice \n",
    "\n",
    "- they will never listen 100%\n",
    "\n",
    "- i did not undestand\n",
    "\n",
    "- ds suitable for you\n",
    "\n",
    "- "
   ]
  },
  {
   "cell_type": "code",
   "execution_count": 2,
   "id": "fb03d0eb",
   "metadata": {},
   "outputs": [
    {
     "data": {
      "text/plain": [
       "200"
      ]
     },
     "execution_count": 2,
     "metadata": {},
     "output_type": "execute_result"
    }
   ],
   "source": [
    "number1=100\n",
    "number2=200\n",
    "number1   # 100 is not coming\n",
    "number2   # 200 is latest so it is coming"
   ]
  },
  {
   "cell_type": "code",
   "execution_count": null,
   "id": "e4241c2f",
   "metadata": {},
   "outputs": [],
   "source": [
    "# in order to if you want to see both answers\n",
    "# print"
   ]
  },
  {
   "cell_type": "code",
   "execution_count": 3,
   "id": "a3aecf57",
   "metadata": {},
   "outputs": [
    {
     "name": "stdout",
     "output_type": "stream",
     "text": [
      "100\n",
      "200\n"
     ]
    }
   ],
   "source": [
    "number1=100  # 100 is saved in a variable number1\n",
    "number2=200  # 200 is saved in a variable number2\n",
    "print(number1) # print the value of number1 =100   \n",
    "print(number2) # print the value of number2=200"
   ]
  },
  {
   "cell_type": "code",
   "execution_count": 7,
   "id": "bac80450",
   "metadata": {},
   "outputs": [
    {
     "name": "stdout",
     "output_type": "stream",
     "text": [
      "hello\n",
      "how\n",
      "are\n",
      "you\n"
     ]
    },
    {
     "ename": "NameError",
     "evalue": "name 'hello' is not defined",
     "output_type": "error",
     "traceback": [
      "\u001b[1;31m---------------------------------------------------------------------------\u001b[0m",
      "\u001b[1;31mNameError\u001b[0m                                 Traceback (most recent call last)",
      "Cell \u001b[1;32mIn[7], line 5\u001b[0m\n\u001b[0;32m      3\u001b[0m \u001b[38;5;28mprint\u001b[39m(\u001b[38;5;124m'\u001b[39m\u001b[38;5;124mare\u001b[39m\u001b[38;5;124m'\u001b[39m)    \u001b[38;5;66;03m# step-3: are\u001b[39;00m\n\u001b[0;32m      4\u001b[0m \u001b[38;5;28mprint\u001b[39m(\u001b[38;5;124m'\u001b[39m\u001b[38;5;124myou\u001b[39m\u001b[38;5;124m'\u001b[39m)    \u001b[38;5;66;03m# step-4: you\u001b[39;00m\n\u001b[1;32m----> 5\u001b[0m \u001b[38;5;28mprint\u001b[39m(hello)    \u001b[38;5;66;03m# step-5: hello is variable , is hello intoalised above\u001b[39;00m\n\u001b[0;32m      6\u001b[0m \u001b[38;5;28mprint\u001b[39m(number1)\n",
      "\u001b[1;31mNameError\u001b[0m: name 'hello' is not defined"
     ]
    }
   ],
   "source": [
    "print('hello')  # step-1:  hello\n",
    "print('how')    # step-2:  how\n",
    "print('are')    # step-3: are\n",
    "print('you')    # step-4: you\n",
    "print(hello)    # step-5: hello is variable , is hello intoalised above\n",
    "print(number1)\n",
    "\n",
    "# python is a step - step\n",
    "# Name error:  Name hello not defined"
   ]
  },
  {
   "cell_type": "code",
   "execution_count": null,
   "id": "8f20f1f1",
   "metadata": {},
   "outputs": [],
   "source": [
    "# you written 500 lines of code\n",
    "# you got error at 200 line\n",
    "# after 200 line, 201 to 500 will not execute"
   ]
  },
  {
   "cell_type": "code",
   "execution_count": 8,
   "id": "40cc98dc",
   "metadata": {},
   "outputs": [
    {
     "name": "stdout",
     "output_type": "stream",
     "text": [
      "100 200\n"
     ]
    }
   ],
   "source": [
    "print(number1,number2) # 100,200"
   ]
  },
  {
   "cell_type": "code",
   "execution_count": 9,
   "id": "7425998e",
   "metadata": {},
   "outputs": [
    {
     "name": "stdout",
     "output_type": "stream",
     "text": [
      "100\n",
      "200\n"
     ]
    }
   ],
   "source": [
    "print(number1)\n",
    "print(number2)"
   ]
  },
  {
   "cell_type": "code",
   "execution_count": 10,
   "id": "78297a25",
   "metadata": {},
   "outputs": [
    {
     "name": "stdout",
     "output_type": "stream",
     "text": [
      "100\n",
      "-------\n",
      "200\n",
      "**********\n"
     ]
    }
   ],
   "source": [
    "print(number1)\n",
    "print('-------')\n",
    "print(200)\n",
    "print('**********')"
   ]
  },
  {
   "cell_type": "code",
   "execution_count": 11,
   "id": "ae159215",
   "metadata": {},
   "outputs": [
    {
     "name": "stdout",
     "output_type": "stream",
     "text": [
      "hai how are you\n",
      "hai how are you\n"
     ]
    }
   ],
   "source": [
    "print('hai','how','are','you')\n",
    "print('hai how are you')"
   ]
  },
  {
   "cell_type": "markdown",
   "id": "9aed7a70",
   "metadata": {},
   "source": [
    "**joining multiple print statements**"
   ]
  },
  {
   "cell_type": "code",
   "execution_count": 12,
   "id": "ada24ec5",
   "metadata": {},
   "outputs": [
    {
     "name": "stdout",
     "output_type": "stream",
     "text": [
      "hai how\n"
     ]
    }
   ],
   "source": [
    "print('hai' , 'how')"
   ]
  },
  {
   "cell_type": "markdown",
   "id": "77a406f1",
   "metadata": {},
   "source": [
    "$end$"
   ]
  },
  {
   "cell_type": "code",
   "execution_count": 20,
   "id": "660d13c5",
   "metadata": {},
   "outputs": [
    {
     "name": "stdout",
     "output_type": "stream",
     "text": [
      "hai----->how\n"
     ]
    }
   ],
   "source": [
    "print('hai',end='----->')\n",
    "print('how')\n",
    "\n"
   ]
  },
  {
   "cell_type": "code",
   "execution_count": 28,
   "id": "bae79999",
   "metadata": {},
   "outputs": [
    {
     "name": "stdout",
     "output_type": "stream",
     "text": [
      "hai and how\n"
     ]
    }
   ],
   "source": [
    "print('hai ',end='and')\n",
    "print(' how')"
   ]
  },
  {
   "cell_type": "code",
   "execution_count": 29,
   "id": "3b8f4400",
   "metadata": {},
   "outputs": [
    {
     "name": "stdout",
     "output_type": "stream",
     "text": [
      "how"
     ]
    }
   ],
   "source": [
    "print('how',end='')\n"
   ]
  },
  {
   "cell_type": "code",
   "execution_count": 31,
   "id": "cc9df5db",
   "metadata": {},
   "outputs": [
    {
     "name": "stdout",
     "output_type": "stream",
     "text": [
      "1 2 3\n"
     ]
    }
   ],
   "source": [
    "print('1',end=' ')\n",
    "print('2',end=' ')\n",
    "print('3')"
   ]
  },
  {
   "cell_type": "code",
   "execution_count": 38,
   "id": "da963216",
   "metadata": {},
   "outputs": [
    {
     "name": "stdout",
     "output_type": "stream",
     "text": [
      "the addition of number1 and number2 is 60\n"
     ]
    }
   ],
   "source": [
    "number1=200\n",
    "number2=400\n",
    "add=number1+number2\n",
    "print(\"the addition of number1 and number2 is\",add)"
   ]
  },
  {
   "cell_type": "code",
   "execution_count": 41,
   "id": "afe52582",
   "metadata": {},
   "outputs": [
    {
     "name": "stdout",
     "output_type": "stream",
     "text": [
      "the addition of 20 and 40 is 60\n"
     ]
    }
   ],
   "source": [
    "# the addition of 200 and 400 is 600\n",
    "print(\"the addition of 20 and 40 is 60\")"
   ]
  },
  {
   "cell_type": "code",
   "execution_count": 44,
   "id": "e89bc8df",
   "metadata": {},
   "outputs": [
    {
     "name": "stdout",
     "output_type": "stream",
     "text": [
      "the addition of 20 and 40is 6000\n"
     ]
    }
   ],
   "source": [
    "number1=2000\n",
    "number2=4000\n",
    "add=number1+number2\n",
    "print(\"the addition of 20 and 40is\",add)\n",
    "# how add value is priniting automatically\n",
    "# in the same way the value also shoudl print"
   ]
  },
  {
   "cell_type": "code",
   "execution_count": 53,
   "id": "dade798c",
   "metadata": {},
   "outputs": [
    {
     "name": "stdout",
     "output_type": "stream",
     "text": [
      "the addition of 2000 and 4000 is 6000\n"
     ]
    }
   ],
   "source": [
    "num1=2000\n",
    "num2=4000\n",
    "add=num1+num2\n",
    "print(\"the addition of\",num1,\"and\",num2,\"is\",add)"
   ]
  },
  {
   "cell_type": "code",
   "execution_count": null,
   "id": "82f314a7",
   "metadata": {},
   "outputs": [],
   "source": [
    "# the addition of 20 and 40 is 60"
   ]
  },
  {
   "cell_type": "code",
   "execution_count": 61,
   "id": "24f63ce2",
   "metadata": {},
   "outputs": [
    {
     "name": "stdout",
     "output_type": "stream",
     "text": [
      "my name is python Im from hyd and im 10 old\n"
     ]
    }
   ],
   "source": [
    "# Step-1: variable name ='python'\n",
    "# step-2:          city='Hyd'\n",
    "# step-3           age=10\n",
    "\n",
    "# my name is python, I came from hyd and Im 10 years old\n",
    "name=\"python\"\n",
    "city=\"hyd\"\n",
    "age=10\n",
    "print(\"my name is\",name,'Im from',city,'and im',age,'old')"
   ]
  },
  {
   "cell_type": "code",
   "execution_count": 65,
   "id": "44f2236b",
   "metadata": {},
   "outputs": [
    {
     "name": "stdout",
     "output_type": "stream",
     "text": [
      "my name is python Im from hyd and im 10 years old\n"
     ]
    }
   ],
   "source": [
    "# my name is python, I came from hyd and Im 10 years old\n",
    "name=\"python\"\n",
    "city=\"hyd\"\n",
    "age=10\n",
    "print(\"my name is\",name,'Im from',city,end=' and ')\n",
    "print(\"im\",age,'years old')"
   ]
  },
  {
   "cell_type": "code",
   "execution_count": null,
   "id": "47ee5958",
   "metadata": {},
   "outputs": [],
   "source": [
    "name='python'\n",
    "city='hyd'\n",
    "age=10\n",
    "print('my name is ',name ,'i came from',city ,'i am',age ,'yers old')"
   ]
  },
  {
   "cell_type": "code",
   "execution_count": null,
   "id": "c451adda",
   "metadata": {},
   "outputs": [],
   "source": [
    "num1=2000\n",
    "num2=4000\n",
    "add=num1+num2\n",
    "print(\"the addition of\",num1,\"and\",num2,\"is\",add)"
   ]
  },
  {
   "cell_type": "code",
   "execution_count": null,
   "id": "5495cebd",
   "metadata": {},
   "outputs": [],
   "source": [
    "# \"the addition of 200 and 400 is 600\"\n",
    "# the addition of {} and {} is {}"
   ]
  },
  {
   "cell_type": "code",
   "execution_count": 67,
   "id": "fb255b49",
   "metadata": {},
   "outputs": [
    {
     "name": "stdout",
     "output_type": "stream",
     "text": [
      "the addition of 200 and 400 is 600\n"
     ]
    }
   ],
   "source": [
    "num1=200\n",
    "num2=400\n",
    "add=num1+num2\n",
    "print(\"the addition of {} and {} is {}\".format(num1,num2,add))"
   ]
  },
  {
   "cell_type": "code",
   "execution_count": 70,
   "id": "f9b5e558",
   "metadata": {},
   "outputs": [
    {
     "name": "stdout",
     "output_type": "stream",
     "text": [
      "my name is 10, im from hyd and my age is python year old\n"
     ]
    }
   ],
   "source": [
    "name='python'\n",
    "city='hyd'\n",
    "age=10\n",
    "print(\"my name is {}, im from {} and my age is {} year old\".format(age,city,name))"
   ]
  },
  {
   "cell_type": "code",
   "execution_count": null,
   "id": "8573997f",
   "metadata": {},
   "outputs": [],
   "source": [
    "# step-1:  value1=20\n",
    "# step-2:  value2=30\n",
    "# step-3:  add=value1+value2\n",
    "# step-4:  sub=value1-value2\n",
    "# step-5:  mul=value1*value2\n",
    "# step-6:  div=value1/value2\n",
    "#The addition of 20 and 30 is:50\n",
    "#The subtraction 20 and 30 is: -10\n",
    "#The multiplication of 20 and 30 is:600\n",
    "#The division of 20 and 30 is : 0.66666"
   ]
  },
  {
   "cell_type": "code",
   "execution_count": 72,
   "id": "10bd98b6",
   "metadata": {},
   "outputs": [
    {
     "name": "stdout",
     "output_type": "stream",
     "text": [
      "The addition of 200 and 300 is 500\n",
      "The subtraction of 200 and 300 is -100\n",
      "The multiplication of 200 and 300 is 60000\n",
      "The division of 200 and 300 is 0.67\n"
     ]
    }
   ],
   "source": [
    "val1 = 200\n",
    "val2 = 300\n",
    "add = val1+val2\n",
    "sub = val1-val2\n",
    "mul = val1*val2\n",
    "div = round(val1/val2,2)\n",
    "print('The addition of {} and {} is {}'.format(val1,val2,add))\n",
    "print('The subtraction of {} and {} is {}'.format(val1,val2,sub))\n",
    "print('The multiplication of {} and {} is {}'.format(val1,val2,mul))\n",
    "print('The division of {} and {} is {}'.format(val1,val2,div))"
   ]
  },
  {
   "cell_type": "code",
   "execution_count": 75,
   "id": "4f668264",
   "metadata": {},
   "outputs": [
    {
     "name": "stdout",
     "output_type": "stream",
     "text": [
      "The addition of 20 and 30 is 50\n",
      "The Substraction of 20 and 30 is -10\n",
      "The multiplication of 20 and 30 is 600\n",
      "The division of 20 and 30 is 0.6666666666666666\n"
     ]
    }
   ],
   "source": [
    "value1=20\n",
    "value2=30\n",
    "add=value1+value2\n",
    "sub=value1-value2\n",
    "mul=value1*value2\n",
    "div=value1/value2\n",
    "print(\"The addition of {} and {} is {}\".format(value1,value2,add))\n",
    "print(\"The Substraction of {} and {} is {}\".format(value1,value2,sub))\n",
    "print(\"The multiplication of {} and {} is {}\".format(value1,value2,mul))\n",
    "print(\"The division of {} and {} is {}\".format(value1,value2,div))"
   ]
  },
  {
   "cell_type": "code",
   "execution_count": 78,
   "id": "53700157",
   "metadata": {},
   "outputs": [
    {
     "data": {
      "text/plain": [
       "0.667"
      ]
     },
     "execution_count": 78,
     "metadata": {},
     "output_type": "execute_result"
    }
   ],
   "source": [
    "round(value1/value2,3)"
   ]
  },
  {
   "cell_type": "code",
   "execution_count": 79,
   "id": "39dace84",
   "metadata": {},
   "outputs": [
    {
     "data": {
      "text/plain": [
       "0.6666666666666666"
      ]
     },
     "execution_count": 79,
     "metadata": {},
     "output_type": "execute_result"
    }
   ],
   "source": [
    "20/30    #  /  division"
   ]
  },
  {
   "cell_type": "code",
   "execution_count": null,
   "id": "cb16e5d6",
   "metadata": {},
   "outputs": [],
   "source": [
    "20%30    # %  modulus"
   ]
  },
  {
   "cell_type": "code",
   "execution_count": null,
   "id": "8b9fb9cb",
   "metadata": {},
   "outputs": [],
   "source": [
    "20//30  # floor division"
   ]
  },
  {
   "cell_type": "code",
   "execution_count": 80,
   "id": "2ec423ad",
   "metadata": {},
   "outputs": [
    {
     "data": {
      "text/plain": [
       "2"
      ]
     },
     "execution_count": 80,
     "metadata": {},
     "output_type": "execute_result"
    }
   ],
   "source": [
    "5//2"
   ]
  },
  {
   "cell_type": "code",
   "execution_count": 81,
   "id": "99922fab",
   "metadata": {},
   "outputs": [
    {
     "data": {
      "text/plain": [
       "1"
      ]
     },
     "execution_count": 81,
     "metadata": {},
     "output_type": "execute_result"
    }
   ],
   "source": [
    "5%2   "
   ]
  },
  {
   "cell_type": "code",
   "execution_count": 82,
   "id": "9a4cf6ab",
   "metadata": {},
   "outputs": [
    {
     "name": "stdout",
     "output_type": "stream",
     "text": [
      "2.5\n",
      "2\n",
      "1\n"
     ]
    }
   ],
   "source": [
    "print(5/2) # division\n",
    "print(5//2) # floor division = qutioent\n",
    "print(5%2) # modulus = reminder"
   ]
  },
  {
   "cell_type": "code",
   "execution_count": 84,
   "id": "a99a2ac2",
   "metadata": {},
   "outputs": [
    {
     "name": "stdout",
     "output_type": "stream",
     "text": [
      "The addition of 200 and 300 is 500\n"
     ]
    }
   ],
   "source": [
    "val1 = 200  # manually  i provide \n",
    "val2 = 300  # i provided\n",
    "add = val1+val2\n",
    "print(\"The addition of {} and {} is {}\".format(val1,val2,add))"
   ]
  },
  {
   "cell_type": "markdown",
   "id": "0a7d0b0f",
   "metadata": {},
   "source": [
    "$input$"
   ]
  },
  {
   "cell_type": "code",
   "execution_count": 93,
   "id": "8895d9aa",
   "metadata": {},
   "outputs": [
    {
     "name": "stdout",
     "output_type": "stream",
     "text": [
      "300\n"
     ]
    },
    {
     "data": {
      "text/plain": [
       "'300'"
      ]
     },
     "execution_count": 93,
     "metadata": {},
     "output_type": "execute_result"
    }
   ],
   "source": [
    "input()"
   ]
  },
  {
   "cell_type": "code",
   "execution_count": 94,
   "id": "91b6edfd",
   "metadata": {},
   "outputs": [
    {
     "name": "stdout",
     "output_type": "stream",
     "text": [
      "enter a number300\n"
     ]
    },
    {
     "data": {
      "text/plain": [
       "'300'"
      ]
     },
     "execution_count": 94,
     "metadata": {},
     "output_type": "execute_result"
    }
   ],
   "source": [
    "input(\"enter a number\")"
   ]
  },
  {
   "cell_type": "code",
   "execution_count": 96,
   "id": "4d2f13ff",
   "metadata": {},
   "outputs": [
    {
     "name": "stdout",
     "output_type": "stream",
     "text": [
      "enter some name:apple\n"
     ]
    },
    {
     "data": {
      "text/plain": [
       "'apple'"
      ]
     },
     "execution_count": 96,
     "metadata": {},
     "output_type": "execute_result"
    }
   ],
   "source": [
    "input(\"enter some name:\")"
   ]
  },
  {
   "cell_type": "code",
   "execution_count": null,
   "id": "5528b407",
   "metadata": {},
   "outputs": [],
   "source": []
  },
  {
   "cell_type": "code",
   "execution_count": null,
   "id": "2e585c06",
   "metadata": {},
   "outputs": [],
   "source": [
    "name1='Apple'"
   ]
  },
  {
   "cell_type": "code",
   "execution_count": 101,
   "id": "5201dd91",
   "metadata": {},
   "outputs": [
    {
     "name": "stdout",
     "output_type": "stream",
     "text": [
      "what is A for:Apple\n",
      "what is B for:Ball\n",
      "Apple\n",
      "Ball\n"
     ]
    }
   ],
   "source": [
    "name1=input(\"what is A for:\")  # 'Apple'\n",
    "name2=input(\"what is B for:\")\n",
    "print(name1)\n",
    "print(name2)"
   ]
  },
  {
   "cell_type": "code",
   "execution_count": 99,
   "id": "15b6ae63",
   "metadata": {},
   "outputs": [
    {
     "name": "stdout",
     "output_type": "stream",
     "text": [
      "Apple Ball\n"
     ]
    }
   ],
   "source": [
    "print(name1,name2)"
   ]
  },
  {
   "cell_type": "code",
   "execution_count": null,
   "id": "b9768cb2",
   "metadata": {},
   "outputs": [],
   "source": [
    "num1=60\n",
    "num2=80\n",
    "num1\n",
    "num2"
   ]
  },
  {
   "cell_type": "code",
   "execution_count": 102,
   "id": "1953dcc6",
   "metadata": {},
   "outputs": [
    {
     "name": "stdout",
     "output_type": "stream",
     "text": [
      "enter number10\n"
     ]
    }
   ],
   "source": [
    "num=input(\"enter number\")"
   ]
  },
  {
   "cell_type": "code",
   "execution_count": 103,
   "id": "e1ad4d3c",
   "metadata": {},
   "outputs": [
    {
     "data": {
      "text/plain": [
       "str"
      ]
     },
     "execution_count": 103,
     "metadata": {},
     "output_type": "execute_result"
    }
   ],
   "source": [
    "type(num)"
   ]
  },
  {
   "cell_type": "code",
   "execution_count": 104,
   "id": "fe6f190e",
   "metadata": {},
   "outputs": [
    {
     "name": "stdout",
     "output_type": "stream",
     "text": [
      "enter val1:20\n",
      "enter val2:30\n",
      "The addition of 20 and 30 is 2030\n"
     ]
    }
   ],
   "source": [
    "val1 = input(\"enter val1:\")   # '20'\n",
    "val2 = input(\"enter val2:\")   #  '30'\n",
    "add = val1+val2   # '20'+'30'='2030'  # 'A'+'B'='AB'\n",
    "print(\"The addition of {} and {} is {}\".format(val1,val2,add))"
   ]
  },
  {
   "cell_type": "code",
   "execution_count": 106,
   "id": "d69a2ac7",
   "metadata": {},
   "outputs": [
    {
     "data": {
      "text/plain": [
       "('20', '30')"
      ]
     },
     "execution_count": 106,
     "metadata": {},
     "output_type": "execute_result"
    }
   ],
   "source": [
    "val1,val2"
   ]
  },
  {
   "cell_type": "code",
   "execution_count": 107,
   "id": "829943be",
   "metadata": {},
   "outputs": [
    {
     "data": {
      "text/plain": [
       "'2030'"
      ]
     },
     "execution_count": 107,
     "metadata": {},
     "output_type": "execute_result"
    }
   ],
   "source": [
    "val1+val2"
   ]
  },
  {
   "cell_type": "code",
   "execution_count": 108,
   "id": "1d7096dd",
   "metadata": {},
   "outputs": [
    {
     "data": {
      "text/plain": [
       "'2030'"
      ]
     },
     "execution_count": 108,
     "metadata": {},
     "output_type": "execute_result"
    }
   ],
   "source": [
    "'20'+'30'"
   ]
  },
  {
   "cell_type": "code",
   "execution_count": 110,
   "id": "6d377d1c",
   "metadata": {},
   "outputs": [
    {
     "data": {
      "text/plain": [
       "20"
      ]
     },
     "execution_count": 110,
     "metadata": {},
     "output_type": "execute_result"
    }
   ],
   "source": [
    "int(val1)"
   ]
  },
  {
   "cell_type": "code",
   "execution_count": 111,
   "id": "95b7c76e",
   "metadata": {},
   "outputs": [
    {
     "name": "stdout",
     "output_type": "stream",
     "text": [
      "enter val1:20\n",
      "enter val2:30\n",
      "The addition of 20 and 30 is 50\n"
     ]
    }
   ],
   "source": [
    "val1 = int(input(\"enter val1:\"))  # int('20')=20\n",
    "val2 = int(input(\"enter val2:\"))  # int('30')=30\n",
    "add = val1+val2 # 20+30=50\n",
    "print(\"The addition of {} and {} is {}\".format(val1,val2,add))"
   ]
  },
  {
   "cell_type": "code",
   "execution_count": 1,
   "id": "d2114253",
   "metadata": {},
   "outputs": [
    {
     "name": "stdout",
     "output_type": "stream",
     "text": [
      "enter val1:20\n",
      "enter val2:30\n",
      "The addition of 20 and 30 is 50\n"
     ]
    }
   ],
   "source": [
    "val1 = input(\"enter val1:\")  # val1='20' \n",
    "val2 = input(\"enter val2:\")  # val2='30'\n",
    "add = int(val1)+int(val2)    # int('20')+int('30') =20+30\n",
    "print(\"The addition of {} and {} is {}\".format(val1,val2,add))"
   ]
  },
  {
   "cell_type": "code",
   "execution_count": 112,
   "id": "06c7ccc0",
   "metadata": {},
   "outputs": [
    {
     "name": "stdout",
     "output_type": "stream",
     "text": [
      "Enter val1:20\n",
      "Enter val2:30\n"
     ]
    }
   ],
   "source": [
    "val1=int(input(\"Enter val1:\"))\n",
    "val2=int(input(\"Enter val2:\"))\n",
    "add=val1+val2"
   ]
  },
  {
   "cell_type": "code",
   "execution_count": 118,
   "id": "7fdcb334",
   "metadata": {},
   "outputs": [
    {
     "name": "stdout",
     "output_type": "stream",
     "text": [
      "enter a number1:200.5\n"
     ]
    },
    {
     "ename": "ValueError",
     "evalue": "invalid literal for int() with base 10: '200.5'",
     "output_type": "error",
     "traceback": [
      "\u001b[1;31m---------------------------------------------------------------------------\u001b[0m",
      "\u001b[1;31mValueError\u001b[0m                                Traceback (most recent call last)",
      "Cell \u001b[1;32mIn[118], line 1\u001b[0m\n\u001b[1;32m----> 1\u001b[0m num1\u001b[38;5;241m=\u001b[39m\u001b[38;5;28mint\u001b[39m(\u001b[38;5;28minput\u001b[39m(\u001b[38;5;124m\"\u001b[39m\u001b[38;5;124menter a number1:\u001b[39m\u001b[38;5;124m\"\u001b[39m))\n\u001b[0;32m      2\u001b[0m num2\u001b[38;5;241m=\u001b[39m\u001b[38;5;28mfloat\u001b[39m(\u001b[38;5;28minput\u001b[39m(\u001b[38;5;124m\"\u001b[39m\u001b[38;5;124menter number2:\u001b[39m\u001b[38;5;124m\"\u001b[39m))\n\u001b[0;32m      3\u001b[0m \u001b[38;5;28mprint\u001b[39m(num1\u001b[38;5;241m+\u001b[39mnum2)\n",
      "\u001b[1;31mValueError\u001b[0m: invalid literal for int() with base 10: '200.5'"
     ]
    }
   ],
   "source": [
    "num1=int(input(\"enter a number1:\"))\n",
    "num2=float(input(\"enter number2:\"))\n",
    "print(num1+num2)"
   ]
  },
  {
   "cell_type": "code",
   "execution_count": null,
   "id": "440d378a",
   "metadata": {},
   "outputs": [],
   "source": [
    "int('200')--- works   \n",
    "int('200.5')--- fail\n",
    "float('200')==works \n",
    "float('200.5')==works"
   ]
  },
  {
   "cell_type": "markdown",
   "id": "61c48652",
   "metadata": {},
   "source": [
    "$eval$"
   ]
  },
  {
   "cell_type": "code",
   "execution_count": 121,
   "id": "e3d02d10",
   "metadata": {},
   "outputs": [
    {
     "name": "stdout",
     "output_type": "stream",
     "text": [
      "enter a number1:100\n",
      "enter number2:100.5\n",
      "200.5\n"
     ]
    }
   ],
   "source": [
    "num1=eval(input(\"enter a number1:\"))\n",
    "num2=eval(input(\"enter number2:\"))\n",
    "print(num1+num2)"
   ]
  },
  {
   "cell_type": "code",
   "execution_count": 123,
   "id": "a53c1bc0",
   "metadata": {},
   "outputs": [
    {
     "data": {
      "text/plain": [
       "float"
      ]
     },
     "execution_count": 123,
     "metadata": {},
     "output_type": "execute_result"
    }
   ],
   "source": [
    "type(num2)"
   ]
  },
  {
   "cell_type": "code",
   "execution_count": null,
   "id": "8e1418b5",
   "metadata": {},
   "outputs": [],
   "source": [
    "int('200.5')  # fail"
   ]
  },
  {
   "cell_type": "code",
   "execution_count": null,
   "id": "5dd5b9f8",
   "metadata": {},
   "outputs": [],
   "source": [
    "v1=input('enter v1:')          # v1 str\n",
    "v2=int(input('enter v2:'))     # v2 int\n",
    "v3=float(input('enter v3:'))   # v3 float\n",
    "v4=eval(input('enter v4'))     # v4 === depends on provided value"
   ]
  },
  {
   "cell_type": "code",
   "execution_count": 127,
   "id": "f66e62af",
   "metadata": {},
   "outputs": [
    {
     "name": "stdout",
     "output_type": "stream",
     "text": [
      "enter v4apple\n"
     ]
    },
    {
     "ename": "NameError",
     "evalue": "name 'apple' is not defined",
     "output_type": "error",
     "traceback": [
      "\u001b[1;31m---------------------------------------------------------------------------\u001b[0m",
      "\u001b[1;31mNameError\u001b[0m                                 Traceback (most recent call last)",
      "Cell \u001b[1;32mIn[127], line 1\u001b[0m\n\u001b[1;32m----> 1\u001b[0m v4\u001b[38;5;241m=\u001b[39m\u001b[38;5;28meval\u001b[39m(\u001b[38;5;28minput\u001b[39m(\u001b[38;5;124m'\u001b[39m\u001b[38;5;124menter v4\u001b[39m\u001b[38;5;124m'\u001b[39m))\n\u001b[0;32m      2\u001b[0m \u001b[38;5;28mprint\u001b[39m(\u001b[38;5;28mtype\u001b[39m(v4))\n",
      "File \u001b[1;32m<string>:1\u001b[0m\n",
      "\u001b[1;31mNameError\u001b[0m: name 'apple' is not defined"
     ]
    }
   ],
   "source": [
    "v4=eval(input('enter v4'))\n",
    "print(type(v4))"
   ]
  },
  {
   "cell_type": "code",
   "execution_count": null,
   "id": "e6c8e8e2",
   "metadata": {},
   "outputs": [],
   "source": [
    "# Eval concept\n",
    "val1 = 200\n",
    "val2 = 300\n",
    "add = val1+val2\n",
    "sub = val1-val2\n",
    "mul = val1*val2\n",
    "div = round(val1/val2,2)\n",
    "print('The addition of {} and {} is {}'.format(val1,val2,add))\n",
    "print('The subtraction of {} and {} is {}'.format(val1,val2,sub))\n",
    "print('The multiplication of {} and {} is {}'.format(val1,val2,mul))\n",
    "print('The division of {} and {} is {}'.format(val1,val2,div))"
   ]
  },
  {
   "cell_type": "code",
   "execution_count": null,
   "id": "c93bddd7",
   "metadata": {},
   "outputs": [],
   "source": [
    "# take three numbers\n",
    "# a\n",
    "# b\n",
    "# c  from the key board\n",
    "# find the sum and average"
   ]
  },
  {
   "cell_type": "code",
   "execution_count": null,
   "id": "6ce74ec1",
   "metadata": {},
   "outputs": [],
   "source": []
  }
 ],
 "metadata": {
  "kernelspec": {
   "display_name": "Python 3 (ipykernel)",
   "language": "python",
   "name": "python3"
  },
  "language_info": {
   "codemirror_mode": {
    "name": "ipython",
    "version": 3
   },
   "file_extension": ".py",
   "mimetype": "text/x-python",
   "name": "python",
   "nbconvert_exporter": "python",
   "pygments_lexer": "ipython3",
   "version": "3.11.5"
  }
 },
 "nbformat": 4,
 "nbformat_minor": 5
}
